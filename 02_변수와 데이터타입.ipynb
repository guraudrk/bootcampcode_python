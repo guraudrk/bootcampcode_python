{
 "cells": [
  {
   "cell_type": "markdown",
   "metadata": {
    "slideshow": {
     "slide_type": "slide"
    }
   },
   "source": [
    "# 변수와 함수/연산자"
   ]
  },
  {
   "cell_type": "markdown",
   "metadata": {
    "slideshow": {
     "slide_type": "fragment"
    }
   },
   "source": [
    "<strong style='color:red;font-size:1.5em'>프로그램이 하는 일</strong>\n",
    "<p>\n",
    "<span style=\"font-size:1.2em\">- 정보(데이터)를 처리한다.</span>  \n",
    "    "
   ]
  },
  {
   "cell_type": "markdown",
   "metadata": {
    "slideshow": {
     "slide_type": "fragment"
    }
   },
   "source": [
    "- <b style='font-size:1.2em'>정보(데이터)</b>: **변수(Variable)와 값(Value)** 로 프로그램에 표현한다.\n",
    "- <b style='font-size:1.2em'>처리한다</b>: **연산자(Operator)와 함수(Function)** 으로 프로그램에 표현한다.\n",
    "    \n",
    "> 표현식(Expression)\n",
    ">    - 값(Value)으로 평가되는 구문(Statement)를 말한다.\n",
    ">    - **표현식의 두가지**\n",
    ">        - 평가(eval)되어 새로운 값을 생성하는 모든 경우.\n",
    ">            - 연산: 10 + 10\n",
    ">            - 변수 호출\n",
    ">            - 함수 호출\n",
    ">        - **리터럴(Literal)**: 표현식 자체가 값인 경우\n",
    ">             - 10, 20.56, \"A\"\n",
    "> "
   ]
  },
  {
   "cell_type": "markdown",
   "metadata": {
    "slideshow": {
     "slide_type": "slide"
    }
   },
   "source": [
    "# 변수 (Variable)\n",
    "- 값을 저장하는 메모리 공간\n",
    "- 하나의 변수는 하나의 값만 가질 수 있다.\n",
    "    - 하나의 변수에 여러개의 값을 저장해야 하는 경우 객체나 자료구조를 이용해 값들을 묶어서 저장한다.\n",
    "- 이 메모리 공간은 이름(변수이름)으로 관리된다.\n",
    "    - 각 메모리 공간은 주소를 가지지만 프로그램 상에서 직접 그 주소를 사용할 수 없다. 대신 **식별자(Identifier)** 라고 하는 이름을 사용해 메모리 공간의 접근할 수 있다.\n",
    "    - 변수 이름(식별자)는 거기에 저장될 값의 의미를 알수 있도록 만든다.\n",
    "    \n",
    "## 변수 선언및 초기화\n",
    "- 변수명 = 값\n",
    "    - 변수는 반드시 선언하면서 값을 대입 해야 한다.\n",
    "    - 선언시 대입할 값이 없으면 None을 대입 (`name = None`)"
   ]
  },
  {
   "cell_type": "markdown",
   "metadata": {
    "slideshow": {
     "slide_type": "subslide"
    }
   },
   "source": [
    "  \n",
    "### 식별자 규칙과 변수이름 주는 관례\n",
    "\n",
    "#### 식별자 규칙\n",
    "- 식별자란 파이썬에서 사용하는 것들을 구분하기 위해 주는 이름을 말한다. \n",
    "- 사용할 수 있는 문자는 **일반 문자**(영어 알파벳 뿐 만 아니라 한글 한자 등 모든 일반 문자를 사용할 수 있다.), **숫자, 특수 문자는  _(underscore) 만** 가능.\n",
    "- 숫자는 **두번째 글자** 부터 사용할 수 있다.\n",
    "- **예약어(keyword, reserved word)**는 사용할 수 없다.\n",
    "- 대소문자를 구별한다.\n",
    "\n",
    "> <b style='font-size:1.2em'>파이썬 키워드</b>\n",
    "> ```python\n",
    "> False      await      else       import     pass\n",
    "> None       break      except     in         raise\n",
    "> True       class      finally    is         return\n",
    "> and        continue   for        lambda     try\n",
    "> as         def        from       nonlocal   while\n",
    "> assert     del        global     not        with\n",
    "> async      elif       if         or         yield\n",
    "> ```"
   ]
  },
  {
   "cell_type": "markdown",
   "metadata": {
    "slideshow": {
     "slide_type": "fragment"
    }
   },
   "source": [
    "#### 변수이름 관례\n",
    "- 모든 글자를 소문자로 한다.\n",
    "- 여러단어를 조합할 경우 `_` 로 구분한다.\n",
    "    - 이런 표기법을 **스네이크 표기법** 이라고 한다.\n",
    "- 예: `name`, `age`, `customer_name`, `product_id`, `sale_price`"
   ]
  },
  {
   "cell_type": "code",
   "execution_count": null,
   "metadata": {
    "slideshow": {
     "slide_type": "fragment"
    }
   },
   "outputs": [],
   "source": []
  },
  {
   "cell_type": "markdown",
   "metadata": {
    "slideshow": {
     "slide_type": "subslide"
    }
   },
   "source": [
    "> **print()함수**\n",
    "> - ( ) 안에 전달해주는 값(Argument)을 문자열로 변환 후 화면(Teminal)에 출력하는 함수\n",
    ">     - 값에 엔터를 붙인뒤 출력한다.\n",
    "> - 여러개의 값을 출력할 경우 나열해서 전달하면 된다.\n",
    "> - 여러개의 값을 출력할 경우 구분자는 공백을 기본값으로 한다. 다른 구분자를 사용할 경우 `sep=구분자문자열`를 전달한다.\n",
    "> - 뒤에 엔터 대신 다른 값을 붙일 경우 `end=붙일문자열` 을 전달한다."
   ]
  },
  {
   "cell_type": "code",
   "execution_count": null,
   "metadata": {
    "slideshow": {
     "slide_type": "fragment"
    }
   },
   "outputs": [],
   "source": []
  },
  {
   "cell_type": "markdown",
   "metadata": {
    "slideshow": {
     "slide_type": "slide"
    }
   },
   "source": [
    "## 변수 사용\n",
    "- 변수를 사용하는 것은 변수에 값을 변경(대입)과 변수가 가진 값을 조회하는 두가지가 있다.\n",
    "\n",
    "### 변수에 값 대입/할당 (assignment)\n",
    "1. 변수명 = 값\n",
    "    - `=`을 기준으로 왼쪽은 변수, 오른쪽은 대입할 값\n",
    "    - 대입할 값으로 다음이 올 수 있다.\n",
    "        - Literal 값(값 표현식)\n",
    "        - 다른 변수\n",
    "        - 연산식\n",
    "    - 변수 초기화와 변수값 변경의 파이썬 구문은 동일하다. 변수를 처음 만들고 값을 대입하면 초기화이고 그 이후 할당하는 것들은 변경이 된다.\n",
    " "
   ]
  },
  {
   "cell_type": "markdown",
   "metadata": {
    "slideshow": {
     "slide_type": "fragment"
    }
   },
   "source": [
    "2. 여러 변수에 동일 한 값 대입\n",
    "    - a = b = c = 30"
   ]
  },
  {
   "cell_type": "markdown",
   "metadata": {
    "slideshow": {
     "slide_type": "fragment"
    }
   },
   "source": [
    "3. 여러 변수에 다른 값 대입을 한 구문으로 처리\n",
    "    - `a, b, c = 10, 20, 30`"
   ]
  },
  {
   "cell_type": "code",
   "execution_count": null,
   "metadata": {
    "slideshow": {
     "slide_type": "fragment"
    }
   },
   "outputs": [],
   "source": []
  },
  {
   "cell_type": "markdown",
   "metadata": {
    "slideshow": {
     "slide_type": "subslide"
    }
   },
   "source": [
    "4. 대입(할당) 연산자(Assignment operator)\n",
    "\n",
    "- 변수의 값을 그 변수와 다른 값을 연산한 결과로 변경한다.\n",
    "|연산자|예|동일연산|\n",
    "|:-|-|-|\n",
    "|=|x = 1||\n",
    "|+=|x += 1|x = x + 1|\t\n",
    "|-=|x -= 1|x = x - 1|\t\n",
    "|*=|x *= 1|x = x * 1|\t\n",
    "|/=|x /= 1|x = x / 1|\t\n",
    "|%=|x %= 1|x = x % 1|\t\n",
    "|//=|x //= 1|x = x // 1|\t\n",
    "|\\*\\*=|x \\*\\*= 1|x = x \\*\\* 1|"
   ]
  },
  {
   "cell_type": "code",
   "execution_count": null,
   "metadata": {
    "slideshow": {
     "slide_type": "fragment"
    }
   },
   "outputs": [],
   "source": []
  },
  {
   "cell_type": "markdown",
   "metadata": {
    "slideshow": {
     "slide_type": "subslide"
    }
   },
   "source": [
    "### 변수값 조회\n",
    "- 값을 사용해야 하는 자리에 변수명을 표현하면된다.\n",
    "    - 변수명을 쓰면 그 변수가 가진 값을 조회해 사용한다."
   ]
  },
  {
   "cell_type": "code",
   "execution_count": null,
   "metadata": {
    "slideshow": {
     "slide_type": "fragment"
    }
   },
   "outputs": [],
   "source": []
  },
  {
   "cell_type": "markdown",
   "metadata": {
    "slideshow": {
     "slide_type": "subslide"
    }
   },
   "source": [
    "## 변수를 메모리에서 제거\n",
    "\n",
    "메모리에서 변수(데이터 저장공간)을 제거할 때는 `del 변수명` 명령어를 사용한다."
   ]
  },
  {
   "cell_type": "code",
   "execution_count": null,
   "metadata": {
    "slideshow": {
     "slide_type": "fragment"
    }
   },
   "outputs": [],
   "source": []
  },
  {
   "cell_type": "markdown",
   "metadata": {
    "slideshow": {
     "slide_type": "slide"
    }
   },
   "source": [
    "# 데이터 타입 (Data Type)\n",
    "\n",
    "- 값들의 형태(type)에 따라 종류를 분류한 것\n",
    "    - 값(Value)들은 메모리에 2진수 즉 비트가 나열된 형태로 저장된다. \n",
    "    - 같은 형태로 저장되었더라도 그 값의 Data type에 따라 다르게 해석이 된다.\n",
    "        - ex) 0100 0001 => 숫자타입일 경우 65, 문자열 타입일 경우 'A' 가 된다.\n",
    "- 데이터타입은 값을 표현하는 방식과 관련 연산자들을 익히도록 한다."
   ]
  },
  {
   "cell_type": "markdown",
   "metadata": {
    "slideshow": {
     "slide_type": "subslide"
    }
   },
   "source": [
    "## None 값\n",
    "- 아무 값도 없음을 나타내는 값"
   ]
  },
  {
   "cell_type": "code",
   "execution_count": null,
   "metadata": {
    "slideshow": {
     "slide_type": "fragment"
    }
   },
   "outputs": [],
   "source": []
  },
  {
   "cell_type": "markdown",
   "metadata": {
    "slideshow": {
     "slide_type": "slide"
    }
   },
   "source": [
    "## 숫자형(Numeric) - 정수, 실수\n",
    "\n",
    "- 정수(int)와 실수(float) 형이 있다.\n",
    "    - **정수 표현식**\n",
    "        - 10, 20, -1, -20, 0\n",
    "        - 16진수 표기\n",
    "            - 0x 로 시작 (0xAF29)\n",
    "        - 8진수 표기\n",
    "            - 0O 으로 시작 (0o71)\n",
    "    - **실수**\n",
    "        - 20.1, 0.123411, 15.2321598\n",
    "        - 지수표기법\n",
    "            - $5e7$ -> $5.0\\times10^7$\n",
    "            - $3e-7$ -> $3\\times10^{-7}$"
   ]
  },
  {
   "cell_type": "code",
   "execution_count": null,
   "metadata": {
    "slideshow": {
     "slide_type": "fragment"
    }
   },
   "outputs": [],
   "source": []
  },
  {
   "cell_type": "markdown",
   "metadata": {
    "slideshow": {
     "slide_type": "subslide"
    }
   },
   "source": [
    "### 연산자\n",
    "<b style='font-size:1.2em'>산술연산자</b>\n",
    "\n",
    "|Operator(연산자)|설명|예|\n",
    "|-|-|-|\n",
    "|+|덧셈|x + y|\n",
    "|-|뺄셈|x - y|\n",
    "|*|곱셈|x * y|\n",
    "|/|나눗셈|x / y|\n",
    "|%|Modulus(나머지 나누기 연산자)|x % y|\n",
    "|//|Floor division(몫 나누기 연산자)|x // y|\n",
    "|**|제곱연산|x ** y|"
   ]
  },
  {
   "cell_type": "code",
   "execution_count": null,
   "metadata": {
    "slideshow": {
     "slide_type": "fragment"
    }
   },
   "outputs": [],
   "source": []
  },
  {
   "cell_type": "markdown",
   "metadata": {
    "slideshow": {
     "slide_type": "slide"
    }
   },
   "source": [
    "## 논리형(bool)\n",
    "- **참(True)과 거짓(False)을** 표현하는 데이터 타입\n",
    "    - 제어문에서 많이 사용된다.\n",
    "- 값 표현식\n",
    "    - True, False\n",
    "- bool 값이 들어가야 하는 구문에 다른 타입의 값을 작성하면 자동적으로 bool 타입으로 변환된다. (묵시적 형변환이라 한다.)\n",
    "    - **0글자의 문자열, 숫자 0, None, 원소가 하나도 없는 자료구조는** False로 변환되고 그 이외는 True로 변환된다."
   ]
  },
  {
   "cell_type": "code",
   "execution_count": null,
   "metadata": {
    "slideshow": {
     "slide_type": "fragment"
    }
   },
   "outputs": [],
   "source": []
  },
  {
   "cell_type": "markdown",
   "metadata": {
    "slideshow": {
     "slide_type": "subslide"
    }
   },
   "source": [
    "- input(\\[label\\]) 함수\n",
    "    - 사용자로 부터 값을 입력받을 때 사용한다.\n",
    "    - 사용자의 입력을 기다렸다 사용자가 값을 입력하고 엔터를 치면 그 입력한 값을 읽어 반환한다.\n",
    "    - 어떤 값을 입력받을 것인지 Label을 문자열로 전달할 수 있다."
   ]
  },
  {
   "cell_type": "code",
   "execution_count": null,
   "metadata": {
    "slideshow": {
     "slide_type": "fragment"
    }
   },
   "outputs": [],
   "source": []
  },
  {
   "cell_type": "markdown",
   "metadata": {
    "slideshow": {
     "slide_type": "subslide"
    }
   },
   "source": [
    "### 논리형 관련 연산자\n",
    "<b style='font-size:1.2em'>비교 연산자</b>\n",
    "- 결과가 bool 타입\n",
    "- 기준은 왼쪽의 피연산자이다.\n",
    "|연산자|설명|예|\n",
    "|-|-|-|\n",
    "|==|같은가?|x == y|\t\n",
    "|!=|같지 않은가?|x != y|\t\n",
    "|>|x가 큰가?|x > y|\n",
    "|<|x가 작은가?|x < y|\t\n",
    "|>=|x가 크거나 같은가?|x >= y|\n",
    "|<=|x가 작거나 같은가?|x <= y|"
   ]
  },
  {
   "cell_type": "code",
   "execution_count": null,
   "metadata": {
    "slideshow": {
     "slide_type": "fragment"
    }
   },
   "outputs": [],
   "source": []
  },
  {
   "cell_type": "markdown",
   "metadata": {
    "slideshow": {
     "slide_type": "subslide"
    }
   },
   "source": [
    "<b style='font-size:1.2em'>논리 연산자</b>\n",
    "- 피연산자가 bool 타입이고 결과도 bool 타입이다.\n",
    "- &, |, ^ 기호를 연산자로 사용할 때는 피연산자를 ( )로 묶어 줘야 한다.\n",
    "|연산자|설명|예|\n",
    "|:-|-|-|\n",
    "|and, &|피연산자 모두 True이면 True를 하나라도 False이면 False를 반환.|x > 5 and  x < 10|\t\n",
    "|or, \\||피연산자 둘중 하나만 True이면 True를 둘다 False이면 False를 반환.|x > 5 or x < -4|\n",
    "|^|XOR 연산. 피연산자가 다를 경우 True, 같으면 False를 반환.|(x > 5) ^ (x < 4)|\n",
    "|not|단항연산자. 결과를 뒤바꾸어 반환. True는 False로 False는 True로 반환.|not(x < 5 and x < 10)|"
   ]
  },
  {
   "cell_type": "code",
   "execution_count": null,
   "metadata": {
    "slideshow": {
     "slide_type": "fragment"
    }
   },
   "outputs": [],
   "source": []
  },
  {
   "cell_type": "markdown",
   "metadata": {
    "slideshow": {
     "slide_type": "subslide"
    }
   },
   "source": [
    "<b style='font-size:1.2em'>조건 연산자</b>\n",
    "\n",
    "\n",
    "True일때 결과값 <b style='color:purple'>if</b> 조건식 <b style='color:purple'>else</b> False일때 결과값\n",
    "- 조건식이 True이면 앞의 값을 False이면 뒤의 값을 연산결과로 반환한다."
   ]
  },
  {
   "cell_type": "code",
   "execution_count": 2,
   "metadata": {
    "slideshow": {
     "slide_type": "fragment"
    }
   },
   "outputs": [
    {
     "name": "stdout",
     "output_type": "stream",
     "text": [
      "거짓\n"
     ]
    },
    {
     "data": {
      "text/plain": [
       "'거짓'"
      ]
     },
     "execution_count": 2,
     "metadata": {},
     "output_type": "execute_result"
    }
   ],
   "source": [
    "#이 조건 연산자 구문은 매우매우 중요하다.\n",
    "#이 구문 구조는 항상 잘 알아두자.\n",
    "v=\"참\" if False else \"거짓\"\n",
    "print(v)\n",
    "\n",
    "#이런 조건문도 존재한다. 잘 알아두기.\n",
    "\"참\" if \"\" else \"거짓\""
   ]
  },
  {
   "cell_type": "markdown",
   "metadata": {
    "slideshow": {
     "slide_type": "slide"
    }
   },
   "source": [
    "## 문자열 (string)\n",
    "\n",
    "- 0글자 이상의 문자열을 표현한다.\n",
    "- 파이썬 3.0 부터는 유니코드 문자열을 지원하므로 영문자 뿐 아니라 모든 나라의 철자들을 기본으로 사용할 수 있다.\n",
    "- 문자열 표현식\n",
    "    - **작은 따옴표 또는 큰 따옴표**로 감싼다.\n",
    "    - 여러줄 문자열(Multiline string)은 **3개 짜리 작은따옴표 또는 큰따옴표**로 감싼다.\n",
    "        - 문자열 데이터에 `엔터`가 들어갈 경우 편리하다.\n",
    "    - Escape 문자\n",
    "        - 키보드에는 있지만 글자로 표현할 수 없는 문자들을 표현할 때 사용한다. `예) 엔터, Tab, Back space 등`\n",
    "        - 사용하는 글자가 원래 의미에서 벗어나(escape) 다른 의미로 쓰인다고 해서 escape문자라고 한다.\n",
    "        - 파이썬 뿐 아니라 모든 프로그래밍 언어에서 사용하는 표준이다.\n",
    "        - 표현: `\\문자` \n",
    "  "
   ]
  },
  {
   "cell_type": "markdown",
   "metadata": {
    "slideshow": {
     "slide_type": "fragment"
    }
   },
   "source": [
    "      \n",
    "        \n",
    "<b style='font-size:1.2em'>주요 Escape 문자</b>\n",
    "\n",
    "|Escape문자|설명|\n",
    "|-|-|\n",
    "|\\n|엔터|\n",
    "|\\t|Tab|\n",
    "|\\b|Backspace|\n",
    "|\\\\\\\\|\\|\n",
    "|\\\\\\\"|\"|\n",
    "|\\\\\\'|'|\n",
    "\n",
    "\n",
    ">- r-string (raw string)\n",
    ">  - 문자열 앞에 r 접두어를 붙인다. (raw) \n",
    ">  - escape 문자구분자인 \\를 무시하여 escape 문자로 변환하지 않고 작성한 그대로 사용한다.\n",
    ">  - ex) r\"c:\\test\\example\\a.txt\"\n",
    "        "
   ]
  },
  {
   "cell_type": "code",
   "execution_count": 7,
   "metadata": {
    "slideshow": {
     "slide_type": "fragment"
    }
   },
   "outputs": [
    {
     "name": "stdout",
     "output_type": "stream",
     "text": [
      "a\tb\n",
      "1 2 3 4 5 6 7\n",
      "1\t2\t3\t4\t5\t6\t7\n",
      "가\n",
      "나\n",
      "다\n",
      "c:\\test\\example\\a.txt\n"
     ]
    }
   ],
   "source": [
    "#escape 문자열\n",
    "\n",
    "print(\"a\\tb\")\n",
    "print(1,2,3,4,5,6,7)#공백 하나를 기준으로 나눈다.\n",
    "print(1,2,3,4,5,6,7,sep=\"\\t\")#tab을 기준으로 나눈다.\n",
    "print(\"가\\n나\\n다\")#한줄씩 띄어진다.\n",
    "print(r\"c:\\test\\example\\a.txt\") #앞에 r을 쓰면 escape문자를 무시한다. r은 raw를 의미한다.\n"
   ]
  },
  {
   "cell_type": "markdown",
   "metadata": {
    "slideshow": {
     "slide_type": "subslide"
    }
   },
   "source": [
    "<b style='font-size:1.2em'>문자열 연산자</b>\n",
    "- 문자열 + 문자열\n",
    "    - 두 문자열을 합친다.\n",
    "    - 문자열은 문자열과만 `+` 연산을 할 수 있다. 다른 타입과 합칠 경우 다른 타입을 문자열로 변환한 뒤 연산해야 한다. (str() 함수이용)"
   ]
  },
  {
   "cell_type": "code",
   "execution_count": 12,
   "metadata": {
    "slideshow": {
     "slide_type": "fragment"
    }
   },
   "outputs": [
    {
     "name": "stdout",
     "output_type": "stream",
     "text": [
      "이름: 홍길동\n",
      "나이 20\n"
     ]
    }
   ],
   "source": [
    "name=\"홍길동\"\n",
    "print(\"이름: \"+name)\n",
    "\n",
    "\n",
    "age=20\n",
    "print(\"나이 \"+str(age))#이런 식으로 숫자를 문자열로 바꿔야 한다."
   ]
  },
  {
   "cell_type": "markdown",
   "metadata": {
    "slideshow": {
     "slide_type": "fragment"
    }
   },
   "source": [
    "- 문자열 * 정수\n",
    "    - 문자열을 정수번 반복해서 합친다."
   ]
  },
  {
   "cell_type": "code",
   "execution_count": 13,
   "metadata": {
    "slideshow": {
     "slide_type": "fragment"
    }
   },
   "outputs": [
    {
     "data": {
      "text/plain": [
       "'이장한은 부자이다.이장한은 부자이다.이장한은 부자이다.'"
      ]
     },
     "execution_count": 13,
     "metadata": {},
     "output_type": "execute_result"
    }
   ],
   "source": [
    "\"이장한은 부자이다.\"*3"
   ]
  },
  {
   "cell_type": "markdown",
   "metadata": {
    "slideshow": {
     "slide_type": "fragment"
    }
   },
   "source": [
    "- `in`, `not in`\n",
    "    - 문자열A in 문자열B\n",
    "        - 문자열A가 문자열B에 **있**으면 True, 없으면 False를 반환\n",
    "    - 문자열A not in 문자열B\n",
    "        - 문자열A가 문자열B에 **없**으면 True, 있으면 False를 반환"
   ]
  },
  {
   "cell_type": "code",
   "execution_count": 15,
   "metadata": {
    "slideshow": {
     "slide_type": "fragment"
    }
   },
   "outputs": [
    {
     "name": "stdout",
     "output_type": "stream",
     "text": [
      "True False\n"
     ]
    }
   ],
   "source": [
    "address =\"서울시 금천구 독산동\"\n",
    "print(\"서울\" in address, \"부자이장한\" in address)#서울이라는 글자가 address 안에 있는지 물어보는 구문. True,False가 나온다.\n"
   ]
  },
  {
   "cell_type": "markdown",
   "metadata": {
    "slideshow": {
     "slide_type": "fragment"
    }
   },
   "source": [
    "- len(문자열)\n",
    "    - 글자수를 반환한다."
   ]
  },
  {
   "cell_type": "code",
   "execution_count": 20,
   "metadata": {
    "slideshow": {
     "slide_type": "fragment"
    }
   },
   "outputs": [
    {
     "name": "stdout",
     "output_type": "stream",
     "text": [
      "11\n",
      "0\n",
      "True\n",
      "True\n",
      "False\n",
      "False\n"
     ]
    }
   ],
   "source": [
    "#공백도 글자이니 유의하시길!\n",
    "\n",
    "print(len(address))\n",
    "print(len(\"\"))\n",
    "\n",
    "#문자열간의 비교연산\n",
    "\n",
    "name=\"홍길동\"\n",
    "print(name==\"홍길동\")\n",
    "print(name!=\"유재석\")\n",
    "\n",
    "\n",
    "#같은 종류의 문자끼리 크기 비교를 할 때는 사전식 배열이라고 보면 된다.\n",
    "\n",
    "print(\"A\">\"B\")\n",
    "print(\"A\">\"Z\")\n"
   ]
  },
  {
   "cell_type": "code",
   "execution_count": 22,
   "metadata": {},
   "outputs": [
    {
     "name": "stdout",
     "output_type": "stream",
     "text": [
      "True\n"
     ]
    },
    {
     "data": {
      "text/plain": [
       "(65, 44032)"
      ]
     },
     "execution_count": 22,
     "metadata": {},
     "output_type": "execute_result"
    }
   ],
   "source": [
    "#종류가 다른 문자끼리는?\n",
    "#순서는 특수문자<숫자<대문자<소문자<한글 등 이라고 볼 수 있다.\n",
    "print(\"가\">\"a\")\n",
    "\n",
    "\n",
    "\n",
    "#문자 유니코드를 정수로 변환. 이거는 그냥 참고만 하기.\n",
    "\n",
    "ord(\"A\"),ord(\"가\")"
   ]
  },
  {
   "cell_type": "markdown",
   "metadata": {
    "slideshow": {
     "slide_type": "subslide"
    }
   },
   "source": [
    "### Indexing과 Slicing\n",
    "\n",
    "- Indexer 연산자\n",
    "    - `집합형태[식별자]`\n",
    "        - 여러개의 값이 모여있는 집합 형태의 데이터에서 그 중 일부를 조회할 때 사용하는 연산자.\n",
    "            - 문자열, 자료구조 등 다양한 데이터타입에 사용한다.\n",
    "        - 조회하고자 하는 일부를 식별할 수 있는 `식별자`를 \\[\\] 안에 넣어 조회한다.\n",
    "- indexing과 slicing\n",
    "    - **indexing**: 집합내에서 하나의 값을 조회하는 방법\n",
    "    - **slicing**: 집합내에서 여러개의 값들을 범위로 지정해 조회하는 방법"
   ]
  },
  {
   "cell_type": "markdown",
   "metadata": {
    "slideshow": {
     "slide_type": "subslide"
    }
   },
   "source": [
    "### Indexing과 Slicing을 이용해 문자열내의 일부 문자들(sub string) 조회\n",
    "- **문자열 내의 각 문자들은 식별자로 index를 가진다.**\n",
    "    - 양수 index\n",
    "        - 문자열 앞에서 부터 붙여주는 index\n",
    "        - 0부터 1씩 증가하는 값을 붙여준다.\n",
    "        - **앞에서 몇번째 글자 식**으로 조회할 때 사용한다.\n",
    "    - 음수 index\n",
    "        - 문자열 맨 뒤에서 부터 붙여주는 index\n",
    "        - -1 에서 1씩 감소하는 값을 붙여준다.\n",
    "        - **뒤에서 몇번째 글자 식**으로 조회할 때 사용한다.\n",
    "    - 모든 문자는 양수/음수 index 두개를 가진다.\n",
    "    ![index](images/ch02_01.png)"
   ]
  },
  {
   "cell_type": "markdown",
   "metadata": {
    "slideshow": {
     "slide_type": "subslide"
    }
   },
   "source": [
    "#### Indexing\n",
    "- 문자열\\[index\\]\n",
    "    - index의 문자를 조회\n",
    "    - 변경은 안된다.\n",
    "        - 문자열 값 안의 일부를 변경할 수 없다.\n",
    "        - 문자열처럼 내부의 값을 변경할 수 없는 데이터 타입을 불변(Immutable)이라고 한다. "
   ]
  },
  {
   "cell_type": "code",
   "execution_count": 25,
   "metadata": {
    "slideshow": {
     "slide_type": "fragment"
    }
   },
   "outputs": [
    {
     "name": "stdout",
     "output_type": "stream",
     "text": [
      "글자수: 13\n",
      "녕\n",
      "다\n"
     ]
    }
   ],
   "source": [
    "s=\"안녕하세요. 반갑습니다.\"\n",
    "print(\"글자수:\",len(s))\n",
    "print(s[1])\n",
    "print(s[-2])"
   ]
  },
  {
   "cell_type": "markdown",
   "metadata": {
    "slideshow": {
     "slide_type": "fragment"
    }
   },
   "source": [
    "#### Slicing\n",
    "- 기본구문: **문자열 \\[ 시작 index : 종료 index : 간격\\]**\n",
    "    - 시작 index ~ (종료 index – 1)\n",
    "    - 간격을 지정하면 간격만큼 index를 증/감한다. (생략 시 1이 기본 간격)\n",
    "- **0번 index 부터 조회 할 경우 시작 index는 생략가능**\n",
    "    - str_value \\[ : 5\\] => 0 ~ 4 까지 조회\n",
    "- **마지막 index까지 (끝까지) 조회 할 경우 종료 index는 생략 가능**\n",
    "    - str_value\\[2 : \\] => 2번 index 에서 끝까지\n",
    "- **명시적으로 간격을 줄 경우**\n",
    "    - str_value\\[ : : 3 \\] => 0, 3, 6, 9.. index의 값 조회\n",
    "    - str_value\\[1 : 9 : 2\\] => 1, 3, 5, 7 index의 값 조회\n",
    "- **시작 index > 종료 index, 간격을 음수로 하면 역으로 반환한다.(Reverse)**\n",
    "    - str_value\\[5: 1: -1\\] => 5, 4, 3, 2 index의 값 조회\n",
    "    - str_value\\[: : -1\\]  => 마지막 index ~ 0번 index 까지 의미. Reverse 한다."
   ]
  },
  {
   "cell_type": "code",
   "execution_count": 28,
   "metadata": {
    "slideshow": {
     "slide_type": "fragment"
    }
   },
   "outputs": [
    {
     "name": "stdout",
     "output_type": "stream",
     "text": [
      "357\n",
      "0246\n",
      "3579\n",
      "76543\n"
     ]
    }
   ],
   "source": [
    "#슬라이싱의 예시\n",
    "#여러가지를 생략할 수 있다는 것이 슬라이싱의 묘미이다.\n",
    "s2=\"0123456789\"\n",
    "print(s2[3:8:2])\n",
    "print(s2[:8:2])#시작은 생략, 0-7, 간격 2\n",
    "print(s2[3::2])#끝을 생략, 마지막까지 다 가져온다, 시작은3이고 끝은 2.\n",
    "#역순 조회--------세번째 부분에서 마이너스(-)를 줘야 한다.\n",
    "print(s2[7:2:-1])"
   ]
  },
  {
   "cell_type": "markdown",
   "metadata": {
    "slideshow": {
     "slide_type": "slide"
    }
   },
   "source": [
    "### Format string (형식문자열) 생성\n",
    "- 문자열에 문장 형식/구성/Layout을  미리 만들어 놓고 값은 나중에 대입하는 방식으로 문자열을 만드는 것\n",
    "    - 여러 문자열이 같은 Layer에 특정 값들만 바뀌는 경우 사용한다.\n",
    "        - 이름 : XXX 나이 : XXX 성별 : XXX  \n",
    "        - 기본 형식은 같은데 XXX에 들어갈 값들은 그때 그때 다를 경우 사용\n",
    "1. format() 함수 이용\n",
    "    - 문자열을 만들 때 값을 나중에 넣을 위치 { } 로 표시하고 format() 메소드에서 { }에 들어갈 값을 순서대로 넣는다.\n",
    "\n",
    "> 값을 넣어줄 자리를 지정하는 것을 **placeholder** 라고 한다."
   ]
  },
  {
   "cell_type": "code",
   "execution_count": 29,
   "metadata": {
    "slideshow": {
     "slide_type": "fragment"
    }
   },
   "outputs": [],
   "source": [
    "#한 사람의 정보 \n",
    "\n",
    "name=\"홍길동\"\n",
    "age=20\n",
    "tall=178.2\n",
    "weight=82\n"
   ]
  },
  {
   "cell_type": "code",
   "execution_count": 35,
   "metadata": {},
   "outputs": [
    {
     "name": "stdout",
     "output_type": "stream",
     "text": [
      "이름: 홍길동, 나이: 20살,키: 178.2cm,몸무게:82kg \n",
      "이름:홍길동,이름:홍길동,이름:홍길동\n"
     ]
    }
   ],
   "source": [
    "template=\"이름: {}, 나이: {}살,키: {}cm,몸무게:{}kg \"\n",
    "info =template.format(name,age,tall,weight) #format() 함수를 이용해서 괄호에 값을 넣어준다.\n",
    "print(info)\n",
    "\n",
    "\n",
    "#세곳의 {}에 같은 값을 넣고 싶은 경우\n",
    "template2=\"이름:{0},이름:{0},이름:{0}\"\n",
    "print(template2.format(name))"
   ]
  },
  {
   "cell_type": "markdown",
   "metadata": {
    "slideshow": {
     "slide_type": "subslide"
    }
   },
   "source": [
    "2. % value 사용\n",
    "    - 타입을 지정하는 % value를 이용해 값을 넣어줄 자리를 지정한다.\n",
    "    - format 문자열과 넣어줄 값은 % 로 구분한다.\n",
    "    \n",
    "|% value|설명|\n",
    "|-|-|\n",
    "|%s|string|\n",
    "|%d|int-정수|\n",
    "|%f|float-실수|\n",
    "|%%|%|\n",
    "\n",
    "실수는 소수점자릿수를 6자리로 맞추기 때문에 정밀도를 표현하는 표현식을 지정하는 것이 좋다. `ex) %.2f`"
   ]
  },
  {
   "cell_type": "code",
   "execution_count": 39,
   "metadata": {
    "slideshow": {
     "slide_type": "fragment"
    }
   },
   "outputs": [
    {
     "name": "stdout",
     "output_type": "stream",
     "text": [
      "이름: 홍길동, 나이:20, 키:178.200000cm, 몸무게:82.00kg\n"
     ]
    }
   ],
   "source": [
    "info10 = \"이름: %s, 나이:%d, 키:%fcm, 몸무게:%.2fkg\" %(name,age,tall,weight)\n",
    "print(info10)"
   ]
  },
  {
   "cell_type": "markdown",
   "metadata": {
    "slideshow": {
     "slide_type": "subslide"
    }
   },
   "source": [
    "3. f-string (format string)\n",
    "    - 파이썬 3.6에서 추가된 형식\n",
    "    - 문자열 앞에 접두어 `f`를 사용한다.\n",
    "    - 값을 넣을 자리에 {변수명} 을 이용해 변수가 가진 값을 문자열에 추가한다."
   ]
  },
  {
   "cell_type": "code",
   "execution_count": 42,
   "metadata": {
    "scrolled": true,
    "slideshow": {
     "slide_type": "fragment"
    }
   },
   "outputs": [
    {
     "name": "stdout",
     "output_type": "stream",
     "text": [
      "이름:홍길동, 나이:20,키:178.2cm,몸무게:82kg\n"
     ]
    }
   ],
   "source": [
    "info = f\"이름:{name}, 나이:{age},키:{tall}cm,몸무게:{weight}kg\"\n",
    "print(info)"
   ]
  },
  {
   "cell_type": "code",
   "execution_count": 45,
   "metadata": {},
   "outputs": [
    {
     "name": "stdout",
     "output_type": "stream",
     "text": [
      "이름: 유재석, 나이:20\n",
      "이름: 박명수, 나이:30\n",
      "이름: 홍길동, 나이:40\n",
      "이름: 홍길동 나이:40\n"
     ]
    }
   ],
   "source": [
    "#사용 예시\n",
    "\n",
    "name1,name2,name3 = \"유재석\",\"박명수\",\"홍길동\"\n",
    "age1,age2,age3 = 20,30,40\n",
    "template = \"이름: {}, 나이:{}\"\n",
    "\n",
    "print(template.format(name1,age1))\n",
    "print(template.format(name2,age2))\n",
    "print(template.format(name3,age3))\n",
    "\n",
    "\n",
    "print(f\"이름: {name3} 나이:{age3}\")"
   ]
  },
  {
   "cell_type": "markdown",
   "metadata": {
    "slideshow": {
     "slide_type": "slide"
    }
   },
   "source": [
    "### string 주요 메소드\n",
    "\n",
    "|메소드|설명|\n",
    "|-|-|\n",
    "|split(구분문자열)|구분 문자열을 기준으로 나눈다.|\n",
    "|strip(), lstrip(), rstrip()|앞뒤(strip) 앞(lstrip) 뒤(rstrip) 공백 제거|\n",
    "|replace('바꿀 문자열', '새문자열')|바꿀 문자열을 새문자열로 변경|\n",
    "|count('세려는 문자열')|string안에 세려는 문자열이 몇개 있는지 반환|\n",
    "|index(문자열), find(문자열)|문자열이 몇번째 index에 있는지 반환|\n",
    "|upper(), lower()|모든 글자를 대문자(upper), 소문자(lower)로 변환|\n",
    "|capitalize()|문자열의 첫글자를 대문자로 변환|\n",
    "|islower(), isupper()|문자열이 모두 소문자(islower), 대문자(isupper)이면 True 아니면 False를 반환|\n",
    "|startswith(\"문자열\"), endswith(\"문자열\")|문자열로 시작하는지/끝나는지 여부 반환|"
   ]
  },
  {
   "cell_type": "code",
   "execution_count": 46,
   "metadata": {
    "slideshow": {
     "slide_type": "fragment"
    }
   },
   "outputs": [
    {
     "data": {
      "text/plain": [
       "['부자', '이장한', '100억', '자산가']"
      ]
     },
     "execution_count": 46,
     "metadata": {},
     "output_type": "execute_result"
    }
   ],
   "source": [
    "#split\n",
    "\n",
    "s=\"부자 이장한 100억 자산가\"\n",
    "s.split()#기본적으로 공백을 기준으로 쪼개주기 때문에, 지금은 괄호 안에 아무것도 적지 않아도 된다."
   ]
  },
  {
   "cell_type": "code",
   "execution_count": 53,
   "metadata": {
    "scrolled": true
   },
   "outputs": [
    {
     "name": "stdout",
     "output_type": "stream",
     "text": [
      "12\n",
      "abc 3\n",
      "abc     7\n"
     ]
    }
   ],
   "source": [
    "#공백 제거\n",
    "\n",
    "s3=\"     abc    \"\n",
    "print(len(s3))\n",
    "print(s3.strip(),len(s3.strip()))#좌우공백 제거\n",
    "print(s3.lstrip(),len(s3.lstrip()))#왼쪽공백 제거"
   ]
  },
  {
   "cell_type": "code",
   "execution_count": 55,
   "metadata": {},
   "outputs": [
    {
     "name": "stdout",
     "output_type": "stream",
     "text": [
      "11111bbbbbccccc가가가가가1111bbbbcccc나1bc\n",
      "aaaaabbbb비시cccc가가가가가aaaabbb비시ccc나a비시\n"
     ]
    }
   ],
   "source": [
    "#replace 메소드\n",
    "\n",
    "s4=\"aaaaabbbbbccccc가가가가가aaaabbbbcccc나abc\"\n",
    "print(s4.replace(\"a\",\"1\")) #문자열을 다른 문자열로 변경(a를 1로!)\n",
    "print(s4.replace(\"bc\",\"비시\"))"
   ]
  },
  {
   "cell_type": "code",
   "execution_count": 56,
   "metadata": {},
   "outputs": [
    {
     "name": "stdout",
     "output_type": "stream",
     "text": [
      "글자수:  27\n",
      "당연한 사실의 글자수:  2\n"
     ]
    }
   ],
   "source": [
    "#특정 글자수를 세는 방법\n",
    "\n",
    "s5=\"사과 배 귤 부자이장한 사과 부자이장한 부자이장한\"\n",
    "print(\"글자수: \",len(s5))\n",
    "print(\"당연한 사실의 글자수: \",s5.count(\"사과\"))"
   ]
  },
  {
   "cell_type": "code",
   "execution_count": 57,
   "metadata": {},
   "outputs": [
    {
     "name": "stdout",
     "output_type": "stream",
     "text": [
      "이름:   john\n"
     ]
    },
    {
     "data": {
      "text/plain": [
       "True"
      ]
     },
     "execution_count": 57,
     "metadata": {},
     "output_type": "execute_result"
    }
   ],
   "source": [
    "#공백을 실수로 넣고, 소대문자 구분 없이 입력한 것을 구분하기 위한 코드\n",
    "\n",
    "name = input(\"이름: \")\n",
    "#이름이 john인지 확인한다.\n",
    "\n",
    "name.upper().strip() ==\"JOHN\""
   ]
  },
  {
   "cell_type": "code",
   "execution_count": 60,
   "metadata": {},
   "outputs": [
    {
     "data": {
      "text/plain": [
       "True"
      ]
     },
     "execution_count": 60,
     "metadata": {},
     "output_type": "execute_result"
    }
   ],
   "source": [
    "#이 문자에 대문자가 있는지 소문자가 있는지 확인하는 코드\n",
    "\n",
    "s7=\"abc\"\n",
    "s7.islower() #소문자로 구성되어 있나?-대문자가 하나라도 들어가 있으면 안된다.\n"
   ]
  },
  {
   "cell_type": "code",
   "execution_count": 64,
   "metadata": {},
   "outputs": [
    {
     "name": "stdout",
     "output_type": "stream",
     "text": [
      "False\n",
      "True\n"
     ]
    }
   ],
   "source": [
    "#startswith:특정 문자로 시작하는지의 여부를 물어봄.\n",
    "#endswith:특정 문자로 끝나는지의 여부를 물어봄.\n",
    "url=\"http://www.naver.com\"\n",
    "\n",
    "print(url.startswith(\"www\"))\n",
    "print(url.endswith(\"com\"))"
   ]
  },
  {
   "cell_type": "markdown",
   "metadata": {},
   "source": [
    "# 함수와 메소드의 차이\n",
    "\n",
    "함수라는 것은 '사용자 지정 연산자'라고 볼 수 있다.\n",
    "\n",
    "print 같은 함수도 그렇지 뭐. 결국은 어떤 사람이 만든 메소드잖아.\n",
    "\n",
    "그래서 러프하게 보자면 함수와 메소드는 같은 범주로 묶을 수 있다.\n",
    "\n",
    "근데 \n",
    "\n",
    "함수와 메소드라는 용어들이 서로 용어 차이가 있다.\n",
    "\n",
    "함수는 기능을 만들어 놓고 거기에 처리 대상이 되는 값을 집어 넣는다.\n",
    "\n",
    "그러면 그 값을 처리를 해서 그 결과를 우리에게 준다.\n",
    "\n",
    "앞에서도 언급을 했던 print라는 함수만 봐도 그렇다.\n",
    "\n",
    "\n",
    "\n",
    "반면 메소드는 어떤 특정 타입에서만 기능한다.\n",
    "\n",
    "upper,lower 같은 거만 해도, 요놈들은 문자열에서만 가능하잖아.\n",
    "\n",
    "\n",
    "\n",
    "그래서 함수와 메소드는 약간의 차이가 있다고 보면 된다.\n"
   ]
  },
  {
   "cell_type": "markdown",
   "metadata": {
    "slideshow": {
     "slide_type": "slide"
    }
   },
   "source": [
    "## 데이터 타입 변환 (형변환) 함수\n",
    "- 값의 데이터타입을 확인하는 함수\n",
    "    - type(값)\n",
    "- 정수로 변환\n",
    "    - int(value)\n",
    "- 실수로 변환\n",
    "    - float(value)\n",
    "- 문자열로 변환\n",
    "    - str(value)\n",
    "- 논리형으로 변환\n",
    "    - bool(value)"
   ]
  },
  {
   "cell_type": "code",
   "execution_count": 70,
   "metadata": {
    "slideshow": {
     "slide_type": "fragment"
    }
   },
   "outputs": [
    {
     "name": "stdout",
     "output_type": "stream",
     "text": [
      "False\n",
      "30\n",
      "1\n",
      "False False\n",
      "True True\n"
     ]
    }
   ],
   "source": [
    "#타입 확인\n",
    "\n",
    "print(type(10)== float)\n",
    "\n",
    "print(int(\"10\")+int(\"20\"))\n",
    "\n",
    "\n",
    "#true:1 false:0\n",
    "\n",
    "print(int(True)+int(False))\n",
    "\n",
    "#bool의 경우 0이 아니면 다 true이다.\n",
    "#그래서 bool이 들어와야 하는 자리에 true,false가 아닌 값이 들어와도 \n",
    "#기계가 자동으로 변환해준다.\n",
    "\n",
    "print(bool(0),bool(0.0))\n",
    "print(bool(-1),bool(1.1))"
   ]
  },
  {
   "cell_type": "markdown",
   "metadata": {
    "slideshow": {
     "slide_type": "slide"
    }
   },
   "source": [
    "## 동적타입 언어\n",
    "- 변수가 가질 수 있는 값의 타입을 고정하지 않는다. 그래서 같은 변수에 서로 다른 타입의 값을 저장할 수 있다.\n",
    "- 자유도는 높지만 프로그램의 규모가 커지면 오류의 원인이 될 수 있다. \n",
    "- 파이썬은 동적 타입 언어이다.\n",
    "\n",
    "> - **정적 타입 언어**\n",
    ">     - 변수를 선언할 때 그 변수에 저장할 수 있는 값의 타입을 고정시킨다."
   ]
  },
  {
   "cell_type": "code",
   "execution_count": 73,
   "metadata": {
    "slideshow": {
     "slide_type": "fragment"
    }
   },
   "outputs": [
    {
     "name": "stdout",
     "output_type": "stream",
     "text": [
      "<class 'bool'>\n",
      "10\n"
     ]
    }
   ],
   "source": [
    "#age의 타입은 bool이다.\n",
    "\n",
    "age=30\n",
    "age=\"스무살\"\n",
    "age=True\n",
    "\n",
    "\n",
    "print(type(age))\n",
    "\n",
    "#파이썬의 타입 힌트\n",
    "\n",
    "age:int = 10 #변수명:타입=>변수의 타입 힌트\n",
    "print(age)    \n",
    "    \n",
    "    "
   ]
  },
  {
   "cell_type": "markdown",
   "metadata": {
    "slideshow": {
     "slide_type": "skip"
    }
   },
   "source": [
    "# TODO"
   ]
  },
  {
   "cell_type": "code",
   "execution_count": 89,
   "metadata": {
    "slideshow": {
     "slide_type": "skip"
    }
   },
   "outputs": [
    {
     "name": "stdout",
     "output_type": "stream",
     "text": [
      "901211\n"
     ]
    },
    {
     "data": {
      "text/plain": [
       "'901211'"
      ]
     },
     "execution_count": 89,
     "metadata": {},
     "output_type": "execute_result"
    }
   ],
   "source": [
    "#1. 주민번호 \"901211-1027213\"의 앞 6자리만 조회해서 출력하시오.\n",
    "s1=\"901211-1027213\"\n",
    "\n",
    "print(s1[0:6])\n",
    "#이런 방법도 있다. 근데 슬라이싱이 더 좋다잉.\n",
    "s1.split(\"-\")[0]"
   ]
  },
  {
   "cell_type": "code",
   "execution_count": 94,
   "metadata": {
    "slideshow": {
     "slide_type": "skip"
    }
   },
   "outputs": [
    {
     "name": "stdout",
     "output_type": "stream",
     "text": [
      "안녕하세요\n",
      "안녕하세요\n",
      "안녕하세요\n",
      "안녕하세요\n",
      "안녕하세요\n",
      "안녕하세요\n",
      "안녕하세요\n",
      "안녕하세요\n",
      "안녕하세요\n",
      "안녕하세요\n",
      "\n"
     ]
    }
   ],
   "source": [
    "#2. \"안녕하세요\" 를 10번 출력하시오.\n",
    "\n",
    "s2=\"안녕하세요\\n\"\n",
    "\n",
    "print(s2*10)"
   ]
  },
  {
   "cell_type": "code",
   "execution_count": 95,
   "metadata": {
    "slideshow": {
     "slide_type": "skip"
    }
   },
   "outputs": [
    {
     "name": "stdout",
     "output_type": "stream",
     "text": [
      "24\n"
     ]
    }
   ],
   "source": [
    "#3. 다음 문자열의 글자수를 출력하시오.\n",
    "str_value = \"akdlclkdkdlelql39du7마구0ㅌ\" \n",
    "\n",
    "print(len(str_value))"
   ]
  },
  {
   "cell_type": "code",
   "execution_count": 99,
   "metadata": {
    "slideshow": {
     "slide_type": "skip"
    }
   },
   "outputs": [
    {
     "name": "stdout",
     "output_type": "stream",
     "text": [
      "제품명 : TV, 가격 : 300000, 제조사 : LG\n",
      "제품명: TV,가격: 300000,제조사: LG\n"
     ]
    }
   ],
   "source": [
    "#4.\n",
    "name=\"TV\"\n",
    "price=300000\n",
    "maker = \"LG\"\n",
    "# 위 변수의 값을 다음과 같은 형태로 출력하시오.\n",
    "#\"제품명 : TV, 가격 : 300000, 제조사 : LG\"\n",
    "\n",
    "s4=\"제품명 : {}, 가격 : {}, 제조사 : {}\"\n",
    "print(s4.format(name,price,maker))\n",
    "print(f\"제품명: {name},가격: {price},제조사: {maker}\")"
   ]
  },
  {
   "cell_type": "code",
   "execution_count": 102,
   "metadata": {
    "slideshow": {
     "slide_type": "skip"
    }
   },
   "outputs": [
    {
     "name": "stdout",
     "output_type": "stream",
     "text": [
      "수박 없음\n",
      "False\n",
      "False\n"
     ]
    }
   ],
   "source": [
    "#5.\n",
    "fruits = \"사과 복숭아 귤 배\"\n",
    "# 위 fruits에 \"수박\"이 있는지 확인하는 코드를 작성하시오.\n",
    "\n",
    "\n",
    "#첫번째 줄은 잘 보도록 하기.\n",
    "print(\"수박 있음\" if \"수박\" in fruits else \"수박 없음\")\n",
    "print(\"수박\" in fruits)\n",
    "print(bool(fruits.count(\"수박\")))"
   ]
  },
  {
   "cell_type": "code",
   "execution_count": 104,
   "metadata": {
    "slideshow": {
     "slide_type": "skip"
    }
   },
   "outputs": [
    {
     "name": "stdout",
     "output_type": "stream",
     "text": [
      "9\n"
     ]
    }
   ],
   "source": [
    "#6.\n",
    "str_value=\"aldkjaldjfalfjlksajfladlkaalalkdjfa\"\n",
    "# str_value 문자열안에 a가 몇개 있는지 출력하시오.\n",
    "print(str_value.count(\"a\"))"
   ]
  },
  {
   "cell_type": "code",
   "execution_count": 105,
   "metadata": {
    "slideshow": {
     "slide_type": "skip"
    }
   },
   "outputs": [
    {
     "name": "stdout",
     "output_type": "stream",
     "text": [
      "정수1을 입력하세요: 3\n",
      "정수2를 입력하세요: 5\n",
      "15\n"
     ]
    }
   ],
   "source": [
    "\n",
    "#7. 두개의 정수를 입력받아서 곱한 결과를 출력하는 코드를 작성하세요.\n",
    "\n",
    "s1=input(\"정수1을 입력하세요: \")\n",
    "s2=input(\"정수2를 입력하세요: \")\n",
    "\n",
    "account = int(s1)*int(s2)\n",
    "print(account)"
   ]
  },
  {
   "cell_type": "code",
   "execution_count": null,
   "metadata": {},
   "outputs": [],
   "source": []
  }
 ],
 "metadata": {
  "kernelspec": {
   "display_name": "Python 3",
   "language": "python",
   "name": "python3"
  },
  "language_info": {
   "codemirror_mode": {
    "name": "ipython",
    "version": 3
   },
   "file_extension": ".py",
   "mimetype": "text/x-python",
   "name": "python",
   "nbconvert_exporter": "python",
   "pygments_lexer": "ipython3",
   "version": "3.8.8"
  },
  "toc": {
   "base_numbering": 1,
   "nav_menu": {},
   "number_sections": true,
   "sideBar": true,
   "skip_h1_title": false,
   "title_cell": "Table of Contents",
   "title_sidebar": "Contents",
   "toc_cell": false,
   "toc_position": {
    "height": "1005.33px",
    "left": "95px",
    "top": "112.233px",
    "width": "512px"
   },
   "toc_section_display": true,
   "toc_window_display": false
  },
  "varInspector": {
   "cols": {
    "lenName": 16,
    "lenType": 16,
    "lenVar": 40
   },
   "kernels_config": {
    "python": {
     "delete_cmd_postfix": "",
     "delete_cmd_prefix": "del ",
     "library": "var_list.py",
     "varRefreshCmd": "print(var_dic_list())"
    },
    "r": {
     "delete_cmd_postfix": ") ",
     "delete_cmd_prefix": "rm(",
     "library": "var_list.r",
     "varRefreshCmd": "cat(var_dic_list()) "
    }
   },
   "types_to_exclude": [
    "module",
    "function",
    "builtin_function_or_method",
    "instance",
    "_Feature"
   ],
   "window_display": false
  }
 },
 "nbformat": 4,
 "nbformat_minor": 4
}
