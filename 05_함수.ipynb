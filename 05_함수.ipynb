{
 "cells": [
  {
   "cell_type": "markdown",
   "metadata": {
    "slideshow": {
     "slide_type": "slide"
    }
   },
   "source": [
    "# 함수란\n",
    "- 함수란 입력변수와 출력변수간의 대응 관계를 정의한 것을 말한다.\n",
    "- 프로그램에서 함수란 하나의 작업, 기능, 동작을 처리하기 위한 사용자 정의 연산자라고 할 수 있다.\n",
    "    - 함수는 값을 입력(Input)을 받아서 처리후 처리결과를 출력(Output)하는 일련의 과정을 정의한 것을 말한다.\n",
    "    - 만들어진 함수는 동일한 작업이 필요할 때 마다 재사용될 수 있다.\n",
    "    - 함수를 구현해 파이썬 실행환경에 등록하는 것을 **함수를 정의(define)한다** 라고 한다.\n",
    "    - 정의된 함수를 사용하는 것을 **함수를 호출(call)한다** 라고 한다.\n",
    "    - 파이썬에서 함수는 일급 시민(First Class Citizen)이다.\n",
    "    \n",
    "> - **일급 시민 이란**   \n",
    ">    – 변수에 할당할 수 있고, 함수의 입력값으로 전달할 수 있고, 함수의 반환 값으로 반환할 수 있는 객체를 말한다."
   ]
  },
  {
   "cell_type": "code",
   "execution_count": 1,
   "metadata": {},
   "outputs": [
    {
     "name": "stdout",
     "output_type": "stream",
     "text": [
      "30\n"
     ]
    }
   ],
   "source": [
    "#함수와 연산자\n",
    "#연산자는 피연산자를 전달한다. 그러면 연산 처리 결과를 호출한 쪽에 반환한다.\n",
    "#함수는 우리가 정의하는 연산자라고 보면 된다. '사용자 정의'라고 보면 된다.\n",
    "#ex\n",
    "print(10+20)"
   ]
  },
  {
   "cell_type": "code",
   "execution_count": null,
   "metadata": {},
   "outputs": [],
   "source": []
  },
  {
   "cell_type": "markdown",
   "metadata": {
    "slideshow": {
     "slide_type": "slide"
    }
   },
   "source": [
    "## 함수 만들기\n",
    "- 함수의 정의\n",
    "    - 새로운 함수를 만드는 것을 함수의 정의라고 한다.\n",
    "    - 함수를 구현하고 그것을 파이썬 실행환경에 새로운 기능으로 등록하는 과정을 말한다."
   ]
  },
  {
   "cell_type": "markdown",
   "metadata": {
    "slideshow": {
     "slide_type": "fragment"
    }
   },
   "source": [
    "- 함수 구현\n",
    "    - 함수의 선언부와 구현부로 나누어진다\n",
    "        - 함수의 선언부(Header) : 함수의 이름과 입력값을 받을 변수(Parameter, 매개변수)를 지정한다.\n",
    "        - 함수의 구현부(Body) : 함수가 호출 되었을 때 실행할 실행문들을 순서대로 작성한다."
   ]
  },
  {
   "cell_type": "markdown",
   "metadata": {
    "slideshow": {
     "slide_type": "fragment"
    }
   },
   "source": [
    "   \n",
    "``` python\n",
    "def 함수이름( [변수, 변수, ..]):  # 선언 부(Header)\n",
    "    # 구현 부(body)\n",
    "    실행구문1\n",
    "    실행구문2\n",
    "    실행구문3\n",
    "    …\n",
    "    [return [결과값]]\n",
    "```\n",
    "- 함수 선언 마지막에는 `:` 을 넣어 구현부와 구분한다.\n",
    "- Parameter(매개변수)는 argument(호출하는 곳에서 전달하는 함수의 입력값)를 받기 위한 변수로 0개 이상 선언할 수 있다.\n",
    "- 함수의 실행구문은 코드블록으로 들여쓰기로 블록을 묶어준다. \n",
    "    - 들여쓰기는 보통 공백 4칸을 사용한다.\n",
    "- 함수의 처리 결과값이 있을 경우 **return 구문**을 넣고 없을 경우 return은 생략할 수 있다.\n",
    "- **함수이름 관례**\n",
    "    - 함수이름은 보통 동사형으로 만든다.\n",
    "    - 모두 소문자로 하고 여러단어로 구성할 경우 각 단어들을 `_`로 연결한다. (변수와 동일)"
   ]
  },
  {
   "cell_type": "code",
   "execution_count": 1,
   "metadata": {
    "slideshow": {
     "slide_type": "fragment"
    }
   },
   "outputs": [],
   "source": [
    "#함수 정의\n",
    "#1.구현\n",
    "\n",
    "def greet():#header(선언부)---->parameter가 없는 선언부이다.\n",
    "    #구현부 (들여쓰기) =>함수 bodyblock(codeblock)\n",
    "    print(\"안녕하세요\")\n",
    "    print(\"반갑습니다\")\n",
    "    \n",
    "    \n",
    "#2.구현된 함수를 파이썬 실행환경에 등록--->간단하다. 함수 구현한 것을 실행하면 됨.\n",
    "\n",
    "\n"
   ]
  },
  {
   "cell_type": "code",
   "execution_count": 2,
   "metadata": {
    "slideshow": {
     "slide_type": "fragment"
    }
   },
   "outputs": [
    {
     "name": "stdout",
     "output_type": "stream",
     "text": [
      "안녕하세요\n",
      "반갑습니다\n"
     ]
    }
   ],
   "source": [
    "#함수 호출\n",
    "#함수 이름([파라미터에 전달할 값들----파라미터가 있을 경우])\n",
    "greet()"
   ]
  },
  {
   "cell_type": "code",
   "execution_count": 3,
   "metadata": {},
   "outputs": [],
   "source": [
    "#파라미터가 있는 함수---예시의 함수는 파라미터가 1개이다. 파라미터는 0개 이상 가능.\n",
    "\n",
    "def greet2(name): #여기서 argument는 부자이장한이고 name은 파라미터이다.\n",
    "    print(f\"{name}님,안녕하세요!\")\n",
    "    print(\"반갑습니다.\")"
   ]
  },
  {
   "cell_type": "code",
   "execution_count": 4,
   "metadata": {},
   "outputs": [
    {
     "name": "stdout",
     "output_type": "stream",
     "text": [
      "당신의 이름을 입력해주세요.부자이장한\n",
      "부자이장한님,안녕하세요!\n",
      "반갑습니다.\n"
     ]
    }
   ],
   "source": [
    "a=input(\"당신의 이름을 입력해주세요.\")\n",
    "greet2(a)"
   ]
  },
  {
   "cell_type": "code",
   "execution_count": 7,
   "metadata": {},
   "outputs": [],
   "source": [
    "#파라미터가 여러개인 함수\n",
    "#기본적으로, 함수를 호출할 때 parameter와 arguement는 개수와 순서가 맞아야 한다.\n",
    "#개수가 맞지 않으면 시스템 오류가 나고, 순서가 맞지 않으면 논리 오류가 난다.\n",
    "def greet3(name,age,address):\n",
    "    print(f\"{address}에 사는 {age}세 {name}님 안녕하세요.\")\n",
    "    print(\"반갑습니다.\")\n",
    "    "
   ]
  },
  {
   "cell_type": "code",
   "execution_count": 8,
   "metadata": {
    "scrolled": true
   },
   "outputs": [
    {
     "name": "stdout",
     "output_type": "stream",
     "text": [
      "서울에 사는 25세 이장한님 안녕하세요.\n",
      "반갑습니다.\n"
     ]
    }
   ],
   "source": [
    "greet3(\"이장한\",25,\"서울\")"
   ]
  },
  {
   "cell_type": "markdown",
   "metadata": {
    "slideshow": {
     "slide_type": "subslide"
    }
   },
   "source": [
    "### return value(반환값)\n",
    "- 함수가 호출받아 처리한 결과값으로 호출한 곳으로 반환하는 값이다.\n",
    "- 함수 구현부에 return \\[값\\] 구문을 사용해 반환한다.\n",
    "    - **return**\n",
    "        - 함수가 정상적으로 끝났고 호출한곳으로 돌아간다.\n",
    "        - 보통은 함수 구현의 마지막에 넣지만 경우에 따라 중간에 올 수 있다.\n",
    "    - return 반환값\n",
    "        - 호출한 곳으로 값을 가지고 돌아간다. (반환한다)\n",
    "        - 반환값이 없을 경우 None을 반환한다.\n",
    "        - 함수에 return 구문이 없을 경우 마지막에 return None이 실행된다.\n",
    "- 여러개의 값을 return 하는 경우 자료구조로 묶어서 전달해야한다.\n",
    "    - 함수는 한개의 값만 반환할 수 있다. "
   ]
  },
  {
   "cell_type": "code",
   "execution_count": 9,
   "metadata": {
    "slideshow": {
     "slide_type": "fragment"
    }
   },
   "outputs": [
    {
     "name": "stdout",
     "output_type": "stream",
     "text": [
      "20\n",
      "None\n"
     ]
    }
   ],
   "source": [
    "#예시\n",
    "\n",
    "b = print(20)\n",
    "print(b)"
   ]
  },
  {
   "cell_type": "code",
   "execution_count": 10,
   "metadata": {
    "slideshow": {
     "slide_type": "fragment"
    }
   },
   "outputs": [],
   "source": [
    "def greet4(name):\n",
    "    v=f\"{name}님 안녕하세요!\\n반갑습니다.\"\n",
    "    return v #return 반환값 > 호출한 곳으로 반환값을 가지고 돌아가라.\n"
   ]
  },
  {
   "cell_type": "code",
   "execution_count": 12,
   "metadata": {},
   "outputs": [],
   "source": [
    "#return 값은 하나만 가능. (파라미터는 원하는 개수만큼 선언가능.)\n",
    "#return 값이 여러개일 경우->자료구조로 묶어서 반환.\n",
    "\n",
    "\n",
    "#사칙연산 처리\n",
    "\n",
    "def calculate(num1,num2):\n",
    "    r1 = num1+num2\n",
    "    r2 = num1-num2\n",
    "    r3 = num1 * num2\n",
    "    r4=num1/num2\n",
    "    \n",
    "    return [r1,r2,r3,r4]\n",
    "    #return {\"plus\":r1,\"minus\":r2,\"multiply\":r3,\"divide\":r4}\n",
    "    #위와 같이 딕셔너리 형식으로 리턴을 한다면 나중에 호출할 때 매우 쉽다."
   ]
  },
  {
   "cell_type": "code",
   "execution_count": 13,
   "metadata": {},
   "outputs": [
    {
     "name": "stdout",
     "output_type": "stream",
     "text": [
      "[15, 5, 50, 2.0]\n",
      "30 10 200 2.0\n"
     ]
    }
   ],
   "source": [
    "result = calculate(10,5)\n",
    "print(result)\n",
    "\n",
    "#이런 식으로 각각 값을 갱신할 수 있다.\n",
    "\n",
    "result1,result2,result3,result4 = calculate(20,10)\n",
    "print(result1,result2,result3,result4)"
   ]
  },
  {
   "cell_type": "code",
   "execution_count": 14,
   "metadata": {},
   "outputs": [],
   "source": [
    "#return None에 대해\n",
    "\n",
    "def divide(num1,num2):\n",
    "    if num2 == 0:\n",
    "        print(\"0으로는 어떤 숫자도 나눌 수 없습니다. 두번째 파라미터는 0이외의 값을 주세요.\")\n",
    "        return #none이 생략이 되어 있다. \n",
    "    return num1/num2          \n",
    "              "
   ]
  },
  {
   "cell_type": "code",
   "execution_count": 15,
   "metadata": {},
   "outputs": [
    {
     "name": "stdout",
     "output_type": "stream",
     "text": [
      "0으로는 어떤 숫자도 나눌 수 없습니다. 두번째 파라미터는 0이외의 값을 주세요.\n"
     ]
    }
   ],
   "source": [
    "divide(10,0)"
   ]
  },
  {
   "cell_type": "markdown",
   "metadata": {
    "slideshow": {
     "slide_type": "slide"
    }
   },
   "source": [
    "## Parameter (매개변수)\n",
    " \n",
    "### 기본값이 있는 Parameter\n",
    "- 매개변수에 값을 대입하는 구문을 작성하면 호출할 때 argument 가 넘어오지 않으면 대입해놓은 기본값을 사용한다.\n",
    "- 함수 정의시 기본값 없는 매개변수, 있는 매개변수를 같이 선언할 수 있다.\n",
    "    - **이때 기본값 없는 매개변수들을 선언하고 그 다음에 기본값 있는 매개변수들을 선언한다.** "
   ]
  },
  {
   "cell_type": "code",
   "execution_count": 32,
   "metadata": {
    "slideshow": {
     "slide_type": "fragment"
    }
   },
   "outputs": [],
   "source": [
    "def print_info2(name=None):#name: 기본값이 있는 파라미터\n",
    "    print(f\"이름:{name}\")\n"
   ]
  },
  {
   "cell_type": "code",
   "execution_count": 33,
   "metadata": {},
   "outputs": [
    {
     "name": "stdout",
     "output_type": "stream",
     "text": [
      "이름:홍길동\n",
      "이름:None\n"
     ]
    }
   ],
   "source": [
    "print_info2(\"홍길동\") #argument를 전달함.\n",
    "print_info2() #name에 값을 전달 안함. 그러므로 None이 출력이 된다."
   ]
  },
  {
   "cell_type": "code",
   "execution_count": 36,
   "metadata": {},
   "outputs": [
    {
     "ename": "TypeError",
     "evalue": "print_info3() missing 3 required positional arguments: 'id', 'password', and 'name'",
     "output_type": "error",
     "traceback": [
      "\u001b[1;31m---------------------------------------------------------------------------\u001b[0m",
      "\u001b[1;31mTypeError\u001b[0m                                 Traceback (most recent call last)",
      "\u001b[1;32m<ipython-input-36-602eacd3eb8e>\u001b[0m in \u001b[0;36m<module>\u001b[1;34m\u001b[0m\n\u001b[0;32m      5\u001b[0m \u001b[1;33m\u001b[0m\u001b[0m\n\u001b[0;32m      6\u001b[0m \u001b[1;33m\u001b[0m\u001b[0m\n\u001b[1;32m----> 7\u001b[1;33m \u001b[0mprint_info3\u001b[0m\u001b[1;33m(\u001b[0m\u001b[1;33m)\u001b[0m\u001b[1;33m\u001b[0m\u001b[1;33m\u001b[0m\u001b[0m\n\u001b[0m\u001b[0;32m      8\u001b[0m \u001b[1;33m\u001b[0m\u001b[0m\n\u001b[0;32m      9\u001b[0m \u001b[1;33m\u001b[0m\u001b[0m\n",
      "\u001b[1;31mTypeError\u001b[0m: print_info3() missing 3 required positional arguments: 'id', 'password', and 'name'"
     ]
    }
   ],
   "source": [
    "#기본값이 없는 parameter들을 먼저 선언.\n",
    "\n",
    "def print_info3(id,password,name,age=0,weight=0,tall=0):\n",
    "    print(id,password,name,age,weight,tall)\n",
    "    \n",
    "    \n",
    "print_info3()\n",
    "\n",
    "\n",
    "#이렇게 되면 기본값을 설정한 것들만 오류가 안나고 \n",
    "#기본값을 설정 안한 것들은 오류가 난다.\n",
    "\n"
   ]
  },
  {
   "cell_type": "code",
   "execution_count": 38,
   "metadata": {},
   "outputs": [],
   "source": [
    "#default 값이 없는 파라미터들, *,  default 값이 있는 파라미터들\n",
    "#parameter에 *는 구분자로 사용.\n",
    "#사실 잘은 몰라도 되는 내용.\n",
    "\n",
    "#예시:\n",
    "def print_info3(id,password,name,*,age=0,weight=0,tall=0):\n",
    "    print(id,password,name,age,weight,tall)"
   ]
  },
  {
   "cell_type": "code",
   "execution_count": 39,
   "metadata": {},
   "outputs": [
    {
     "name": "stdout",
     "output_type": "stream",
     "text": [
      "1 2 3 0 0 0\n",
      "1 2 3 10 30 40\n"
     ]
    }
   ],
   "source": [
    "print_info3(1,2,3)\n",
    "print_info3(1,2,3,age=10,weight=30,tall=40) #*뒤의 파라미터는 이름=값 형태로 전달한다."
   ]
  },
  {
   "cell_type": "markdown",
   "metadata": {
    "slideshow": {
     "slide_type": "subslide"
    }
   },
   "source": [
    "### Positional argument와 Keyword argument \n",
    "- Argument는 함수/메소드를 호출할 때 전달하는 입력값을 말한다.\n",
    "    - Argument는 전달하는 값이고 Parameter는 그 값을 저장하는 변수\n",
    "- Positional argument\n",
    "    -  함수 호출 할때 argument(전달인자)를 Parameter  순서에 맞춰 값을 넣어서 호출.\n",
    "- keyword  argument \n",
    "    - 함수 호출할 때 argument를 `Parameter변수명 = 전달할값` 형식으로 선언해서 어떤 parameter에 어떤 값을 전달할 것인지 지정해서 호출.\n",
    "    - 순서와 상관없이 호출하는 것이 가능.\n",
    "    - parameter가 많고 대부분 기본값이 있는 함수 호출 할 때 뒤 쪽에 선언된 parameter에만 값을 전달하고 싶을 경우 유용하다."
   ]
  },
  {
   "cell_type": "code",
   "execution_count": 16,
   "metadata": {
    "slideshow": {
     "slide_type": "fragment"
    }
   },
   "outputs": [
    {
     "name": "stdout",
     "output_type": "stream",
     "text": [
      "None None None 0 0 0 abc@abc.com\n"
     ]
    }
   ],
   "source": [
    "#keyword argument의 예시\n",
    "\n",
    "def print_info5(id=None,password=None,name=None,age=0,weight=0,tall=0,email=None):\n",
    "    print(id,password,name,age,weight,tall,email)\n",
    "\n",
    "    \n",
    "print_info5(email=\"abc@abc.com\") #이런 식으로 정의를 해도 email에만 값이 변경된다."
   ]
  },
  {
   "cell_type": "markdown",
   "metadata": {
    "slideshow": {
     "slide_type": "subslide"
    }
   },
   "source": [
    "### 가변인자 (Var args) 파라미터\n",
    "- 호출하는 쪽에서 argument로 0 ~ n개의 값을 나열해서 여러개의 값들을 전달하면 **tuple이나 dictionary로 묶어서** 받을 수있도록 선언하는 parameter\n",
    "    - positial argument로 전달하는 것과 keyword argument로 전달되는 값을 받는 두가지 방식이 있다.\n",
    "- \\*변수명: **positional argument**를 개수와 상관없이 하나의 변수로 받을 수 있도록 선언하는 가변인자.\n",
    "    - 전달된 값들은 tuple로 받아서 처리한다.\n",
    "    - 관례적으로 변수명은 \\*args 를 사용한다.\n",
    "- \\*\\*변수명: **keyword argument**를 개수와 상관없이 하나의 변수로 받을 수 있도록 선언하는 가변인자.\n",
    "    - 전달된 값들은 dictionary로 받아서 처리한다.\n",
    "    - 관례적으로 변수명은 \\*\\*kwargs 를 사용한다.\n",
    "- 하나의 함수에 가변인자는 \\* 하나, \\*\\* 두개짜리 각각 한개씩만 선언할 수 있다.\n",
    "- 파라미터 선언순서\n",
    "    1. 기본값이 없는 파라미터\n",
    "    2. 기본값이 있는 파라미터\n",
    "    3. `*args`\n",
    "    4. `**kwargs`"
   ]
  },
  {
   "cell_type": "code",
   "execution_count": 43,
   "metadata": {
    "slideshow": {
     "slide_type": "fragment"
    }
   },
   "outputs": [],
   "source": [
    "#숫자 값들을 받아서 합계를 반환하는 함수를 만들자.\n",
    "\n",
    "def summmation(nums):\n",
    "    result=0#총합을 저장할 변수\n",
    "    for v in nums:\n",
    "        result+=v\n",
    "    return result    \n",
    "    "
   ]
  },
  {
   "cell_type": "code",
   "execution_count": 44,
   "metadata": {},
   "outputs": [
    {
     "data": {
      "text/plain": [
       "15"
      ]
     },
     "execution_count": 44,
     "metadata": {},
     "output_type": "execute_result"
    }
   ],
   "source": [
    "summmation([1,2,3,4,5])"
   ]
  },
  {
   "cell_type": "code",
   "execution_count": 17,
   "metadata": {},
   "outputs": [],
   "source": [
    "def summmation2(*nums): #*을 붙여보자.\n",
    "    result=0#총합을 저장할 변수\n",
    "    for v in nums:\n",
    "        result+=v\n",
    "    return result    \n",
    "    "
   ]
  },
  {
   "cell_type": "code",
   "execution_count": 18,
   "metadata": {},
   "outputs": [
    {
     "name": "stdout",
     "output_type": "stream",
     "text": [
      "0\n",
      "6\n",
      "36\n"
     ]
    }
   ],
   "source": [
    "print(summmation2()) #argument를 0개를 전달하든, 3개를 전달하든, 8개를 전달하든 정상적으로 함수의 기능을 할 수 있다.\n",
    "print(summmation2(1,2,3))\n",
    "print(summmation2(1,2,3,4,5,6,7,8))"
   ]
  },
  {
   "cell_type": "code",
   "execution_count": null,
   "metadata": {},
   "outputs": [],
   "source": [
    "def print_info(**user_info):\n",
    "    \n",
    "    "
   ]
  },
  {
   "cell_type": "code",
   "execution_count": 51,
   "metadata": {},
   "outputs": [],
   "source": [
    "#이런 식으로 할 수 있다.\n",
    "\n",
    "def print_info(**user_info):\n",
    "    print(type(user_info))\n",
    "    print(user_info[\"name\"],user_info[\"age\"])"
   ]
  },
  {
   "cell_type": "code",
   "execution_count": 52,
   "metadata": {},
   "outputs": [
    {
     "name": "stdout",
     "output_type": "stream",
     "text": [
      "<class 'dict'>\n",
      "홍길동 20\n"
     ]
    }
   ],
   "source": [
    "print_info(name=\"홍길동\",age=20)"
   ]
  },
  {
   "cell_type": "code",
   "execution_count": 58,
   "metadata": {},
   "outputs": [],
   "source": [
    "#가변인자:같이 선언 -->하나의 함수에 가변인자는 *하나, **두개짜리 각각 한개씩만 선언 가능하다.\n",
    "#보통 *을 먼저 선언하고 그런 다음 **을 선언한다.\n",
    "\n",
    "def test(p1,p2,p3,*args,**kwargs):\n",
    "    print(p1,p2,p3)\n",
    "    print(args)\n",
    "    print(kwargs)"
   ]
  },
  {
   "cell_type": "code",
   "execution_count": 59,
   "metadata": {
    "scrolled": false
   },
   "outputs": [
    {
     "name": "stdout",
     "output_type": "stream",
     "text": [
      "1 2 3\n",
      "(4, 5, 6)\n",
      "{'a': 10, 'b': 20, 'c': 'abc'}\n"
     ]
    }
   ],
   "source": [
    "test(1,2,3,4,5,6,a=10,b=20,c=\"abc\")"
   ]
  },
  {
   "cell_type": "code",
   "execution_count": 19,
   "metadata": {},
   "outputs": [],
   "source": [
    "#가변인자를 선언해 보았다.\n",
    "def fn(*args):\n",
    "    print(args)\n",
    "    "
   ]
  },
  {
   "cell_type": "code",
   "execution_count": 23,
   "metadata": {},
   "outputs": [
    {
     "name": "stdout",
     "output_type": "stream",
     "text": [
      "([1, 2, 3, 4, 5],)\n",
      "(1, 2, 3, 4, 5)\n"
     ]
    }
   ],
   "source": [
    "l=[1,2,3,4,5]\n",
    "#가변인자에 리스트 l의 원소들을 전달. 근데 위의 함수는 가변인자이기 때문에\n",
    "#리스트l 자체가 1개의 원소로 들어간다.\n",
    "fn(l)\n",
    "\n",
    "#출력된 것을 보면 리스트 자체가 1개의 원소인 것을 볼 수 있다.\n",
    "\n",
    "\n",
    "\n",
    "fn(*l)\n",
    "#이런 식으로 하면 리스트의 값들을 값 그 자체로, \n",
    "#리스트의 원소들을 풀어서 전달한다."
   ]
  },
  {
   "cell_type": "code",
   "execution_count": 24,
   "metadata": {},
   "outputs": [],
   "source": [
    "#이런 것도 있다.\n",
    "\n",
    "def fn2(**kwargs):\n",
    "    print(kwargs)\n",
    "    print(len(kwargs))\n",
    "    \n",
    "    "
   ]
  },
  {
   "cell_type": "code",
   "execution_count": 26,
   "metadata": {},
   "outputs": [
    {
     "name": "stdout",
     "output_type": "stream",
     "text": [
      "{'aaa': 10, 'bbb': 20, 'ccc': 30}\n",
      "3\n"
     ]
    }
   ],
   "source": [
    "dic = {\"aaa\":10,\"bbb\":20,\"ccc\":30} #근데 이렇게만 넘기면 에러가 난다. 딕셔너리 자체는 원소가 1개이니까.\n",
    "#딕셔너리의 값을 1개로 묶어서 전달하는 것이 아니라 각 원소를 넘기고 싶다.\n",
    "#그 때 풀어서 넘기는 것이 바로 **dic 같이 붙이는 것이다.\n",
    "\n",
    "fn2(**dic)#dict의 item들을 key=value 형태로 풀어서 전달해준다."
   ]
  },
  {
   "cell_type": "code",
   "execution_count": 27,
   "metadata": {},
   "outputs": [],
   "source": [
    "def test(*args, **kwargs):\n",
    "    print(args)\n",
    "    print(kwargs)"
   ]
  },
  {
   "cell_type": "code",
   "execution_count": 28,
   "metadata": {},
   "outputs": [
    {
     "name": "stdout",
     "output_type": "stream",
     "text": [
      "(1, 2, 3, 4, 5)\n",
      "{'aaa': 10, 'bbb': 20, 'ccc': 30}\n"
     ]
    }
   ],
   "source": [
    "test(*l,**dic)"
   ]
  },
  {
   "cell_type": "markdown",
   "metadata": {
    "slideshow": {
     "slide_type": "slide"
    }
   },
   "source": [
    "# 변수의 유효범위(scope)\n",
    "\n",
    "- **지역변수 (local variable)**\n",
    "    - 함수안에 선언된 변수\n",
    "    - 선언된 그 함수 안에서만 사용할 수 있다.\n",
    "- **전역변수 (global variable)**\n",
    "    - 함수 밖에 선언 된 변수\n",
    "    - 모든 함수들이 공통적으로 사용할 수 있다.\n",
    "    - 하나의 함수에서 값을 변경하면 그 변한 값이 모든 함수에 영향을 주기 때문에 함부로 변경하지 않는다.\n",
    "    - 함수내에서 전역변수에 값을 대입하기 위해서는 global 키워드를 이용해 사용할 것을 미리 선언해야 한다.\n",
    "        - global로 선언하지 않고 함수안에서 전역변수와 이름이 같은 변수에 값을 대입하면 그 변수와 동일한 지역변수을 생성한다.\n",
    "        - 조회할 경우에는 상관없다.\n",
    "            - 함수에서 변수를 조회할 경우 **먼저 지역변수를 찾고 없으면 전역변수를 찾는다.**\n",
    "            \n"
   ]
  },
  {
   "cell_type": "code",
   "execution_count": 37,
   "metadata": {
    "slideshow": {
     "slide_type": "fragment"
    }
   },
   "outputs": [],
   "source": [
    "#전역변수 (global variable)\n",
    "name = \"홍길동\"\n",
    "\n",
    "\n",
    "\n",
    "def fn1():\n",
    "    age=20 #fn1() 함수 안에 정의한 변수:(fn1함수의)지역변수(local variable)\n",
    "    print(age)\n",
    "    print(name)\n",
    "def fn2():\n",
    "    name=\"이순신\"\n",
    "    age=30 #fn2() 함수 안에 정의한 변수:(fn2 함수의) 지역변수(local variable)\n",
    "    print(age)\n",
    "    print(name)\n",
    "\n",
    "def fn3():\n",
    "    global name #전역 변수를 바꾸겠다는 의미.\n",
    "    name=\"유재석\"\n",
    "    print(name)"
   ]
  },
  {
   "cell_type": "code",
   "execution_count": 38,
   "metadata": {},
   "outputs": [
    {
     "name": "stdout",
     "output_type": "stream",
     "text": [
      "20\n",
      "홍길동\n",
      "30\n",
      "이순신\n",
      "유재석\n",
      "20\n",
      "유재석\n"
     ]
    }
   ],
   "source": [
    "fn1()\n",
    "fn2()\n",
    "fn3()\n",
    "fn1()"
   ]
  },
  {
   "cell_type": "markdown",
   "metadata": {
    "slideshow": {
     "slide_type": "slide"
    }
   },
   "source": [
    "# 함수는 일급시민(First class citizen) 이다. \n",
    "- 일급 시민\n",
    "    1. 변수에 대입 할 수 있다.\n",
    "    1. Argument로 사용할 수 있다.\n",
    "    1. 함수나 메소드의 반환값으로 사용 할 수 있다.\n",
    "- 일급\n",
    "    - 모든 권리를 다 가진다는 의미\n",
    "- 시민\n",
    "    - 프로그래밍 언어를 구성하는 객체를 의미\n",
    "- 즉 파이썬에서 함수는 일반 값(객체) 로 취급된다. "
   ]
  },
  {
   "cell_type": "code",
   "execution_count": 39,
   "metadata": {
    "slideshow": {
     "slide_type": "fragment"
    }
   },
   "outputs": [],
   "source": [
    "#일급 시민의 예시\n",
    "\n",
    "def test_fn():\n",
    "    print('a')\n"
   ]
  },
  {
   "cell_type": "code",
   "execution_count": 41,
   "metadata": {},
   "outputs": [
    {
     "name": "stdout",
     "output_type": "stream",
     "text": [
      "abc <function test_fn at 0x000002107AF3A3A0>\n"
     ]
    },
    {
     "data": {
      "text/plain": [
       "<function __main__.test_fn()>"
      ]
     },
     "execution_count": 41,
     "metadata": {},
     "output_type": "execute_result"
    }
   ],
   "source": [
    "b = test_fn #1.함수를 변수에 대입\n",
    "\n",
    "def func2(fn):\n",
    "    print(\"abc\",fn)\n",
    "    return test_fn #함수를 return 값으로 사용\n",
    "\n",
    "\n",
    "v=func2(test_fn) # 함수를 argument 사용\n",
    "v"
   ]
  },
  {
   "cell_type": "code",
   "execution_count": 43,
   "metadata": {},
   "outputs": [
    {
     "name": "stdout",
     "output_type": "stream",
     "text": [
      "Hello world\n",
      "None\n"
     ]
    }
   ],
   "source": [
    "def hello():\n",
    "    print(\"Hello world\")\n",
    "v=hello() #hello 함수를 호출해서 실행시킴. 그 '반환'값을 v에 대입.\n",
    "#위의 함수는 반환값이 없으므로 None을 출력시킨다.\n",
    "print(v)"
   ]
  },
  {
   "cell_type": "code",
   "execution_count": 48,
   "metadata": {},
   "outputs": [
    {
     "name": "stdout",
     "output_type": "stream",
     "text": [
      "<function hello at 0x000002107AF3AE50>\n",
      "Hello world\n"
     ]
    }
   ],
   "source": [
    "my_hello = hello #hello '함수'를 my_hello란 변수에 '할당'\n",
    "#출력을 한다면 함수 그 자체에 관한 것이 출력된다.\n",
    "#간단히 이야기하면, hello라는 함수에 my_hello라는 이름을 새로 준 것이라고 볼 수 있다.\n",
    "print(my_hello)\n",
    "my_hello()"
   ]
  },
  {
   "cell_type": "code",
   "execution_count": 52,
   "metadata": {},
   "outputs": [],
   "source": [
    "#plus 호출\n",
    "\n",
    "def plus(num1,num2):\n",
    "    result = num1+num2\n",
    "    return result"
   ]
  },
  {
   "cell_type": "code",
   "execution_count": 53,
   "metadata": {},
   "outputs": [],
   "source": [
    "#함수를 argument로 전달.\n",
    "\n",
    "def calc(func):\n",
    "    \n",
    "    num1=10\n",
    "    num2=20\n",
    "    #계산-근데 어떤 연산을 할지는 모르겠다.\n",
    "    #그래서 결국에는 처리하는 함수를 호출하는 곳에서 받겠다.\n",
    "    #근데 어디서 받아? 결국 밑의 plus 함수에서 받는다.\n",
    "    \n",
    "    result = func(num1,num2)\n",
    "    print(result)"
   ]
  },
  {
   "cell_type": "code",
   "execution_count": 54,
   "metadata": {},
   "outputs": [],
   "source": [
    "def plus(num1,num2):\n",
    "    #어떻게 처리할지는 plus 함수가 가지고 있다.\n",
    "    #그러면 파라미터로 호출하는 곳에서 처리할 값을 받겠다.\n",
    "    \n",
    "    result = num1+num2\n",
    "    return result"
   ]
  },
  {
   "cell_type": "code",
   "execution_count": 56,
   "metadata": {},
   "outputs": [
    {
     "name": "stdout",
     "output_type": "stream",
     "text": [
      "30\n"
     ]
    }
   ],
   "source": [
    "#calc 호출-plus()를 부르면 return값이 넘어가기에 함수 자체를 넘겨야.\n",
    "# 처리하는 방식을 받아서 처리를 하는 것이다.\n",
    "calc(plus)"
   ]
  },
  {
   "cell_type": "code",
   "execution_count": 57,
   "metadata": {},
   "outputs": [],
   "source": [
    "#위의 예시\n",
    "\n",
    "l=[1,4,3,2,3,6,7,10,2,2,3,4,5]\n",
    "\n",
    "#filter() 내장함수\n",
    "###filter(함수, iterable) -iterable의 원소들 중에서 특정 조건이 true인 값들을 제공.\n",
    "#### 함수: 조건은 check 하는 함수\n",
    "\n",
    "#근데, 함수의 조건은 어떤 조건일까?\n",
    "#그래서 조건은 우리가 손수 알려줘야 한다.\n",
    "\n",
    "\n",
    "#값을 하나 받아서 조건을 체크한 결과를 bool 값으로 반환.\n",
    "def check_fn(element):\n",
    "    return element %2 ==0\n",
    "\n"
   ]
  },
  {
   "cell_type": "code",
   "execution_count": 58,
   "metadata": {},
   "outputs": [
    {
     "data": {
      "text/plain": [
       "[4, 2, 6, 10, 2, 2, 4]"
      ]
     },
     "execution_count": 58,
     "metadata": {},
     "output_type": "execute_result"
    }
   ],
   "source": [
    "#조건이 true인 것을 리스트에 담는 함수\n",
    "\n",
    "list(filter(check_fn,l))"
   ]
  },
  {
   "cell_type": "code",
   "execution_count": 59,
   "metadata": {},
   "outputs": [],
   "source": [
    "#예시\n",
    "\n",
    "def my_filter(func,lst):\n",
    "    result=[]\n",
    "    for i in lst:\n",
    "        if func(i): #만약 true일 때만 값을 추가한다.\n",
    "            result.append(i)\n",
    "    return result        "
   ]
  },
  {
   "cell_type": "code",
   "execution_count": 60,
   "metadata": {},
   "outputs": [
    {
     "data": {
      "text/plain": [
       "[4, 2, 6, 10, 2, 2, 4]"
      ]
     },
     "execution_count": 60,
     "metadata": {},
     "output_type": "execute_result"
    }
   ],
   "source": [
    "my_filter(check_fn,l)"
   ]
  },
  {
   "cell_type": "markdown",
   "metadata": {
    "slideshow": {
     "slide_type": "slide"
    }
   },
   "source": [
    "## 람다식/람다표현식 (Lambda Expression)\n",
    "- 함수를 하나의 식을 이용해서 정의할때 사용하는 표현식(구문).\n",
    "- 값을 입력받아서 **간단한 처리한 결과**를 반환하는 간단한 함수를 표현식으로 정의할 수 있다.\n",
    "    - 처리결과를 return 하는 구문을 하나의 명령문으로 처리할 수 있을때 람다식을 사용할 수 있다. => return x + y\n",
    "- 구문\n",
    "```python\n",
    "lambda 매개변수[, 매개변수, ...] : 명령문(구문)\n",
    "```\n",
    "- 명령문(구문)은 하나의 실행문만 가능하다.\n",
    "- 명령문(구문)이 처리한 결과를 리턴해준다.\n",
    "- **람다식은 함수의 매개변수로 함수를 전달하는 일회성 함수를 만들때 주로 사용한다.**"
   ]
  },
  {
   "cell_type": "code",
   "execution_count": 63,
   "metadata": {
    "slideshow": {
     "slide_type": "fragment"
    }
   },
   "outputs": [],
   "source": [
    "f1 = lambda x,y :x + y #:을 기준으로, 변수를 정의하고 변수끼리의 계산을 수행한다.\n",
    "\n",
    "\n",
    "def f2(x,y):\n",
    "    return x+y\n",
    "\n",
    "\n",
    "\n",
    "#기본적으로, 위의 f1과 f2의 기능은 같다.\n",
    "\n"
   ]
  },
  {
   "cell_type": "code",
   "execution_count": 64,
   "metadata": {},
   "outputs": [
    {
     "name": "stdout",
     "output_type": "stream",
     "text": [
      "30 30\n"
     ]
    }
   ],
   "source": [
    "#람다의 호출\n",
    "\n",
    "print(f1(10,20),f2(10,20))"
   ]
  },
  {
   "cell_type": "code",
   "execution_count": 67,
   "metadata": {},
   "outputs": [
    {
     "name": "stdout",
     "output_type": "stream",
     "text": [
      "True False\n",
      "100\n"
     ]
    }
   ],
   "source": [
    "#예시\n",
    "\n",
    "f3 = lambda name:name.endswith(\".exe\") #bool 값을 리턴.\n",
    "print(f3(\"test.exe\"),f3(\"test.jpg\"))\n",
    "\n",
    "\n",
    "f4 = lambda x,y:x**y #제곱값을 리턴.\n",
    "print(f4(10,2))"
   ]
  },
  {
   "cell_type": "code",
   "execution_count": 68,
   "metadata": {},
   "outputs": [
    {
     "data": {
      "text/plain": [
       "[10, 2, 4]"
      ]
     },
     "execution_count": 68,
     "metadata": {},
     "output_type": "execute_result"
    }
   ],
   "source": [
    "list(filter(lambda x:x%2==0,[10,2,3,1,1,23,3,4]))"
   ]
  },
  {
   "cell_type": "markdown",
   "metadata": {
    "slideshow": {
     "slide_type": "slide"
    }
   },
   "source": [
    "### iterable 관련 함수에서 함수를 매개변수로 받아 처리하는 함수들\n",
    "- sorted(iterable, reverse=False, key=None)\n",
    "    - 정렬처리\n",
    "    - 매개변수\n",
    "        - reverse: True - 내림차순, False - 오름차순(기본)\n",
    "        - key: 함수 \n",
    "            - Parameter로 iterable의 각 원소를 받는 함수.\n",
    "            - 정렬을 할 때 iterable의 원소기준으로 정렬하는 것이 아니라 이 함수가 반환하는 값을 기준으로 정렬\n",
    "- filter(함수, Iterable)\n",
    "    - Iterable의 원소들 중에서 특정 조건을 만족하는 원소들만 걸러주는 함수\n",
    "    - 함수\n",
    "        - 어떻게 걸러낼 것인지 조건을 정의. 매개변수 1개, 반환값 bool\n",
    "        - 원소 하나 하나를 함수에 전달해 True를 반환하는 것만 반환\n",
    "- map(함수, Iterable)\n",
    "    - Iterable의 원소들 하나 하나를 처리(변형)해서 그 결과를 반환\n",
    "    - 함수\n",
    "        - 원소들을 어떻게 처리할지 정의. 매개변수 1개. 반환값: 처리 결과\n",
    "- **filter/map 반환타입**: generator 형태로 반환 된다. (리스트가 아님)"
   ]
  },
  {
   "cell_type": "code",
   "execution_count": 69,
   "metadata": {},
   "outputs": [
    {
     "data": {
      "text/plain": [
       "['b', 'aaaaaa', 'aaaaa', 'aaaa', 'aaa', 'aa', 'a']"
      ]
     },
     "execution_count": 69,
     "metadata": {},
     "output_type": "execute_result"
    }
   ],
   "source": [
    "l=[\"a\",\"aa\",\"aaa\",\"aaaa\",\"aaaaa\",\"aaaaaa\",\"b\"]\n",
    "sorted(l) #오름차순\n",
    "sorted(l,reverse=True) #내림차순"
   ]
  },
  {
   "cell_type": "code",
   "execution_count": 70,
   "metadata": {},
   "outputs": [
    {
     "data": {
      "text/plain": [
       "['aaaaaa', 'aaaaa', 'aaaa', 'aaa', 'aa', 'a', 'b']"
      ]
     },
     "execution_count": 70,
     "metadata": {},
     "output_type": "execute_result"
    }
   ],
   "source": [
    "#글자수 순서대로 정렬\n",
    "#각 원소를 eky 함수에 넣어서 반환되는 값들을 기준으로 정렬.\n",
    "sorted(l,key=lambda x:len(x),reverse=True)"
   ]
  },
  {
   "cell_type": "code",
   "execution_count": 72,
   "metadata": {},
   "outputs": [
    {
     "data": {
      "text/plain": [
       "['a', 'b', 'aa', 'aaa', 'aaaa', 'aaaaa', 'aaaaaa']"
      ]
     },
     "execution_count": 72,
     "metadata": {},
     "output_type": "execute_result"
    }
   ],
   "source": [
    "#근데 이렇게 해도 똑같다.\n",
    "\n",
    "sorted(l,key=len)"
   ]
  },
  {
   "cell_type": "code",
   "execution_count": 73,
   "metadata": {},
   "outputs": [
    {
     "data": {
      "text/plain": [
       "['aaa', 'aaaa', 'aaaaa', 'aaaaaa']"
      ]
     },
     "execution_count": 73,
     "metadata": {},
     "output_type": "execute_result"
    }
   ],
   "source": [
    "#filter(): 특정 조건이 True인 원소들만 조회\n",
    "#3글자 이상인 문자열만 조회\n",
    "\n",
    "list(filter(lambda x:len(x)>=3,l))"
   ]
  },
  {
   "cell_type": "code",
   "execution_count": 76,
   "metadata": {},
   "outputs": [
    {
     "data": {
      "text/plain": [
       "['1개', '2개', '3개', '4개', '5개', '6개', '1개']"
      ]
     },
     "execution_count": 76,
     "metadata": {},
     "output_type": "execute_result"
    }
   ],
   "source": [
    "#map(): iterable의 원소들을 일괄처리\n",
    "#글자수를 반환\n",
    "\n",
    "\n",
    "list(map(lambda x:str(len(x))+\"개\",l))"
   ]
  },
  {
   "cell_type": "markdown",
   "metadata": {
    "slideshow": {
     "slide_type": "subslide"
    }
   },
   "source": [
    "# docstring\n",
    "- 함수에 대한 설명\n",
    "- 함수의 구현부의 첫번째에 여러줄 문자열로 작성한다.\n",
    "- 함수 매개변수/리턴타입에 대한 힌트(주석)"
   ]
  },
  {
   "cell_type": "code",
   "execution_count": 77,
   "metadata": {
    "slideshow": {
     "slide_type": "fragment"
    }
   },
   "outputs": [
    {
     "name": "stdout",
     "output_type": "stream",
     "text": [
      "Help on built-in function sorted in module builtins:\n",
      "\n",
      "sorted(iterable, /, *, key=None, reverse=False)\n",
      "    Return a new list containing all items from the iterable in ascending order.\n",
      "    \n",
      "    A custom key function can be supplied to customize the sort order, and the\n",
      "    reverse flag can be set to request the result in descending order.\n",
      "\n"
     ]
    }
   ],
   "source": [
    "help(sorted)"
   ]
  },
  {
   "cell_type": "code",
   "execution_count": 81,
   "metadata": {},
   "outputs": [],
   "source": [
    "def greet(name,age):\n",
    "    \"\"\"\n",
    "  이 함수에 대한 설명\n",
    "  이름과 나이를 하나의 문자열로 만들어서 반환하는 함수\n",
    "  \n",
    "  parameter\n",
    "  이름:타입 - 설명\n",
    "  name:str - 고객 이름\n",
    "  age:int - 고객 나이\n",
    "  \n",
    "  Return \n",
    "      타입-설명\n",
    "      str: 고객 정보를 하나의 문자열로 반환.\n",
    "      \n",
    "  Raise\n",
    "      이 함수가 실행하는 도중 발생할 수 있는 exception(에러)에 대한 설명\n",
    "      Exception 타입 - 설명\n",
    "      TypeError - name,age를 입력받지 못하면 생성.\n",
    "    \"\"\"\n",
    "    return f\"이름: {name},나이: {age}\" #이런 함수를 만들었다고 치자.\n",
    "    "
   ]
  },
  {
   "cell_type": "code",
   "execution_count": 80,
   "metadata": {},
   "outputs": [
    {
     "name": "stdout",
     "output_type": "stream",
     "text": [
      "Help on function greet in module __main__:\n",
      "\n",
      "greet(name, age)\n",
      "    이장한은 부자이다. \n",
      "    그것은 자명한 사실이다.\n",
      "\n"
     ]
    }
   ],
   "source": [
    "#이 상태에서 help 메소드를 이용해서 도움을 청하자.\n",
    "#그러면 뭔가가 나오기는 하는데....... 뭔가 애매하다.\n",
    "\n",
    "help(greet)"
   ]
  },
  {
   "cell_type": "markdown",
   "metadata": {
    "slideshow": {
     "slide_type": "subslide"
    }
   },
   "source": [
    "### pass 키워드(예약어)\n",
    "- 빈 구현부를 만들때 사용\n",
    "    - 코드블럭을 하는 일 없이 채울 때 사용\n",
    "    - `...` (Ellipsis:생략부호)을 대신 사용할 수 있다."
   ]
  },
  {
   "cell_type": "code",
   "execution_count": 83,
   "metadata": {},
   "outputs": [],
   "source": [
    "def f1():\n",
    "    pass\n",
    "def f2():\n",
    "    pass\n",
    "def f3():\n",
    "    pass\n",
    "\n",
    "def f4():\n",
    "    ..."
   ]
  },
  {
   "cell_type": "markdown",
   "metadata": {
    "slideshow": {
     "slide_type": "skip"
    }
   },
   "source": [
    "# TODO"
   ]
  },
  {
   "cell_type": "code",
   "execution_count": 4,
   "metadata": {
    "slideshow": {
     "slide_type": "skip"
    }
   },
   "outputs": [],
   "source": [
    "# 1. 사용자가 입력한 단의 구구단을 출력하는 함수를 구현(매개변수로 단을 받는다.)\n",
    "\n",
    "#기존에 만들었던 구구단을 함수화해서 \n",
    "#쓰고 또 쓰고 하는 것이다.\n",
    "\n",
    "def gugudan(dan:int): #dan을 정하고 그 자료형식으로 int를 적는다. 근데 이 int는 그저 힌트일 뿐이다.\n",
    "    for i in range(1,10):\n",
    "        print(f\"{dan} x{i} = {dan*i}\")"
   ]
  },
  {
   "cell_type": "code",
   "execution_count": 3,
   "metadata": {},
   "outputs": [
    {
     "name": "stdout",
     "output_type": "stream",
     "text": [
      "3 x1 = 3\n",
      "3 x2 = 6\n",
      "3 x3 = 9\n",
      "3 x4 = 12\n",
      "3 x5 = 15\n",
      "3 x6 = 18\n",
      "3 x7 = 21\n",
      "3 x8 = 24\n",
      "3 x9 = 27\n",
      "5 x1 = 5\n",
      "5 x2 = 10\n",
      "5 x3 = 15\n",
      "5 x4 = 20\n",
      "5 x5 = 25\n",
      "5 x6 = 30\n",
      "5 x7 = 35\n",
      "5 x8 = 40\n",
      "5 x9 = 45\n"
     ]
    }
   ],
   "source": [
    "gugudan(3)\n",
    "gugudan(5)"
   ]
  },
  {
   "cell_type": "code",
   "execution_count": 6,
   "metadata": {
    "slideshow": {
     "slide_type": "skip"
    }
   },
   "outputs": [],
   "source": [
    "# 2. 시작 정수, 끝 정수를 받아 그 사이의 모든 정수의 합을 구해서 반환하는 함수를 구현(ex: 1, 20 => 1에서 20 사이의 모든 정수의 합계)\n",
    "\n",
    "def accumulate(start:int,stop:int)->int: #각각 힌트,힌트, 리턴값에 대한 힌트이다.\n",
    "    \n",
    "    #docstring을 다는 것도 괜찮다!\n",
    "    \n",
    "    \"\"\"\n",
    "    지정한 범위의 정수들의 합계를 계산해서 반환하는 함수\n",
    "    \n",
    "    parameter\n",
    "    \n",
    "    start:int - 범위의 시작 정수\n",
    "    stop:int - 범위의 끝 정수\n",
    "    \n",
    "    \n",
    "    return \n",
    "        int-누적 합계\n",
    "    \n",
    "    Raise\n",
    "        (그냥 넘어가면, '아 그냥 아무것도 없구나 할 것이다.')\n",
    "    \n",
    "    Example\n",
    "            >> i = accumulate(1,10)\n",
    "            print(i)\n",
    "            55\n",
    "    \"\"\"\n",
    "    result = 0\n",
    "    for v in range(start,stop+1): #stop 값을 포함하기 위해서 +1을 해준다.\n",
    "        result+=v\n",
    "    return result\n",
    "    \n",
    "    \n",
    "    "
   ]
  },
  {
   "cell_type": "code",
   "execution_count": 8,
   "metadata": {},
   "outputs": [
    {
     "name": "stdout",
     "output_type": "stream",
     "text": [
      "55 500500\n"
     ]
    }
   ],
   "source": [
    "print(accumulate(1,10),accumulate(1,1000))"
   ]
  },
  {
   "cell_type": "code",
   "execution_count": 7,
   "metadata": {
    "slideshow": {
     "slide_type": "skip"
    }
   },
   "outputs": [],
   "source": [
    "# 3. 1번 문제에서 시작을 받지 않은 경우 0을, 끝 정수를 받지 않으면 10이 들어가도록 구현을 변경\n",
    "\n",
    "#다른 것은 다 똑같다. \n",
    "#단지 기본값을 정하느냐 아니느냐이다.\n",
    "def accumulate1(start=0,stop=10,include_stop:bool=True)->int: #각각 힌트,힌트, 리턴값에 대한 힌트이다.\n",
    "    \n",
    "    #docstring을 다는 것도 괜찮다!\n",
    "    \n",
    "    \"\"\"\n",
    "    지정한 범위의 정수들의 합계를 계산해서 반환하는 함수\n",
    "    \n",
    "    parameter\n",
    "    \n",
    "    start:int - 범위의 시작 정수\n",
    "    stop:int - 범위의 끝 정수\n",
    "    \n",
    "    \n",
    "    return \n",
    "        int-누적 합계\n",
    "    \n",
    "    Raise\n",
    "        (그냥 넘어가면, '아 그냥 아무것도 없구나 할 것이다.')\n",
    "    \n",
    "    Example\n",
    "            >> i = accumulate(1,10)\n",
    "            print(i)\n",
    "            55\n",
    "    \"\"\"\n",
    "    result = 0\n",
    "    if include_stop:\n",
    "        stop+=1\n",
    "    return sum(range(start,stop))#이런 식으로도 간단하게 합을 구할 수 있다."
   ]
  },
  {
   "cell_type": "code",
   "execution_count": 17,
   "metadata": {},
   "outputs": [
    {
     "name": "stdout",
     "output_type": "stream",
     "text": [
      "45\n",
      "55\n",
      "45\n"
     ]
    }
   ],
   "source": [
    "print(accumulate1(5)) #stop,include_stop 생략\n",
    "print(accumulate1()) #다 생략\n",
    "#stop만 지정을 하고 싶다! 하면 키워드로 정의를 하자.\n",
    "accumulate1(stop=100)\n",
    "\n",
    "#마지막 숫자를 포함하고 싶지 않다면\n",
    "\n",
    "print(accumulate1(include_stop=False))"
   ]
  },
  {
   "cell_type": "code",
   "execution_count": 19,
   "metadata": {},
   "outputs": [],
   "source": [
    "#가변인자를 사용할 경우에는 docstring에 설명을 잘 달아줘야 한다.\n",
    "#그래야 처음보는 사람이 코드를 보고 궁금증을 해소를 하지.\n",
    "def accumulate3(**kwargs):\n",
    "    start = kwargs['start']\n",
    "    stop = kwargs['stop']\n",
    "    \n",
    "    return sum(range(start,stop))"
   ]
  },
  {
   "cell_type": "code",
   "execution_count": 20,
   "metadata": {},
   "outputs": [
    {
     "data": {
      "text/plain": [
       "1180"
      ]
     },
     "execution_count": 20,
     "metadata": {},
     "output_type": "execute_result"
    }
   ],
   "source": [
    "accumulate3(start=10,stop=50)"
   ]
  },
  {
   "cell_type": "code",
   "execution_count": 33,
   "metadata": {
    "slideshow": {
     "slide_type": "skip"
    }
   },
   "outputs": [],
   "source": [
    "# 4. 체질량 지수는 비만도를 나타내는 지수로 키가 a미터 이고 몸무게가 b kg일때 b/(a**2) 로 구한다.\n",
    "# 체질량 지수가\n",
    "#- 18.5 미만이면 저체중\n",
    "#- 18.5이상 25미만이면 정상 \n",
    "#- 25이상이면 과체중\n",
    "#- 30이상이면 비만으로 하는데\n",
    "#몸무게와 키를 매개변수로 받아 비만인지 과체중인지 반환하는 함수를 구현하시오.\n",
    "\n",
    "\n",
    "def check_bmi(tall:float,weight:float)->tuple:\n",
    "    \"\"\"\n",
    "    bmi 지수를 계산해서 비만도를 알려주는 함수.\n",
    "    \n",
    "    Parameter\n",
    "        tall:float - 키,단위:미터\n",
    "        weight: float - 몸무게. 단위:kg\n",
    "    Return \n",
    "        str- 비만도(저체중,정상,과체중,비만)\n",
    "    Raise    \n",
    "    \"\"\"\n",
    "    \n",
    "    bmi = weight/(tall**2)\n",
    "    result = None #결과를 담을 변수를 미리 선언.\n",
    "    if bmi < 18.5:\n",
    "        result = \"저체중\"\n",
    "    elif bmi<25:\n",
    "        result=\"정상입니다.\"\n",
    "    elif bmi<30:\n",
    "        result=\"과체중입니다. 위험해요!\"\n",
    "    else:\n",
    "        result=\"당신은 미국인입니다.\"\n",
    "    return round(bmi,2),result    "
   ]
  },
  {
   "cell_type": "code",
   "execution_count": 40,
   "metadata": {},
   "outputs": [
    {
     "data": {
      "text/plain": [
       "(22.88, '정상입니다.')"
      ]
     },
     "execution_count": 40,
     "metadata": {},
     "output_type": "execute_result"
    }
   ],
   "source": [
    "check_bmi(1.87,80)"
   ]
  },
  {
   "cell_type": "code",
   "execution_count": 45,
   "metadata": {
    "slideshow": {
     "slide_type": "skip"
    }
   },
   "outputs": [
    {
     "name": "stdout",
     "output_type": "stream",
     "text": [
      "[1, 20, 3, 21]\n"
     ]
    }
   ],
   "source": [
    "# 람다식\n",
    "#5. filter()를 이용해 다음 리스트에서 양수만 추출히 리스트를 구현\n",
    "ex1 = [1, -10, -2, 20, 3, -5, -7, 21]\n",
    "\n",
    "\n",
    "#filter로 구현한다. 근데, list로 감싸줘야지 잘 처리를 할 수 있다.\n",
    "print(list(filter(lambda x:x>0,ex1)))"
   ]
  },
  {
   "cell_type": "code",
   "execution_count": 46,
   "metadata": {
    "slideshow": {
     "slide_type": "skip"
    }
   },
   "outputs": [
    {
     "data": {
      "text/plain": [
       "[100, 4, 25, 49]"
      ]
     },
     "execution_count": 46,
     "metadata": {},
     "output_type": "execute_result"
    }
   ],
   "source": [
    "#6. filter()와 map()을 이용해 다음 리스트에서 음수만 추출한 뒤 그 2 제곱한 값들을 가지는 리스트를 구현\n",
    "ex2 = [1, -10, -2, 20, 3, -5, -7, 21]\n",
    "\n",
    "#먼저 filter를 쓴 뒤 mapping을 통해 일괄처리를 한다.\n",
    "#이 두 가지의 과정이 어렵게 느낄 순 있지만 생각을 잘 하면 간단하다.\n",
    "\n",
    "tmp=list(filter(lambda x:x<0,ex2))\n",
    "#만약 tmp라는 변수가 필요가 없다면, list(filter(lambda x:x<0,ex2))을 밑의 줄의 tmp에 통째로 넣으면 된다.\n",
    "list(map(lambda x:x**2,tmp))"
   ]
  },
  {
   "cell_type": "code",
   "execution_count": 47,
   "metadata": {},
   "outputs": [
    {
     "data": {
      "text/plain": [
       "[100, 4, 25, 49]"
      ]
     },
     "execution_count": 47,
     "metadata": {},
     "output_type": "execute_result"
    }
   ],
   "source": [
    "#간단한 코드\n",
    "\n",
    "[v**2 for v in ex2 if v<0]"
   ]
  },
  {
   "cell_type": "code",
   "execution_count": null,
   "metadata": {},
   "outputs": [],
   "source": []
  }
 ],
 "metadata": {
  "kernelspec": {
   "display_name": "Python 3",
   "language": "python",
   "name": "python3"
  },
  "language_info": {
   "codemirror_mode": {
    "name": "ipython",
    "version": 3
   },
   "file_extension": ".py",
   "mimetype": "text/x-python",
   "name": "python",
   "nbconvert_exporter": "python",
   "pygments_lexer": "ipython3",
   "version": "3.8.8"
  },
  "toc": {
   "base_numbering": 1,
   "nav_menu": {},
   "number_sections": true,
   "sideBar": true,
   "skip_h1_title": false,
   "title_cell": "Table of Contents",
   "title_sidebar": "Contents",
   "toc_cell": false,
   "toc_position": {},
   "toc_section_display": true,
   "toc_window_display": false
  },
  "varInspector": {
   "cols": {
    "lenName": 16,
    "lenType": 16,
    "lenVar": 40
   },
   "kernels_config": {
    "python": {
     "delete_cmd_postfix": "",
     "delete_cmd_prefix": "del ",
     "library": "var_list.py",
     "varRefreshCmd": "print(var_dic_list())"
    },
    "r": {
     "delete_cmd_postfix": ") ",
     "delete_cmd_prefix": "rm(",
     "library": "var_list.r",
     "varRefreshCmd": "cat(var_dic_list()) "
    }
   },
   "types_to_exclude": [
    "module",
    "function",
    "builtin_function_or_method",
    "instance",
    "_Feature"
   ],
   "window_display": false
  }
 },
 "nbformat": 4,
 "nbformat_minor": 4
}
