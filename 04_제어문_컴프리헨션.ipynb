{
 "cells": [
  {
   "cell_type": "markdown",
   "id": "8c49cd8e",
   "metadata": {
    "slideshow": {
     "slide_type": "slide"
    }
   },
   "source": [
    "# 제어문(Control flow statement)\n",
    "기본적으로 프로그램은 순차구조를 가진다. 즉 작성한 순서대로 실행이 된다.  \n",
    "이런 실행흐름을 다른 순서로 제어하기 위한 구문을 만드는 문법이 제어문이다.  \n",
    "제어문은 **조건문** 과 **반복문** 두가지 문법이 있다.\n",
    "- 조건문\n",
    "    - if 문\n",
    "- 반복문\n",
    "    - while 문\n",
    "    - for in 문"
   ]
  },
  {
   "cell_type": "markdown",
   "id": "92c502ce",
   "metadata": {
    "slideshow": {
     "slide_type": "slide"
    }
   },
   "source": [
    "# 조건문/분기문 (conditional statement)\n",
    "- 프로그램이 명령문들을 실행하는 도중 특정 순서에서 **조건에 따라 흐름의 나눠져야 하는 경우 사용한다**\n",
    "- 파이썬은 조건문으로 **if문**이 있다.\n",
    "\n",
    "![조건문](images/ch03_01.png)\n",
    "\n",
    "<center>입력 받은 a 의 값이 0인지 여부에 따라 두가지 흐름으로 분기된다.</center>\n"
   ]
  },
  {
   "cell_type": "code",
   "execution_count": null,
   "id": "9ed0615b",
   "metadata": {},
   "outputs": [],
   "source": []
  },
  {
   "cell_type": "markdown",
   "id": "2a3c1835",
   "metadata": {
    "slideshow": {
     "slide_type": "subslide"
    }
   },
   "source": [
    "## 구문\n",
    "\n",
    "- 조건이 True일 경우만 특정 구문들을 실행 하는 조건문.\n",
    "```python\n",
    "if 조건:    # 조건은 bool 표현식을 기술한다. 조건선언 다음에 : 으로 선언해서 코드블록을 구분한다.\n",
    "    명령문1  # 조건이 True이면 실행할 구문들을 코드블럭에 기술한다.\n",
    "    명령문2  # 코드 블록은 들여쓰기를 이용해 묶어준다. 보통 공백 4칸으로 들여쓰기를 한다.\n",
    "    ...\n",
    "```\n",
    "> <b style='font-size:1.2em'>파이썬의 코드블록(code block)</b>  \n",
    "> 코드블록이란 여러개의 실행명령문들을 묶어놓은 것을 말한다. \n",
    "> 파이썬에서는 코드블록을 작성할 때 들여쓰기를 이용해 묶어준다. 같은 칸만큼 들여쓰기를 한 명령문들이 같은 블록으로 묶인다.\n",
    "> 들여쓰기는 관례적으로 공백 4칸을 사용한다. "
   ]
  },
  {
   "cell_type": "code",
   "execution_count": 1,
   "id": "9aa311a5",
   "metadata": {
    "slideshow": {
     "slide_type": "fragment"
    }
   },
   "outputs": [
    {
     "name": "stdout",
     "output_type": "stream",
     "text": [
      "30\n"
     ]
    }
   ],
   "source": [
    "a=10\n",
    "b=20\n",
    "print(a+b)\n"
   ]
  },
  {
   "cell_type": "markdown",
   "id": "09c79c35",
   "metadata": {
    "slideshow": {
     "slide_type": "subslide"
    }
   },
   "source": [
    "- 조건이 True일때 실행할 구문과 False일때 실행하는 조건문.\n",
    "```python\n",
    "if 조건:     \n",
    "    명령문1_1 # 조건이 True일 경우 실행할 구문들\n",
    "    명령문1_2\n",
    "    ...\n",
    "else:\n",
    "    명령문2_1 # 조건이 False일 경우 실행할 구문들\n",
    "    명령문2_2\n",
    "    ...\n",
    "```"
   ]
  },
  {
   "cell_type": "code",
   "execution_count": 11,
   "id": "87b51956",
   "metadata": {
    "slideshow": {
     "slide_type": "fragment"
    }
   },
   "outputs": [
    {
     "name": "stdout",
     "output_type": "stream",
     "text": [
      "정수1\n",
      "0이 아닌 정수입니다.\n",
      "종료\n"
     ]
    }
   ],
   "source": [
    "#1.정수를 입력받는다.\n",
    "\n",
    "num = int(input(\"정수\"))\n",
    "\n",
    "#2.정수가 0이면 \"zero\"를 출력한다.(아니면 아무것도 안한다.)\n",
    "if(num==0):\n",
    "    print(\"zero\")\n",
    "    print(\"0을 입력하셨습니다.\")\n",
    "\n",
    "\n",
    "\n",
    "#3.\"종료\"를 출력\n",
    "#조건이 참이 아닌 경우 하는 동작을 입력한다.\n",
    "\n",
    "else:\n",
    "    print(\"0이 아닌 정수입니다.\")\n",
    "    print(\"종료\")"
   ]
  },
  {
   "cell_type": "code",
   "execution_count": 10,
   "id": "ed83ce37",
   "metadata": {
    "scrolled": true
   },
   "outputs": [
    {
     "name": "stdout",
     "output_type": "stream",
     "text": [
      "종료\n"
     ]
    }
   ],
   "source": [
    "#not을 이용한 구문(참고하기)\n",
    "\n",
    "num=10\n",
    "\n",
    "if not num:\n",
    "    print(\"zero\")\n",
    "else:\n",
    "    print(\"종료\")"
   ]
  },
  {
   "cell_type": "code",
   "execution_count": 14,
   "id": "05e41609",
   "metadata": {},
   "outputs": [
    {
     "name": "stdout",
     "output_type": "stream",
     "text": [
      "id를 입력해주세요:이장한\n",
      "5글자 이상이 아니잖아 이 멍텅구리야!!\n",
      "종료\n"
     ]
    }
   ],
   "source": [
    "#1.id를 입력받는다.\n",
    "id=str(input(\"id를 입력해주세요:\"))\n",
    "#2.입력받은 id가 5글자 이상이면 \"사용할 수 있는 id입니다\"를 출력\n",
    "\n",
    "\n",
    "if(len(id)>=5):\n",
    "    print(\"사용할 수 있는 id입니다.\")\n",
    "\n",
    "#2.1.5글자 이상이 아니면 사용불가능하다고 출력\n",
    "\n",
    "else:\n",
    "    print(\"5글자 이상이 아니잖아 이 멍텅구리야!!\")\n",
    "    \n",
    "print(\"종료\")    "
   ]
  },
  {
   "cell_type": "code",
   "execution_count": null,
   "id": "86a05b2f",
   "metadata": {},
   "outputs": [],
   "source": [
    "#글을 입력했는지 안했는지 확인.\n",
    "#이 구문은 논리값으로 구분을 쉽게 할 수 있다.\n",
    "txt = input(\"글을 입력하세요.\")\n",
    "if txt:\n",
    "    print(\"입력한 글:\",txt)\n",
    "else:\n",
    "    print(\"최소 1글자 이상을 입력하세요.\")"
   ]
  },
  {
   "cell_type": "markdown",
   "id": "621eae9a",
   "metadata": {
    "slideshow": {
     "slide_type": "subslide"
    }
   },
   "source": [
    "- 조건이 여러개인 조건문.\n",
    "```python\n",
    "if 조건1:\n",
    "    명령문1_1  # 조건1이 True일 경우 실행할 코드블록. \n",
    "    명령문1_2\n",
    "    ...\n",
    "elif 조건2:    # 다음 조건으로 앞의 조건들이 모드 False일 경우 비교한다.\n",
    "    명령문2_1  # 조건2가 True일 경우 실행할 코드블록.\n",
    "    명령문2_2\n",
    "    ...\n",
    "elif 조건3 :\n",
    "    명령문3_1\n",
    "    명령문3_2\n",
    "    ...\n",
    "else:         # 위의 모든 조건이 False일 경우 실행하는 코드블록. 생략 가능하다.\n",
    "    명령문4\n",
    "```"
   ]
  },
  {
   "cell_type": "code",
   "execution_count": 3,
   "id": "37721fdd",
   "metadata": {},
   "outputs": [
    {
     "name": "stdout",
     "output_type": "stream",
     "text": [
      "정수를 입력해주세요:123\n",
      "양수\n",
      "종료\n"
     ]
    }
   ],
   "source": [
    "#1.정수 입력 받기\n",
    "#2. 0이면 zero, 양수이면 \"양수\", 음수이면 \"음수\"\n",
    "#3.종료\n",
    "#이 구문의 특징은 아래의 셋 중 하나로만 결과가 나온다는 것이다. '종료'구문은 예외.\n",
    "a=int(input(\"정수를 입력해주세요:\"))\n",
    "\n",
    "if(a==0):\n",
    "    print(\"zero\")\n",
    "elif (a>0):\n",
    "    print(\"양수\")\n",
    "else:\n",
    "    print(\"음수\")\n",
    "\n",
    "print(\"종료\")"
   ]
  },
  {
   "cell_type": "code",
   "execution_count": null,
   "id": "d8f84486",
   "metadata": {},
   "outputs": [],
   "source": [
    "num = int(input(\"양수입력:\"))\n",
    "if num>=10000:\n",
    "    print(\"아주 큰 수\")\n",
    "elif num>=1000:\n",
    "    print(\"큰수\")\n",
    "elif num>=100:\n",
    "    print(\"보통\")\n",
    "elif num>=0:\n",
    "    print(\"양수\")\n",
    "else:\n",
    "    print(\"음수\")"
   ]
  },
  {
   "cell_type": "markdown",
   "id": "2149b728",
   "metadata": {
    "slideshow": {
     "slide_type": "slide"
    }
   },
   "source": [
    "# 반복문 (Loop statement)\n",
    "\n",
    "특정 구문들을 반복해서 실행할 때 사용한다. 동일한 코드를 여러번 반복하거나 값이 일정하게 변하는 코드를 반복할 경우 사용한다.  \n",
    "단순 반복을 처리하는 **while문**과 iterable객체가 제공하는 값들을 반복 조회하는 **for in문** 두가지 문법이 있다.\n",
    "\n",
    "![반복문](images/ch03_02.png)\n",
    "<center>count의 값이 limit의 값보다 크거나 같을때 까지 count의 값을 1증가 후 출력하는 구문을 반복한다. </center>"
   ]
  },
  {
   "cell_type": "markdown",
   "id": "b4740a36",
   "metadata": {
    "slideshow": {
     "slide_type": "subslide"
    }
   },
   "source": [
    "## while문\n",
    "- 조건이 True인 동안 구문을 반복해서 실행한다.\n",
    "\n",
    "### 구문\n",
    "```python\n",
    "while 조건:       # 조건은 bool 표현식을 기술한다. 조건선언 다음에 : 으로 선언해서 코드블록을 구분한다\n",
    "    반복할 구문1  # 반복할 구문을 코드블록으로 작성한다.  \n",
    "    반복할 구문2\n",
    "    ...\n",
    "```"
   ]
  },
  {
   "cell_type": "code",
   "execution_count": 5,
   "id": "6b11bde6",
   "metadata": {
    "slideshow": {
     "slide_type": "fragment"
    }
   },
   "outputs": [
    {
     "name": "stdout",
     "output_type": "stream",
     "text": [
      "반복횟수:12\n",
      "반복: 12\n",
      "1번째 실행.\n",
      "2번째 실행.\n",
      "3번째 실행.\n",
      "4번째 실행.\n",
      "5번째 실행.\n",
      "6번째 실행.\n",
      "7번째 실행.\n",
      "8번째 실행.\n",
      "9번째 실행.\n",
      "10번째 실행.\n",
      "11번째 실행.\n",
      "12번째 실행.\n"
     ]
    }
   ],
   "source": [
    "limit = int(input(\"반복횟수:\"))\n",
    "print(\"반복:\",limit)\n",
    "\n",
    "count=0#몇번째 반복인지를 저장한다.\n",
    "while count<limit:\n",
    "    count = count+1 #조건을 false로 바꾸는 구문이 없으면 무한반복하게 된다.\n",
    "    print(f\"{count}번째 실행.\") #f 구문을 잘 보도록 하자.\n",
    "    "
   ]
  },
  {
   "cell_type": "code",
   "execution_count": null,
   "id": "cf633c06",
   "metadata": {},
   "outputs": [],
   "source": [
    "l=[1,2,3,4,5]\n",
    "\n",
    "cnt = len(l)\n",
    "idx = 0\n",
    "while idx<cnt:\n",
    "    value = l[idx]\n",
    "    print(value+10)\n",
    "    idx+=1"
   ]
  },
  {
   "cell_type": "markdown",
   "id": "04f12e55",
   "metadata": {
    "slideshow": {
     "slide_type": "subslide"
    }
   },
   "source": [
    "## for  in 문\n",
    "- Iterable 객체를 순환조회하는 구문\n",
    "    - for in문은 Iterable 타입의 객체가 가지고 있는 값들을 각각 조회하여 처리하는 구문을 작성할 때 사용한다.\n",
    "\n",
    "> - Iterable\n",
    ">    - 반복가능한 객체. 반복문(for in)을 이용해 일련의 값들을 반복적으로 각각 제공하는 객체를 말한다. \n",
    ">    - 대표적으로 List, Tuple, Dictionary, Set, 문자열 등이 있다.\n",
    "\n",
    "### 구문\n",
    "```python\n",
    "for 변수 in Iterable: # for in 선언후 : 으로 선언부와 구현부를 나눈다.\n",
    "    반복구문          # Iterable이 반복시 제공하는 값을 가지는 \"변수\"를 이용해 값들을 처리하는 구문을 코드블록으로 작성한다.\n",
    "    반복구문\n",
    "```"
   ]
  },
  {
   "cell_type": "code",
   "execution_count": 9,
   "id": "ee4298cf",
   "metadata": {},
   "outputs": [],
   "source": [
    "#iter의 예시\n",
    "#iter와 next 메소드의 예시를 잘 보도록 하자.\n",
    "l=[1,2,3,4]\n",
    "l_iter=iter(l)"
   ]
  },
  {
   "cell_type": "code",
   "execution_count": 10,
   "id": "784c6fbc",
   "metadata": {},
   "outputs": [
    {
     "data": {
      "text/plain": [
       "1"
      ]
     },
     "execution_count": 10,
     "metadata": {},
     "output_type": "execute_result"
    }
   ],
   "source": [
    "next(l_iter)"
   ]
  },
  {
   "cell_type": "code",
   "execution_count": 12,
   "id": "0dd55348",
   "metadata": {},
   "outputs": [],
   "source": [
    "#심화--복습 시간에 잘 보도록 하기.\n",
    "#숙지해야 할 것은 while문에 boolean 타입이 직접적으로 들어갈 수 있다는 것이다.\n",
    "\n",
    "while True:\n",
    "    try:\n",
    "        v = next(l_iter)\n",
    "        print(v)\n",
    "    except:\n",
    "        break"
   ]
  },
  {
   "cell_type": "code",
   "execution_count": 3,
   "id": "da0ce0f6",
   "metadata": {
    "slideshow": {
     "slide_type": "fragment"
    }
   },
   "outputs": [
    {
     "name": "stdout",
     "output_type": "stream",
     "text": [
      "1\n",
      "2\n",
      "3\n",
      "4\n",
      "5\n"
     ]
    }
   ],
   "source": [
    "#for in 문의 예시\n",
    "l=[1,2,3,4,5]\n",
    "\n",
    "for value in l: #for 변수 in 리스트 =>변수:원소를 저장할 변수명\n",
    "    print(value)"
   ]
  },
  {
   "cell_type": "code",
   "execution_count": 13,
   "id": "4993160b",
   "metadata": {},
   "outputs": [
    {
     "name": "stdout",
     "output_type": "stream",
     "text": [
      "1\n",
      "11\n",
      "1\n",
      "------------------\n",
      "2\n",
      "12\n",
      "4\n",
      "------------------\n",
      "3\n",
      "13\n",
      "9\n",
      "------------------\n",
      "4\n",
      "14\n",
      "16\n",
      "------------------\n"
     ]
    }
   ],
   "source": [
    "#iter 형식을 for문과 결합\n",
    "\n",
    "for v in l:\n",
    "    print(v)\n",
    "    print(v+10)\n",
    "    print(v**2)\n",
    "    print('------------------')"
   ]
  },
  {
   "cell_type": "code",
   "execution_count": 6,
   "id": "b56c1391",
   "metadata": {},
   "outputs": [
    {
     "name": "stdout",
     "output_type": "stream",
     "text": [
      "2\n",
      "4\n",
      "10\n",
      "2\n",
      "12\n",
      "20\n",
      "102\n",
      "[2, 4, 10, 2, 12, 20, 102]\n"
     ]
    }
   ],
   "source": [
    "#l의 원소 중 2의 배수만 출력을 한다. 나머지는 무시를 해도 된다.\n",
    "\n",
    "l=[1,2,3,4,5,10,2,3,12,20,102,111]\n",
    "result=[]\n",
    "for value in l:\n",
    "    if (value%2==0):\n",
    "        print(value)\n",
    "        result.append(value)\n",
    "        \n",
    "print(result) #넣은 배열을 출력한다.       "
   ]
  },
  {
   "cell_type": "code",
   "execution_count": 10,
   "id": "73f76372",
   "metadata": {},
   "outputs": [
    {
     "name": "stdout",
     "output_type": "stream",
     "text": [
      "1\n",
      "2\n",
      "3\n",
      "----------------\n",
      "10\n",
      "20\n",
      "30\n",
      "----------------\n",
      "가\n",
      "나\n",
      "다\n",
      "----------------\n"
     ]
    }
   ],
   "source": [
    "l2 =[[1,2,3],[10,20,30],[\"가\",\"나\",\"다\"]]\n",
    "l3=[]\n",
    "#중첩 리스트 \n",
    "#for in 문을 이용해서 모든 원소들을 출력한다.\n",
    "#반복 복습하라!!\n",
    "\n",
    "for l in l2:\n",
    "    for value in l:\n",
    "        print(value)\n",
    "    print(\"----------------\")    "
   ]
  },
  {
   "cell_type": "markdown",
   "id": "1f30cd6f",
   "metadata": {
    "slideshow": {
     "slide_type": "subslide"
    }
   },
   "source": [
    "## continue와 break를 이용한 반복문 제어\n",
    "- **continue**\n",
    "    - 현재 반복을 중단하고 다음 반복을 진행한다.\n",
    "    - 특정 조건에서 처리를 멈추고 다음 처리를 반복할 때 사용한다.\n",
    "- **break**\n",
    "    - 반복을 중단한다.\n",
    "    - 특정 조건에서 반복문을 중간에 중지할때 사용한다.\n",
    "- continue와 break는 특정 조건에서 실행되야 하는 경우가 대부분이므로 if문 안에 작성한다.    "
   ]
  },
  {
   "cell_type": "code",
   "execution_count": 12,
   "id": "90c41e9f",
   "metadata": {
    "slideshow": {
     "slide_type": "fragment"
    }
   },
   "outputs": [
    {
     "name": "stdout",
     "output_type": "stream",
     "text": [
      "1\n",
      "2\n"
     ]
    }
   ],
   "source": [
    "#예시\n",
    "\n",
    "for v in [1,2,3,4,5,6,7]:\n",
    "    if v==3:\n",
    "        break #3인 곳에서 끝이 나기에 1과 2밖에 출력이 되지 않는다.\n",
    "        \n",
    "    print(v)"
   ]
  },
  {
   "cell_type": "code",
   "execution_count": 13,
   "id": "ccf60e9e",
   "metadata": {},
   "outputs": [
    {
     "name": "stdout",
     "output_type": "stream",
     "text": [
      "입력ㄴㅁㅇㄴㅇ\n",
      ">>ㄴㅁㅇㄴㅇ\n",
      "입력:asdsdsa\n",
      ">>asdsdsa\n",
      "입력:wqewewe\n",
      ">>wqewewe\n",
      "입력:sadsdsadsad\n",
      ">>sadsdsadsad\n",
      "입력:종료\n",
      ">>종료\n"
     ]
    }
   ],
   "source": [
    "#예시2\n",
    "\n",
    "\n",
    "t = input(\"입력\")\n",
    "\n",
    "while True:\n",
    "    print(f\">>{t}\")\n",
    "    if t == \"종료\":\n",
    "        #반복을 멈춘다.\n",
    "        break\n",
    "    t = input(\"입력:\")    "
   ]
  },
  {
   "cell_type": "code",
   "execution_count": 21,
   "id": "12d98a32",
   "metadata": {},
   "outputs": [
    {
     "name": "stdout",
     "output_type": "stream",
     "text": [
      "[91, 45, 82, 39, 82, 84, 11, 31, 5, 24, 34, 48, 44, 57, 79, 40, 75, 71, 63, 6, 75, 5, 8, 23, 58, 75, 66, 99, 79, 3, 77, 60, 40, 86, 43, 81, 82, 77, 34, 18, 9, 61, 15, 32, 58, 36, 72, 51, 19, 59, 1, 88, 59, 25, 60, 27, 15, 81, 68, 19, 7, 52, 97, 62, 73, 9, 30, 15, 3, 58, 46, 69, 99, 81, 69, 44, 2, 85, 50, 37, 30, 73, 68, 99, 10, 81, 61, 27, 73, 14, 64, 94, 23, 4, 23, 62, 67, 31, 16, 69, 64, 64, 69, 64, 33, 55, 18, 27, 91, 49, 63, 93, 44, 93, 10, 12, 59, 82, 54, 25, 29, 10, 47, 95, 3, 23, 48, 22, 67, 42, 36, 8, 30, 100, 18, 37, 19, 64, 51, 90, 78, 6, 58, 67, 89, 79, 10, 47, 92, 40, 100, 32, 72, 24, 17, 61, 77, 91, 95, 88, 28, 15, 55, 7, 20, 10, 7, 77, 47, 77, 36, 39, 79, 58, 67, 7, 78, 28, 41, 6, 11, 38, 71, 82, 6, 86, 53, 69, 36, 45, 86, 24, 7, 52, 30, 27, 35, 52, 59, 47, 97, 1, 8, 64, 47, 87, 19, 80, 85, 65, 8, 90, 56, 71, 41, 74, 50, 19, 14, 32, 13, 65, 13, 24, 30, 35, 8, 88, 92, 94, 9, 95, 93, 59, 95, 82, 1, 59]\n"
     ]
    }
   ],
   "source": [
    "import random\n",
    "\n",
    "result=[]\n",
    "\n",
    "#-100,100에서 양수가 나오면 result 저장. 0이 나오면 종료.\n",
    "\n",
    "while True:\n",
    "    num = random.randint(-100,100)\n",
    "    if num ==0:\n",
    "        break\n",
    "    elif num<0:\n",
    "        continue #음수는 저장하면 안되니까 이렇게 한다. 다음 반복 시작!\n",
    "    result.append(num)    \n",
    "\n",
    "print(result)"
   ]
  },
  {
   "cell_type": "markdown",
   "id": "dc6099c5",
   "metadata": {
    "slideshow": {
     "slide_type": "slide"
    }
   },
   "source": [
    "## for in 문 연관 내장 함수\n",
    "\n",
    "### range()\n",
    "- 일정한 간격의 연속된 정수를 제공하는 반복가능 객체 생성한다.\n",
    "- 구문\n",
    "    - `range([시작값], 멈춤값, [증감값])`\n",
    "        - 시작값, 멈춤값, 증감값 모두 정수만 가능하다.\n",
    "        - 시작값 > 멈춤값 이고 증감값이 음수이면 내림차순으로 값을 제공한다.\n",
    "        1. 전달값이 **1개: 멈춤값**. \n",
    "            - 0 ~ (멈춤값-1)까지 1씩 증가하는 정수를 제공\n",
    "        2. 전달값이 **2개: 시작값, 멈춤값**. \n",
    "            - 시작값 ~ (멈춤값-1) 까지 1씩 증가하는 정수 제공\n",
    "        3. 전달값이 **3개: 시작값, 멈춤값, 증감값(간격)**. \n",
    "            - 시작값 ~ (멈춤값-1)까지 증감값만큼 증가하는 정수를 제공.\n"
   ]
  },
  {
   "cell_type": "code",
   "execution_count": 16,
   "id": "352d937b",
   "metadata": {
    "slideshow": {
     "slide_type": "fragment"
    }
   },
   "outputs": [
    {
     "name": "stdout",
     "output_type": "stream",
     "text": [
      "1\n",
      "3\n",
      "5\n",
      "7\n",
      "9\n"
     ]
    }
   ],
   "source": [
    "#예시\n",
    "\n",
    "for i in range(1,10,2): #1부터 9까지, 2씩 증가한다!\n",
    "    #range문만 띡 하고 정의하면 안되고, 이렇게 for문도 정의를 하고 \n",
    "    #print문도 코딩을 해야 한다.\n",
    "    print(i)"
   ]
  },
  {
   "cell_type": "code",
   "execution_count": 17,
   "id": "21712350",
   "metadata": {
    "scrolled": true
   },
   "outputs": [
    {
     "name": "stdout",
     "output_type": "stream",
     "text": [
      "-10, -9, -8, -7, -6, -5, -4, -3, -2, -1, 0, 1, 2, 3, 4, 5, 6, 7, 8, 9, "
     ]
    }
   ],
   "source": [
    "for i in range(-10,10):\n",
    "    print(i,end=\", \") #end표시를 잊지 말자!"
   ]
  },
  {
   "cell_type": "code",
   "execution_count": 18,
   "id": "4cad70e9",
   "metadata": {},
   "outputs": [
    {
     "name": "stdout",
     "output_type": "stream",
     "text": [
      "10\n",
      "9\n",
      "8\n",
      "7\n",
      "6\n",
      "5\n",
      "4\n",
      "3\n",
      "2\n",
      "1\n",
      "0\n",
      "-1\n",
      "-2\n",
      "-3\n",
      "-4\n",
      "-5\n",
      "-6\n",
      "-7\n",
      "-8\n",
      "-9\n"
     ]
    }
   ],
   "source": [
    "for i in range(10,-10,-1): #증감을 -1을 하기 때문에 역순이다.\n",
    "    print(i)"
   ]
  },
  {
   "cell_type": "code",
   "execution_count": 19,
   "id": "34b0d5b0",
   "metadata": {
    "scrolled": true
   },
   "outputs": [
    {
     "name": "stdout",
     "output_type": "stream",
     "text": [
      "0\n",
      "1\n",
      "2\n",
      "3\n",
      "4\n"
     ]
    }
   ],
   "source": [
    "for i in range(5): #0부터 4까지! 증감을 생략.\n",
    "    print(i)"
   ]
  },
  {
   "cell_type": "code",
   "execution_count": 20,
   "id": "d6a36f6f",
   "metadata": {},
   "outputs": [
    {
     "name": "stdout",
     "output_type": "stream",
     "text": [
      "1. 안녕하세요!\n",
      "2. 안녕하세요!\n",
      "3. 안녕하세요!\n",
      "4. 안녕하세요!\n",
      "5. 안녕하세요!\n"
     ]
    }
   ],
   "source": [
    "#심화\n",
    "\n",
    "for i in range(5):\n",
    "    print(f\"{i+1}. 안녕하세요!\")"
   ]
  },
  {
   "cell_type": "code",
   "execution_count": 21,
   "id": "c5591847",
   "metadata": {},
   "outputs": [
    {
     "name": "stdout",
     "output_type": "stream",
     "text": [
      "hello world!\n",
      "hello world!\n",
      "hello world!\n",
      "hello world!\n",
      "hello world!\n"
     ]
    }
   ],
   "source": [
    "#보통 i를 변수로 지정하는데, 굳이 변수를 쓰기 싫다면\n",
    "#관례적으로 _를 정의한다.\n",
    "\n",
    "for i in range(5):\n",
    "    print(\"hello world!\")"
   ]
  },
  {
   "cell_type": "code",
   "execution_count": 23,
   "id": "bb2b4d82",
   "metadata": {},
   "outputs": [
    {
     "name": "stdout",
     "output_type": "stream",
     "text": [
      "[1, 2, 3, 4, 5, 6, 7, 8, 9]\n",
      "(1, 2, 3, 4, 5, 6, 7, 8, 9, 10)\n",
      "{65, 35, 70, 40, 10, 75, 45, 15, 80, 50, 20, 85, 55, 25, 90, 60, 30, 95}\n"
     ]
    }
   ],
   "source": [
    "#자료구조와 range()의 결합!\n",
    "\n",
    "l  =list(range(1,10))\n",
    "print(l)\n",
    "print(tuple(range(1,11)))\n",
    "print(set(range(10,100,5)))#set은 역시 랜덤으로 생성된다는 점을 파악하자.\n",
    "\n"
   ]
  },
  {
   "cell_type": "markdown",
   "id": "5de9d74e",
   "metadata": {
    "slideshow": {
     "slide_type": "subslide"
    }
   },
   "source": [
    "## enumerate()\n",
    "\n",
    "- 구문\n",
    "    - `enumerate(Iterable,  [, start=정수])`\n",
    "        - 현재 몇번째 값을 제공하는 지(현재 몇번째 반복인지)를 나타내는 **index**와 제공하는 **원소**를 tuple로 묶어서 반환\n",
    "        - Iterable\n",
    "            - 값을 제공할 Iterable객체\n",
    "        - start: 정수\n",
    "\n",
    "- index 시작 값. 생략하면 0부터 시작한다."
   ]
  },
  {
   "cell_type": "code",
   "execution_count": 25,
   "id": "33dd96c5",
   "metadata": {
    "slideshow": {
     "slide_type": "fragment"
    }
   },
   "outputs": [
    {
     "name": "stdout",
     "output_type": "stream",
     "text": [
      "1 유재석\n",
      "2 박명수\n",
      "3 홍길동\n",
      "4 정준하\n"
     ]
    }
   ],
   "source": [
    "#예시 코드\n",
    "\n",
    "names=[\"유재석\",\"박명수\",\"홍길동\",\"정준하\"]\n",
    "\n",
    "for cnt,name in enumerate(names,start=1):#시작 인덱스 값 지정 가능.\n",
    "    print(cnt,name)"
   ]
  },
  {
   "cell_type": "markdown",
   "id": "f5a5540f",
   "metadata": {
    "slideshow": {
     "slide_type": "subslide"
    }
   },
   "source": [
    "## zip()\n",
    "- 여러 개의 Iterable 객체를 받아 반복시 같은 index의 값끼리 튜플로 묶어 반환한다.\n",
    "- 구문\n",
    "    - `zip(Iterable1, Iterable2, Iterable3 [, .......])`\n",
    "        - Iterable 2개이상.전달한다.\n",
    "- 각 Iterable이 제공하는 원소의 개수가가 다를 경우 가장 적은 것의 개수에 맞춰 반복한다."
   ]
  },
  {
   "cell_type": "code",
   "execution_count": 26,
   "id": "1b99057f",
   "metadata": {
    "slideshow": {
     "slide_type": "fragment"
    }
   },
   "outputs": [
    {
     "name": "stdout",
     "output_type": "stream",
     "text": [
      "(1, 'A')\n",
      "(2, 'B')\n",
      "(3, 'C')\n"
     ]
    }
   ],
   "source": [
    "numbers = [1, 2, 3]\n",
    "letters = [\"A\", \"B\", \"C\"]\n",
    "for pair in zip(numbers, letters):\n",
    "     print(pair)"
   ]
  },
  {
   "cell_type": "markdown",
   "id": "2df89dae",
   "metadata": {
    "slideshow": {
     "slide_type": "subslide"
    }
   },
   "source": [
    "# 컴프리헨션(Comprehension)\n",
    "\n",
    "- 기존 Iterable의 원소들을 이용해서 새로운 자료구조(List, Dictionary, Set)를 생성하는 구문.\n",
    "    - 기존 Iterable의 **원소들을 처리한 결과**나  **특정 조건이 True인 값들을** 새로운 자료구조에 넣을때 사용.\n",
    "    - 결과를 넣을 새로운 자료구조에 따라 다음 세가지 구문이 있다.\n",
    "        - 리스트 컴프리헨션\n",
    "        - 딕셔너리  컴프리헨션\n",
    "        - 셋  컴프리헨션\n",
    "- 튜플 컴프리헨션은 없다.\n",
    "- 딕셔너리 컴프리헨션과 셋 컴프리헨션은 파이썬 3 에 새로 추가되었다."
   ]
  },
  {
   "cell_type": "code",
   "execution_count": 27,
   "id": "e04827d9",
   "metadata": {
    "slideshow": {
     "slide_type": "fragment"
    }
   },
   "outputs": [
    {
     "name": "stdout",
     "output_type": "stream",
     "text": [
      "[10, 20, 30, 40, 50, 60, 70, 10, 20, 30, 40]\n"
     ]
    }
   ],
   "source": [
    "#예시\n",
    "\n",
    "l1=[1,2,3,4,5,6,7,1,2,3,4]\n",
    "\n",
    "#l1의 원소들에 동일한 처리(10배)를 한 결과를 가지는 리스트를 생성.\n",
    "\n",
    "results=[] #결과를 담을 리스트\n",
    "\n",
    "for v in l1:\n",
    "    results.append(v*10)\n",
    "\n",
    "print(results)"
   ]
  },
  {
   "cell_type": "code",
   "execution_count": 30,
   "id": "cd790c1c",
   "metadata": {},
   "outputs": [
    {
     "name": "stdout",
     "output_type": "stream",
     "text": [
      "[10, 20, 30, 40, 50, 60, 70, 10, 20, 30, 40]\n",
      "{70, 40, 10, 50, 20, 60, 30}\n"
     ]
    }
   ],
   "source": [
    "#위의 코드를 구문으로 만든 것이다.\n",
    "#리스트 컴프리헨션 =>for in 처리를 리스트 안에 넣어준다.\n",
    "#간단히 말해서, 리스트 안에 for문을 넣음으로서 과정을 간단하게 하는 것이다.\n",
    "#그러나, for문에서의 값을 한번 빼야 리스트에 저장이 잘 된다. 이 과정이 중요하다.\n",
    "result2=[v*10 for v in l1]\n",
    "result3 = {v*10 for v in l1}\n",
    "\n",
    "print(result2)\n",
    "print(result3)\n"
   ]
  },
  {
   "cell_type": "code",
   "execution_count": 32,
   "id": "391e32d3",
   "metadata": {},
   "outputs": [
    {
     "data": {
      "text/plain": [
       "{0: 10, 1: 20, 2: 30, 3: 40, 4: 50, 5: 60, 6: 70, 7: 10, 8: 20, 9: 30, 10: 40}"
      ]
     },
     "execution_count": 32,
     "metadata": {},
     "output_type": "execute_result"
    }
   ],
   "source": [
    "#딕셔너리:key-처리한 값의 index,value-10배한 값\n",
    "\n",
    "\n",
    "#{k:v for in 문}=>딕셔너리 컴프리헨션\n",
    "#{value for in 문}=>셋 컴프리헨션\n",
    "#[value for in 문]=>리스트 컴프리헨션\n",
    "result4 = {index: value*10 for index,value in enumerate(l1)}\n",
    "\n",
    "result4"
   ]
  },
  {
   "cell_type": "code",
   "execution_count": 35,
   "id": "861e5a95",
   "metadata": {},
   "outputs": [
    {
     "name": "stdout",
     "output_type": "stream",
     "text": [
      "[2, 4, 6, 2, 4]\n",
      "{2, 4, 6}\n"
     ]
    }
   ],
   "source": [
    "#l1의 원소 중에서 짝수만 모아서 새로운 자료 구조에 넣기\n",
    "\n",
    "l1=[1,2,3,4,5,6,7,1,2,3,4]\n",
    "\n",
    "results=[]\n",
    "\n",
    "\n",
    "#이렇게 간단히 할 수 있다!\n",
    "\n",
    "print([value for value in l1 if value%2==0])\n",
    "\n",
    "print({value for value in l1 if value%2==0})"
   ]
  },
  {
   "cell_type": "code",
   "execution_count": 37,
   "id": "ba1d5b93",
   "metadata": {},
   "outputs": [
    {
     "data": {
      "text/plain": [
       "[10,\n",
       " 20,\n",
       " 30,\n",
       " 40,\n",
       " 50,\n",
       " 60,\n",
       " 70,\n",
       " 80,\n",
       " 90,\n",
       " 100,\n",
       " 110,\n",
       " 120,\n",
       " 130,\n",
       " 140,\n",
       " 150,\n",
       " 160,\n",
       " 170,\n",
       " 180,\n",
       " 190,\n",
       " 200,\n",
       " 210,\n",
       " 220,\n",
       " 230,\n",
       " 240,\n",
       " 250,\n",
       " 260,\n",
       " 270,\n",
       " 280,\n",
       " 290,\n",
       " 300,\n",
       " 310,\n",
       " 320,\n",
       " 330,\n",
       " 340,\n",
       " 350,\n",
       " 360,\n",
       " 370,\n",
       " 380,\n",
       " 390,\n",
       " 400,\n",
       " 410,\n",
       " 420,\n",
       " 430,\n",
       " 440,\n",
       " 450,\n",
       " 460,\n",
       " 470,\n",
       " 480,\n",
       " 490,\n",
       " 500,\n",
       " 510,\n",
       " 520,\n",
       " 530,\n",
       " 540,\n",
       " 550,\n",
       " 560,\n",
       " 570,\n",
       " 580,\n",
       " 590,\n",
       " 600,\n",
       " 610,\n",
       " 620,\n",
       " 630,\n",
       " 640,\n",
       " 650,\n",
       " 660,\n",
       " 670,\n",
       " 680,\n",
       " 690,\n",
       " 700,\n",
       " 710,\n",
       " 720,\n",
       " 730,\n",
       " 740,\n",
       " 750,\n",
       " 760,\n",
       " 770,\n",
       " 780,\n",
       " 790,\n",
       " 800,\n",
       " 810,\n",
       " 820,\n",
       " 830,\n",
       " 840,\n",
       " 850,\n",
       " 860,\n",
       " 870,\n",
       " 880,\n",
       " 890,\n",
       " 900,\n",
       " 910,\n",
       " 920,\n",
       " 930,\n",
       " 940,\n",
       " 950,\n",
       " 960,\n",
       " 970,\n",
       " 980,\n",
       " 990,\n",
       " 1000]"
      ]
     },
     "execution_count": 37,
     "metadata": {},
     "output_type": "execute_result"
    }
   ],
   "source": [
    "#1~1000 사이의 10의 배수\n",
    "\n",
    "[v for v in range(1,1001) if v%10==0]"
   ]
  },
  {
   "cell_type": "code",
   "execution_count": 41,
   "id": "e2971863",
   "metadata": {},
   "outputs": [
    {
     "name": "stdout",
     "output_type": "stream",
     "text": [
      "[10, 20, 30, 100, 200, 300]\n"
     ]
    },
    {
     "data": {
      "text/plain": [
       "[10, 30]"
      ]
     },
     "execution_count": 41,
     "metadata": {},
     "output_type": "execute_result"
    }
   ],
   "source": [
    "#중첩 for문에 대한 컴프리헨션\n",
    "\n",
    "l2=[[1,2,3,],[10,20,30]]\n",
    "\n",
    "#l2의 원소들을 10배한 값들을 모으기\n",
    "\n",
    "r=[]\n",
    "for l in l2:\n",
    "    for v in l:\n",
    "        r.append(v*10)\n",
    "print(r)\n",
    "\n",
    "[v*10 for l in l2 for v in l if v%2!=0] #중첩 for문을 한 대로 그대로 코드를 적는다."
   ]
  },
  {
   "cell_type": "markdown",
   "id": "092288d7",
   "metadata": {
    "slideshow": {
     "slide_type": "skip"
    }
   },
   "source": [
    "# TODO"
   ]
  },
  {
   "cell_type": "code",
   "execution_count": 3,
   "id": "22a06085",
   "metadata": {
    "slideshow": {
     "slide_type": "skip"
    }
   },
   "outputs": [
    {
     "name": "stdout",
     "output_type": "stream",
     "text": [
      "점수를 입력하세요(0점~100점) :85\n",
      "B학점입니다.\n"
     ]
    }
   ],
   "source": [
    "#(1) 다음 점수 구간에 맞게 학점을 출력하세요.\n",
    "# 91 ~ 100 : A학점\n",
    "# 81 ~ 90 :  B학점\n",
    "# 71 ~ 80 :  C학점\n",
    "# 61 ~ 70 :  D학점\n",
    "# 60이하   :  F학점\n",
    "\n",
    "score = int(input(\"점수를 입력하세요(0점~100점) :\"))\n",
    "if (score>=91):\n",
    "    print(\"A학점입니다.\")\n",
    "elif (score>=81):\n",
    "    print(\"B학점입니다.\")\n",
    "elif (score>=71):\n",
    "    print(\"C학점입니다.\")\n",
    "elif (score>=61):\n",
    "    print(\"D학점입니다.\")\n",
    "else:\n",
    "    print(\"F다 이 멍텅구리야\")"
   ]
  },
  {
   "cell_type": "code",
   "execution_count": 6,
   "id": "8c3dbdb8",
   "metadata": {
    "slideshow": {
     "slide_type": "skip"
    }
   },
   "outputs": [
    {
     "name": "stdout",
     "output_type": "stream",
     "text": [
      "ㄴㅁㅇ\n",
      "사용할 수 없는 ID입니다.\n"
     ]
    }
   ],
   "source": [
    "#(2) 사용자로 부터 ID를 입력 받은 뒤 입력받은 ID가 5글자 이상이면 \"사용할 수 있습니다.\"를 5글자 미만이면 \"사용할 수 없는 ID입니다.\"를 출력하세요.\n",
    "\n",
    "id = input().strip()#공백을 제거하는 것도 좋다.\n",
    "if (len(id)>=5):\n",
    "    print(\"사용할 수 있습니다.\")\n",
    "else:\n",
    "    print(\"사용할 수 없는 ID입니다.\")"
   ]
  },
  {
   "cell_type": "code",
   "execution_count": null,
   "id": "5356ac76",
   "metadata": {
    "slideshow": {
     "slide_type": "skip"
    }
   },
   "outputs": [],
   "source": [
    "#(3) 사용자로부터 우리나라 도시명을 입력 받은 뒤 입력받은 도시명이 서울이면 \"특별시\"를 인천,부산,광주,대구,대전,울산 이면 \"광역시\"를 나머지는 \"특별시나 광역시가 아닙니다.\"를 출력하세요.\n",
    "\n",
    "city=input(\"도시 이름을 입력하세요.\")\n",
    "\n",
    "if(city==\"서울\"):\n",
    "    print(f\"{city}특별시\")\n",
    "elif(city==\"인천\"or city==\"부산\"or city==\"광주\"or city==\"대구\"or city==\"대전\"or city==\"울산\"):\n",
    "    print(f\"{city}광역시\")\n",
    "else:\n",
    "    print(f\"그냥 도시\")    "
   ]
  },
  {
   "cell_type": "code",
   "execution_count": null,
   "id": "49ae1f47",
   "metadata": {
    "slideshow": {
     "slide_type": "skip"
    }
   },
   "outputs": [],
   "source": [
    "#(4) 아래 리스트의 평균을 구하시오. \n",
    "jumsu = [100, 90, 100, 80, 70, 100, 80, 90, 95, 85]\n",
    "\n",
    "score=0\n",
    "for i in jumsu:\n",
    "    \n",
    "    score+=i\n",
    "    average=score/len(jumsu)\n",
    "print(average)    \n",
    "\n",
    "#내장함수 이용\n",
    "\n",
    "print(\"평균:\",sum(jumsu)/len(jumsu))"
   ]
  },
  {
   "cell_type": "code",
   "execution_count": 15,
   "id": "175aca15",
   "metadata": {
    "scrolled": true,
    "slideshow": {
     "slide_type": "skip"
    }
   },
   "outputs": [
    {
     "name": "stdout",
     "output_type": "stream",
     "text": [
      "0-pass\n",
      "1-pass\n",
      "2-pass\n",
      "3-fail\n",
      "4-fail\n",
      "5-pass\n",
      "6-fail\n",
      "7-pass\n",
      "8-pass\n",
      "9-fail\n"
     ]
    }
   ],
   "source": [
    "#(5) 위 jumsu리스트에서 평균점수이상은 pass, 미만은 fail을 index번호와 함께 출력하시오. (ex: 0-pass, 1-pass, 2-fail)\n",
    "\n",
    "for idx,score in enumerate(jumsu):\n",
    "    if(score>=average):\n",
    "        print(f\"{idx}-pass\")\n",
    "    else:\n",
    "        print(f\"{idx}-fail\")\n"
   ]
  },
  {
   "cell_type": "code",
   "execution_count": null,
   "id": "20d8cb8b",
   "metadata": {},
   "outputs": [],
   "source": [
    "#5번 문제를 한방에 해결하는 방법\n",
    "\n",
    "for idx,j in enumerate(jumsu,start=1):\n",
    "    print(f\"{idx}-pass\" if j>=jumsu_avg else f\"{idx}-fail\")"
   ]
  },
  {
   "cell_type": "code",
   "execution_count": null,
   "id": "b4466577",
   "metadata": {
    "slideshow": {
     "slide_type": "skip"
    }
   },
   "outputs": [],
   "source": [
    "#(6) 아래 리스트 값들 중 최대값을 조회해 출력\n",
    "jumsu = [60, 90, 80, 80, 70, 55, 80, 90, 95, 85]\n",
    "\n",
    "max=0\n",
    "for i in jumsu:\n",
    "   \n",
    "    if(max<i):\n",
    "        max=i\n",
    "print(max)        \n",
    "\n",
    "#이거도 max라는 내장함수를 통해 값을 구할 수 있다."
   ]
  },
  {
   "cell_type": "code",
   "execution_count": null,
   "id": "27f76451",
   "metadata": {
    "slideshow": {
     "slide_type": "skip"
    }
   },
   "outputs": [],
   "source": [
    "#(7) 다음 리스트 중에서 \"쥐\"와 \"토끼\" 제외한 나머지를 출력하세요.\n",
    "str_list = [\"쥐\", \"소\", \"호랑이\", \"토끼\", \"용\", \"뱀\"]\n",
    "\n",
    "\n",
    "for i in str_list:\n",
    "    if(i==\"쥐\" or i==\"토끼\"):\n",
    "        continue\n",
    "    else:\n",
    "        print(i)\n",
    "    \n",
    "    \n",
    "    #not in을 이용해서 풀수도 있다."
   ]
  },
  {
   "cell_type": "code",
   "execution_count": null,
   "id": "389a7ecb",
   "metadata": {
    "slideshow": {
     "slide_type": "skip"
    }
   },
   "outputs": [],
   "source": [
    "#(8) 사용자로부터 정수를 입력받아 그 단의 구구단을 출력하시오. \n",
    "# ex) 단을 입력하시오 : 2  \n",
    "# 2 x 1 = 2\n",
    "# 2 x 2 = 4\n",
    "#..\n",
    "# 2 x 9 = 18\n",
    "\n",
    "\n",
    "number = input(\"숫자를 입력하세요. 그 숫자의 구구단을 출력합니다.(1~9)\")\n",
    "\n",
    "for i in range(1,10):\n",
    "    print(f\"{int(number)} x {int(i)} = {int(number)*int(i)}\")"
   ]
  },
  {
   "cell_type": "code",
   "execution_count": 26,
   "id": "ce129efa",
   "metadata": {
    "slideshow": {
     "slide_type": "skip"
    }
   },
   "outputs": [
    {
     "data": {
      "text/plain": [
       "[20, 60, 140, 10, 240, 1400, 2, 70]"
      ]
     },
     "execution_count": 26,
     "metadata": {},
     "output_type": "execute_result"
    }
   ],
   "source": [
    "#컴프리헨션\n",
    "\n",
    "#(9) 다음 리스트가 가진 값에 두배(* 2)를 가지는 새로운 리스트를 만드시오. (리스트 컴프리헨션 이용)\n",
    "lst = [10, 30, 70, 5, 120, 700, 1, 35]\n",
    "\n",
    "[v*2 for v in lst]"
   ]
  },
  {
   "cell_type": "code",
   "execution_count": null,
   "id": "53f9000b",
   "metadata": {
    "slideshow": {
     "slide_type": "skip"
    }
   },
   "outputs": [],
   "source": [
    "#(10) 다음 리스트가 가진 값에 10배의 값을 가지는 값을 (원래값, 10배값) 의 튜플 묶음으로 가지는 리스트를 만드시오 (리스트 컴프리헨션 이용)\n",
    "# Ex) [(10,100), (30,300), .., (35, 350)]\n",
    "lst = [10, 30, 70, 5, 5, 120, 700, 1, 35, 35]\n",
    "\n",
    "[(v,v*10) for v in lst]\n",
    "\n"
   ]
  },
  {
   "cell_type": "code",
   "execution_count": 34,
   "id": "ce472d12",
   "metadata": {
    "slideshow": {
     "slide_type": "skip"
    }
   },
   "outputs": [
    {
     "data": {
      "text/plain": [
       "[3, 33, 21, 33, 60, 120]"
      ]
     },
     "execution_count": 34,
     "metadata": {},
     "output_type": "execute_result"
    }
   ],
   "source": [
    "#(11) 다음 리스트가 가진 값들 중 3의 배수만 가지는 리스트를 만드시오. (리스트 컴프리헨션 이용)\n",
    "lst2 = [ 3, 20, 33, 21, 33, 8, 11, 10, 7, 17, 60, 120, 2]\n",
    "[ v for v in lst2 if v % 3==0]"
   ]
  },
  {
   "cell_type": "code",
   "execution_count": 35,
   "id": "eecc7de7",
   "metadata": {
    "slideshow": {
     "slide_type": "skip"
    }
   },
   "outputs": [
    {
     "data": {
      "text/plain": [
       "['a.exe', 'function.exe', 'b.exe', 'run.exe']"
      ]
     },
     "execution_count": 35,
     "metadata": {},
     "output_type": "execute_result"
    }
   ],
   "source": [
    "#(12) 다음 파일이름들을 담은 리스트에서 확장자가 exe인 파일만 골라서 새로운 리스트에 담으시오.(string의 endswith()함수 이용)\n",
    "file_name=[\"test.txt\", \"a.exe\", \"jupyter.bat\", \"function.exe\", \"b.exe\", \"cat.jpg\", \"dog.png\", \"run.exe\", \"i.dll\"]\n",
    "\n",
    "[v for v in file_name if v.endswith(\"exe\")]"
   ]
  },
  {
   "cell_type": "code",
   "execution_count": 36,
   "id": "c3fa385a",
   "metadata": {
    "slideshow": {
     "slide_type": "skip"
    }
   },
   "outputs": [
    {
     "data": {
      "text/plain": [
       "['mystroy.txt', 'jupyter.bat', 'function.exe']"
      ]
     },
     "execution_count": 36,
     "metadata": {},
     "output_type": "execute_result"
    }
   ],
   "source": [
    "#(13) 다음 중 10글자 이상인 파일명(확장자포함)만 가지는 리스트를 만드시오.\n",
    "file_name=[\"mystroy.txt\", \"a.exe\", \"jupyter.bat\", \"function.exe\", \"b.exe\", \"cat.jpg\", \"dog.png\", \"run.exe\", \"i.dll\"]\n",
    "\n",
    "[v for v in file_name if len(v)>=10]"
   ]
  },
  {
   "cell_type": "code",
   "execution_count": 38,
   "id": "a0cc04fa",
   "metadata": {
    "slideshow": {
     "slide_type": "skip"
    }
   },
   "outputs": [
    {
     "data": {
      "text/plain": [
       "['c', 'g', 'h', 'k']"
      ]
     },
     "execution_count": 38,
     "metadata": {},
     "output_type": "execute_result"
    }
   ],
   "source": [
    "#(14) 다음 리스트에서 소문자만 가지는 새로운 리스트를 만드시오.\n",
    "str_list = [\"A\", \"B\", \"c\", \"D\", \"E\", \"F\", \"g\", \"h\", \"I\", \"J\", \"k\"]\n",
    "\n",
    "[v for v in str_list if v.islower()]"
   ]
  },
  {
   "cell_type": "code",
   "execution_count": null,
   "id": "c5d0ea69",
   "metadata": {},
   "outputs": [],
   "source": []
  }
 ],
 "metadata": {
  "kernelspec": {
   "display_name": "Python 3",
   "language": "python",
   "name": "python3"
  },
  "language_info": {
   "codemirror_mode": {
    "name": "ipython",
    "version": 3
   },
   "file_extension": ".py",
   "mimetype": "text/x-python",
   "name": "python",
   "nbconvert_exporter": "python",
   "pygments_lexer": "ipython3",
   "version": "3.8.8"
  },
  "toc": {
   "base_numbering": 1,
   "nav_menu": {},
   "number_sections": true,
   "sideBar": true,
   "skip_h1_title": false,
   "title_cell": "Table of Contents",
   "title_sidebar": "Contents",
   "toc_cell": false,
   "toc_position": {},
   "toc_section_display": true,
   "toc_window_display": false
  },
  "varInspector": {
   "cols": {
    "lenName": 16,
    "lenType": 16,
    "lenVar": 40
   },
   "kernels_config": {
    "python": {
     "delete_cmd_postfix": "",
     "delete_cmd_prefix": "del ",
     "library": "var_list.py",
     "varRefreshCmd": "print(var_dic_list())"
    },
    "r": {
     "delete_cmd_postfix": ") ",
     "delete_cmd_prefix": "rm(",
     "library": "var_list.r",
     "varRefreshCmd": "cat(var_dic_list()) "
    }
   },
   "types_to_exclude": [
    "module",
    "function",
    "builtin_function_or_method",
    "instance",
    "_Feature"
   ],
   "window_display": false
  }
 },
 "nbformat": 4,
 "nbformat_minor": 5
}
