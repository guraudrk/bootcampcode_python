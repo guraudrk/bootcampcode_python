{
 "cells": [
  {
   "cell_type": "markdown",
   "id": "da193321",
   "metadata": {
    "slideshow": {
     "slide_type": "slide"
    }
   },
   "source": [
    "# 자료구조란\n",
    "\n",
    "- 여러 개의 값들을 모아서 관리하는 데이터 타입.\n",
    "    - 한 개의 변수는 한 개의 값 밖에는 가지지 못한다. 그러나 하나의 변수로 여러 개의 값 묶어서 저장해 관리해야 할 경우가 있다. \n",
    "    - 예) 고객의 정보의 경우 이름, 나이, 주소, 전화번호 등 여러개의 값이 모여서 하나의 값이 된다. \n",
    "- 파이썬은 데이터를 모으는 방식에 따라 다음과 같이 4개의 타입을 제공한다.\n",
    "    - List: 순서가 있으며 중복된 값들을 모으는 것을 허용하고 구성하는 값들(원소)을 변경할 수 있다.\n",
    "    - Tuple: 순서가 있으며 중복된 값들을 모으는 것을 허용하는데 구성하는 값들을 변경할 수 없다.\n",
    "    - Dictionary: key-value 형태로 값들을 저장해 관리한다.\n",
    "    - Set: 중복을 허용하지 않고 값들의 순서가 없다.\n",
    "- 원소, 성분, 요소, element\n",
    "    - 자료구조의 값들을 구성하는 개별 값들을 말한다.\n",
    "    - len(자료구조) 함수\n",
    "        - 자료구조 내의 원소의 개수를 반환한다."
   ]
  },
  {
   "cell_type": "markdown",
   "id": "84431cfd",
   "metadata": {
    "slideshow": {
     "slide_type": "slide"
    }
   },
   "source": [
    "# List (리스트)\n",
    "\n",
    "- 값을 순서대로 모아서 관리하는 자료구조. 원소(element)들을 순번을 이용해 식별한다.\n",
    "    - 각각의 원소가 어떤 값인지를 순번을 가지고 식별하기 때문에 **순서가 매우 중요하다.** 즉 같은 값에 대해 순서가 바뀌면 안된다.\n",
    "- 각 원소들은 순번을 index라고 하며 값을 조회하거나 변경할 때 index를 이용해 식별한다.\n",
    "    - index는 문자열과 마찮가지로 양수 index와 음수 index 두개가 각 값에 생긴다.\n",
    "    - 양수 index는 앞에서부터 음수 index는 뒤에서 부터 값을 식별할 때 사용하는 것이 편리하다.\n",
    "    - **index를 가지고 각 원소값의 의미를 식별할 수 있으면 List나 Tuple을 사용한다.**\n",
    "- 중복된 값들을 저장할 수 있다.\n",
    "- 각 원소들의 데이터 타입은 달라도 상관없다.\n",
    "    - 보통은 같은 타입의 데이터를 모은다.\n",
    "- 리스트를 구성하는 원소들을 변경할 수 있다. (추가, 삭제, 변경이 가능)\n",
    "\n",
    "## List 생성 구문\n",
    "```python\n",
    "[값, 값, 값, ..]\n",
    "```"
   ]
  },
  {
   "cell_type": "code",
   "execution_count": 4,
   "id": "efc59691",
   "metadata": {
    "ExecuteTime": {
     "end_time": "2022-12-18T00:22:24.071490Z",
     "start_time": "2022-12-18T00:22:23.651455Z"
    },
    "slideshow": {
     "slide_type": "fragment"
    }
   },
   "outputs": [
    {
     "name": "stdout",
     "output_type": "stream",
     "text": [
      "[10, 20, 30, 40, 50]\n"
     ]
    },
    {
     "data": {
      "text/plain": [
       "list"
      ]
     },
     "execution_count": 4,
     "metadata": {},
     "output_type": "execute_result"
    }
   ],
   "source": [
    "#생성\n",
    "\n",
    "l1 =[10,20,30,40,50]\n",
    "print(l1)\n",
    "type(l1)"
   ]
  },
  {
   "cell_type": "code",
   "execution_count": 5,
   "id": "8c04868e",
   "metadata": {},
   "outputs": [],
   "source": [
    "l2=[\"부자이장한\",20,True] #서로 다른 다입의 값들을 모을 수 있다.\n",
    "\n"
   ]
  },
  {
   "cell_type": "markdown",
   "id": "08d634bf",
   "metadata": {
    "slideshow": {
     "slide_type": "subslide"
    }
   },
   "source": [
    "## Indexing과 Slicing을 이용한 원소(element) 조회 및 변경\n",
    "\n",
    "### Indexing\n",
    "- 하나의 원소를 조회하거나 변경할 때 사용\n",
    "- 리스트\\[index\\] \n",
    "    - index의 원소를 조회\n",
    "- 리스트\\[index\\] = 값\n",
    "    - index의 원소를 변경"
   ]
  },
  {
   "cell_type": "markdown",
   "id": "ab5a40cb",
   "metadata": {
    "slideshow": {
     "slide_type": "fragment"
    }
   },
   "source": [
    "### Slicing\n",
    "- 범위로 조회하거나 그 범위의 값들을 변경한다.\n",
    "- 기본구문: **리스트\\[ 시작 index : 종료 index : 간격\\]**\n",
    "    - 시작 index ~ (종료 index – 1)\n",
    "    - 간격을 지정하면 간격만큼 index를 증/감한다. (생략 시 1이 기본 간격)\n",
    "- **0번 index 부터 조회 할 경우 시작 index는 생략가능**\n",
    "    - 리스트 \\[ : 5\\] => 0 ~ 4 까지 조회\n",
    "- **마지막 index까지 (끝까지) 조회 할 경우 종료 index는 생략 가능**\n",
    "    - 리스트\\[2 : \\] => 2번 index 에서 끝까지\n",
    "- **명시적으로 간격을 줄 경우**\n",
    "    - 리스트\\[ : : 3 \\] => 0, 3, 6, 9.. index의 값 조회\n",
    "    - 리스트\\[1 : 9 : 2\\] => 1, 3, 5, 7 index의 값 조회\n",
    "- **시작 index > 종료 index, 간격을 음수로 하면 역으로 반환한다.(Reverse)**\n",
    "    - 리스트\\[5: 1: -1\\] => 5, 4, 3, 2 index의 값 조회\n",
    "    - 리스트\\[: : -1\\]  => 마지막 index ~ 0번 index 까지 의미. Reverse 한다.\n",
    "\n",
    "#### slicing을 이용한 값 변경\n",
    "- slicing 을 이용할 경우 slicing된 원소 개수와 동일한 개수의 값들을 대입한다.\n",
    "    - `리스트[1:5] = 10,20,30,40` : index 1, 2, 3, 4의 값을 각각 10, 20, 30, 40 으로 변경"
   ]
  },
  {
   "cell_type": "code",
   "execution_count": 11,
   "id": "5d462776",
   "metadata": {
    "slideshow": {
     "slide_type": "fragment"
    }
   },
   "outputs": [
    {
     "name": "stdout",
     "output_type": "stream",
     "text": [
      "4\n",
      "20 20\n",
      "123\n",
      "[123, 30, 40, 50]\n",
      "[30, 40, 50]\n"
     ]
    }
   ],
   "source": [
    "#indexing-리스트에서 원소 한개만 조회\n",
    "\n",
    "print(len(l1))\n",
    "\n",
    "print(l1[0],l1[-4])\n",
    "\n",
    "#변경이 가능하다.\n",
    "\n",
    "l1[0]=123\n",
    "print(l1[0])\n",
    "print(l1)\n",
    "\n",
    "\n",
    "#삭제도 가능하다.\n",
    "#del을 통해 삭제가 가능하다. 리스트라고 딱히 다를게 없다.\n",
    "\n",
    "del l1[0]#첫번째 인덱스를 삭제한다.\n",
    "\n",
    "print(l1)"
   ]
  },
  {
   "cell_type": "code",
   "execution_count": 12,
   "id": "8366f3ed",
   "metadata": {},
   "outputs": [
    {
     "name": "stdout",
     "output_type": "stream",
     "text": [
      "[30, 40, 50, 1000]\n"
     ]
    }
   ],
   "source": [
    "l1.append(1000)\n",
    "print(l1)"
   ]
  },
  {
   "cell_type": "code",
   "execution_count": 18,
   "id": "5e5138f4",
   "metadata": {},
   "outputs": [
    {
     "name": "stdout",
     "output_type": "stream",
     "text": [
      "10\n",
      "[0, 1, 2, 3, 4, 5]\n",
      "[1, 4, 7]\n",
      "[2, 4, 6, 8]\n",
      "[9, 8, 7, 6, 5, 4, 3, 2, 1, 0]\n"
     ]
    },
    {
     "data": {
      "text/plain": [
       "[0, 1, 2, 3, 4, 5, 1000, 2000]"
      ]
     },
     "execution_count": 18,
     "metadata": {},
     "output_type": "execute_result"
    }
   ],
   "source": [
    "#slicing\n",
    "\n",
    "l2 = [0,1,2,3,4,5,6,7,8,9]\n",
    "print(len(l2))\n",
    "\n",
    "print(l2[0:6])\n",
    "print(l2[1:8:3])\n",
    "#짝수\n",
    "\n",
    "print(l2[2::2])\n",
    "\n",
    "#역순\n",
    "\n",
    "print(l2[::-1])\n",
    "\n",
    "\n",
    "#변경\n",
    "\n",
    "l2[6:]=[1000,2000] #이렇게 되면 앞의 2개만 다 바뀌고 나머지는 뷁이다.\n",
    "l2"
   ]
  },
  {
   "cell_type": "markdown",
   "id": "a4f9fe12",
   "metadata": {
    "slideshow": {
     "slide_type": "slide"
    }
   },
   "source": [
    "## List 연산자\n",
    "- 리스트 + 리스트\n",
    "    - 두 리스트의 원소들을 합친 리스트를 반환한다.\n",
    "- 리스트 * 정수\n",
    "    - 같은 리스트의 원소들을 정수번 합친 리스트를 반환한다.   \n",
    "- in, not in 연산자\n",
    "    - 값 in 리스트\n",
    "        - 리스트의 원소로 값이 **있으면** True, 없으면 False 반환\n",
    "    - 값 not in 리스트\n",
    "        - 리스트의 원소로 값이 **없으면** True, 있으면 False 반환  \n",
    "- len(리스트)\n",
    "    - 리스트 내의 원소수를 반환.        "
   ]
  },
  {
   "cell_type": "code",
   "execution_count": 25,
   "id": "f085e817",
   "metadata": {
    "ExecuteTime": {
     "end_time": "2022-12-17T14:17:03.293505Z",
     "start_time": "2022-12-17T14:17:03.285501Z"
    },
    "slideshow": {
     "slide_type": "fragment"
    }
   },
   "outputs": [
    {
     "name": "stdout",
     "output_type": "stream",
     "text": [
      "[1, 2, 3, 100, 200, 300, 400]\n",
      "[1, 2, 3, 1, 2, 3, 1, 2, 3]\n",
      "False\n",
      "True\n"
     ]
    }
   ],
   "source": [
    "l1=[1,2,3]\n",
    "l2=[100,200,300,400]\n",
    "print(l1+l2)#l1,l2의 값들은 전혀 변하지 않았다. 두 리스트의 값을 합친 새로운 리스트를 생성.\n",
    "\n",
    "\n",
    "print(l1*3)#리스트를 3번 출력한다.\n",
    "\n",
    "\n",
    "print(10 in l1)\n",
    "\n",
    "#l1안에 1또는 2가 있니?\n",
    "\n",
    "print(1 in l1 or 2 in l2)"
   ]
  },
  {
   "cell_type": "markdown",
   "id": "f90af754",
   "metadata": {
    "slideshow": {
     "slide_type": "slide"
    }
   },
   "source": [
    "## 중첩 리스트 (Nested List)\n",
    "- List가 원소로 List를 가지는 것을 말한다.\n",
    "    - List를 포함한 모든 자료구조 타입들도 다 값이므로 다른 자료구조의 원소로 들어갈 수 있다.    "
   ]
  },
  {
   "cell_type": "code",
   "execution_count": 29,
   "id": "01bede57",
   "metadata": {
    "slideshow": {
     "slide_type": "fragment"
    }
   },
   "outputs": [
    {
     "name": "stdout",
     "output_type": "stream",
     "text": [
      "[[1, 2, 3], ['a', 'b', 'c', 'd', 'e']]\n",
      "2\n",
      "['b', 'c', 'd', 'e']\n"
     ]
    }
   ],
   "source": [
    "#중첩 리스트의 예시\n",
    "#리스트 안에 리스트를 몇개든 넣을 수 있다.\n",
    "\n",
    "l1=[1,2,3]\n",
    "l2=['a','b','c','d','e']\n",
    "\n",
    "l3=[l1,l2]\n",
    "\n",
    "print(l3)\n",
    "print(l3[0][1])#인덱스를 2번 적는 경우도 있다.\n",
    "print(l3[1][1:])#indexing,slicing을 중첩해서 사용할 수 있다."
   ]
  },
  {
   "cell_type": "markdown",
   "id": "29ff0e07",
   "metadata": {
    "slideshow": {
     "slide_type": "slide"
    }
   },
   "source": [
    "## List 대입\n",
    "- 리스트의 원소들을 각각 다른 변수에 대입하는 표현식\n",
    "- 변수의 개수와 리스트 원소의 개수는 동일해야 한다."
   ]
  },
  {
   "cell_type": "code",
   "execution_count": 30,
   "id": "2dfd6c46",
   "metadata": {
    "slideshow": {
     "slide_type": "fragment"
    }
   },
   "outputs": [
    {
     "name": "stdout",
     "output_type": "stream",
     "text": [
      "10 20 30\n"
     ]
    }
   ],
   "source": [
    "v1,v2,v3=[10,20,30]\n",
    "\n",
    "\n",
    "print(v1,v2,v3)"
   ]
  },
  {
   "cell_type": "markdown",
   "id": "826b8780",
   "metadata": {
    "slideshow": {
     "slide_type": "slide"
    }
   },
   "source": [
    "## List 주요 메소드\n",
    "|메소드|설명|\n",
    "|:-|-|\n",
    "|append(value)|value를  추가한다.|\n",
    "|extend(List)|List의 원소들을 추가한다.|\n",
    "|sort(\\[reverse=False\\])|원소들을 오름차순 정렬한다. reverse=True로 하면 내림차순정렬 한다.|\n",
    "|insert(index, 삽입할값)|지정한 index에 '삽입할값'을 삽입한다.|\n",
    "|remove(삭제할값)|'삭제할값' 값과 같은 원소를 삭제한다.|\n",
    "|index(찾을값\\[, 시작index\\])|'찾을값'의 index를 반환한다.|\n",
    "|pop(\\[index\\])|index의 값을 반환하면서 삭제한다. index 생략하면 가장 마지막 값을 반환하며 삭제한다.|\n",
    "|count(값)|'값'이 리스트의 원소로 몇개 있는지 반환한다.|\n",
    "|clear()|리스트 안의 모든 원소들을 삭제한다.|\n",
    "\n"
   ]
  },
  {
   "cell_type": "code",
   "execution_count": 31,
   "id": "4b14d8e8",
   "metadata": {
    "slideshow": {
     "slide_type": "fragment"
    }
   },
   "outputs": [
    {
     "name": "stdout",
     "output_type": "stream",
     "text": [
      "[1, 2, 3, 4, 5, 6, 7]\n"
     ]
    }
   ],
   "source": [
    "#append\n",
    "\n",
    "l=[1,2,3,4,5,6]\n",
    "l.append(7)\n",
    "print(l)"
   ]
  },
  {
   "cell_type": "code",
   "execution_count": 33,
   "id": "3b5185be",
   "metadata": {},
   "outputs": [
    {
     "name": "stdout",
     "output_type": "stream",
     "text": [
      "[1, 2, 3, 4, 5, 6, 7, 100, 200, 300, 100, 200, 300]\n"
     ]
    }
   ],
   "source": [
    "#extend\n",
    "l.extend([100,200,300])\n",
    "print(l)"
   ]
  },
  {
   "cell_type": "code",
   "execution_count": 35,
   "id": "9f1eff49",
   "metadata": {
    "scrolled": true
   },
   "outputs": [
    {
     "name": "stdout",
     "output_type": "stream",
     "text": [
      "[1, 2, 3, 10000]\n"
     ]
    }
   ],
   "source": [
    "l1=[1,2,3]\n",
    "#index 3에 10000을 삽입\n",
    "l1.insert(3,10000)\n",
    "print(l1)"
   ]
  },
  {
   "cell_type": "code",
   "execution_count": 36,
   "id": "a1cb6537",
   "metadata": {},
   "outputs": [
    {
     "name": "stdout",
     "output_type": "stream",
     "text": [
      "[2, 20, 20.0]\n"
     ]
    }
   ],
   "source": [
    "#리스트의 값을 갱신하는 방법의 예시\n",
    "\n",
    "results=[]\n",
    "\n",
    "results.append(1+1)\n",
    "results.append(10*2)\n",
    "results.append(100/5)\n",
    "\n",
    "print(results)"
   ]
  },
  {
   "cell_type": "code",
   "execution_count": 37,
   "id": "4032676b",
   "metadata": {},
   "outputs": [
    {
     "name": "stdout",
     "output_type": "stream",
     "text": [
      "[1, 2, 3, 4, 5, 6, 7, 100, 100, 200, 200, 300, 300, 10000]\n"
     ]
    }
   ],
   "source": [
    "#sort는 원소드를 정렬한다. 오름차순,내림차순 여부를 정할 수 있다.\n",
    "\n",
    "l.sort()\n",
    "print(l)"
   ]
  },
  {
   "cell_type": "code",
   "execution_count": 41,
   "id": "ff2c1d8a",
   "metadata": {},
   "outputs": [
    {
     "name": "stdout",
     "output_type": "stream",
     "text": [
      "[10000, 300, 300, 200, 200, 100, 100, 7, 6, 5, 4, 3, 2, 1]\n"
     ]
    }
   ],
   "source": [
    "l.sort(reverse=True)#내림차순 정렬\n",
    "print(l)"
   ]
  },
  {
   "cell_type": "code",
   "execution_count": 43,
   "id": "ce0ba09c",
   "metadata": {},
   "outputs": [
    {
     "name": "stdout",
     "output_type": "stream",
     "text": [
      "[1, 2, 3, 4, 5, 6, 7, 100, 100, 200, 200, 300, 300, 10000]\n",
      "[10000, 300, 300, 200, 200, 100, 100, 7, 6, 5, 4, 3, 2, 1]\n"
     ]
    }
   ],
   "source": [
    "#정렬 함수: sorted(자료 구조)===> 정렬 결과를 리스트로 반환한다.\n",
    "#정렬을 한다고 해도 원본은 바뀌지 않는다.\n",
    "\n",
    "print(sorted(l))\n",
    "print(l)\n"
   ]
  },
  {
   "cell_type": "code",
   "execution_count": 45,
   "id": "5fff9afd",
   "metadata": {
    "scrolled": true
   },
   "outputs": [
    {
     "data": {
      "text/plain": [
       "['!', '#', 'A', 'B', 'a', 'b', 'c', '가']"
      ]
     },
     "execution_count": 45,
     "metadata": {},
     "output_type": "execute_result"
    }
   ],
   "source": [
    "sorted(\"가ABabc#!\")#문자열을 정렬해서 리스트로 담아준다.\n",
    "#리스트 뿐만 아니라, 그냥 문자열도 정렬해서 리스트에 담아줄 수 있다.\n",
    "#여기서도 reverse=True를 쓸 수 있다.\n"
   ]
  },
  {
   "cell_type": "code",
   "execution_count": 46,
   "id": "24e55952",
   "metadata": {
    "scrolled": true
   },
   "outputs": [
    {
     "data": {
      "text/plain": [
       "['가', 'c', 'b', 'a', 'B', 'A', '#', '!']"
      ]
     },
     "execution_count": 46,
     "metadata": {},
     "output_type": "execute_result"
    }
   ],
   "source": [
    "sorted(\"가ABabc#!\",reverse=True)"
   ]
  },
  {
   "cell_type": "code",
   "execution_count": 51,
   "id": "3eeb3ed8",
   "metadata": {},
   "outputs": [
    {
     "name": "stdout",
     "output_type": "stream",
     "text": [
      "[1, 2, 3, 4, 5]\n"
     ]
    }
   ],
   "source": [
    "#삭제\n",
    "l11=[1,2,3,4,5,300]\n",
    "l11.remove(300)#300을 찾아서 삭제한다.\n",
    "\n",
    "print(l11)"
   ]
  },
  {
   "cell_type": "code",
   "execution_count": 52,
   "id": "9a93e81b",
   "metadata": {},
   "outputs": [
    {
     "name": "stdout",
     "output_type": "stream",
     "text": [
      "200 [10000, 200, 100, 100, 7, 6, 5, 4, 3, 2, 1]\n"
     ]
    }
   ],
   "source": [
    "v=l.pop(2) #인덱스2를 꺼내면서 삭제\n",
    "\n",
    "print(v,l)"
   ]
  },
  {
   "cell_type": "code",
   "execution_count": 55,
   "id": "93621972",
   "metadata": {},
   "outputs": [
    {
     "name": "stdout",
     "output_type": "stream",
     "text": [
      "3\n",
      "[10000, 200, 100, 100, 7, 6, 5, 4]\n"
     ]
    }
   ],
   "source": [
    "print(l.pop()) #마지막 인덱스를 꺼낸다.\n",
    "print(l)"
   ]
  },
  {
   "cell_type": "markdown",
   "id": "5b28f033",
   "metadata": {
    "slideshow": {
     "slide_type": "slide"
    }
   },
   "source": [
    "# Tuple (튜플)\n",
    "- List와 같이 순서대로 원소들을 관리한다. 단 저장된 원소를 변경할 수 없다.\n",
    "- Tuple 은 각 위치(Index) 마다 정해진 의미가 있고 그 값이 한번 설정되면 바뀌지 않는 경우에 사용한다. \n",
    "    - Tuple은 값의 변경되지 않으므로 안전하다.\n",
    "    \n",
    "## Tuple 생성\n",
    "- `(value, value, value, ...)`\n",
    "- 소괄호를 생략할 수 있다.\n",
    "- 원소가 하나인 Tuple 표현식\n",
    "    - `(value,)` 또는 `value,` \n",
    "        - 값 뒤에 `,` 를 붙여준다. `,`를 붙이지 않으면 ( )가 연산자 우선순위 괄호가 된다. "
   ]
  },
  {
   "cell_type": "code",
   "execution_count": 5,
   "id": "14bb8892",
   "metadata": {},
   "outputs": [
    {
     "name": "stdout",
     "output_type": "stream",
     "text": [
      "<class 'tuple'>\n",
      "<class 'tuple'>\n",
      "<class 'tuple'> <class 'tuple'>\n",
      "(10, 20, 30, 40, 50)\n"
     ]
    }
   ],
   "source": [
    "#생성\n",
    "\n",
    "t1=(10,20,30,40,50) #감싼다.\n",
    "\n",
    "print(type(t1))\n",
    "t2=10,20,30,40,50,60 #괄호를 생략할 수 있다.\n",
    "\n",
    "print(type(t2))\n",
    "\n",
    "#튜플은 서로 다른 데이터의 형식을 모을 수 있다.\n",
    "\n",
    "t3=(10,5.2,True,\"abc\") #다른 타입들을 모을 수 있다.\n",
    "t4=10,5.2,\"abc\"\n",
    "\n",
    "print(type(t3),type(t4))\n",
    "print(t1) #튜플이 어떤 값을 가지는지 알고 싶으면 그냥 출력하면 된다."
   ]
  },
  {
   "cell_type": "code",
   "execution_count": 8,
   "id": "278a85ab",
   "metadata": {
    "scrolled": true
   },
   "outputs": [
    {
     "name": "stdout",
     "output_type": "stream",
     "text": [
      "(30,)\n",
      "<class 'int'>\n",
      "<class 'tuple'>\n"
     ]
    }
   ],
   "source": [
    "#원소가 하나인 튜플을 생성하는 예시\n",
    "a=30,\n",
    "print(a)\n",
    "\n",
    "#원소가 1개인 튜플의 타입은 int,str 등일 수 있다. 그래서 튜플 정의 시 코드를 잘 봐야 한다.\n",
    "#튜플 정의 시 코드를 잘 봐야 한다는 점은 정말 잘 숙지해야 한다!! \n",
    "#특히 숫자 1개만 정의하고 싶은데 뒤에 ,(콤마)를 실수로 붙일 수도 있다. 조심하자.\n",
    "\n",
    "b=(30)\n",
    "print(type(b))\n",
    "print(type(a))"
   ]
  },
  {
   "cell_type": "code",
   "execution_count": 56,
   "id": "17099a9e",
   "metadata": {
    "slideshow": {
     "slide_type": "fragment"
    }
   },
   "outputs": [
    {
     "data": {
      "text/plain": [
       "[]"
      ]
     },
     "execution_count": 56,
     "metadata": {},
     "output_type": "execute_result"
    }
   ],
   "source": [
    "#clear====삭제\n",
    "\n",
    "l.clear()\n",
    "l"
   ]
  },
  {
   "cell_type": "markdown",
   "id": "16954356",
   "metadata": {
    "slideshow": {
     "slide_type": "slide"
    }
   },
   "source": [
    "\n",
    "\n",
    "## Indexing과 Slicing을 이용한 원소(element) 조회\n",
    "- 리스트와 동일하다.\n",
    "- 단 튜플은 조회만 가능하고 원소를 변경할 수 없다."
   ]
  },
  {
   "cell_type": "code",
   "execution_count": 10,
   "id": "6c5b9b2c",
   "metadata": {
    "slideshow": {
     "slide_type": "fragment"
    }
   },
   "outputs": [
    {
     "name": "stdout",
     "output_type": "stream",
     "text": [
      "(10, 20, 30, 40, 50, 60)\n",
      "60\n"
     ]
    }
   ],
   "source": [
    "t2=(10,20,30,40,50,60)\n",
    "print(t2)\n",
    "print(t2[-1]) #맨 뒤에서 첫번째 부분을 조회하고 싶다면 음수로 인덱싱을 해도 된다.\n",
    "\n",
    "\n",
    "#인덱스는 양수, 음수를 따지지 않는다는 것을 주의하자."
   ]
  },
  {
   "cell_type": "code",
   "execution_count": 11,
   "id": "bf8f0a19",
   "metadata": {
    "scrolled": true
   },
   "outputs": [
    {
     "name": "stdout",
     "output_type": "stream",
     "text": [
      "(1, 2)\n"
     ]
    }
   ],
   "source": [
    "#단, 값을 못바꾼다는 거지 재정의가 불가능하다는 것이 아니다!\n",
    "\n",
    "t3=(1,2,3,4,5)\n",
    "t3=(1,2)\n",
    "\n",
    "print(t3)"
   ]
  },
  {
   "cell_type": "code",
   "execution_count": 13,
   "id": "4f92b661",
   "metadata": {},
   "outputs": [
    {
     "name": "stdout",
     "output_type": "stream",
     "text": [
      "(20, 30, 40, 50)\n",
      "(20, 30, 40)\n",
      "(10, 40)\n",
      "(10, 20, 30, 40, 50, 60)\n"
     ]
    }
   ],
   "source": [
    "#슬라이싱 코드\n",
    "\n",
    "t2=(10,20,30,40,50,60)\n",
    "\n",
    "print(t2[1:5])\n",
    "print(t2[1:-2])\n",
    "print(t2[::3])\n",
    "\n",
    "#슬라이싱을 한다고 해도 원본이 바뀌지 않는다.\n",
    "\n",
    "print(t2)"
   ]
  },
  {
   "cell_type": "markdown",
   "id": "135101f3",
   "metadata": {
    "slideshow": {
     "slide_type": "slide"
    }
   },
   "source": [
    "## Tuple 연산자\n",
    "- tuple + tuple\n",
    "    - 두 tuple의 원소들을 합친 tuple을 반환한다.\n",
    "- tuple * 정수\n",
    "    - 같은 tuple의 원소들을 정수번 합친 tuple를 반환한다.  \n",
    "- in, not in 연산자\n",
    "    - 값 in tuple\n",
    "        - tuple의 원소로 값이 **있으면** True, 없으면 False 반환\n",
    "    - 값 not in tuple\n",
    "        - tuple의 원소로 값이 **없으면** True, 있으면 False 반환    \n",
    "- len(tuple)\n",
    "    - tuple의 원소 개수 반환        "
   ]
  },
  {
   "cell_type": "code",
   "execution_count": 22,
   "id": "5903e00f",
   "metadata": {
    "slideshow": {
     "slide_type": "fragment"
    }
   },
   "outputs": [
    {
     "name": "stdout",
     "output_type": "stream",
     "text": [
      "(10, 20, 30, 40, 50, 10, 20, 30, 40, 50, 60)\n",
      "(10, 20, 30, 40, 50, 10, 20, 30, 40, 50, 60, 10, 20, 30, 40, 50, 10, 20, 30, 40, 50, 60, 10, 20, 30, 40, 50, 10, 20, 30, 40, 50, 60)\n",
      "True False\n",
      "False True\n"
     ]
    },
    {
     "data": {
      "text/plain": [
       "33"
      ]
     },
     "execution_count": 22,
     "metadata": {},
     "output_type": "execute_result"
    }
   ],
   "source": [
    "#튜플+튜플\n",
    "r1=t1+t2\n",
    "print(r1)\n",
    "\n",
    "\n",
    "#튜플*정수\n",
    "\n",
    "r3=r1*3\n",
    "print(r3)\n",
    "\n",
    "#in,not in\n",
    "\n",
    "print(10 in t2,100 in t2)\n",
    "print(10 not in t2, 100 not in t2)\n",
    "\n",
    "\n",
    "len(r3)"
   ]
  },
  {
   "cell_type": "markdown",
   "id": "6b602a99",
   "metadata": {
    "slideshow": {
     "slide_type": "slide"
    }
   },
   "source": [
    "## Tuple 대입\n",
    "- 튜플의 원소들을 각각 다른 변수에 대입하는 표현식.\n",
    "- 변수의 개수와 튜플의 원소 개수는 동일해야 한다."
   ]
  },
  {
   "cell_type": "code",
   "execution_count": null,
   "id": "78d4e181",
   "metadata": {
    "slideshow": {
     "slide_type": "fragment"
    }
   },
   "outputs": [],
   "source": [
    "v1,v2,v3=10,\"A\",5.7\n",
    "\n"
   ]
  },
  {
   "cell_type": "markdown",
   "id": "89803fdd",
   "metadata": {
    "slideshow": {
     "slide_type": "subslide"
    }
   },
   "source": [
    "## Tuple의 주요 메소드\n",
    "|메소드|설명|\n",
    "|:-|-|\n",
    "|index(찾을값 \\[, 시작index\\])|'찾을값'이 몇번 index인지 반환한다.|\n",
    "|count(값)|원소로 '값'이 몇개 있는지 반환한다.|"
   ]
  },
  {
   "cell_type": "code",
   "execution_count": 23,
   "id": "93a527af",
   "metadata": {
    "slideshow": {
     "slide_type": "fragment"
    }
   },
   "outputs": [
    {
     "data": {
      "text/plain": [
       "(1, 2, 3, 4, 1, 2, 1, 2, 1, 1)"
      ]
     },
     "execution_count": 23,
     "metadata": {},
     "output_type": "execute_result"
    }
   ],
   "source": [
    "t=(1,2,3,4,1,2,1,2,1,1)\n",
    "t"
   ]
  },
  {
   "cell_type": "code",
   "execution_count": 24,
   "id": "7803814c",
   "metadata": {},
   "outputs": [
    {
     "data": {
      "text/plain": [
       "3"
      ]
     },
     "execution_count": 24,
     "metadata": {},
     "output_type": "execute_result"
    }
   ],
   "source": [
    "#인덱스 조회\n",
    "t.index(4)"
   ]
  },
  {
   "cell_type": "code",
   "execution_count": 26,
   "id": "b8a4c036",
   "metadata": {},
   "outputs": [
    {
     "data": {
      "text/plain": [
       "4"
      ]
     },
     "execution_count": 26,
     "metadata": {},
     "output_type": "execute_result"
    }
   ],
   "source": [
    "t[t.index(4)]"
   ]
  },
  {
   "cell_type": "code",
   "execution_count": 27,
   "id": "75dc43ac",
   "metadata": {},
   "outputs": [
    {
     "data": {
      "text/plain": [
       "5"
      ]
     },
     "execution_count": 27,
     "metadata": {},
     "output_type": "execute_result"
    }
   ],
   "source": [
    "#2의 인덱스를 조회. 인덱스 4부터 찾아라.\n",
    "\n",
    "t.index(2,4)"
   ]
  },
  {
   "cell_type": "code",
   "execution_count": 29,
   "id": "094d8f98",
   "metadata": {},
   "outputs": [
    {
     "data": {
      "text/plain": [
       "5"
      ]
     },
     "execution_count": 29,
     "metadata": {},
     "output_type": "execute_result"
    }
   ],
   "source": [
    "#원소 1이 몇개가 있는지?----t의 경우에는 원소가 5개가 있다.\n",
    "\n",
    "t.count(1)"
   ]
  },
  {
   "cell_type": "markdown",
   "id": "e6c196f5",
   "metadata": {
    "slideshow": {
     "slide_type": "slide"
    }
   },
   "source": [
    "# Dictionary\n",
    "- 값을 키(key)-값(value) 쌍으로 묶어서 저장하는 자료구조이다.\n",
    "    - 리스트나 튜플의 index의 역할을 하는 key를 직접 지정한다.\n",
    "    - 서로 의미가 다른 값들을 하나로 묶을 때 그 값의 의미를 key로 가질 수 있는 dictionary를 사용한다.\n",
    "        - cf) 값의 의미가 같을 경우 List나 Tuple을 사용한다.\n",
    "    - key-value 쌍으로 묶은 데이터 한개를 **item 또는 entry**라고 한다.\n",
    "    - key는 중복을 허용하지 않고 value는 중복을 허용한다.\n",
    "    \n",
    "## Dictionary 생성\n",
    "- 구문\n",
    "    1. `{ 키 : 값, 키 : 값, 키 : 값 }`\n",
    "    2. dict(key=value, key=value) 함수 이용\n",
    "    - 키(key)는 불변(Immutable)의 값들만 사용 가능하다. (숫자, 문자열, 튜플) 일반적으로 문자열을 사용한다.\n",
    "    - dict() 함수를 사용할 경우 key는 변수로 정의한다"
   ]
  },
  {
   "cell_type": "code",
   "execution_count": 31,
   "id": "d9d37f28",
   "metadata": {
    "slideshow": {
     "slide_type": "fragment"
    }
   },
   "outputs": [],
   "source": [
    "#과일의 개수\n",
    "\n",
    "fruit_counts1=[100,50,60,70] #근데 이거는 뭐가 뭔지 모르잖아!\n",
    "\n",
    "fruit_counts={\"사과\":100,\"배\":50,\"수박\":60,\"귤\":70} #이런 식으로 하면 좋다잉.\n",
    "\n",
    "fruit_counts\n",
    "\n",
    "#회원 정보를 저장할 때 유용하다.\n",
    "\n",
    "customer_info={\"name\":\"홍길동\",\n",
    "              \"age\":20,\n",
    "              \"email\":\"abc@abc.com\",\n",
    "              \"address\":\"서울\",\n",
    "              \"hobby\":[\"게임\",\"스포츠\"]}\n",
    "\n"
   ]
  },
  {
   "cell_type": "code",
   "execution_count": 32,
   "id": "6399ee78",
   "metadata": {},
   "outputs": [
    {
     "data": {
      "text/plain": [
       "{'name': '박명수'}"
      ]
     },
     "execution_count": 32,
     "metadata": {},
     "output_type": "execute_result"
    }
   ],
   "source": [
    "#key는 중복 허용x, value는 중복 허용.\n",
    "#이는 조금만 생각을 잘 해보면 간단하다.\n",
    "#같은 key가 추가가 되면, 마지막에 추가된 것만 남는다.(변경)\n",
    "\n",
    "d2={\"name\":\"홍길동\",\"name\":\"유재석\",\"name\":\"박명수\"}\n",
    "\n",
    "d2"
   ]
  },
  {
   "cell_type": "code",
   "execution_count": 33,
   "id": "d9c940df",
   "metadata": {},
   "outputs": [
    {
     "data": {
      "text/plain": [
       "{'id': '이장한', 'password': '부자이장한'}"
      ]
     },
     "execution_count": 33,
     "metadata": {},
     "output_type": "execute_result"
    }
   ],
   "source": [
    "#dict라는 함수를 통해 만들 수 있다.\n",
    "#특기할 것은 key를 그냥 적어도 된다는 것이다. 'id'가 아니라 id도 됨.\n",
    "customer_info2=dict(id=\"이장한\",password=\"부자이장한\")\n",
    "customer_info2"
   ]
  },
  {
   "cell_type": "markdown",
   "id": "f8c87bd3",
   "metadata": {
    "slideshow": {
     "slide_type": "subslide"
    }
   },
   "source": [
    "## Dictionary 원소 조회 및 변경\n",
    "- 조회: index에 key값을 식별자로 지정한다.\n",
    "    - dictionary\\[ key \\]\n",
    "    - 없는 키로 조회 시 KeyError 발생\n",
    "- 변경\n",
    "    - dictionary\\[ key \\] = 값\n",
    "    - 있는 key값에 값을 대입하면 변경이고 없는 key 일 경우는 새로운 item을 추가하는 것이다."
   ]
  },
  {
   "cell_type": "code",
   "execution_count": 38,
   "id": "459db630",
   "metadata": {
    "scrolled": true,
    "slideshow": {
     "slide_type": "fragment"
    }
   },
   "outputs": [
    {
     "name": "stdout",
     "output_type": "stream",
     "text": [
      "홍길동\n",
      "20\n",
      "게임\n"
     ]
    }
   ],
   "source": [
    "#이름,나이 조회:key 값으로 조회한다.\n",
    "\n",
    "print(customer_info[\"name\"])\n",
    "print(customer_info[\"age\"])\n",
    "\n",
    "#취미 조회\n",
    "\n",
    "print(customer_info[\"hobby\"][0])"
   ]
  },
  {
   "cell_type": "code",
   "execution_count": 39,
   "id": "4cc20db4",
   "metadata": {
    "scrolled": true
   },
   "outputs": [
    {
     "ename": "KeyError",
     "evalue": "'class'",
     "output_type": "error",
     "traceback": [
      "\u001b[1;31m---------------------------------------------------------------------------\u001b[0m",
      "\u001b[1;31mKeyError\u001b[0m                                  Traceback (most recent call last)",
      "\u001b[1;32m<ipython-input-39-7ce78937afd6>\u001b[0m in \u001b[0;36m<module>\u001b[1;34m\u001b[0m\n\u001b[0;32m      2\u001b[0m \u001b[1;33m\u001b[0m\u001b[0m\n\u001b[0;32m      3\u001b[0m \u001b[1;33m\u001b[0m\u001b[0m\n\u001b[1;32m----> 4\u001b[1;33m \u001b[0mcustomer_info\u001b[0m\u001b[1;33m[\u001b[0m\u001b[1;34m\"class\"\u001b[0m\u001b[1;33m]\u001b[0m\u001b[1;33m\u001b[0m\u001b[1;33m\u001b[0m\u001b[0m\n\u001b[0m",
      "\u001b[1;31mKeyError\u001b[0m: 'class'"
     ]
    }
   ],
   "source": [
    "#없는 키로 조회 시 에러\n",
    "\n",
    "\n",
    "customer_info[\"class\"]"
   ]
  },
  {
   "cell_type": "code",
   "execution_count": 41,
   "id": "71d54b3f",
   "metadata": {},
   "outputs": [
    {
     "name": "stdout",
     "output_type": "stream",
     "text": [
      "{'name': '홍길동', 'age': 27, 'email': 'abc@abc.com', 'address': '서울', 'hobby': ['게임', '스포츠'], 'tall': 182.33}\n"
     ]
    }
   ],
   "source": [
    "#추가-item 추가\n",
    "#변경도 추가와 비슷하게 할 수 있다.\n",
    "\n",
    "customer_info[\"tall\"]=182.33\n",
    "customer_info[\"age\"]=27\n",
    "print(customer_info)"
   ]
  },
  {
   "cell_type": "markdown",
   "id": "d5aade1e",
   "metadata": {
    "slideshow": {
     "slide_type": "slide"
    }
   },
   "source": [
    "## Dictionary 연산자\n",
    "\n",
    "- in, not in 연산자\n",
    "    - 값 in dictionary\n",
    "        - dictionary의 **Key**로 값이 **있으면** True, 없으면 False 반환\n",
    "    - 값 not in dictionary\n",
    "        - dictionary의 **Key**로 값이 **없으면** True, 있으면 False 반환    \n",
    "- len(dictionary)\n",
    "    - dictionary의 **Item의 개수** 반환        "
   ]
  },
  {
   "cell_type": "code",
   "execution_count": 42,
   "id": "4a7c9061",
   "metadata": {
    "scrolled": true,
    "slideshow": {
     "slide_type": "fragment"
    }
   },
   "outputs": [
    {
     "name": "stdout",
     "output_type": "stream",
     "text": [
      "False\n",
      "True\n"
     ]
    }
   ],
   "source": [
    "print(\"홍길동\" in customer_info)\n",
    "print(\"name\" in customer_info)"
   ]
  },
  {
   "cell_type": "code",
   "execution_count": 44,
   "id": "87dc3d85",
   "metadata": {},
   "outputs": [
    {
     "name": "stdout",
     "output_type": "stream",
     "text": [
      "몸무게 없음\n"
     ]
    }
   ],
   "source": [
    "#심화:key가 있다면 조회한다!\n",
    "\n",
    "if \"weight\" in customer_info:\n",
    "    print(customer_info[\"weigjt\"])\n",
    "else:\n",
    "    print(\"몸무게 없음\")\n",
    "    \n",
    "    \n",
    "#이거는 조건문 할 때 할 거다!!\n"
   ]
  },
  {
   "cell_type": "markdown",
   "id": "9f620ec1",
   "metadata": {
    "slideshow": {
     "slide_type": "slide"
    }
   },
   "source": [
    "## Dictionary 주요 메소드\n",
    "\n",
    "|메소드|설명|\n",
    "|:-|-|\n",
    "|get(key\\[, 기본값\\])|key의 item의 값을 반환한다. 단 key가 없을 경우 None또는 기본값을 반환한다.|\n",
    "|pop(key)|key의 item의 값을 반환하면서 dictionary에서 삭제한다. 없는 key일 경우 KeyError발생|\n",
    "|clear()|dictionary의 모든 item들을 삭제한다.|\n",
    "|del dict\\[key\\]|key의 item을 제거한다.|\n",
    "|items()|item의 key, value를 튜플로 묶어 모아 반환한다.|\n",
    "|keys()|key값들만 모아 반환한다.|\n",
    "|values()|value값들만 모아 반환한다.|"
   ]
  },
  {
   "cell_type": "code",
   "execution_count": 54,
   "id": "350e7ad5",
   "metadata": {
    "slideshow": {
     "slide_type": "fragment"
    }
   },
   "outputs": [
    {
     "name": "stdout",
     "output_type": "stream",
     "text": [
      "None\n",
      "홍길동\n",
      "-1\n",
      "dict_keys(['name', 'age', 'hobby', 'tall'])\n",
      "dict_values(['홍길동', 27, ['게임', '스포츠'], 182.33])\n",
      "dict_items([('name', '홍길동'), ('age', 27), ('hobby', ['게임', '스포츠']), ('tall', 182.33)])\n"
     ]
    }
   ],
   "source": [
    "#get\n",
    "\n",
    "print(customer_info.get(\"weight\"))\n",
    "print(customer_info.get(\"name\"))\n",
    "print(customer_info.get(\"weight\",-1))#-1은 디폴트값으로 설정을 한 것이다.\n",
    "\n",
    "\n",
    "\n",
    "#pop\n",
    "#pop을 한번 했는데 또 하는 우를 범하지 말자.\n",
    "#v=customer_info.pop(\"address\") #pop은 반환하면서 제거하는 것이다.\n",
    "#print(v)\n",
    "#print(customer_info)\n",
    "\n",
    "#del---삭제만\n",
    "\n",
    "#del customer_info['email'] #삭제만\n",
    "\n",
    "#print(customer_info)\n",
    "\n",
    "#keys\n",
    "#key값들만 모아서 반환\n",
    "\n",
    "print(customer_info.keys())\n",
    "\n",
    "#values-value만 모아서 반환\n",
    "print(customer_info.values())\n",
    "\n",
    "#items\n",
    "\n",
    "print(customer_info.items())"
   ]
  },
  {
   "cell_type": "markdown",
   "id": "d97869af",
   "metadata": {
    "slideshow": {
     "slide_type": "slide"
    }
   },
   "source": [
    "# Set \n",
    "\n",
    "- Set은 중복되는 값을 허용하지 않고 순서를 신경 쓰지 않는다.\n",
    "    - 원소를 식별할 수 있는 식별자가 없기 때문에 Set은 indexing과 slicing을 지원하지 않는다\n",
    "\n",
    "## Set 생성\n",
    "- 구문\n",
    "    - {값, 값, 값 }\n",
    "\n",
    "> -빈 Dictionary 만들기\n",
    ">    - info = {}\n",
    ">    - 중괄호만 사용하면 빈 set이 아니라 빈 dictionary를 생성하는 것임.\n"
   ]
  },
  {
   "cell_type": "code",
   "execution_count": 55,
   "id": "5c88480a",
   "metadata": {
    "slideshow": {
     "slide_type": "fragment"
    }
   },
   "outputs": [
    {
     "data": {
      "text/plain": [
       "{1, 2, 3, 4, 5}"
      ]
     },
     "execution_count": 55,
     "metadata": {},
     "output_type": "execute_result"
    }
   ],
   "source": [
    "#set 생성\n",
    "\n",
    "s1={1,2,3,4,5}\n",
    "s1"
   ]
  },
  {
   "cell_type": "code",
   "execution_count": 57,
   "id": "5db8b60d",
   "metadata": {},
   "outputs": [
    {
     "name": "stdout",
     "output_type": "stream",
     "text": [
      "{1, 2, 3, 4, 22}\n"
     ]
    }
   ],
   "source": [
    "s2={1,1,1,1,1,1,1,3,3,3,3,3,3,3,2,2,2,2,22,4,4,4,4,4,4,}\n",
    "print(s2)\n",
    "#위에서도 봐서 알 수 있듯이, 중복을 허용하지 않는다."
   ]
  },
  {
   "cell_type": "markdown",
   "id": "79cf0f20",
   "metadata": {
    "slideshow": {
     "slide_type": "slide"
    }
   },
   "source": [
    "## Set 연산자\n",
    "\n",
    "- in, not in 연산자\n",
    "    - 값 in Set\n",
    "        - Set의 원소로 값이 **있으면** True, 없으면 False 반환\n",
    "    - 값 not in Set\n",
    "        - Set의 원소로 값이 **없으면** True, 있으면 False 반환    \n",
    "- len(Set)\n",
    "    - Set의 **원소의 개수** 반환        "
   ]
  },
  {
   "cell_type": "code",
   "execution_count": 58,
   "id": "80be18ad",
   "metadata": {
    "slideshow": {
     "slide_type": "fragment"
    }
   },
   "outputs": [
    {
     "data": {
      "text/plain": [
       "(False, True)"
      ]
     },
     "execution_count": 58,
     "metadata": {},
     "output_type": "execute_result"
    }
   ],
   "source": [
    "10 in s2, 1 in s2\n"
   ]
  },
  {
   "cell_type": "code",
   "execution_count": 59,
   "id": "72aab8a8",
   "metadata": {},
   "outputs": [
    {
     "data": {
      "text/plain": [
       "(True, False)"
      ]
     },
     "execution_count": 59,
     "metadata": {},
     "output_type": "execute_result"
    }
   ],
   "source": [
    "10 not in s2, 1 not in s2"
   ]
  },
  {
   "cell_type": "markdown",
   "id": "080c2a17",
   "metadata": {
    "slideshow": {
     "slide_type": "slide"
    }
   },
   "source": [
    "## Set의 주요 메소드\n",
    "\n",
    "|메소드|설명|\n",
    "|-|-|\n",
    "|add(값)|집합에 값 추가|\n",
    "|update(자료구조)|자료구조내의 원소들을 모두 집합에 추가|\n",
    "|pop()|원소를 반환하고 Set에서 삭제한다.|\n",
    "|remove(값)|값을 찾아서 Set에서 삭제한다.|"
   ]
  },
  {
   "cell_type": "code",
   "execution_count": 63,
   "id": "b12f08b0",
   "metadata": {
    "slideshow": {
     "slide_type": "fragment"
    }
   },
   "outputs": [
    {
     "name": "stdout",
     "output_type": "stream",
     "text": [
      "{1, 2, 3, 4, 6, 22}\n",
      "{1, 2, 3, 4, 100, 6, 200, 22}\n"
     ]
    }
   ],
   "source": [
    "s2\n",
    "s2.add(6)\n",
    "s2.add(6) #6을 2번 더해봤자이다.\n",
    "print(s2)\n",
    "\n",
    "\n",
    "s2.update([1,2,3,100,200])#원래 있는건 당연히 씹고, 없는거만 반영된다.\n",
    "\n",
    "print(s2)"
   ]
  },
  {
   "cell_type": "code",
   "execution_count": 64,
   "id": "f54e5917",
   "metadata": {},
   "outputs": [
    {
     "name": "stdout",
     "output_type": "stream",
     "text": [
      "\n"
     ]
    },
    {
     "data": {
      "text/plain": [
       "{2, 3, 4, 6, 22, 100, 200}"
      ]
     },
     "execution_count": 64,
     "metadata": {},
     "output_type": "execute_result"
    }
   ],
   "source": [
    "#pop\n",
    "\n",
    "v=s2.pop()\n",
    "print()\n",
    "s2 #1이 삭제가 되었다."
   ]
  },
  {
   "cell_type": "code",
   "execution_count": 67,
   "id": "ab484aa8",
   "metadata": {},
   "outputs": [
    {
     "name": "stdout",
     "output_type": "stream",
     "text": [
      "{2, 3, 4, 6, 22}\n"
     ]
    }
   ],
   "source": [
    "#remove\n",
    "\n",
    "s2.remove(200)\n",
    "\n",
    "print(s2)#200이 삭제가 되었다.\n",
    "\n",
    "#없는 값을 삭제를 한다면 예외가 발생한다."
   ]
  },
  {
   "cell_type": "markdown",
   "id": "33d115cd",
   "metadata": {
    "slideshow": {
     "slide_type": "subslide"
    }
   },
   "source": [
    "## Set의 집합연산 연산자 및 메소드\n",
    "\n",
    "- 합집합\n",
    "    - 집합A | 집합B\n",
    "    - 집합A.union(집합B)\n",
    "- 교집합\n",
    "    - 집합A & 집합B\n",
    "    - 집합A.intersection(집합B)\n",
    "- 차집합\n",
    "    - 집합A - 집합B\n",
    "    - 집합A.difference(집합B)"
   ]
  },
  {
   "cell_type": "code",
   "execution_count": 68,
   "id": "64bf5839",
   "metadata": {
    "slideshow": {
     "slide_type": "fragment"
    }
   },
   "outputs": [],
   "source": [
    "set1={1,2,3,4,5}\n",
    "set2={4,5,6,7,8}\n",
    "\n"
   ]
  },
  {
   "cell_type": "code",
   "execution_count": 71,
   "id": "b6ac2dac",
   "metadata": {},
   "outputs": [
    {
     "name": "stdout",
     "output_type": "stream",
     "text": [
      "{1, 2, 3, 4, 5, 6, 7, 8}\n"
     ]
    }
   ],
   "source": [
    "#합집합(합친다 해도 원래의 것은 바뀌지 않는다.)\n",
    "\n",
    "set3 = set1|set2\n",
    "print(set3)"
   ]
  },
  {
   "cell_type": "code",
   "execution_count": 72,
   "id": "0fd4a010",
   "metadata": {},
   "outputs": [
    {
     "name": "stdout",
     "output_type": "stream",
     "text": [
      "{1, 2, 3, 4, 5, 6, 7, 8}\n"
     ]
    }
   ],
   "source": [
    "#union을 쓸 수 있다.\n",
    "\n",
    "set4 = set1.union(set2)\n",
    "print(set4)"
   ]
  },
  {
   "cell_type": "code",
   "execution_count": 74,
   "id": "8981f7ce",
   "metadata": {},
   "outputs": [
    {
     "name": "stdout",
     "output_type": "stream",
     "text": [
      "{4, 5}\n",
      "{4, 5}\n"
     ]
    }
   ],
   "source": [
    "#교집합\n",
    "\n",
    "set5 = set1 & set2\n",
    "set6 = set1.intersection(set2)\n",
    "print(set5)\n",
    "print(set6)"
   ]
  },
  {
   "cell_type": "code",
   "execution_count": 76,
   "id": "56e2840d",
   "metadata": {},
   "outputs": [
    {
     "name": "stdout",
     "output_type": "stream",
     "text": [
      "{1, 2, 3}\n",
      "{1, 2, 3}\n"
     ]
    }
   ],
   "source": [
    "#차집합\n",
    "\n",
    "set7=set1-set2\n",
    "set8 = set1.difference(set2)\n",
    "\n",
    "\n",
    "print(set7)\n",
    "print(set8)"
   ]
  },
  {
   "cell_type": "markdown",
   "id": "a3778f41",
   "metadata": {
    "slideshow": {
     "slide_type": "slide"
    }
   },
   "source": [
    "# 자료구조 변환 함수\n",
    "\n",
    "- list(자료구조)\n",
    "    - 대상 자료구조/Iterable을 List로 변환한다.\n",
    "- tuple(자료구조)\n",
    "    - 대상 자료구조/Iterable을 Tuple로 변환\n",
    "- set(자료구조)\n",
    "    - 대상 자료구조/Iterable을 Set으로 변환\n",
    "    - 다른 자료구조의 원소 중 중복을 빼고 조회할 때 set()를 이용해 Set으로 변환한다.\n",
    "- Dictionary로 변환하는 함수는 없다.\n",
    "- 변경할 대상이 Dictionary 일 경우에는 key값들만 모아서 변환한다.\n",
    "\n",
    "> - Iterable\n",
    ">    - 반복가능한 객체. \n",
    ">    - 다음 값 달라는 요청받으면 값을 제공한다. 제공할 값을 다 줄 때까지 요청을 받을때 마다 순차적으로 하나씩 제공한다.\n",
    ">         - Iterable이 제공하는 값을 반복문을 이용해 조회할 경우 **for in문**을 사용한다.\n",
    ">    - 대표적으로 자료구조, 문자열 등이 있다."
   ]
  },
  {
   "cell_type": "code",
   "execution_count": 81,
   "id": "07fd6373",
   "metadata": {
    "slideshow": {
     "slide_type": "fragment"
    }
   },
   "outputs": [
    {
     "name": "stdout",
     "output_type": "stream",
     "text": [
      "[1, 2, 3, 4, 5, 100]\n",
      "(1, 2, 3, 4, 5, 100)\n"
     ]
    }
   ],
   "source": [
    "#예시, 고유값들만 알고 싶다!----set으로 바꾼다.\n",
    "\n",
    "v=[1,1,1,1,1,2,2,2,2,2,3,4,3,4,5,6,7,8,6,7,8]\n",
    "set(v)\n",
    "\n",
    "\n",
    "\n",
    "#예시2\n",
    "t=(1,2,3,4,5)\n",
    "#t에 100을 추가하고 싶다.\n",
    "#그럴려면 튜플을 리스트로 바꾸고, 그걸 다시 튜플로 바꾼다.\n",
    "\n",
    "l=list(t)\n",
    "l.append(100)\n",
    "print(l)\n",
    "#다시 튜플로 바꾼다.\n",
    "\n",
    "t=tuple(l)\n",
    "print(t)"
   ]
  },
  {
   "cell_type": "code",
   "execution_count": 82,
   "id": "f0d7e481",
   "metadata": {},
   "outputs": [
    {
     "name": "stdout",
     "output_type": "stream",
     "text": [
      "{'B', 'C', 'A'}\n",
      "('A', 'B', 'C')\n",
      "['A', 'B', 'C']\n"
     ]
    }
   ],
   "source": [
    "d={'A':10,'B':20,'C':30}\n",
    "print(set(d))\n",
    "print(tuple(d))\n",
    "print(list(d))"
   ]
  },
  {
   "cell_type": "code",
   "execution_count": 84,
   "id": "0fc7d185",
   "metadata": {},
   "outputs": [
    {
     "name": "stdout",
     "output_type": "stream",
     "text": [
      "['안', '녕', '하', '세', '요']\n",
      "('안', '녕', '하', '세', '요')\n"
     ]
    }
   ],
   "source": [
    "print(list(\"안녕하세요\")) #문자열:문자를 모아놓은 iterable\n",
    "#문자 하나하나가 원소인 자료 구조라고 생각을 하면 된다.\n",
    "\n",
    "print(tuple(\"안녕하세요\"))"
   ]
  },
  {
   "cell_type": "code",
   "execution_count": 85,
   "id": "1bc05e84",
   "metadata": {},
   "outputs": [
    {
     "data": {
      "text/plain": [
       "'가나다라마'"
      ]
     },
     "execution_count": 85,
     "metadata": {},
     "output_type": "execute_result"
    }
   ],
   "source": [
    "r=[\"가\",\"나\",\"다\",\"라\",\"마\"]\n",
    "\"\".join(r)"
   ]
  },
  {
   "cell_type": "markdown",
   "id": "b4671a5d",
   "metadata": {
    "slideshow": {
     "slide_type": "skip"
    }
   },
   "source": [
    "# TODO"
   ]
  },
  {
   "cell_type": "code",
   "execution_count": 87,
   "id": "57625696",
   "metadata": {
    "slideshow": {
     "slide_type": "skip"
    }
   },
   "outputs": [
    {
     "name": "stdout",
     "output_type": "stream",
     "text": [
      "80\n"
     ]
    }
   ],
   "source": [
    "#문제 1~7\n",
    "jumsu=[100,90,100,80,70,100,80,90,95,85]\n",
    "\n",
    "#(1)7번의 점수를 출력하시오.\n",
    "\n",
    "print(jumsu[6])"
   ]
  },
  {
   "cell_type": "code",
   "execution_count": 89,
   "id": "2621d31a",
   "metadata": {
    "slideshow": {
     "slide_type": "skip"
    }
   },
   "outputs": [
    {
     "name": "stdout",
     "output_type": "stream",
     "text": [
      "[100, 90, 100, 80, 70]\n"
     ]
    }
   ],
   "source": [
    "#(2)  1번부터 5번까지의 점수를 출력하세요.\n",
    "\n",
    "print(jumsu[0:5])"
   ]
  },
  {
   "cell_type": "code",
   "execution_count": 90,
   "id": "8ed12483",
   "metadata": {
    "slideshow": {
     "slide_type": "skip"
    }
   },
   "outputs": [
    {
     "name": "stdout",
     "output_type": "stream",
     "text": [
      "[80, 70, 100, 80]\n"
     ]
    }
   ],
   "source": [
    "#(3)  4, 5, 6, 7번의 점수를 출력하세요.\n",
    "print(jumsu[3:7])"
   ]
  },
  {
   "cell_type": "code",
   "execution_count": 113,
   "id": "542902f2",
   "metadata": {
    "slideshow": {
     "slide_type": "skip"
    }
   },
   "outputs": [
    {
     "name": "stdout",
     "output_type": "stream",
     "text": [
      "[90, 80, 100, 90, 85]\n"
     ]
    }
   ],
   "source": [
    "#(4) 짝수번째 점수를 출력하세요.\n",
    "print(jumsu[1::2])"
   ]
  },
  {
   "cell_type": "code",
   "execution_count": 114,
   "id": "a3ee1971",
   "metadata": {
    "slideshow": {
     "slide_type": "skip"
    }
   },
   "outputs": [
    {
     "name": "stdout",
     "output_type": "stream",
     "text": [
      "[100, 100, 70, 80, 20]\n"
     ]
    }
   ],
   "source": [
    "#(5) 홀수번째 점수를 출력하세요.\n",
    "print(jumsu[0::2])"
   ]
  },
  {
   "cell_type": "code",
   "execution_count": 115,
   "id": "f3f2571e",
   "metadata": {
    "slideshow": {
     "slide_type": "skip"
    }
   },
   "outputs": [
    {
     "name": "stdout",
     "output_type": "stream",
     "text": [
      "[100, 90, 100, 80, 70, 100, 80, 90, 20, 85]\n"
     ]
    }
   ],
   "source": [
    "#(6) 9번의 점수를 20으로 변경하고 전체 출력하세요.\n",
    "jumsu[8]=20\n",
    "print(jumsu)"
   ]
  },
  {
   "cell_type": "code",
   "execution_count": 94,
   "id": "fd88b705",
   "metadata": {
    "scrolled": true,
    "slideshow": {
     "slide_type": "skip"
    }
   },
   "outputs": [
    {
     "name": "stdout",
     "output_type": "stream",
     "text": [
      "{100, 70, 80, 20, 85, 90}\n"
     ]
    }
   ],
   "source": [
    "#(7) 중복된 점수는 제거하고 하나씩만 나오도록 출력하세요.\n",
    "\n",
    "a=set(jumsu)\n",
    "print(a)"
   ]
  },
  {
   "cell_type": "code",
   "execution_count": 99,
   "id": "ea1e9a97",
   "metadata": {
    "scrolled": true,
    "slideshow": {
     "slide_type": "skip"
    }
   },
   "outputs": [
    {
     "name": "stdout",
     "output_type": "stream",
     "text": [
      "['복숭아', '수박', '딸기', '사과', '귤']\n",
      "['수박', '딸기', '사과', '귤']\n"
     ]
    }
   ],
   "source": [
    "# 문제 8 ~ 9\n",
    "fruits = [\"복숭아\", \"수박\", \"딸기\"]\n",
    "\n",
    "#(8) fruits 리스트에 마지막 원소로 \"사과\", \"귤\"을 추가하세요.\n",
    "fruits.extend([\"사과\",\"귤\"])\n",
    "print(fruits)\n",
    "\n",
    "#(9) fruits 리스트에서 \"복숭아\"를 제거하세요.\n",
    "fruits.remove(\"복숭아\")\n",
    "print(fruits)\n"
   ]
  },
  {
   "cell_type": "code",
   "execution_count": 105,
   "id": "c1b565da",
   "metadata": {
    "slideshow": {
     "slide_type": "skip"
    }
   },
   "outputs": [
    {
     "name": "stdout",
     "output_type": "stream",
     "text": [
      "{'name': '이장한', 'age': 25, 'hobby': ['work-out', 'game'], 'marriage': 'no', 'email': 'lee1066515@naver.com'}\n"
     ]
    }
   ],
   "source": [
    "# 문제 10 ~ 15\n",
    "#(10)본인의 이름, 나이, email주소, 취미, 결혼유무를 사전(딕셔너리)으로 생성. \n",
    "# 취미는 2개 이상의 값을 넣는다..\n",
    "\n",
    "lee = {\"name\":\"이장한\",\"age\":25,\"hobby\":[\"work-out\",\"game\"],\"marriage\":\"no\",\"email\":\"lee1066515@naver.com\"\n",
    "}\n",
    "print(lee)"
   ]
  },
  {
   "cell_type": "code",
   "execution_count": 106,
   "id": "f5d34e04",
   "metadata": {
    "slideshow": {
     "slide_type": "skip"
    }
   },
   "outputs": [
    {
     "name": "stdout",
     "output_type": "stream",
     "text": [
      "이장한 lee1066515@naver.com\n"
     ]
    }
   ],
   "source": [
    "#(11) 위 딕셔너리에서 이름과 email주소를 조회해서 출력하세요.\n",
    "print(lee[\"name\"],lee[\"email\"])"
   ]
  },
  {
   "cell_type": "code",
   "execution_count": 116,
   "id": "cf3ff1cb",
   "metadata": {
    "slideshow": {
     "slide_type": "skip"
    }
   },
   "outputs": [
    {
     "name": "stdout",
     "output_type": "stream",
     "text": [
      "game\n"
     ]
    }
   ],
   "source": [
    "#(12) 위 딕셔너리에서 취미중 두번째 취미를 조회해서 출력하세요.\n",
    "print(lee[\"hobby\"][1])"
   ]
  },
  {
   "cell_type": "code",
   "execution_count": 109,
   "id": "24f1b68e",
   "metadata": {
    "slideshow": {
     "slide_type": "skip"
    }
   },
   "outputs": [
    {
     "name": "stdout",
     "output_type": "stream",
     "text": [
      "{'name': '이장한', 'age': 25, 'hobby': ['work-out', 'game'], 'marriage': 'no', 'email': 'lee1066515@naver.com', 'weight': '70kg', 'height': 178}\n"
     ]
    }
   ],
   "source": [
    "#(13) 위 딕셔너리에 몸무게와 키 항목을 추가하세요.\n",
    "lee[\"weight\"]=\"70kg\"\n",
    "lee[\"height\"]=178\n",
    "print(lee)"
   ]
  },
  {
   "cell_type": "code",
   "execution_count": 111,
   "id": "12398809",
   "metadata": {
    "slideshow": {
     "slide_type": "skip"
    }
   },
   "outputs": [
    {
     "name": "stdout",
     "output_type": "stream",
     "text": [
      "{'name': '이장한', 'hobby': ['work-out', 'game'], 'marriage': 'no', 'email': 'lee1066515@naver.com', 'weight': '70kg', 'height': 178}\n"
     ]
    }
   ],
   "source": [
    "#(14) 위 딕셔너리에서 나이를 제거하세요.\n",
    "del lee[\"age\"]\n",
    "print(lee)\n",
    "\n"
   ]
  },
  {
   "cell_type": "code",
   "execution_count": 112,
   "id": "bffacc3f",
   "metadata": {},
   "outputs": [
    {
     "name": "stdout",
     "output_type": "stream",
     "text": [
      "{'name': '이장한', 'hobby': ['work-out', 'game'], 'marriage': 'no', 'email': 'qnwkdlwkdgks@naver.com', 'weight': '70kg', 'height': 178}\n"
     ]
    }
   ],
   "source": [
    "#(15) 위 딕셔너리에서 email 주소를 다른 값으로 변경하세요.:\n",
    "\n",
    "lee[\"email\"]=\"qnwkdlwkdgks@naver.com\"\n",
    "print(lee)"
   ]
  },
  {
   "cell_type": "code",
   "execution_count": null,
   "id": "325accb6",
   "metadata": {},
   "outputs": [],
   "source": []
  }
 ],
 "metadata": {
  "kernelspec": {
   "display_name": "Python 3",
   "language": "python",
   "name": "python3"
  },
  "language_info": {
   "codemirror_mode": {
    "name": "ipython",
    "version": 3
   },
   "file_extension": ".py",
   "mimetype": "text/x-python",
   "name": "python",
   "nbconvert_exporter": "python",
   "pygments_lexer": "ipython3",
   "version": "3.8.8"
  },
  "toc": {
   "base_numbering": 1,
   "nav_menu": {},
   "number_sections": true,
   "sideBar": true,
   "skip_h1_title": false,
   "title_cell": "Table of Contents",
   "title_sidebar": "Contents",
   "toc_cell": false,
   "toc_position": {
    "height": "calc(100% - 180px)",
    "left": "10px",
    "top": "150px",
    "width": "512px"
   },
   "toc_section_display": true,
   "toc_window_display": false
  },
  "varInspector": {
   "cols": {
    "lenName": 16,
    "lenType": 16,
    "lenVar": 40
   },
   "kernels_config": {
    "python": {
     "delete_cmd_postfix": "",
     "delete_cmd_prefix": "del ",
     "library": "var_list.py",
     "varRefreshCmd": "print(var_dic_list())"
    },
    "r": {
     "delete_cmd_postfix": ") ",
     "delete_cmd_prefix": "rm(",
     "library": "var_list.r",
     "varRefreshCmd": "cat(var_dic_list()) "
    }
   },
   "types_to_exclude": [
    "module",
    "function",
    "builtin_function_or_method",
    "instance",
    "_Feature"
   ],
   "window_display": false
  }
 },
 "nbformat": 4,
 "nbformat_minor": 5
}
