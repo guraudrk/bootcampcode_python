{
 "cells": [
  {
   "cell_type": "markdown",
   "metadata": {
    "slideshow": {
     "slide_type": "slide"
    }
   },
   "source": [
    "# 객체지향 프로그래밍 (Object Oriented Programming)\n",
    "\n",
    "프로그램을 구성하는 변수와 함수들에서 서로 연관성있는 것 끼리 묶어서 모듈화하는 개발하는 언어들을 객체지향프로그래밍 언어라고 한다."
   ]
  },
  {
   "cell_type": "code",
   "execution_count": 1,
   "metadata": {},
   "outputs": [],
   "source": [
    "#구구단을 찍는다고 하자.\n",
    "\n",
    "#그러면 1단 2단 3단 4단..... 뭐 이런 식으로 찍는 것이다.\n",
    "#그게 바로 순서라는 것인데, 그게 바로 프로그래밍이다.\n",
    "#프로그래밍을 할 때, 순서가 반복된다면 그런 것들을 묶어서 모듈화할 필요가 있다.\n",
    "\n",
    "#그것과 관련된 것이 바로 객체지향프로그래밍이다.\n",
    "\n"
   ]
  },
  {
   "cell_type": "markdown",
   "metadata": {
    "slideshow": {
     "slide_type": "fragment"
    }
   },
   "source": [
    "# Instance(객체)\n",
    "- 연관성 있는 값들과 그 값들을 처리하는 함수(메소드)들을 묶어서 가지고 있는 것(값).\n",
    "- 객체의 구성요소\n",
    "    - 속성(Attribute)\n",
    "        - 객체의 데이터/상태로 객체를 구성하는 값들.\n",
    "    - 메소드(method)\n",
    "        - 객체가 제공하는 기능으로 주로 Attribute들을 처리한다.\n",
    "        "
   ]
  },
  {
   "cell_type": "markdown",
   "metadata": {
    "slideshow": {
     "slide_type": "subslide"
    }
   },
   "source": [
    "## Class(클래스) 정의\n",
    "\n",
    "- class란: 객체의 설계도\n",
    "    - 동일한 형태의 객체들이 가져야 하는 Attribute와 Method들을 정의 한 것\n",
    "        - 클래스를 정의할 때 어떤 속성과 메소드를 가지는지 먼저 설계해야 한다.\n",
    "    - 클래스로 부터 객체(instance)를 생성한 뒤 사용한다.\n",
    "```python\n",
    "class 클래스이름:  #선언부\n",
    "    #클래스 구현\n",
    "    #메소드들을 정의\n",
    "```\n",
    "- 클래스 이름의 관례: 파스칼 표기법-각 단어의 첫글자는 대문자 나머진 소문자로 정의한다.\n",
    "    - ex) Person, Student, HighSchoolStudent\n",
    "    "
   ]
  },
  {
   "cell_type": "code",
   "execution_count": null,
   "metadata": {},
   "outputs": [],
   "source": []
  },
  {
   "cell_type": "markdown",
   "metadata": {
    "slideshow": {
     "slide_type": "fragment"
    }
   },
   "source": [
    "## 클래스로부터 객체(Instance) 생성\n",
    "- 클래스는 데이터 타입 instance는 값이다.\n",
    "\n",
    "```python\n",
    "변수 = 클래스이름()\n",
    "```"
   ]
  },
  {
   "cell_type": "code",
   "execution_count": 2,
   "metadata": {
    "slideshow": {
     "slide_type": "fragment"
    }
   },
   "outputs": [],
   "source": [
    "#아무것도 없는 빈 클래스를 하나 만들었다.\n",
    "class Person():\n",
    "    pass"
   ]
  },
  {
   "cell_type": "code",
   "execution_count": 3,
   "metadata": {},
   "outputs": [],
   "source": [
    "#클래스로부터 객체(instance) 생성\n",
    "#instance:값, class:Data type 이라고 생각을 하면 된다.\n",
    "p = Person() #이런 식으로 객체를 생성하고 변수에 대입한다.\n"
   ]
  },
  {
   "cell_type": "code",
   "execution_count": 4,
   "metadata": {
    "scrolled": true
   },
   "outputs": [
    {
     "name": "stdout",
     "output_type": "stream",
     "text": [
      "<class '__main__.Person'>\n"
     ]
    },
    {
     "data": {
      "text/plain": [
       "__main__.Person"
      ]
     },
     "execution_count": 4,
     "metadata": {},
     "output_type": "execute_result"
    }
   ],
   "source": [
    "#타입을 출력.\n",
    "print(type(p))\n",
    "type(p)"
   ]
  },
  {
   "cell_type": "code",
   "execution_count": 5,
   "metadata": {
    "scrolled": true
   },
   "outputs": [
    {
     "name": "stdout",
     "output_type": "stream",
     "text": [
      "<class 'int'>\n"
     ]
    }
   ],
   "source": [
    "print(type(30))\n",
    "#int는 클래스, 30은 instance이다.\n"
   ]
  },
  {
   "cell_type": "markdown",
   "metadata": {
    "slideshow": {
     "slide_type": "subslide"
    }
   },
   "source": [
    "## Attribute(속성) \n",
    "- attribute는 객체의 데이터, 객체가 가지는 값, 객체의 상태\n",
    "\n",
    "### 객체에 속성을 추가, 조회\n",
    "- 객체의 속성 추가(값 변경)\n",
    "    1. Initializer(생성자)를 통한 추가\n",
    "    2. 객체.속성명 = 값 (추가/변경)\n",
    "    3. 메소드를 통한 추가/변경\n",
    "    - 1(Initializer)은 초기화할 때. 2, 3은 속성값을 변경할 때 적용.\n",
    "- 속성 값 조회\n",
    "    - 객체.속성명\n",
    "- **객체.\\_\\_dict\\_\\_**\n",
    "    - 객체가 가지고 있는 Attribute들을 dictionary로 반환한다."
   ]
  },
  {
   "cell_type": "code",
   "execution_count": 286,
   "metadata": {
    "slideshow": {
     "slide_type": "fragment"
    }
   },
   "outputs": [
    {
     "name": "stdout",
     "output_type": "stream",
     "text": [
      "{}\n",
      "{'name': '홍길동', 'age': 30, 'address': '서울', 'tall': 182.3}\n"
     ]
    }
   ],
   "source": [
    "p =Person() #객체 생성 및 변수에 할당.\n",
    "print(p.__dict__) #객체가 가지는 속성들을 조회.\n",
    "\n",
    "p.name=\"홍길동\" #atrribute들을 생성한다.\n",
    "p.age = 30\n",
    "p.address = \"서울\"\n",
    "p.tall = 182.3\n",
    "\n",
    "print(p.__dict__) #다시 한번 조회!"
   ]
  },
  {
   "cell_type": "code",
   "execution_count": 287,
   "metadata": {},
   "outputs": [
    {
     "name": "stdout",
     "output_type": "stream",
     "text": [
      "홍길동\n",
      "30\n",
      "서울\n",
      "182.3\n",
      "홍길동은 30세이고 서울에 살고 있습니다.\n"
     ]
    }
   ],
   "source": [
    "#속성값들을 조회\n",
    "\n",
    "print(p.name)\n",
    "print(p.age)\n",
    "print(p.address)\n",
    "print(p.tall)\n",
    "print(f\"{p.name}은 {p.age}세이고 {p.address}에 살고 있습니다.\") #format형은 정말 많이 나오므로 잘 숙지하도록 하자."
   ]
  },
  {
   "cell_type": "code",
   "execution_count": 11,
   "metadata": {},
   "outputs": [
    {
     "name": "stdout",
     "output_type": "stream",
     "text": [
      "{}\n",
      "{'name': '유재석', 'age': 40, 'address': '인천'}\n"
     ]
    }
   ],
   "source": [
    "p2=Person() #person instance(객체)를 생성해서 p2에 대입\n",
    "\n",
    "print(p2.__dict__)\n",
    "#p2가 새로 생성된 놈이기 때문에 출력된 속성이 없다.\n",
    "\n",
    "p2.name=\"유재석\"\n",
    "p2.age = 40\n",
    "p2.address=\"인천\"\n",
    "print(p2.__dict__)"
   ]
  },
  {
   "cell_type": "code",
   "execution_count": 12,
   "metadata": {},
   "outputs": [
    {
     "name": "stdout",
     "output_type": "stream",
     "text": [
      "인천\n"
     ]
    }
   ],
   "source": [
    "print(p2.address)"
   ]
  },
  {
   "cell_type": "code",
   "execution_count": 13,
   "metadata": {},
   "outputs": [
    {
     "ename": "AttributeError",
     "evalue": "'Person' object has no attribute 'tall'",
     "output_type": "error",
     "traceback": [
      "\u001b[1;31m---------------------------------------------------------------------------\u001b[0m",
      "\u001b[1;31mAttributeError\u001b[0m                            Traceback (most recent call last)",
      "\u001b[1;32m<ipython-input-13-1572b0311928>\u001b[0m in \u001b[0;36m<module>\u001b[1;34m\u001b[0m\n\u001b[1;32m----> 1\u001b[1;33m \u001b[0mprint\u001b[0m\u001b[1;33m(\u001b[0m\u001b[0mp2\u001b[0m\u001b[1;33m.\u001b[0m\u001b[0mtall\u001b[0m\u001b[1;33m)\u001b[0m\u001b[1;33m\u001b[0m\u001b[1;33m\u001b[0m\u001b[0m\n\u001b[0m\u001b[0;32m      2\u001b[0m \u001b[1;31m#tall이라는 attribute를 정의하지 않았기 때문에 에러가 난다.\u001b[0m\u001b[1;33m\u001b[0m\u001b[1;33m\u001b[0m\u001b[1;33m\u001b[0m\u001b[0m\n",
      "\u001b[1;31mAttributeError\u001b[0m: 'Person' object has no attribute 'tall'"
     ]
    }
   ],
   "source": [
    "print(p2.tall)\n",
    "#tall이라는 attribute를 정의하지 않았기 때문에 에러가 난다."
   ]
  },
  {
   "cell_type": "code",
   "execution_count": 14,
   "metadata": {},
   "outputs": [],
   "source": [
    "#근데 위와 같은 예시는 클래스 정의를 할 때 아무것도 적지 않았기 때문에\n",
    "#객체를 만들 때 마다 노가다를 해서 속성을 정의를 해야 한다. 불편하다.\n",
    "#그래서 attribute에 대한 정의를 class를 정의를 할 때 같이 해야 한다."
   ]
  },
  {
   "cell_type": "code",
   "execution_count": null,
   "metadata": {},
   "outputs": [],
   "source": []
  },
  {
   "cell_type": "markdown",
   "metadata": {
    "slideshow": {
     "slide_type": "subslide"
    }
   },
   "source": [
    "### 생성자(Initializer)\n",
    "- 객체를 생성할 때 호출되는 특수메소드로 attribute들 초기화에 하는 코드를 구현한다.\n",
    "    - Inializer를 이용해 초기화하는 Attribute들이 그 클래스의 객체들이 가져야 하는 공통 Attribute가 된다.\n",
    "- 구문\n",
    "```python\n",
    "def __init__(self [,매개변수들 선언]):  #[ ] 옵션.\n",
    "    # 구현 -> attribute(instance변수) 초기화\n",
    "    self.속성명 = 값\n",
    "```\n",
    "> 변수 초기화: 처음 변수 만들어서 처음 값 대입.    "
   ]
  },
  {
   "cell_type": "code",
   "execution_count": 21,
   "metadata": {},
   "outputs": [],
   "source": [
    "#initializer를 이용해서 attribute(객체 변수)를 초기화\n",
    "#이 구문은 정말 잘 보도록 하자.\n",
    "\n",
    "class Person:\n",
    "    \n",
    "    #initializer(객체를 생성할 때 생성한다.)\n",
    "    def __init__(self,name,age,address=None): #이 self는 관례적으로 넣어야 한다. self가 객체 그 자체를 가리키는 것이기 때문이다.\n",
    "        #만약 객체의 이름이 p2라면 self=p2이다.\n",
    "        #객체의 이름이 그때그때 다른데, '자기 자신' 을 지칭하는 변수가 필요하다 보니 이름이 self인 것이다.\n",
    "        \"\"\"\n",
    "        파라미터로 name,age,address를 받아서(객체가 생성되는 시점에 받음)\n",
    "        그 값들을 atrribute로 저장.\n",
    "        \"\"\"\n",
    "        #메소드에서 attribute 조회. self.변수명 = 값(대입),self.변수명(조회)\n",
    "        self.name = name\n",
    "        self.age = age\n",
    "        self.address = address #self.age->age의 속성을 가리킴.\n",
    "        self.email = None #여기 안에서 직접적으로 선언을 하는 경우도 있다.\n",
    "        #self.age와 age는 다르다.\n",
    "        \n",
    "    #메소드\n",
    "    def print_info(self): #argument를 받지 않는 메소드\n",
    "        #person의 atrribute 값들을 출력\n",
    "        print(f\"이름: {self.name},나이:{self.age}, 주소: {self.address},email: {self.email}\")\n",
    "    def add_age(self,age):\n",
    "        #나이를 받아서 attribute age에 더한다.\n",
    "        self.age+=age\n",
    "        \n",
    "        \n",
    "        "
   ]
  },
  {
   "cell_type": "code",
   "execution_count": 17,
   "metadata": {
    "scrolled": true
   },
   "outputs": [],
   "source": [
    "#객체 생성: class 이름(변수1 대입할 값,변수2 대입할 값) \n",
    "#이렇게 객체를 생성을 했다면 __init__(self,변수1,변수2)를 호출을 하게 된 것이다.\n",
    "\n",
    "p = Person(\"박명수\",33) #\"박명수\" -> name,33 ->age"
   ]
  },
  {
   "cell_type": "code",
   "execution_count": 18,
   "metadata": {},
   "outputs": [
    {
     "name": "stdout",
     "output_type": "stream",
     "text": [
      "{'name': '박명수', 'age': 33, 'address': None, 'email': None}\n"
     ]
    }
   ],
   "source": [
    "print(p.__dict__)\n",
    "\n",
    "#위의 셀에서 박명수에 대한 정보를 정의를 했다면,\n",
    "#아래와 같이 결과가 나온다."
   ]
  },
  {
   "cell_type": "code",
   "execution_count": 39,
   "metadata": {},
   "outputs": [
    {
     "name": "stdout",
     "output_type": "stream",
     "text": [
      "{'name': '박명수', 'age': 33, 'address': None, 'email': None}\n",
      "{'name': '박명수', 'age': 33, 'address': None, 'email': None, 'tall': 190}\n"
     ]
    }
   ],
   "source": [
    "print(p.__dict__)\n",
    "p.tall = 190 #가능하긴 한데 좋은 방식은 아니다. attribute 초기화는 init을 이용해서 한다.\n",
    "print(p.__dict__)"
   ]
  },
  {
   "cell_type": "code",
   "execution_count": 42,
   "metadata": {},
   "outputs": [
    {
     "name": "stdout",
     "output_type": "stream",
     "text": [
      "<__main__.Person object at 0x00000294A4CFF850>\n"
     ]
    }
   ],
   "source": [
    "p2 = Person(\"유재석\",22,\"서울\")\n",
    "print(p2)"
   ]
  },
  {
   "cell_type": "markdown",
   "metadata": {
    "slideshow": {
     "slide_type": "fragment"
    }
   },
   "source": [
    "### self  parameter\n",
    "- 메소드는 반드시 한개 이상의 parameter를 선언해야 하고 그 첫번째 parameter를 말한다.\n",
    "- 메소드 호출시 그 메소드를 소유한 instance가 self parameter에 할당된다.\n",
    "- Initializer의 self\n",
    "    - 현재 만들어 지고 있는 객체를 받는다.\n",
    "- 메소드의 self\n",
    "    - 메소드를 소유한 객체를 받는다.\n",
    "- Caller에서 생성자/메소드에 전달된 argument들을 받을 parameter는 두번째 변수부터 선언한다.    "
   ]
  },
  {
   "cell_type": "code",
   "execution_count": null,
   "metadata": {
    "slideshow": {
     "slide_type": "fragment"
    }
   },
   "outputs": [],
   "source": []
  },
  {
   "cell_type": "markdown",
   "metadata": {
    "slideshow": {
     "slide_type": "subslide"
    }
   },
   "source": [
    "### Instance 메소드(method)\n",
    "- 객체가 제공하는 기능(class 안의 함수라고 봐도 무방.)\n",
    "- 객체의 attribute 값을 처리하는 기능을 구현한다.\n",
    "- 구문\n",
    "```python\n",
    "def 이름(self [, 매개변수들 선언]):\n",
    "    # 구현\n",
    "    # attribute 사용(조회/대입)\n",
    "    self.attribute \n",
    "```\n",
    "- self (첫번째 매개변수)\n",
    "    - 메소드를 소유한 객체를 받는 변수\n",
    "    - 호출할 때 전달하는 argument를 받는 매개변수는 두번째 부터 선언한다.\n",
    "![self](images/ch06_01.png)\n",
    "    \n",
    "- **메소드 호출**\n",
    "    - `객체.메소드이름([argument, ...])`"
   ]
  },
  {
   "cell_type": "code",
   "execution_count": 48,
   "metadata": {
    "slideshow": {
     "slide_type": "fragment"
    }
   },
   "outputs": [],
   "source": [
    "#예시\n",
    "\n",
    "class Person:\n",
    "    \n",
    "    def __init__(self,name,age,address=None):\n",
    "        self.name = name\n",
    "        self.age = age\n",
    "        self.address = address\n",
    "        self.email = None\n",
    "        \n",
    "        \n",
    "    #메소드 추가----메소드는 최소 1개의 parameter를 선언해야 한다.\n",
    "    def print_info(self): #self만 선언하면, argument를 하나도 받지 않는 것이다.\n",
    "        #person의 attribute값들을 출력\n",
    "        #name,age,address를 같이 쓴다고 보면 된다.\n",
    "        print(f\"이름:{self.name}, 나이: {self.age}, 주소:{self.address}, email: {self.email}\")\n",
    "   \n",
    "    #나이를 받아서 attribute age에 더한다.\n",
    "    def add_age(self,age): #무조건! 무조건 self를 먼저 선언해야 한다.\n",
    "        #이렇게 선언을 하면, argument가 한 개인 메소드인 것이다.\n",
    "        self.age+=age #나이를 더하는 것!``\n",
    "        \n",
    "        \n",
    "        \n",
    "\n"
   ]
  },
  {
   "cell_type": "code",
   "execution_count": 49,
   "metadata": {},
   "outputs": [
    {
     "name": "stdout",
     "output_type": "stream",
     "text": [
      "이름:유재석, 나이: 20, 주소:서울, email: None\n",
      "이름:유재석, 나이: 53, 주소:서울, email: None\n",
      "이름:유재석, 나이: 53, 주소:서울, email: richlee@naver.com\n"
     ]
    }
   ],
   "source": [
    "p1 = Person(\"유재석\",20,\"서울\")\n",
    "p1.print_info()\n",
    "p1.add_age(33)\n",
    "p1.print_info()\n",
    "p1.email=\"richlee@naver.com\"\n",
    "p1.print_info()"
   ]
  },
  {
   "cell_type": "code",
   "execution_count": 59,
   "metadata": {},
   "outputs": [],
   "source": [
    "#가벼운 예시\n",
    "\n",
    "class String:\n",
    "    def __init__(self,value):\n",
    "        self.value = value\n",
    "    def split(self):\n",
    "        print(f\"{self.value}를 분리합니다.\")\n",
    "    def upper(self):\n",
    "        print(f\"{self.value}를 대문자로 변경합니다.\")\n",
    "        return self.value.upper() #여기의 upper는 이미 정의가 되어 있는 upper이다.\n",
    "    "
   ]
  },
  {
   "cell_type": "code",
   "execution_count": 60,
   "metadata": {},
   "outputs": [
    {
     "name": "stdout",
     "output_type": "stream",
     "text": [
      "a b c d를 분리합니다.\n"
     ]
    }
   ],
   "source": [
    "s = String(\"a b c d\")\n",
    "s.split()"
   ]
  },
  {
   "cell_type": "code",
   "execution_count": 61,
   "metadata": {},
   "outputs": [
    {
     "name": "stdout",
     "output_type": "stream",
     "text": [
      "a b c d를 대문자로 변경합니다.\n",
      "A B C D\n"
     ]
    }
   ],
   "source": [
    "v= s.upper()\n",
    "print(v)"
   ]
  },
  {
   "cell_type": "markdown",
   "metadata": {
    "slideshow": {
     "slide_type": "slide"
    }
   },
   "source": [
    "## 정보 은닉 (Information Hiding)\n",
    "- Attribute의 값을 caller(객체 외부)가 마음대로 바꾸지 못하게 하기 위해 직접 호출을 막고 setter/getter 메소드를 통해 값을 변경/조회 하도록 한다.\n",
    "    - 데이터 보호가 주목적이다.\n",
    "    - 변경 메소드에 Attribube 변경 조건을 넣어 업무 규칙에 맞는 값들만 변경되도록 처리한다.\n",
    "    - **setter**\n",
    "        - Attribute의 값을 변경하는 메소드. 관례상 set 으로 시작\n",
    "    - **getter**\n",
    "        - Attribute의 값을 조회하는 메소드. 관례상 get 으로 시작\n",
    "- Attribute 직접 호출 막기\n",
    "    - Attribute의 이름을 \\_\\_(double underscore)로 시작한다. (\\_\\_로 끝나면 안된다.)\n",
    "    - 같은 클래스에서는 선언한 이름으로 사용가능하지만 외부에서는 그 이름으로 호출할 수 없게 된다.\n",
    "    "
   ]
  },
  {
   "cell_type": "code",
   "execution_count": null,
   "metadata": {
    "slideshow": {
     "slide_type": "fragment"
    }
   },
   "outputs": [],
   "source": [
    "#정보 은닉은 지금은 별로 중요한 것이 아니다.\n",
    "#근데 파이썬에서 요놈을 그리 많이 신경쓰는건 아니다.\n",
    "\n"
   ]
  },
  {
   "cell_type": "markdown",
   "metadata": {
    "slideshow": {
     "slide_type": "subslide"
    }
   },
   "source": [
    "### property함수를 사용\n",
    "- 은닉된 instance 변수의 값을 사용할 때 getter/setter대신 변수를 사용하는 방식으로 호출할 수 있도록 한다.\n",
    "- 구현\n",
    "    1. getter/setter 메소드를 만든다.\n",
    "    2. 변수 = property(getter, setter) 를 등록한다.\n",
    "    3. 호출\n",
    "        - 값조회: 변수를 사용 => getter가 호출 된다.\n",
    "        - 값변경: 변수 = 변경할 값 => setter가 호출 된다."
   ]
  },
  {
   "cell_type": "code",
   "execution_count": 64,
   "metadata": {
    "slideshow": {
     "slide_type": "fragment"
    }
   },
   "outputs": [
    {
     "name": "stdout",
     "output_type": "stream",
     "text": [
      "이름:유재석, 나이: 20, 주소:서울, email: None\n",
      "이름:유재석, 나이: 스무살, 주소:서울, email: None\n"
     ]
    }
   ],
   "source": [
    "#이러면 앙대여\n",
    "\n",
    "p1 = Person(\"유재석\",20,\"서울\")\n",
    "p1.print_info()\n",
    "\n",
    "\n",
    "p1.age=\"스무살\"\n",
    "p1.print_info()\n",
    "\n",
    "#이렇게 출력을 하면 잘 맞아보인다. 근데...."
   ]
  },
  {
   "cell_type": "code",
   "execution_count": 66,
   "metadata": {},
   "outputs": [
    {
     "ename": "TypeError",
     "evalue": "can only concatenate str (not \"int\") to str",
     "output_type": "error",
     "traceback": [
      "\u001b[1;31m---------------------------------------------------------------------------\u001b[0m",
      "\u001b[1;31mTypeError\u001b[0m                                 Traceback (most recent call last)",
      "\u001b[1;32m<ipython-input-66-bc30a9606891>\u001b[0m in \u001b[0;36m<module>\u001b[1;34m\u001b[0m\n\u001b[1;32m----> 1\u001b[1;33m \u001b[0mp1\u001b[0m\u001b[1;33m.\u001b[0m\u001b[0madd_age\u001b[0m\u001b[1;33m(\u001b[0m\u001b[1;36m2\u001b[0m\u001b[1;33m)\u001b[0m\u001b[1;33m\u001b[0m\u001b[1;33m\u001b[0m\u001b[0m\n\u001b[0m\u001b[0;32m      2\u001b[0m \u001b[1;31m#이러면 오류가 난다. str과 int는 서로 더할 수 없기 때문이다.\u001b[0m\u001b[1;33m\u001b[0m\u001b[1;33m\u001b[0m\u001b[1;33m\u001b[0m\u001b[0m\n\u001b[0;32m      3\u001b[0m \u001b[1;31m#이런 거를 막기 위해 정보 은닉이라는 개념이 생긴 거시다.\u001b[0m\u001b[1;33m\u001b[0m\u001b[1;33m\u001b[0m\u001b[1;33m\u001b[0m\u001b[0m\n",
      "\u001b[1;32m<ipython-input-48-7216ddfc2873>\u001b[0m in \u001b[0;36madd_age\u001b[1;34m(self, age)\u001b[0m\n\u001b[0;32m     19\u001b[0m     \u001b[1;32mdef\u001b[0m \u001b[0madd_age\u001b[0m\u001b[1;33m(\u001b[0m\u001b[0mself\u001b[0m\u001b[1;33m,\u001b[0m\u001b[0mage\u001b[0m\u001b[1;33m)\u001b[0m\u001b[1;33m:\u001b[0m \u001b[1;31m#무조건! 무조건 self를 먼저 선언해야 한다.\u001b[0m\u001b[1;33m\u001b[0m\u001b[1;33m\u001b[0m\u001b[0m\n\u001b[0;32m     20\u001b[0m         \u001b[1;31m#이렇게 선언을 하면, argument가 한 개인 메소드인 것이다.\u001b[0m\u001b[1;33m\u001b[0m\u001b[1;33m\u001b[0m\u001b[1;33m\u001b[0m\u001b[0m\n\u001b[1;32m---> 21\u001b[1;33m         \u001b[0mself\u001b[0m\u001b[1;33m.\u001b[0m\u001b[0mage\u001b[0m\u001b[1;33m+=\u001b[0m\u001b[0mage\u001b[0m \u001b[1;31m#나이를 더하는 것!\u001b[0m\u001b[1;33m\u001b[0m\u001b[1;33m\u001b[0m\u001b[0m\n\u001b[0m\u001b[0;32m     22\u001b[0m \u001b[1;33m\u001b[0m\u001b[0m\n\u001b[0;32m     23\u001b[0m \u001b[1;33m\u001b[0m\u001b[0m\n",
      "\u001b[1;31mTypeError\u001b[0m: can only concatenate str (not \"int\") to str"
     ]
    }
   ],
   "source": [
    "p1.add_age(2)\n",
    "#이러면 오류가 난다. str과 int는 서로 더할 수 없기 때문이다.\n",
    "#이런 거를 막기 위해 정보 은닉이라는 개념이 생긴 거시다."
   ]
  },
  {
   "cell_type": "code",
   "execution_count": null,
   "metadata": {},
   "outputs": [],
   "source": [
    "#getter와 setter\n",
    "#관례상 각자 get,set이라고 부른다.\n",
    "\n"
   ]
  },
  {
   "cell_type": "code",
   "execution_count": null,
   "metadata": {},
   "outputs": [],
   "source": [
    "#person class에 정보 은닉 적용\n",
    "###1.attribute 변수들을 외부에서 호출할 수 없도록 만들어준다.\n",
    "####       -\"self.__변수명 =초기값\"의 형식이다.\n",
    "###2.attribute 변수들을 조회(getter),변경(setter)하는 메소드를 정의한다.\n",
    "\n"
   ]
  },
  {
   "cell_type": "code",
   "execution_count": 288,
   "metadata": {},
   "outputs": [],
   "source": [
    "#1번의 예시\n",
    "\n",
    "class Person:\n",
    "    \n",
    "    def __init__(self,name,age,address):\n",
    "        self.name = name\n",
    "        self.__age = age #underscore를 넣는다면 자연스럽게 정보 은닉이 된다!!\n",
    "        self.address = address\n",
    "        self.email = None\n",
    "        "
   ]
  },
  {
   "cell_type": "code",
   "execution_count": 70,
   "metadata": {},
   "outputs": [
    {
     "name": "stdout",
     "output_type": "stream",
     "text": [
      "홍길동\n",
      "서울 None\n"
     ]
    }
   ],
   "source": [
    "p = Person(\"홍길동\",20,\"서울\")\n",
    "print(p.name)\n",
    "print(p.address,p.email)"
   ]
  },
  {
   "cell_type": "code",
   "execution_count": 75,
   "metadata": {},
   "outputs": [
    {
     "ename": "AttributeError",
     "evalue": "'Person' object has no attribute '__age'",
     "output_type": "error",
     "traceback": [
      "\u001b[1;31m---------------------------------------------------------------------------\u001b[0m",
      "\u001b[1;31mAttributeError\u001b[0m                            Traceback (most recent call last)",
      "\u001b[1;32m<ipython-input-75-64ef9a1edba5>\u001b[0m in \u001b[0;36m<module>\u001b[1;34m\u001b[0m\n\u001b[0;32m      1\u001b[0m \u001b[1;31m#위의 것은 잘 출력이 되는데.....\u001b[0m\u001b[1;33m\u001b[0m\u001b[1;33m\u001b[0m\u001b[1;33m\u001b[0m\u001b[0m\n\u001b[0;32m      2\u001b[0m \u001b[1;33m\u001b[0m\u001b[0m\n\u001b[1;32m----> 3\u001b[1;33m \u001b[0mprint\u001b[0m\u001b[1;33m(\u001b[0m\u001b[0mp\u001b[0m\u001b[1;33m.\u001b[0m\u001b[0m__age\u001b[0m\u001b[1;33m,\u001b[0m\u001b[0mp\u001b[0m\u001b[1;33m.\u001b[0m\u001b[0mage\u001b[0m\u001b[1;33m)\u001b[0m\u001b[1;33m\u001b[0m\u001b[1;33m\u001b[0m\u001b[0m\n\u001b[0m\u001b[0;32m      4\u001b[0m \u001b[1;31m#이거는 출력이 안된다.\u001b[0m\u001b[1;33m\u001b[0m\u001b[1;33m\u001b[0m\u001b[1;33m\u001b[0m\u001b[0m\n\u001b[0;32m      5\u001b[0m \u001b[1;31m#이를 통해 앞에서 underscore 2개를 집어 넣으면 함부로 접근 할 수 없다는 것을 알 수 있다.\u001b[0m\u001b[1;33m\u001b[0m\u001b[1;33m\u001b[0m\u001b[1;33m\u001b[0m\u001b[0m\n",
      "\u001b[1;31mAttributeError\u001b[0m: 'Person' object has no attribute '__age'"
     ]
    }
   ],
   "source": [
    "#위의 것은 잘 출력이 되는데.....\n",
    "\n",
    "print(p.__age,p.age)\n",
    "#이거는 출력이 안된다.\n",
    "#이를 통해 앞에서 underscore 2개를 집어 넣으면 함부로 접근 할 수 없다는 것을 알 수 있다.\n",
    "\n",
    "\n"
   ]
  },
  {
   "cell_type": "code",
   "execution_count": 79,
   "metadata": {},
   "outputs": [
    {
     "name": "stdout",
     "output_type": "stream",
     "text": [
      "{'name': '홍길동', '_Person__age': 20, 'address': '서울', 'email': None}\n",
      "20\n"
     ]
    }
   ],
   "source": [
    "#__dict__을 통해 속성을 파악해 보면, 파이썬이 변수 주변에 __을 추가한 것을 알 수 있다.\n",
    "print(p.__dict__)\n",
    "#그러면 이름을 정확히 설정을 하면 값을 조회할 수 있다는 것을 알 수 있다.\n",
    "print(p._Person__age)\n",
    "\n",
    "\n",
    "#이를 통해 파이썬은 정보 은닉을 완벽히는 못하는 것을 알 수 있다.\n"
   ]
  },
  {
   "cell_type": "code",
   "execution_count": null,
   "metadata": {},
   "outputs": [],
   "source": [
    "#setter,getter는 별거 없다. 예시를 잘 보도록 하자.\n",
    "\n"
   ]
  },
  {
   "cell_type": "markdown",
   "metadata": {
    "slideshow": {
     "slide_type": "subslide"
    },
    "tags": []
   },
   "source": [
    "\n",
    "### 데코레이터(decorator)를 이용해 property 지정.\n",
    "- setter/getter 구현 + property()를 이용해 변수 등록 하는 것을 더 간단하게 구현하는 방식\n",
    "- setter/getter 메소드이름을 변수처럼 지정. (보통은 같은 이름으로 지정)\n",
    "- getter메소드: @property 데코레이터를 선언  \n",
    "- setter메소드: @getter메소드이름.setter  데코레이터를 선언.\n",
    "    - 반드시 getter 메소드를 먼저 정의한다.\n",
    "    - setter메소드 이름은 getter와 동일해야 한다.\n",
    "- getter/setter의 이름을 Attribute 변수처럼 사용한다.\n",
    "- 주의: getter/setter 메소드를 직접 호출 할 수 없다. 변수형식으로만 호출가능하다."
   ]
  },
  {
   "cell_type": "code",
   "execution_count": null,
   "metadata": {
    "slideshow": {
     "slide_type": "fragment"
    }
   },
   "outputs": [],
   "source": []
  },
  {
   "cell_type": "markdown",
   "metadata": {
    "slideshow": {
     "slide_type": "subslide"
    }
   },
   "source": [
    "## TODO\n",
    "- 제품 클래스 구현\n",
    "- 속성 : 제품ID:str 제품이름: str, 제품가격:int, 제조사이름:str\n",
    "-       정보은닉에 맞춰서 작성. 값을 대입/조회 하는 것은 변수처리 방식을 할 수 있도록 구현.\n",
    "- 메소드: 전체 정보를 출력하는 메소드\n",
    "\n",
    "메소드 : setter-4개, getter-4개. 전체정보 출력하는 메소드-1개"
   ]
  },
  {
   "cell_type": "code",
   "execution_count": 66,
   "metadata": {
    "slideshow": {
     "slide_type": "fragment"
    }
   },
   "outputs": [],
   "source": [
    "class Item:\n",
    "    \n",
    "    \n",
    "    #attribute 초기화는 initializer에서 한다.\n",
    "    \n",
    "    def __init__(self,item_id, item_name,price,maker):\n",
    "        #attribute를 외부에서 바꾸지 못하게 하자!!------그러면 변수 앞에다가 __을 붙이면 된다.\n",
    "        #self.__변수명\n",
    "        self.__item_id = item_id\n",
    "        self.__item_name = item_name\n",
    "        self.__price = price\n",
    "        self.__maker = maker\n",
    "    \n",
    "    #item_id의 getter,setter\n",
    "    #메소드의 이름을 호출 할 때 사용할 변수형태로 지정.\n",
    "    #반드시 getter를 먼저 정의하고 그 다음에 setter를 정의한다.\n",
    "    ##getter: @property 데코레이터를 선언.\n",
    "    ##setter: @getter메소드이름.setter\n",
    "    @property\n",
    "    def item_id(self):\n",
    "        return self.__item_id\n",
    "\n",
    "    @item_id.setter\n",
    "    def item_id(self,new_item_id):\n",
    "        if new_item_id: #'new_item_id가 none이 아니라면' 이라는 의미이다.\n",
    "            self.__item_id = new_item_id\n",
    "    \n",
    "    #item_name의 getter,setter\n",
    "    \n",
    "    @property\n",
    "    def item_name(self):\n",
    "        return self.__item_name\n",
    "    @item_name.setter\n",
    "    def item_name(self,new_item_name):\n",
    "        if new_item_name:\n",
    "            self.__item_name = new_item_name\n",
    "            \n",
    "            \n",
    "    #price의 getter/setter\n",
    "    @property\n",
    "    def price(self):\n",
    "        return self.__price\n",
    "    @price.setter\n",
    "    def price(self,new_price):\n",
    "        if new_price >0: #가격이 음수이면 뎃츠 노노.\n",
    "            self.__price = new_price\n",
    "    \n",
    "    \n",
    "    #maker의 getter/setter\n",
    "    @property\n",
    "    def maker(self):\n",
    "        return self.__maker\n",
    "    @maker.setter\n",
    "    def maker(self,new_maker):\n",
    "        if new_maker and len(new_maker) >2: #이 조건은 업무적 조건이다.\n",
    "            #파이썬은 and를 자유롭게 넣을 수 있다는 점을 기억하자.\n",
    "            self.__maker = new_maker\n",
    "    \n",
    "\n",
    "    \n",
    "    #4개 attribute 값을 출력하는 메소드\n",
    "    \n",
    "    def print_item_info(self):\n",
    "        value = f\"제품ID: {self.__item_id}, 제품명:{self.__item_name}, 가격:{self.__price},제조사:{self.__maker}\"\n",
    "        print(value)\n",
    "        \n",
    "        \n",
    "        \n",
    "    #자, property 함수를 이용해서 getter/setter들을 변수처럼 호출 할 수 있도록 하자.\n",
    "    ##### 호출할 때 사용할 변수명 = property(getter명,setter명)\n",
    "    #item_id = property(get_item_id,set_item_id)\n",
    "    #item_name = property(get_item_name,set_item_name)\n",
    "    #price = property(get_price,set_price)\n",
    "    #maker = property(get_maker,set_maker)"
   ]
  },
  {
   "cell_type": "code",
   "execution_count": 67,
   "metadata": {
    "scrolled": true
   },
   "outputs": [
    {
     "ename": "AttributeError",
     "evalue": "'Item' object has no attribute '__item_id'",
     "output_type": "error",
     "traceback": [
      "\u001b[1;31m---------------------------------------------------------------------------\u001b[0m",
      "\u001b[1;31mAttributeError\u001b[0m                            Traceback (most recent call last)",
      "\u001b[1;32m<ipython-input-67-ccb072494279>\u001b[0m in \u001b[0;36m<module>\u001b[1;34m\u001b[0m\n\u001b[0;32m      1\u001b[0m \u001b[0mi\u001b[0m \u001b[1;33m=\u001b[0m \u001b[0mItem\u001b[0m\u001b[1;33m(\u001b[0m\u001b[1;34m\"a100000\"\u001b[0m\u001b[1;33m,\u001b[0m\u001b[1;34m\"LG 모니터\"\u001b[0m\u001b[1;33m,\u001b[0m\u001b[1;36m200_000\u001b[0m\u001b[1;33m,\u001b[0m\u001b[1;34m\"LG\"\u001b[0m\u001b[1;33m)\u001b[0m\u001b[1;33m\u001b[0m\u001b[1;33m\u001b[0m\u001b[0m\n\u001b[0;32m      2\u001b[0m \u001b[0mi\u001b[0m\u001b[1;33m.\u001b[0m\u001b[0m__dict__\u001b[0m\u001b[1;33m\u001b[0m\u001b[1;33m\u001b[0m\u001b[0m\n\u001b[1;32m----> 3\u001b[1;33m \u001b[0mprint\u001b[0m\u001b[1;33m(\u001b[0m\u001b[0mi\u001b[0m\u001b[1;33m.\u001b[0m\u001b[0m__item_id\u001b[0m\u001b[1;33m)\u001b[0m \u001b[1;31m#접근이 되지 않게 막았으니 출력이 되지 않는 것이다.\u001b[0m\u001b[1;33m\u001b[0m\u001b[1;33m\u001b[0m\u001b[0m\n\u001b[0m",
      "\u001b[1;31mAttributeError\u001b[0m: 'Item' object has no attribute '__item_id'"
     ]
    }
   ],
   "source": [
    "i = Item(\"a100000\",\"LG 모니터\",200_000,\"LG\")\n",
    "i.__dict__\n",
    "print(i.__item_id) #접근이 되지 않게 막았으니 출력이 되지 않는 것이다."
   ]
  },
  {
   "cell_type": "code",
   "execution_count": 63,
   "metadata": {},
   "outputs": [
    {
     "ename": "AttributeError",
     "evalue": "'Item' object has no attribute 'get_item_id'",
     "output_type": "error",
     "traceback": [
      "\u001b[1;31m---------------------------------------------------------------------------\u001b[0m",
      "\u001b[1;31mAttributeError\u001b[0m                            Traceback (most recent call last)",
      "\u001b[1;32m<ipython-input-63-1aa5984f9fc1>\u001b[0m in \u001b[0;36m<module>\u001b[1;34m\u001b[0m\n\u001b[1;32m----> 1\u001b[1;33m \u001b[0mprint\u001b[0m\u001b[1;33m(\u001b[0m\u001b[0mi\u001b[0m\u001b[1;33m.\u001b[0m\u001b[0mget_item_id\u001b[0m\u001b[1;33m(\u001b[0m\u001b[1;33m)\u001b[0m\u001b[1;33m)\u001b[0m\u001b[1;33m\u001b[0m\u001b[1;33m\u001b[0m\u001b[0m\n\u001b[0m\u001b[0;32m      2\u001b[0m \u001b[0mi\u001b[0m\u001b[1;33m.\u001b[0m\u001b[0mset_item_id\u001b[0m\u001b[1;33m(\u001b[0m\u001b[1;32mNone\u001b[0m\u001b[1;33m)\u001b[0m\u001b[1;31m#이려면 안바뀐다. (none이기 때문에)\u001b[0m\u001b[1;33m\u001b[0m\u001b[1;33m\u001b[0m\u001b[0m\n\u001b[0;32m      3\u001b[0m \u001b[0mi\u001b[0m\u001b[1;33m.\u001b[0m\u001b[0mset_item_id\u001b[0m\u001b[1;33m(\u001b[0m\u001b[1;34m\"aaaaa\"\u001b[0m\u001b[1;33m)\u001b[0m \u001b[1;31m#id가 set이 된다.\u001b[0m\u001b[1;33m\u001b[0m\u001b[1;33m\u001b[0m\u001b[0m\n",
      "\u001b[1;31mAttributeError\u001b[0m: 'Item' object has no attribute 'get_item_id'"
     ]
    }
   ],
   "source": [
    "print(i.get_item_id())\n",
    "i.set_item_id(None)#이려면 안바뀐다. (none이기 때문에)\n",
    "i.set_item_id(\"aaaaa\") #id가 set이 된다."
   ]
  },
  {
   "cell_type": "code",
   "execution_count": 64,
   "metadata": {
    "scrolled": true
   },
   "outputs": [
    {
     "name": "stdout",
     "output_type": "stream",
     "text": [
      "제품ID: a100000, 제품명:LG 모니터, 가격:200000,제조사:LG\n"
     ]
    }
   ],
   "source": [
    "i =Item(\"a100000\",\"LG 모니터\",200000,\"LG\")\n",
    "i.print_item_info()"
   ]
  },
  {
   "cell_type": "code",
   "execution_count": 65,
   "metadata": {},
   "outputs": [
    {
     "ename": "TypeError",
     "evalue": "'property' object is not callable",
     "output_type": "error",
     "traceback": [
      "\u001b[1;31m---------------------------------------------------------------------------\u001b[0m",
      "\u001b[1;31mTypeError\u001b[0m                                 Traceback (most recent call last)",
      "\u001b[1;32m<ipython-input-65-d850610e3f2f>\u001b[0m in \u001b[0;36m<module>\u001b[1;34m\u001b[0m\n\u001b[0;32m      1\u001b[0m \u001b[1;31m#property를 다 정의하고 이 코드를 적는다!\u001b[0m\u001b[1;33m\u001b[0m\u001b[1;33m\u001b[0m\u001b[1;33m\u001b[0m\u001b[0m\n\u001b[0;32m      2\u001b[0m \u001b[1;33m\u001b[0m\u001b[0m\n\u001b[1;32m----> 3\u001b[1;33m \u001b[0mi\u001b[0m\u001b[1;33m.\u001b[0m\u001b[0mitem_id\u001b[0m \u001b[1;33m=\u001b[0m \u001b[1;32mNone\u001b[0m \u001b[1;31m#대입(할당) => property()의 두번째 할당한 메소드를 호출\u001b[0m\u001b[1;33m\u001b[0m\u001b[1;33m\u001b[0m\u001b[0m\n\u001b[0m\u001b[0;32m      4\u001b[0m \u001b[0mprint\u001b[0m\u001b[1;33m(\u001b[0m\u001b[0mi\u001b[0m\u001b[1;33m.\u001b[0m\u001b[0mitem_id\u001b[0m\u001b[1;33m)\u001b[0m  \u001b[1;31m#조회 ->property()의 첫번째 할당한 메소드를 호출해서 그 반환값을 반환\u001b[0m\u001b[1;33m\u001b[0m\u001b[1;33m\u001b[0m\u001b[0m\n",
      "\u001b[1;31mTypeError\u001b[0m: 'property' object is not callable"
     ]
    }
   ],
   "source": [
    "#property를 다 정의하고 이 코드를 적는다!\n",
    "\n",
    "i.item_id = None #대입(할당) => property()의 두번째 할당한 메소드를 호출\n",
    "print(i.item_id)  #조회 ->property()의 첫번째 할당한 메소드를 호출해서 그 반환값을 반환"
   ]
  },
  {
   "cell_type": "code",
   "execution_count": 50,
   "metadata": {},
   "outputs": [
    {
     "name": "stdout",
     "output_type": "stream",
     "text": [
      "LG 모니터\n"
     ]
    }
   ],
   "source": [
    "i.item_name = None\n",
    "print(i.item_name)"
   ]
  },
  {
   "cell_type": "code",
   "execution_count": 51,
   "metadata": {},
   "outputs": [
    {
     "name": "stdout",
     "output_type": "stream",
     "text": [
      "200000\n",
      "1500\n"
     ]
    }
   ],
   "source": [
    "i.price = -3000 #가격이 음수이기 때문에 값이 바뀌지 않는다.\n",
    "print(i.price)\n",
    "i.price = 1500 #이럴 경우에는 바뀐다.\n",
    "print(i.price)"
   ]
  },
  {
   "cell_type": "code",
   "execution_count": 55,
   "metadata": {},
   "outputs": [
    {
     "name": "stdout",
     "output_type": "stream",
     "text": [
      "삼성전자\n",
      "삼성전자\n"
     ]
    }
   ],
   "source": [
    "i.make = \"A\" #조건 때문에 안바뀜\n",
    "print(i.maker)\n",
    "i.maker = \"삼성전자\" #바뀜\n",
    "print(i.maker)"
   ]
  },
  {
   "cell_type": "code",
   "execution_count": 56,
   "metadata": {},
   "outputs": [
    {
     "name": "stdout",
     "output_type": "stream",
     "text": [
      "제품ID: aaaaa, 제품명:LG 모니터, 가격:1500,제조사:삼성전자\n"
     ]
    }
   ],
   "source": [
    "i.print_item_info()\n"
   ]
  },
  {
   "cell_type": "code",
   "execution_count": 68,
   "metadata": {},
   "outputs": [
    {
     "ename": "NameError",
     "evalue": "name 'i2' is not defined",
     "output_type": "error",
     "traceback": [
      "\u001b[1;31m---------------------------------------------------------------------------\u001b[0m",
      "\u001b[1;31mNameError\u001b[0m                                 Traceback (most recent call last)",
      "\u001b[1;32m<ipython-input-68-3333c6ab77f7>\u001b[0m in \u001b[0;36m<module>\u001b[1;34m\u001b[0m\n\u001b[1;32m----> 1\u001b[1;33m \u001b[0mi2\u001b[0m\u001b[1;33m.\u001b[0m\u001b[0mitem_id\u001b[0m \u001b[1;33m=\u001b[0m \u001b[1;34m\"K234948\"\u001b[0m\u001b[1;33m\u001b[0m\u001b[1;33m\u001b[0m\u001b[0m\n\u001b[0m\u001b[0;32m      2\u001b[0m \u001b[0mi2\u001b[0m\u001b[1;33m.\u001b[0m\u001b[0mitem_name\u001b[0m \u001b[1;33m=\u001b[0m \u001b[1;34m\"LG 노트북\"\u001b[0m\u001b[1;33m\u001b[0m\u001b[1;33m\u001b[0m\u001b[0m\n\u001b[0;32m      3\u001b[0m \u001b[0mi2\u001b[0m\u001b[1;33m.\u001b[0m\u001b[0mmaker\u001b[0m \u001b[1;33m=\u001b[0m \u001b[1;34m\"LG 전자\"\u001b[0m\u001b[1;33m\u001b[0m\u001b[1;33m\u001b[0m\u001b[0m\n\u001b[0;32m      4\u001b[0m \u001b[0mi2\u001b[0m\u001b[1;33m.\u001b[0m\u001b[0mprint_item_info\u001b[0m\u001b[1;33m(\u001b[0m\u001b[1;33m)\u001b[0m\u001b[1;33m\u001b[0m\u001b[1;33m\u001b[0m\u001b[0m\n",
      "\u001b[1;31mNameError\u001b[0m: name 'i2' is not defined"
     ]
    }
   ],
   "source": [
    "i2.item_id = \"K234948\"\n",
    "i2.item_name = \"LG 노트북\"\n",
    "i2.maker = \"LG 전자\"\n",
    "i2.print_item_info()"
   ]
  },
  {
   "cell_type": "code",
   "execution_count": null,
   "metadata": {},
   "outputs": [],
   "source": [
    "#나머지는 강의록이 올라올 때 자세히 보도록 하자."
   ]
  },
  {
   "cell_type": "markdown",
   "metadata": {
    "slideshow": {
     "slide_type": "slide"
    }
   },
   "source": [
    "## 상속 (Inheritance)\n",
    "\n",
    "- 기존 클래스를 확장하여 새로운 클래스를 구현한다.\n",
    "    - 생성된 객체(instance)가 기존 클래스에 정의된 Attribute나 method를 사용할 수있고 그 외의 추가적인 member들을 가질 수 있는 클래스를 구현하는 방법.\n",
    "- **기반(Base) 클래스, 상위(Super) 클래스, 부모(Parent) 클래스**\n",
    "    - 물려 주는 클래스.\n",
    "    - 상속하는 클래스에 비해 더 추상적인 클래스가 된다. \n",
    "    - 상속하는 클래스의 데이터 타입이 된다.\n",
    "- **파생(Derived) 클래스, 하위(Sub) 클래스, 자식(Child) 클래스**\n",
    "    - 상속하는 클래스.\n",
    "    - 상속을 해준 클래스 보다 좀더 구체적인 클래스가 된다.\n",
    "- 상위 클래스와 하위 클래스는 계층관계를 이룬다.\n",
    "    - 상위 클래스는 하위 클래스 객체의 타입이 된다."
   ]
  },
  {
   "cell_type": "code",
   "execution_count": 292,
   "metadata": {},
   "outputs": [],
   "source": [
    "#실제로 class를 만들어보자.\n",
    "#이 코드는 개념을 이해하기 위한 코드이다.\n",
    "class Person:\n",
    "    \n",
    "    def go(self):\n",
    "        print(\"간다.\")\n",
    "    def eat(self):\n",
    "        print(\"먹는다.\")\n",
    "        \n",
    "     #자, 학생이든 선생이든 가고 먹을 수 있으니 상위 클래스에서 \n",
    "     #구현을 해도 괜찮다.\n",
    "        "
   ]
  },
  {
   "cell_type": "code",
   "execution_count": 293,
   "metadata": {},
   "outputs": [],
   "source": [
    "#person을 상속해서 studentㄹ르 정의\n",
    "##class 클래스 이름(상속할 클래스 이름(들))\n",
    "class Student(Person):\n",
    "    def study(self):\n",
    "        print(\"학생은 공부합니다.\")    "
   ]
  },
  {
   "cell_type": "code",
   "execution_count": 294,
   "metadata": {},
   "outputs": [],
   "source": [
    "class Teacher(Person):\n",
    "    def teach(self):\n",
    "        print(\"수업을 가르친다.\")\n",
    "    "
   ]
  },
  {
   "cell_type": "code",
   "execution_count": 295,
   "metadata": {},
   "outputs": [
    {
     "name": "stdout",
     "output_type": "stream",
     "text": [
      "학생은 공부합니다.\n",
      "먹는다.\n"
     ]
    }
   ],
   "source": [
    "#객체 생성\n",
    "\n",
    "s = Student()\n",
    "\n",
    "s.study()\n",
    "#결과가 출력되는 것은 당연하다.\n",
    "\n",
    "\n",
    "s.eat()\n",
    "#어? 이거도 되네??"
   ]
  },
  {
   "cell_type": "code",
   "execution_count": 93,
   "metadata": {},
   "outputs": [
    {
     "name": "stdout",
     "output_type": "stream",
     "text": [
      "수업을 가르친다.\n",
      "먹는다.\n",
      "간다.\n"
     ]
    }
   ],
   "source": [
    "t=Teacher()\n",
    "t.teach()\n",
    "t.eat()\n",
    "t.go()"
   ]
  },
  {
   "cell_type": "code",
   "execution_count": 296,
   "metadata": {
    "scrolled": false
   },
   "outputs": [
    {
     "ename": "AttributeError",
     "evalue": "'Teacher3' object has no attribute 'study'",
     "output_type": "error",
     "traceback": [
      "\u001b[1;31m---------------------------------------------------------------------------\u001b[0m",
      "\u001b[1;31mAttributeError\u001b[0m                            Traceback (most recent call last)",
      "\u001b[1;32m<ipython-input-296-3bca5387c410>\u001b[0m in \u001b[0;36m<module>\u001b[1;34m\u001b[0m\n\u001b[1;32m----> 1\u001b[1;33m \u001b[0mt\u001b[0m\u001b[1;33m.\u001b[0m\u001b[0mstudy\u001b[0m\u001b[1;33m(\u001b[0m\u001b[1;33m)\u001b[0m\u001b[1;33m\u001b[0m\u001b[1;33m\u001b[0m\u001b[0m\n\u001b[0m\u001b[0;32m      2\u001b[0m \u001b[1;31m#이건 당연히 안된다!\u001b[0m\u001b[1;33m\u001b[0m\u001b[1;33m\u001b[0m\u001b[1;33m\u001b[0m\u001b[0m\n",
      "\u001b[1;31mAttributeError\u001b[0m: 'Teacher3' object has no attribute 'study'"
     ]
    }
   ],
   "source": [
    "t.study()\n",
    "#이건 당연히 안된다!"
   ]
  },
  {
   "cell_type": "markdown",
   "metadata": {
    "slideshow": {
     "slide_type": "subslide"
    }
   },
   "source": [
    "### 다중상속과 단일 상속\n",
    "- 다중상속\n",
    "    - 여러 클래스로부터 상속할 수 있다\n",
    "- 단일상속\n",
    "    - 하나의 클래스로 부터만 상속할 수 있다.\n",
    "- 파이썬은 다중상속을 지원한다.\n",
    "- MRO (Method Resolution Order)\n",
    "    - 다중상속시 메소드 호출할 때 그 메소드를 찾는 순서. \n",
    "    1. 자기자신\n",
    "    2. 상위클래스(하위에서 상위로 올라간다)\n",
    "        - 다중상속의 경우 먼저 선언한 클래스 부터 찾는다. (왼쪽->오른쪽)\n",
    "- MRO 순서 조회 \n",
    "    - Class이름.mro()"
   ]
  },
  {
   "cell_type": "code",
   "execution_count": 299,
   "metadata": {
    "slideshow": {
     "slide_type": "fragment"
    }
   },
   "outputs": [
    {
     "data": {
      "text/plain": [
       "[__main__.Student, __main__.Person, object]"
      ]
     },
     "execution_count": 299,
     "metadata": {},
     "output_type": "execute_result"
    }
   ],
   "source": [
    "Student.mro()"
   ]
  },
  {
   "cell_type": "code",
   "execution_count": 300,
   "metadata": {},
   "outputs": [],
   "source": [
    "#실제로 한번 해보자!\n",
    "\n",
    "class E:\n",
    "    pass\n",
    "\n",
    "class F:\n",
    "    pass\n",
    "\n",
    "class G:\n",
    "    pass"
   ]
  },
  {
   "cell_type": "code",
   "execution_count": 301,
   "metadata": {},
   "outputs": [],
   "source": [
    "#중간 단계\n",
    "\n",
    "class C(E,F):\n",
    "    pass\n",
    "class D(G):\n",
    "    pass"
   ]
  },
  {
   "cell_type": "code",
   "execution_count": 302,
   "metadata": {},
   "outputs": [],
   "source": [
    "#클래스 a는 모든 것을 다 상속받는다.\n",
    "class A(C,D):\n",
    "    pass"
   ]
  },
  {
   "cell_type": "code",
   "execution_count": 304,
   "metadata": {},
   "outputs": [
    {
     "data": {
      "text/plain": [
       "[__main__.A,\n",
       " __main__.C,\n",
       " __main__.E,\n",
       " __main__.F,\n",
       " __main__.D,\n",
       " __main__.G,\n",
       " object]"
      ]
     },
     "execution_count": 304,
     "metadata": {},
     "output_type": "execute_result"
    }
   ],
   "source": [
    "#자, 그럼 어떻게 상속이 되어 있는지 한번 볼까?\n",
    "\n",
    "A.mro()\n",
    "#아래 코드를 통해 메소드가 어떻게 출력이 되는지 파악할 수 있다.\n",
    "#왼쪽 부분을 다 파악을 한 다음에 오른쪽으로 간다는 것을 알 수 있다."
   ]
  },
  {
   "cell_type": "code",
   "execution_count": null,
   "metadata": {},
   "outputs": [],
   "source": []
  },
  {
   "cell_type": "markdown",
   "metadata": {
    "slideshow": {
     "slide_type": "subslide"
    }
   },
   "source": [
    "### Method Overriding (메소드 재정의)\n",
    "상위 클래스의 메소드의 구현부를 하위 클래스에서 다시 구현하는 것을 말한다.  \n",
    "상위 클래스는 모든 하위 클래스들에 적용할 수 있는 추상적인 구현밖에는 못한다.  \n",
    "이 경우 하위 클래스에서 그 내용을 자신에 맞게 좀더 구체적으로 재구현할 수 있게 해주는 것을 Method Overriding이라고 한다.  \n",
    "방법은 하위 클래스에서 overriding할 메소드의 선언문은 그래로 사용하고 그 구현부는 재구현하면 된다.  \n",
    "\n",
    "### super() 내장함수\n",
    "- 하위 클래스에서 상위 클래스의 instance를 반환(return) 해주는 함수\n",
    "- 구문\n",
    "```python\n",
    "super().메소드명() \n",
    "```\n",
    "- 상위 클래스의 Instance 메소드를 호출할 때 – super().메소드()\n",
    "    - 특히 method overriding을 한 클래스에서 상위 클래스의 overriding한 메소드를 호출 할 경우 반드시 `super().메소드() `형식으로 호출해야 한다.\n",
    "- 같은 클래스의 Instance 메소드를 호출할 때 – self.메소드()"
   ]
  },
  {
   "cell_type": "code",
   "execution_count": 305,
   "metadata": {},
   "outputs": [],
   "source": [
    "#메소드에서 \n",
    "#self.xxxx : 같은 클래스에 정의된 메소드나 attribute\n",
    "#super().xxxx :부모 클래스에 정의된 메소드나 attrribute 호출\n",
    "\n"
   ]
  },
  {
   "cell_type": "code",
   "execution_count": 307,
   "metadata": {
    "slideshow": {
     "slide_type": "fragment"
    }
   },
   "outputs": [],
   "source": [
    "#method overriding의 예시\n",
    "\n",
    "class Person2:\n",
    "    \n",
    "    def go(self):\n",
    "        self.eat() #같은 클래스 안의 eat를 호출하겠다는 것이다.\n",
    "        print(\"간다.\") #이렇듯 굉장히 포괄적이게 정의할 수 밖에 없다.\n",
    "    def eat(self):\n",
    "        print(\"먹는다.\") #이거도. 학생이면 급식을 먹겠지만, 포괄적으로 정의할 수 밖에 없다.\n",
    "        "
   ]
  },
  {
   "cell_type": "code",
   "execution_count": 308,
   "metadata": {},
   "outputs": [],
   "source": [
    "class Student2(Person2):\n",
    "    def study(self):\n",
    "        print(\"학생이 공부한다. 2\")\n",
    "        \n",
    "        #메소드의 이름은 동일하다. 결국, 재정의를 시키는것!!\n",
    "        #가고, 먹는 것을 학생의 특성과 결부시켜서 method overriding을 한다.\n",
    "    def go(self):\n",
    "        print(\"스쿨버스를 타고 등교한다.\")\n",
    "    def eat(self):\n",
    "        print(\"급식이를 먹는다.\")\n",
    "        print(\"급식을 받는다.\")\n",
    "        print(\"먹는다.\") #근데 이건 상위 클래스의 것과 같다.\n",
    "        super().eat() #여기서 super는 부모 클래스를 가리킨다. 부모 클래스=Person2이겠지?\n",
    "        \n",
    "    def study(self):\n",
    "        print(\"학생이 공부한다. 2\")"
   ]
  },
  {
   "cell_type": "code",
   "execution_count": 309,
   "metadata": {},
   "outputs": [],
   "source": [
    "class Teacher2(Person2):\n",
    "    def teach(self):\n",
    "        print(\"교사가 가르친다. 2\")"
   ]
  },
  {
   "cell_type": "code",
   "execution_count": 311,
   "metadata": {},
   "outputs": [
    {
     "ename": "SyntaxError",
     "evalue": "invalid syntax (<ipython-input-311-c706eb03fcc1>, line 6)",
     "output_type": "error",
     "traceback": [
      "\u001b[1;36m  File \u001b[1;32m\"<ipython-input-311-c706eb03fcc1>\"\u001b[1;36m, line \u001b[1;32m6\u001b[0m\n\u001b[1;33m    s.eat()\u001b[0m\n\u001b[1;37m    ^\u001b[0m\n\u001b[1;31mSyntaxError\u001b[0m\u001b[1;31m:\u001b[0m invalid syntax\n"
     ]
    }
   ],
   "source": [
    "#method overriding을 통해 적용된 결과!!\n",
    "\n",
    "s= Student2()\n",
    "s.go()\n",
    "print(\"=====================\"\n",
    "s.eat()\n",
    "Student2.mro() # 자기 자신을 먼저 찾고, 상위를 찾는다. 그래서 Student 안의 go를 출력하는 것이다."
   ]
  },
  {
   "cell_type": "code",
   "execution_count": 312,
   "metadata": {},
   "outputs": [],
   "source": [
    "#상속과 attribute\n",
    "\n",
    "class Person3:\n",
    "    \n",
    "    def __init__(self,name,age,address=None):\n",
    "        self.__name = name #은닉을 위해서 __을 쓴다.\n",
    "        self.__age = age\n",
    "        self.__address = address\n",
    "    \n",
    "    @property #getter\n",
    "    def name(self):\n",
    "        return self.__name\n",
    "    \n",
    "    @name.setter #setter\n",
    "    def name(self,name):\n",
    "        if name:\n",
    "            self.__name = name\n",
    "        else:\n",
    "            print(\"이름을 변경 못함.\")\n",
    "            \n",
    "    @property #getter\n",
    "    def age(self):\n",
    "        return self.__age\n",
    "    \n",
    "    @age.setter #setter\n",
    "    def age(self,age):\n",
    "        if 8<= age <=19:\n",
    "            self.__age = age\n",
    "        else:\n",
    "            print(\"나이를 변경 못함.\")\n",
    "            \n",
    "     \n",
    "    @property #getter\n",
    "    def address(self):\n",
    "        return self.__address\n",
    "    \n",
    "    @address.setter #setter\n",
    "    def address(self,address):\n",
    "        if address:\n",
    "            self.__address = address\n",
    "        else:\n",
    "            print(\"주소를 변경 못함.\")\n",
    "    \n",
    "    \n",
    "   #나이를 더하는 메소드\n",
    "    def add_age(self,age):\n",
    "        self.age = self.age+age\n",
    "        # @age.setter : age = @property: age + 파라미터 age\n",
    "        \n",
    "        \n",
    "   #Person 객체의 속성값들을 출력하는 메소드\n",
    "    def get_info(self): #getter 메소드 호출\n",
    "        return f\"이름 {self.name},나이:{self.age}, 주소:{self.address}\"\n",
    "        "
   ]
  },
  {
   "cell_type": "code",
   "execution_count": 318,
   "metadata": {},
   "outputs": [],
   "source": [
    "#Student의 속성:name, age,address(학생과 선생의 공통속성), grade(성적-학생의 속성)\n",
    "class Student3(Person3):\n",
    "    \n",
    "    def __init__(self,name,age,address,grade):\n",
    "        #name ,age, address = 부모클래스인 student의 속성이다.\n",
    "        super().__init__(name,age,address) #상위 메소드!! 이 형식을 기억하자!\n",
    "        #\"상위 메소드의 __init__을 불러오겠다. 그 중 name,age,address를 불러오지!\" 이다.\n",
    "        #Person 클래스의 __init__을 부른 것이다. 상위로 가는 것이지.\n",
    "        self.__grade = grade\n",
    "    @property\n",
    "    def grade(self):\n",
    "        return self.__grade\n",
    "    @grade.setter\n",
    "    def grade(self,grade):\n",
    "        if grade >0:\n",
    "            self.__grade = grade\n",
    "        else:\n",
    "            print(\"grade 변경못함\")\n",
    "    def get_info(self):  \n",
    "        i = super().get_info() #이렇게 코드를 짜면 더 편하다.\n",
    "        return f\"{i}, 성적:{self.grade}\" #getter: grade 호출"
   ]
  },
  {
   "cell_type": "code",
   "execution_count": 317,
   "metadata": {
    "scrolled": true
   },
   "outputs": [
    {
     "name": "stdout",
     "output_type": "stream",
     "text": [
      "김학생 17 서울 3\n",
      "14\n"
     ]
    }
   ],
   "source": [
    "s = Student3(\"김학생\",17,\"서울\",3)\n",
    "print(s.name, s.age, s.address, s.grade)\n",
    "s.add_age(-3) #상위 메소드를 참조를 한 거시다.\n",
    "print(s.age)"
   ]
  },
  {
   "cell_type": "code",
   "execution_count": 229,
   "metadata": {},
   "outputs": [
    {
     "name": "stdout",
     "output_type": "stream",
     "text": [
      "이름 김학생,나이:14, 주소:서울, 성적:3\n"
     ]
    }
   ],
   "source": [
    "info = s.get_info()\n",
    "print(info) #이렇게만 출력하면 당연히 grade가 나올 수 없다.\n",
    "# 성적까지 잘 나오려면 method overriding을 해야 성적을 잘 출력할 수 있다.\n",
    "\n",
    "\n"
   ]
  },
  {
   "cell_type": "code",
   "execution_count": 246,
   "metadata": {},
   "outputs": [],
   "source": [
    "#Teacher의 속성:name,age,address =>공통속성, subject(가르치는 과목-선생만의 속성)\n",
    "#job은 특별한 대입조건이 없다. \n",
    "# add_age(), get_info() 메소드\n",
    "\n",
    "\n",
    "class Teacher3(Person3):\n",
    "    def __init__(self,name,age,address,subject,job=None): #job: 직책\n",
    "        #name,age,address => 부모클래스의 __init__을 이용해서 초기화.\n",
    "        super().__init__(name,age,address) #정보를 얻을 건 상위로!\n",
    "        self.__subject = subject #정보 은닉을함.\n",
    "        self.job = job # setter가 필요없는 변수\n",
    "        \n",
    "        \n",
    "    #subject의 getter/setter 구현\n",
    "    @property\n",
    "    def subject(self):\n",
    "        return self.__subject\n",
    "    \n",
    "    @subject.setter\n",
    "    def subject(self,subject):\n",
    "        if subject:\n",
    "            self.__subject = subject\n",
    "        else:\n",
    "            print(\"과목을 수정못함.\")\n",
    "    \n",
    "    #teacher 객체의 attribute들을 반환. =>get_info()를 method overriding\n",
    "    \n",
    "    def get_info(self):\n",
    "        #이름, 나이, 주소 ->person3의 get_info()를 사용.\n",
    "        i=super().get_info() #이런식으로 재정의해도 된다.\n",
    "        return f\"{i}, 담당과목: {self.subject}, 담당직책: {self.job if self.job else '없음'}\"\n",
    "        "
   ]
  },
  {
   "cell_type": "code",
   "execution_count": 247,
   "metadata": {},
   "outputs": [
    {
     "name": "stdout",
     "output_type": "stream",
     "text": [
      "이름 박선생,나이:30, 주소:부산, 담당과목: 수학, 담당직책: 학생주임\n"
     ]
    }
   ],
   "source": [
    "t = Teacher3(\"박선생\",30,\"부산\",\"수학\",\"학생주임\")\n",
    "info = t.get_info()\n",
    "print(info)"
   ]
  },
  {
   "cell_type": "code",
   "execution_count": 248,
   "metadata": {},
   "outputs": [
    {
     "name": "stdout",
     "output_type": "stream",
     "text": [
      "과목을 수정못함.\n",
      "이름 박선생,나이:30, 주소:부산, 담당과목: 수학, 담당직책: 없음\n"
     ]
    }
   ],
   "source": [
    "t.subject = None\n",
    "t.job = None\n",
    "info = t.get_info() #앞에서 none이라고 했으니 당연!\n",
    "print(info)"
   ]
  },
  {
   "cell_type": "markdown",
   "metadata": {
    "slideshow": {
     "slide_type": "slide"
    }
   },
   "source": [
    "## 객체 관련 유용한 내장 함수, 특수 변수\n",
    "-  **`isinstance(객체, 클래스이름-datatype)`** : bool\n",
    "    - 객체가 두번째 매개변수로 지정한 클래스의 타입이면 True, 아니면 False 반환\n",
    "    - 여러개의 타입여부를 확인할 경우 class이름(type)들을 튜플로 묶어 준다.\n",
    "    - 상위 클래스는 하위 클래스객체의 타입이 되므로 객체와 그 객체의 상위 클래스 비교시 True가 나온다.\n",
    "- **`객체.__dict__`**\n",
    "     - 객체가 가지고 있는 Attribute 변수들과 대입된 값을 dictionary에 넣어 반환\n",
    "- **`객체.__class__`**\n",
    "    - 객체의 타입을 반환"
   ]
  },
  {
   "cell_type": "code",
   "execution_count": 252,
   "metadata": {},
   "outputs": [],
   "source": [
    "p = Person3(\"이름\",30,\"주소\")\n",
    "t = Teacher3(\"이선생\",40,\"부산\",\"영어\",\"교감\")\n",
    "s = Student3(\"장학생\",14,\"서울\",1)"
   ]
  },
  {
   "cell_type": "code",
   "execution_count": 253,
   "metadata": {},
   "outputs": [
    {
     "data": {
      "text/plain": [
       "True"
      ]
     },
     "execution_count": 253,
     "metadata": {},
     "output_type": "execute_result"
    }
   ],
   "source": [
    "#변수 p의 타입이 xxxx인지?\n",
    "type(p)==Person3 #True가 나온다.\n",
    "\n"
   ]
  },
  {
   "cell_type": "code",
   "execution_count": 254,
   "metadata": {},
   "outputs": [
    {
     "name": "stdout",
     "output_type": "stream",
     "text": [
      "True\n",
      "False\n"
     ]
    }
   ],
   "source": [
    "#p가 Person3의 인스턴스야?\n",
    "\n",
    "print(isinstance(p,Person3))\n",
    "print(isinstance(p,Person))"
   ]
  },
  {
   "cell_type": "code",
   "execution_count": 319,
   "metadata": {},
   "outputs": [],
   "source": [
    "#isinstance의 사용예시\n",
    "\n",
    "def function(value):\n",
    "    if isinstance(value,(int,float)): #value가 int나 float이면 계산!\n",
    "        print(value**2)\n",
    "    else:\n",
    "        print(\"계산 못하는 타입\",type(value))"
   ]
  },
  {
   "cell_type": "code",
   "execution_count": 321,
   "metadata": {
    "scrolled": true
   },
   "outputs": [
    {
     "name": "stdout",
     "output_type": "stream",
     "text": [
      "계산 못하는 타입 <class 'str'>\n"
     ]
    }
   ],
   "source": [
    "function(\"부자이장한\")"
   ]
  },
  {
   "cell_type": "code",
   "execution_count": 272,
   "metadata": {},
   "outputs": [
    {
     "name": "stdout",
     "output_type": "stream",
     "text": [
      "True\n"
     ]
    }
   ],
   "source": [
    "print(isinstance(t,Person3)) #이게 왜 True가 나오는거지?\n",
    "#이유는 상위클래스가 자식클래스 객체의 type이 되기 때문이다.\n",
    "#그래서, person은 teacher의 상위이니까 값이 true가 되는 것이다.\n"
   ]
  },
  {
   "cell_type": "code",
   "execution_count": 275,
   "metadata": {},
   "outputs": [],
   "source": [
    "def func(value):\n",
    "    #Student, Teacher 객체를 받아서 add_age() 이용해서 나이를 변경하고 attribute들을 출력\n",
    "    if isinstance(value,(Student,Teacher)): #근데 문제는, 나중에 교직원 클래스를 만들려면 문제에 직면한다는 점이다.\n",
    "        #위의 문제는 Person 클래스로 바꾸면 된다.\n",
    "        value.add_age(1)\n",
    "        i = value.get_info()\n",
    "        print(i)"
   ]
  },
  {
   "cell_type": "code",
   "execution_count": 277,
   "metadata": {},
   "outputs": [],
   "source": [
    "func(s)\n",
    "#이 셀을 실행시킨 횟수대로 나이가 늘어난다."
   ]
  },
  {
   "cell_type": "code",
   "execution_count": 279,
   "metadata": {},
   "outputs": [
    {
     "name": "stdout",
     "output_type": "stream",
     "text": [
      "{'_Person3__name': '장학생', '_Person3__age': 18, '_Person3__address': '서울', '_Student3__grade': 1}\n",
      "{'_Person3__name': '이선생', '_Person3__age': 40, '_Person3__address': '부산', '_Teacher3__subject': '영어', 'job': '교감'}\n",
      "{'_Person3__name': '이름', '_Person3__age': 30, '_Person3__address': '주소'}\n"
     ]
    }
   ],
   "source": [
    "#__dict__ 클래스!!\n",
    "print(s.__dict__)\n",
    "print(t.__dict__)\n",
    "print(p.__dict__)\n"
   ]
  },
  {
   "cell_type": "code",
   "execution_count": 281,
   "metadata": {},
   "outputs": [
    {
     "data": {
      "text/plain": [
       "'Teacher3'"
      ]
     },
     "execution_count": 281,
     "metadata": {},
     "output_type": "execute_result"
    }
   ],
   "source": [
    "t.__class__.__name__ # 클래스 이름을 문자열로 반환."
   ]
  },
  {
   "cell_type": "code",
   "execution_count": 283,
   "metadata": {},
   "outputs": [
    {
     "data": {
      "text/plain": [
       "'Student3'"
      ]
     },
     "execution_count": 283,
     "metadata": {},
     "output_type": "execute_result"
    }
   ],
   "source": [
    "s.__class__.__name__ #클래스 이름을 문자열로 반환."
   ]
  },
  {
   "cell_type": "code",
   "execution_count": null,
   "metadata": {},
   "outputs": [],
   "source": []
  },
  {
   "cell_type": "markdown",
   "metadata": {
    "slideshow": {
     "slide_type": "slide"
    }
   },
   "source": [
    "## 특수 메소드\n",
    "\n",
    "\n",
    "### 특수 메소드란\n",
    "- 특정한 상황에서 사용될 때 자동으로 호출되도록 파이썬 실행환경에 정의된 약속된 메소드들이다. 객체에 특정 기능들을 추가할 때 사용한다.\n",
    "    - 정의한 메소드와 그것을 호출하는 함수가 다르다.\n",
    "         - ex) `__init__()` => 객체 생성할 때 호출 된다.\n",
    "- 메소드 명이 더블 언더스코어로 시작하고 끝난다. \n",
    "    - ex) `__init__(), __str__()`\n",
    "- 매직 메소드(Magic Method), 던더(DUNDER) 메소드라고도 한다.\n",
    "- 특수메소드 종류\n",
    "    - https://docs.python.org/ko/3/reference/datamodel.html#special-method-names"
   ]
  },
  {
   "cell_type": "markdown",
   "metadata": {
    "slideshow": {
     "slide_type": "subslide"
    }
   },
   "source": [
    "### 주요 특수메소드\n",
    "- **`__init__(self [, …])`**\n",
    "    - Initializer\n",
    "    - 객체 생성시 호출 된다.\n",
    "    - 객체 생성시 Attribute의 값들을 초기화하는 것을 구현한다.\n",
    "    - self 변수로 받은 instance에 Attribute를 설정한다.\n",
    "- **`__call__(self [, …])`**\n",
    "- 객체를 함수처럼 호출 하면 실행되는 메소드\n",
    "    - Argument를 받을 Parameter 변수는 self 변수 다음에 필요한대로 선언한다.\n",
    "    - 처리결과를 반환하도록 구현할 경우 `return value` 구문을 넣는다. (필수는 아니다.)\n",
    "\n"
   ]
  },
  {
   "cell_type": "code",
   "execution_count": 12,
   "metadata": {
    "slideshow": {
     "slide_type": "fragment"
    }
   },
   "outputs": [],
   "source": [
    "class Plus:\n",
    "    def __init__(self,num1,num2):\n",
    "        self.num1 = num1\n",
    "        self.num2 = num2\n",
    "    \n",
    "    def calculate(self):\n",
    "        return self.num1 + self.num2\n",
    "    def __call__(self):\n",
    "        #객체를 함수처럼 호출할 때 호출될 메소드이다.\n",
    "        #객체가 하나의 메소드를 제공하고 메인 메소드가 하나 있을 때 정의한다.\n",
    "        #이 메소드는 처음 보는 메소드이니 잘 보도록 하자.\n",
    "        return self.num1 + self.num2\n",
    "          \n",
    "    "
   ]
  },
  {
   "cell_type": "code",
   "execution_count": 13,
   "metadata": {},
   "outputs": [],
   "source": [
    "plus = Plus(10,20)"
   ]
  },
  {
   "cell_type": "code",
   "execution_count": 14,
   "metadata": {},
   "outputs": [
    {
     "data": {
      "text/plain": [
       "30"
      ]
     },
     "execution_count": 14,
     "metadata": {},
     "output_type": "execute_result"
    }
   ],
   "source": [
    "plus() #객체()----> 객체를 함수처럼 호출(실행)---->call이 호출이 됨.\n",
    "#이 부분은 어렵지는 않지만 복습이 필요한 부분이다.\n"
   ]
  },
  {
   "cell_type": "code",
   "execution_count": 19,
   "metadata": {},
   "outputs": [],
   "source": [
    "#예시2\n",
    "\n",
    "class Square:\n",
    "    def __init__(self,num):\n",
    "        self.num = num\n",
    "    \n",
    "    \n",
    "    #n 제곱하는 메소드-----제공하는 기능이 하나밖에 없다.\n",
    "    #그러면 그냥 call 특수 메소드를 선언을 하자.\n",
    "    def calculate(self,n):\n",
    "        return self.num ** n\n",
    "    def __call__(self,n): #파라미터는 1개 이상 원하는 대로 정의.\n",
    "        return self.num ** n"
   ]
  },
  {
   "cell_type": "code",
   "execution_count": 22,
   "metadata": {
    "scrolled": true
   },
   "outputs": [
    {
     "name": "stdout",
     "output_type": "stream",
     "text": [
      "243\n",
      "2187\n"
     ]
    }
   ],
   "source": [
    "square = Square(3)\n",
    "print(square.calculate(5))\n",
    "print(square(7)) #call을 썼으니, square만 정의를 해도 자동으로 정의를 해준다."
   ]
  },
  {
   "cell_type": "code",
   "execution_count": null,
   "metadata": {},
   "outputs": [],
   "source": []
  },
  {
   "cell_type": "markdown",
   "metadata": {
    "slideshow": {
     "slide_type": "subslide"
    }
   },
   "source": [
    "- **`__repr__(self)`**\n",
    "    - Instance(객체) 자체를 표현할 수 있는 문자열을 반환한다.\n",
    "        - 보통 객체 생성하는 구문을 문자열로 반환한다.\n",
    "        - 반환된 문자열을 eval() 에 넣으면 동일한 attribute값들을 가진 객체를 생성할 수 있도록 정의한다.\n",
    "    - 내장함수 **repr(객체)** 호출할 때 이 메소드가 호출 된다.\n",
    "    - 대화형 IDE(REPL) 에서 객체를 참조하는 변수 출력할 때도 호출된다.\n",
    "> - eval(문자열)\n",
    ">     - 실행 가능한 구문의 문자열을 받아서 실행한다.\n",
    "\n",
    "- **`__str__(self)`**\n",
    "    - Instance(객체)의 Attribute들을 묶어서 문자열로 반환한다.\n",
    "    - 내장 함수 **str(객체)**  호출할 때 이 메소드가 호출 된다.\n",
    "        - str() 호출할 때 객체에 `__str__()`의 정의 안되 있으면 `__repr__()` 을 호출한다. `__repr__()`도 없으면 상위클래스에 정의된 `__str__()`을 호출한다.\n",
    "        - print() 함수는 값을 문자열로 변환해서 출력한다. 이때 그 값을 str() 에 넣어 문자열로 변환한다."
   ]
  },
  {
   "cell_type": "code",
   "execution_count": 49,
   "metadata": {},
   "outputs": [],
   "source": [
    "#__repr__의 예시\n",
    "\n",
    "class Person:\n",
    "    \n",
    "    def __init__(self,name,age,address):\n",
    "        self.name = name\n",
    "        self.age =age\n",
    "        self.address = address\n",
    "    def __repr__(self): #따로 parameter를 받지 않는다.\n",
    "        return f\"Person('{self.name},{self.age},'{self.address}')\"\n",
    "    def __str__(self):\n",
    "        return f\"이름: {self.name}, 나이:{self.age},주소:{self.address}\"\n",
    "    def __eq__(self,other):\n",
    "        #self==other인지 구분하는 연산 시 호출됨.----속성값이 같으면 True가 나온ek.\n",
    "        if isinstance(other,Person):\n",
    "            #다 같아야 True가 출력이 되도록 한다!\n",
    "            return self.name == other.name and self.age == other.age and self.address == other.address \n",
    "        else:\n",
    "            return False\n",
    "        \n",
    "    def __gt__(self,other):\n",
    "        #self>other 연산시 호출----나이 비교 등을 할 수 있겠지.\n",
    "        if isinstance(other,Person):\n",
    "            return self.age > other.age #이거는 bool 형식이다.\n",
    "        elif isinstance(other,(int,float)): #주의:튜플로 묶어야 한다.\n",
    "            return self.age>other #이거는 bool 형식이다.\n",
    "        else:\n",
    "            #return False\n",
    "            #근데 비교를 할 수 없는 case 라면, 에러를 발생시키는 편이 좋다.\n",
    "            #그래야 타입을 바꾸거나 할 수 있기 때문이다.\n",
    "            raise TypeError(f\"Person 타입과 {type(other)}는 '>' 연산을 할 수 없습니다.\")"
   ]
  },
  {
   "cell_type": "code",
   "execution_count": 50,
   "metadata": {
    "slideshow": {
     "slide_type": "fragment"
    }
   },
   "outputs": [],
   "source": [
    "p = Person(\"홍길동\",30,\"서울\")"
   ]
  },
  {
   "cell_type": "code",
   "execution_count": 51,
   "metadata": {},
   "outputs": [
    {
     "data": {
      "text/plain": [
       "\"Person('홍길동,30,'서울')\""
      ]
     },
     "execution_count": 51,
     "metadata": {},
     "output_type": "execute_result"
    }
   ],
   "source": [
    "repr(p) #p.__repr__() 호출한 결과(str)를 반환. =>p값을 만드는(생성하는) 구문을 반환.\n",
    "\n"
   ]
  },
  {
   "cell_type": "code",
   "execution_count": 52,
   "metadata": {},
   "outputs": [
    {
     "data": {
      "text/plain": [
       "2"
      ]
     },
     "execution_count": 52,
     "metadata": {},
     "output_type": "execute_result"
    }
   ],
   "source": [
    "#이건 비교적 심심풀이다.\n",
    "\n",
    "eval(\"1+1\")"
   ]
  },
  {
   "cell_type": "code",
   "execution_count": 53,
   "metadata": {},
   "outputs": [
    {
     "data": {
      "text/plain": [
       "3"
      ]
     },
     "execution_count": 53,
     "metadata": {},
     "output_type": "execute_result"
    }
   ],
   "source": [
    "#repr에 대하여\n",
    "ss= repr(\"h\")\n",
    "len(ss) #따옴표까지 세기 때문에 len이 요따구이다.\n",
    "\n",
    "\n"
   ]
  },
  {
   "cell_type": "code",
   "execution_count": 54,
   "metadata": {},
   "outputs": [
    {
     "name": "stdout",
     "output_type": "stream",
     "text": [
      "이름: 홍길동, 나이:30,주소:서울\n"
     ]
    }
   ],
   "source": [
    "v2 = str(p) #str(값) -> 값.__str__() 의 반환값을 반환해준다.\n",
    "print(v2)"
   ]
  },
  {
   "cell_type": "code",
   "execution_count": null,
   "metadata": {},
   "outputs": [],
   "source": []
  },
  {
   "cell_type": "markdown",
   "metadata": {
    "slideshow": {
     "slide_type": "subslide"
    }
   },
   "source": [
    "#### 연산자 재정의(Operator overriding) 관련 특수 메소드\n",
    "- 연산자의 피연산자로 객체를 사용하면 호출되는 메소드들\n",
    "- 다항연산자일 경우 가장 왼쪽의 객체에 정의된 메소드가 호출된다.\n",
    "    - `a + b` 일경우 a의 `__add__()` 가 호출된다.\n",
    "- **비교 연산자**\n",
    "    - **`__eq__(self, other)`** : self == other\n",
    "        - == 로 객체의 내용을 비교할 때 정의 한다.\n",
    "    - **`__lt__(self, other)`** : self < other, \n",
    "    - **`__gt__(self, other)`**: self > other\n",
    "        - min()이나 max()에서 인수로 사용할 경우 정의해야 한다.\n",
    "    - **`__le__(self, other)`**: self <= other\n",
    "    - **`__ge__(self, other)`**: self >= other\n",
    "    - **`__ne__(self, other)`**: self != other"
   ]
  },
  {
   "cell_type": "markdown",
   "metadata": {
    "slideshow": {
     "slide_type": "fragment"
    }
   },
   "source": [
    "- **산술 연산자**\n",
    "    - **`__add__(self, other)`**: self + other\n",
    "    - **`__sub__(self, other)`**: self - other\n",
    "    - **`__mul__(self, other)`**: self * other\n",
    "    - **`__truediv__(self, other)`**: self / other\n",
    "    - **`__floordiv__(self, other)`**: self // other\n",
    "    - **`__mod__(self, other)`**: self % other"
   ]
  },
  {
   "cell_type": "code",
   "execution_count": null,
   "metadata": {},
   "outputs": [],
   "source": []
  },
  {
   "cell_type": "code",
   "execution_count": 56,
   "metadata": {
    "slideshow": {
     "slide_type": "fragment"
    }
   },
   "outputs": [
    {
     "name": "stdout",
     "output_type": "stream",
     "text": [
      "True\n",
      "False\n",
      "True\n"
     ]
    },
    {
     "ename": "TypeError",
     "evalue": "Person 타입과 <class 'str'>는 '>' 연산을 할 수 없습니다.",
     "output_type": "error",
     "traceback": [
      "\u001b[1;31m---------------------------------------------------------------------------\u001b[0m",
      "\u001b[1;31mTypeError\u001b[0m                                 Traceback (most recent call last)",
      "\u001b[1;32m<ipython-input-56-a03ede142469>\u001b[0m in \u001b[0;36m<module>\u001b[1;34m\u001b[0m\n\u001b[0;32m     11\u001b[0m \u001b[1;31m#false가 나온 이유는 '10'은 객체가 아니기 때문이다.\u001b[0m\u001b[1;33m\u001b[0m\u001b[1;33m\u001b[0m\u001b[1;33m\u001b[0m\u001b[0m\n\u001b[0;32m     12\u001b[0m \u001b[1;31m#그러나! elif를 통해 조건을 추가했기 때문에 false가 아닌 true가 나왔다.\u001b[0m\u001b[1;33m\u001b[0m\u001b[1;33m\u001b[0m\u001b[1;33m\u001b[0m\u001b[0m\n\u001b[1;32m---> 13\u001b[1;33m \u001b[0mprint\u001b[0m\u001b[1;33m(\u001b[0m\u001b[0mp1\u001b[0m\u001b[1;33m>\u001b[0m\u001b[1;34m\"부자이장한\"\u001b[0m\u001b[1;33m)\u001b[0m\u001b[1;33m\u001b[0m\u001b[1;33m\u001b[0m\u001b[0m\n\u001b[0m\u001b[0;32m     14\u001b[0m \u001b[1;33m\u001b[0m\u001b[0m\n",
      "\u001b[1;32m<ipython-input-49-a7dec5535d2f>\u001b[0m in \u001b[0;36m__gt__\u001b[1;34m(self, other)\u001b[0m\n\u001b[0;32m     29\u001b[0m             \u001b[1;31m#근데 비교를 할 수 없는 case 라면, 에러를 발생시키는 편이 좋다.\u001b[0m\u001b[1;33m\u001b[0m\u001b[1;33m\u001b[0m\u001b[1;33m\u001b[0m\u001b[0m\n\u001b[0;32m     30\u001b[0m             \u001b[1;31m#그래야 타입을 바꾸거나 할 수 있기 때문이다.\u001b[0m\u001b[1;33m\u001b[0m\u001b[1;33m\u001b[0m\u001b[1;33m\u001b[0m\u001b[0m\n\u001b[1;32m---> 31\u001b[1;33m             \u001b[1;32mraise\u001b[0m \u001b[0mTypeError\u001b[0m\u001b[1;33m(\u001b[0m\u001b[1;34mf\"Person 타입과 {type(other)}는 '>' 연산을 할 수 없습니다.\"\u001b[0m\u001b[1;33m)\u001b[0m\u001b[1;33m\u001b[0m\u001b[1;33m\u001b[0m\u001b[0m\n\u001b[0m",
      "\u001b[1;31mTypeError\u001b[0m: Person 타입과 <class 'str'>는 '>' 연산을 할 수 없습니다."
     ]
    }
   ],
   "source": [
    "#연산자 재정의 관련 특수 메소드\n",
    "\n",
    "p1 = Person(\"이순신\",20,\"인천\")\n",
    "p2 = Person(\"이순신\",20,\"인천\")\n",
    "#p1+p2 -------->에러가 난다.\n",
    "\n",
    "\n",
    "print(p1==p2) #__eq__ 를 통해 구현하여, True값을 얻어냈다.\n",
    "print(p1>p2) #__gt__ 를 통해 구현하여, false값을 얻어냈다.\n",
    "print(p1>10) #__gt__ 를 통해 구현하여, false값을 얻어냈다.\n",
    "#false가 나온 이유는 '10'은 객체가 아니기 때문이다.\n",
    "#그러나! elif를 통해 조건을 추가했기 때문에 false가 아닌 true가 나왔다.\n",
    "print(p1>\"부자이장한\")\n",
    "\n"
   ]
  },
  {
   "cell_type": "markdown",
   "metadata": {
    "slideshow": {
     "slide_type": "slide"
    }
   },
   "source": [
    "# class변수, class 메소드\n",
    "- **class변수**\n",
    "    - (Intance가 아닌) 클래스 자체의 데이터\n",
    "    - Attribute가 객체별로 생성된다면, class변수는 클래스당 하나가 생성된다.\n",
    "    - 구현\n",
    "        - class 블럭에 변수 선언.\n",
    "- **class 메소드**\n",
    "    - 클래스 변수를 처리하는 메소드\n",
    "    - 구현\n",
    "        - @classmethod 데코레이터를 붙인다.\n",
    "        - 첫번째 매개변수로 클래스를 받는 변수를 선언한다. 이 변수를 이용해 클래스 변수나 다른 클래스 메소드를 호출 한다."
   ]
  },
  {
   "cell_type": "code",
   "execution_count": 100,
   "metadata": {},
   "outputs": [],
   "source": [
    "class Circle:\n",
    "    #클래스 변수는 클래스 안에 선언!------값을 고정시켜서 불편함을 없애기 위함이다.\n",
    "    __PI = 3.14 #class의 변수----class variable(class block 정의)\n",
    "    \n",
    "    #PI의 값을 변경(setter,getter)\n",
    "    \n",
    "    @classmethod #이렇게 함으로서 클래스메소드인 것을 표기한다.\n",
    "    def set_PI(clazz,new_PI): #첫번째 파라미터는 클래스 자체를 받는다. \n",
    "        #clazz -> class 변수, 다른 class 메소드를 호출할 때 사용한다.\n",
    "        if new_PI in [3.14,3.14159]: #값이 둘 중 하나일 때만 넣을 수 있도록 하자.\n",
    "            clazz.PI = new_PI\n",
    "        else:\n",
    "            print(\"변경못함 현재 PI값: \",clazz.__PI)\n",
    "            \n",
    "    @classmethod\n",
    "    def get_PI(clazz):\n",
    "        return clazz.__PI\n",
    "    def __init__(self,radius):\n",
    "        #다른 instance method가 호출이 될 때 쓰인다.\n",
    "        self.radius = radius\n",
    "    \n",
    "    def calc_area(self): #원의 너비\n",
    "        \n",
    "        return self.radius * self.radius * Circle.__PI #PI를 3.14로 칠수도 있으나, 그러면 불편하다.\n",
    "        \n",
    "    \n",
    "    #번외: 함수처럼 사용하는 메소드(클래스 소속)\n",
    "    @staticmethod\n",
    "    def class_version():\n",
    "        #class 변수나 instance 변수를 사용하지 않는 메소드.\n",
    "        #함수처럼 사용하는 메소드(클래스 소속.)\n",
    "        return \"1.0\"\n",
    "    "
   ]
  },
  {
   "cell_type": "code",
   "execution_count": 93,
   "metadata": {},
   "outputs": [
    {
     "name": "stdout",
     "output_type": "stream",
     "text": [
      "78.5\n"
     ]
    }
   ],
   "source": [
    "c=Circle(5)\n",
    "print(c.calc_area())"
   ]
  },
  {
   "cell_type": "code",
   "execution_count": 97,
   "metadata": {},
   "outputs": [
    {
     "data": {
      "text/plain": [
       "3.14"
      ]
     },
     "execution_count": 97,
     "metadata": {},
     "output_type": "execute_result"
    }
   ],
   "source": [
    "#파이의 값을 조회.\n",
    "\n",
    "Circle.get_PI()\n"
   ]
  },
  {
   "cell_type": "code",
   "execution_count": 98,
   "metadata": {},
   "outputs": [],
   "source": [
    "#class 변수 변경\n",
    "Circle.PI=3.14159"
   ]
  },
  {
   "cell_type": "code",
   "execution_count": 99,
   "metadata": {},
   "outputs": [
    {
     "name": "stdout",
     "output_type": "stream",
     "text": [
      "None\n",
      "None\n",
      "3.14159\n"
     ]
    }
   ],
   "source": [
    "#변경과정.\n",
    "\n",
    "print(Circle.set_PI(3.14))\n",
    "print(Circle.set_PI(3.14159))\n",
    "print(Circle.PI)"
   ]
  },
  {
   "cell_type": "code",
   "execution_count": 101,
   "metadata": {},
   "outputs": [
    {
     "data": {
      "text/plain": [
       "'1.0'"
      ]
     },
     "execution_count": 101,
     "metadata": {},
     "output_type": "execute_result"
    }
   ],
   "source": [
    "Circle.class_version()"
   ]
  },
  {
   "cell_type": "markdown",
   "metadata": {
    "slideshow": {
     "slide_type": "subslide"
    }
   },
   "source": [
    "# static 메소드\n",
    "- 클래스의 메소드로 클래스 변수와 상관없는 단순기능을 정의한다.\n",
    "    - Caller 에서 받은 argument만 가지고 일하는 메소드를 구현한다.\n",
    "- 구현\n",
    "    - @staticmethod 데코레이터를 붙인다.\n",
    "    - Parameter에 대한 규칙은 없이 필요한 변수들만 선언한다.\n",
    "    "
   ]
  },
  {
   "cell_type": "markdown",
   "metadata": {
    "slideshow": {
     "slide_type": "fragment"
    }
   },
   "source": [
    "## class 메소드/변수, static 메소드 호출\n",
    "- 클래스이름.변수\n",
    "- 클래스이름.메소드() "
   ]
  },
  {
   "cell_type": "code",
   "execution_count": null,
   "metadata": {
    "slideshow": {
     "slide_type": "fragment"
    }
   },
   "outputs": [],
   "source": []
  }
 ],
 "metadata": {
  "kernelspec": {
   "display_name": "Python 3",
   "language": "python",
   "name": "python3"
  },
  "language_info": {
   "codemirror_mode": {
    "name": "ipython",
    "version": 3
   },
   "file_extension": ".py",
   "mimetype": "text/x-python",
   "name": "python",
   "nbconvert_exporter": "python",
   "pygments_lexer": "ipython3",
   "version": "3.8.8"
  },
  "toc": {
   "base_numbering": 1,
   "nav_menu": {},
   "number_sections": true,
   "sideBar": true,
   "skip_h1_title": false,
   "title_cell": "Table of Contents",
   "title_sidebar": "Contents",
   "toc_cell": false,
   "toc_position": {},
   "toc_section_display": true,
   "toc_window_display": false
  },
  "varInspector": {
   "cols": {
    "lenName": 16,
    "lenType": 16,
    "lenVar": 40
   },
   "kernels_config": {
    "python": {
     "delete_cmd_postfix": "",
     "delete_cmd_prefix": "del ",
     "library": "var_list.py",
     "varRefreshCmd": "print(var_dic_list())"
    },
    "r": {
     "delete_cmd_postfix": ") ",
     "delete_cmd_prefix": "rm(",
     "library": "var_list.r",
     "varRefreshCmd": "cat(var_dic_list()) "
    }
   },
   "types_to_exclude": [
    "module",
    "function",
    "builtin_function_or_method",
    "instance",
    "_Feature"
   ],
   "window_display": false
  }
 },
 "nbformat": 4,
 "nbformat_minor": 4
}
