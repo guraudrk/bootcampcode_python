{
 "cells": [
  {
   "cell_type": "markdown",
   "metadata": {
    "slideshow": {
     "slide_type": "slide"
    }
   },
   "source": [
    "# Path (경로)\n",
    "\n",
    "- **경로(Path)**\n",
    "    - 프로그램에서 사용할 **자원의 위치를 path(경로)** 라고 한다.\n",
    "    - **파일 시스템**에서는 파일이나 디렉토리가 있는 위치의 경로를 말한다.\n",
    "    "
   ]
  },
  {
   "cell_type": "markdown",
   "metadata": {
    "slideshow": {
     "slide_type": "slide"
    }
   },
   "source": [
    "- **절대경로**\n",
    "    - 자원의 전체 경로를 표현하는 방식\n",
    "    - 시작 경로부터 자원(파일, 디렉토리)이 있는 위치까지 표현한다.\n",
    "        - 시작 경로: Root Path\n",
    "            - windows: `c:`, `d:` (이런 문자로 시작하지 않았으면 다 상대경로)\n",
    "            - Unix, Linux: `/`"
   ]
  },
  {
   "cell_type": "markdown",
   "metadata": {
    "slideshow": {
     "slide_type": "fragment"
    }
   },
   "source": [
    "- **상대경로**\n",
    "    - 현재 작업 경로(위치)에서 부터 자원이 있는 위치까지 표현한다.\n",
    "        - 시작 경로: 현재 작업경로\n",
    "    - 구문\n",
    "        - `.` : 현재 디렉토리\n",
    "        - `..`: 상위 디렉토리\n",
    "        - `/` : 경로 구분자,  상위경로/하위경로"
   ]
  },
  {
   "cell_type": "markdown",
   "metadata": {
    "slideshow": {
     "slide_type": "fragment"
    }
   },
   "source": [
    "- 운영체제(O/S)별 경로구분자\n",
    "    - 윈도우즈: `\\` (역슬래쉬)\n",
    "    - 리눅스/유닉스: `/` (슬래쉬)"
   ]
  },
  {
   "cell_type": "code",
   "execution_count": 1,
   "metadata": {},
   "outputs": [
    {
     "name": "stdout",
     "output_type": "stream",
     "text": [
      "c:\\tlasses\\01_python\\calculater.py\n",
      "c:\\tlasses\\01_python\\calculater.py\n"
     ]
    }
   ],
   "source": [
    "# 경로를 문자열로 표시\n",
    "file_path1 = \"c:\\\\tlasses\\\\01_python\\\\calculater.py\"  #절대경로\n",
    "file_path2 = r\"c:\\tlasses\\01_python\\calculater.py\"  #r-string: escape 문자 처리를 안함.\n",
    "print(file_path1)\n",
    "print(file_path2)"
   ]
  },
  {
   "cell_type": "code",
   "execution_count": 2,
   "metadata": {},
   "outputs": [],
   "source": [
    "file_path3 = \"/src/python/a.py\" #  절대경로\n",
    "file_path4 = \"./python/a.py\"  # 상대경로. \n",
    "file_path5 = \"python/a.py\"  # 상대경로.   시작의 `./`는 생략 가능\n",
    "file_path6 = \"calculater.py\" \n",
    "# 상대경로 -> ./calculater.py에서 `./`를 생략. 현재 디렉토리에 있는 calculater.py"
   ]
  },
  {
   "cell_type": "code",
   "execution_count": 3,
   "metadata": {
    "slideshow": {
     "slide_type": "fragment"
    }
   },
   "outputs": [],
   "source": [
    "# 현재 경로 -> working directory\n",
    "## => 현재 실행중인 프로그램의 위치\n",
    "###  주피터노트북-> 노트북파일의 위치\n",
    "### script 파일 실행 -> script 파일의 위치"
   ]
  },
  {
   "cell_type": "code",
   "execution_count": 1,
   "metadata": {},
   "outputs": [
    {
     "name": "stdout",
     "output_type": "stream",
     "text": [
      "<class 'str'> C:\\Users\\User\\부트캠프 강의-파이썬\n"
     ]
    }
   ],
   "source": [
    "# 현재 working directory 조회\n",
    "import os\n",
    "cwd = os.getcwd() #get current work directory\n",
    "print(type(cwd), cwd)"
   ]
  },
  {
   "cell_type": "code",
   "execution_count": 5,
   "metadata": {},
   "outputs": [
    {
     "name": "stdout",
     "output_type": "stream",
     "text": [
      "C:\\Users\\User\\부트캠프 강의-파이썬\\src\\abc.py\n"
     ]
    }
   ],
   "source": [
    "#path 함수를 쓰는 방법\n",
    "#뭐 그래도 쓸 구석은 꽤 있는것 같다.\n",
    "root = os.getcwd()\n",
    "src_file = os.path.join(root,\"src\",\"abc.py\")\n",
    "print(src_file)"
   ]
  },
  {
   "cell_type": "code",
   "execution_count": 5,
   "metadata": {},
   "outputs": [
    {
     "data": {
      "text/plain": [
       "True"
      ]
     },
     "execution_count": 5,
     "metadata": {},
     "output_type": "execute_result"
    }
   ],
   "source": [
    "# f_path = \"./calculater.py\"\n",
    "f_path = \"calculater.py\"\n",
    "# 파일이 있는지 여부 조회\n",
    "os.path.isfile(f_path)  # f_path에 파일이 있는지 여부"
   ]
  },
  {
   "cell_type": "code",
   "execution_count": 6,
   "metadata": {},
   "outputs": [
    {
     "ename": "FileNotFoundError",
     "evalue": "[WinError 2] 지정된 파일을 찾을 수 없습니다: 'c:\\\\User_manual'",
     "output_type": "error",
     "traceback": [
      "\u001b[1;31m---------------------------------------------------------------------------\u001b[0m",
      "\u001b[1;31mFileNotFoundError\u001b[0m                         Traceback (most recent call last)",
      "\u001b[1;32m<ipython-input-6-c376a0536008>\u001b[0m in \u001b[0;36m<module>\u001b[1;34m\u001b[0m\n\u001b[0;32m      1\u001b[0m \u001b[1;31m# 현재 working directory를 변경\u001b[0m\u001b[1;33m\u001b[0m\u001b[1;33m\u001b[0m\u001b[1;33m\u001b[0m\u001b[0m\n\u001b[1;32m----> 2\u001b[1;33m \u001b[0mos\u001b[0m\u001b[1;33m.\u001b[0m\u001b[0mchdir\u001b[0m\u001b[1;33m(\u001b[0m\u001b[1;34mr\"c:\\User_manual\"\u001b[0m\u001b[1;33m)\u001b[0m  \u001b[1;31m# ./ => c:\\User_manual로 변경\u001b[0m\u001b[1;33m\u001b[0m\u001b[1;33m\u001b[0m\u001b[0m\n\u001b[0m\u001b[0;32m      3\u001b[0m \u001b[0mprint\u001b[0m\u001b[1;33m(\u001b[0m\u001b[0mos\u001b[0m\u001b[1;33m.\u001b[0m\u001b[0mgetcwd\u001b[0m\u001b[1;33m(\u001b[0m\u001b[1;33m)\u001b[0m\u001b[1;33m)\u001b[0m\u001b[1;33m\u001b[0m\u001b[1;33m\u001b[0m\u001b[0m\n",
      "\u001b[1;31mFileNotFoundError\u001b[0m: [WinError 2] 지정된 파일을 찾을 수 없습니다: 'c:\\\\User_manual'"
     ]
    }
   ],
   "source": [
    "# 현재 working directory를 변경\n",
    "os.chdir(r\"c:\\User_manual\")  # ./ => c:\\User_manual로 변경\n",
    "print(os.getcwd())"
   ]
  },
  {
   "cell_type": "code",
   "execution_count": 7,
   "metadata": {},
   "outputs": [
    {
     "data": {
      "text/plain": [
       "True"
      ]
     },
     "execution_count": 7,
     "metadata": {},
     "output_type": "execute_result"
    }
   ],
   "source": [
    "os.path.isfile(f_path)"
   ]
  },
  {
   "cell_type": "code",
   "execution_count": 9,
   "metadata": {},
   "outputs": [
    {
     "name": "stdout",
     "output_type": "stream",
     "text": [
      "생성못함\n"
     ]
    }
   ],
   "source": [
    "# os 모듈의 파일/디렉토리 관련 함수들\n",
    "# 디렉토리 생성\n",
    "try:\n",
    "    os.mkdir(r\"c:\\classes\\source\") \n",
    "    # source디렉토리를 c:\\classes 하위에 생성\n",
    "    ## 이미 디렉토가 있거나, 생성하려는 디렉토리(c:\\classes)가 없으면 Exception 발생.\n",
    "except FileExistsError:  # 이미 있는 디렉토리\n",
    "    print(\"생성못함\")\n",
    "    pass\n",
    "except FileNotFoundError:  # 생성하려는 상위디렉토리가 없어서 발생\n",
    "    print(\"상위디렉토리를 먼저 생성\")"
   ]
  },
  {
   "cell_type": "code",
   "execution_count": 6,
   "metadata": {},
   "outputs": [],
   "source": [
    "#  exist_ok=False(기본) 이미 있는 디렉토리면 Exception 발생\n",
    "#  exist_ok=True: 디렉토리가 있으면 무시\n",
    "#exist_ok같은 옵션이 꽤 중요한듯.\n",
    "\n",
    "os.makedirs(r\"c:\\class\\source\", exist_ok=True)\n",
    "# 상위 디렉토리가 없으면 상위디렉토리도 만들어준다."
   ]
  },
  {
   "cell_type": "code",
   "execution_count": 7,
   "metadata": {},
   "outputs": [],
   "source": [
    "# 디렉토리 삭제 -> 빈 디렉토리만 삭제 가능.\n",
    "# os.rmdir(r\"c:\\class\")\n",
    "os.rmdir(r\"c:\\class\\source\")"
   ]
  },
  {
   "cell_type": "code",
   "execution_count": 8,
   "metadata": {},
   "outputs": [],
   "source": [
    "os.rmdir(r\"c:\\class\")"
   ]
  },
  {
   "cell_type": "code",
   "execution_count": 9,
   "metadata": {},
   "outputs": [
    {
     "ename": "FileNotFoundError",
     "evalue": "[WinError 2] 지정된 파일을 찾을 수 없습니다: 'c:\\\\classes\\\\아나콘다_주피터노트북_설치.pdf'",
     "output_type": "error",
     "traceback": [
      "\u001b[1;31m---------------------------------------------------------------------------\u001b[0m",
      "\u001b[1;31mFileNotFoundError\u001b[0m                         Traceback (most recent call last)",
      "\u001b[1;32m<ipython-input-9-ce91ff7612ce>\u001b[0m in \u001b[0;36m<module>\u001b[1;34m\u001b[0m\n\u001b[0;32m      1\u001b[0m \u001b[1;31m# 파일 삭제\u001b[0m\u001b[1;33m\u001b[0m\u001b[1;33m\u001b[0m\u001b[1;33m\u001b[0m\u001b[0m\n\u001b[1;32m----> 2\u001b[1;33m \u001b[0mos\u001b[0m\u001b[1;33m.\u001b[0m\u001b[0mremove\u001b[0m\u001b[1;33m(\u001b[0m\u001b[1;34mr\"c:\\classes\\아나콘다_주피터노트북_설치.pdf\"\u001b[0m\u001b[1;33m)\u001b[0m\u001b[1;33m\u001b[0m\u001b[1;33m\u001b[0m\u001b[0m\n\u001b[0m\u001b[0;32m      3\u001b[0m \u001b[1;31m# 경로: 상대/절대 모두 가능.\u001b[0m\u001b[1;33m\u001b[0m\u001b[1;33m\u001b[0m\u001b[1;33m\u001b[0m\u001b[0m\n",
      "\u001b[1;31mFileNotFoundError\u001b[0m: [WinError 2] 지정된 파일을 찾을 수 없습니다: 'c:\\\\classes\\\\아나콘다_주피터노트북_설치.pdf'"
     ]
    }
   ],
   "source": [
    "# 파일 삭제\n",
    "os.remove(r\"c:\\classes\\아나콘다_주피터노트북_설치.pdf\")\n",
    "# 경로: 상대/절대 모두 가능."
   ]
  },
  {
   "cell_type": "code",
   "execution_count": 10,
   "metadata": {},
   "outputs": [],
   "source": [
    "file_list = os.listdir(r\"C:\\classes\\01_Python\") \n",
    "#지정한 디렉토리의 하위요소들의 이름 문자열을 리스트에 담아 반환."
   ]
  },
  {
   "cell_type": "code",
   "execution_count": 11,
   "metadata": {},
   "outputs": [
    {
     "data": {
      "text/plain": [
       "['files']"
      ]
     },
     "execution_count": 11,
     "metadata": {},
     "output_type": "execute_result"
    }
   ],
   "source": [
    "file_list"
   ]
  },
  {
   "cell_type": "code",
   "execution_count": 12,
   "metadata": {},
   "outputs": [
    {
     "data": {
      "text/plain": [
       "'a\\\\b\\\\c\\\\d'"
      ]
     },
     "execution_count": 12,
     "metadata": {},
     "output_type": "execute_result"
    }
   ],
   "source": [
    "os.path.join(\"a\", \"b\", \"c\", \"d\")"
   ]
  },
  {
   "cell_type": "code",
   "execution_count": 13,
   "metadata": {},
   "outputs": [
    {
     "name": "stdout",
     "output_type": "stream",
     "text": [
      "Dir- files\n"
     ]
    }
   ],
   "source": [
    "root_path = r\"c:\\classes\\01_Python\"\n",
    "for file in file_list:\n",
    "    file_path = os.path.join(root_path, file)\n",
    "#     print(file_path)\n",
    "#     break\n",
    "    if os.path.isfile(file_path):\n",
    "        print(\"File-\", file)\n",
    "    elif os.path.isdir(file_path):\n",
    "        print(\"Dir-\", file)"
   ]
  },
  {
   "cell_type": "markdown",
   "metadata": {
    "slideshow": {
     "slide_type": "slide"
    }
   },
   "source": [
    "# 입출력 (IO)\n",
    "\n",
    "## 입출력이란\n",
    "- 프로그램이 사용하려는 외부 자원을 연결하여 데이터를 입력 받거나 출력하는 작업을 IO라고 한다.\n",
    "- 외부 자원\n",
    "    - 파일, 원격지 컴퓨터(Network으로 연결된 컴퓨터의 자원), 데이터베이스 등.\n",
    "- **Stream**\n",
    "    - 입출력 시 **데이터의 흐름을 stream** 이라고 한다.'\n",
    "    - 참고로 stream은 '강물','계곡' 등으로 해석할 수 있다.\n",
    "    - 이러한 것들은 class를 통해 구현을 할 수 있다.\n",
    "- InputStream \n",
    "    - Program이 외부로 부터 데이터를 읽어 들이는 흐름.\n",
    "- OutputStream \n",
    "    - Program이 외부로 데이터를 써주는 흐름.\n",
    "\n",
    "\n",
    "![io](images/ch09_01.png)"
   ]
  },
  {
   "cell_type": "markdown",
   "metadata": {
    "slideshow": {
     "slide_type": "subslide"
    }
   },
   "source": [
    "## IO 코딩 순서\n",
    "![순서](images/ch09_02.png)"
   ]
  },
  {
   "cell_type": "markdown",
   "metadata": {
    "slideshow": {
     "slide_type": "subslide"
    }
   },
   "source": [
    "### 파일 열기(연결)\n",
    "- open() 함수 사용\n",
    "    - 연결된 파일과 입출력 메소드를 제공하는 객체(Stream)를 리턴\n",
    "- 구문\n",
    "    - `open(file, mode='r', encoding=None)`\n",
    "    - 함수 주요 매개변수\n",
    "        - file : 연결할 파일 경로\n",
    "        - mode : 열기 모드\n",
    "            - mode는 목적, 데이터종류를 조합한 문자열을 사용한다.\n",
    "        - encoding \n",
    "            - 텍스트 파일일 경우 인코딩 방식\n",
    "            - None 또는 생략하면  os 기본 encoding방식을 따른다.\n",
    "                - Windows: cp949/euckr\n",
    "                - Linux, Unix: utf-8\n",
    "|mode타입|mode문자|설명|\n",
    "|:-|-|-|\n",
    "|목적|r|읽기 모드-목적의 기본 모드|\n",
    "||w|새로 쓰기 모드|\n",
    "||a|이어 쓰기 모드|\n",
    "||x|새로 쓰기모드-연결하려는 파일이 있으면 Exception발생|\n",
    "|데이터종류|b|binary 모드|\n",
    "||t|Text모드-text데이터 입출력시 사용|\n",
    "    "
   ]
  },
  {
   "cell_type": "markdown",
   "metadata": {
    "slideshow": {
     "slide_type": "subslide"
    }
   },
   "source": [
    "### 출력 메소드\n",
    "\n",
    "- write(출력할 Data)\n",
    "    - 연결된 파일에 `출력할 Data` 출력한다.\n",
    "- writelines(문자열을 가진 컬렉션)\n",
    "    - 리스트, 튜플, 집합이 원소로 가진 문자열들을 한번에 출력한다.\n",
    "    - text 출력일 경우에만 사용가능.\n",
    "    - 원소에 문자열 이외의 타입의 값이 있을 경우 TypeError 발생"
   ]
  },
  {
   "cell_type": "code",
   "execution_count": 19,
   "metadata": {},
   "outputs": [
    {
     "name": "stdout",
     "output_type": "stream",
     "text": [
      "c:\\classes\\01_python\n"
     ]
    }
   ],
   "source": [
    "import os\n",
    "os.chdir(r\"c:\\classes\\01_python\") \n",
    "print(os.getcwd())"
   ]
  },
  {
   "cell_type": "code",
   "execution_count": 20,
   "metadata": {},
   "outputs": [
    {
     "name": "stdout",
     "output_type": "stream",
     "text": [
      "<class '_io.TextIOWrapper'>\n"
     ]
    }
   ],
   "source": [
    "# 출력할 파일들을 저장할 디렉토리를 생성\n",
    "os.makedirs(\"files\", exist_ok=True)\n",
    "# 1. 출력할 파일과 연결\n",
    "fw = open(\"files/test.txt\", #연결할 파일의 경로\n",
    "          mode=\"wt\", # w: 출력(파일이 없으면 만들어서 연결, 있으면 연결후에 파일내용을 삭제), t: text -> 생략가능.\n",
    "          encoding=\"utf-8\" # 문자열 인코딩 방식. 생략: os의 기본 인코딩방식(win:cp949, mac: utf-8)\n",
    "         )\n",
    "print(type(fw))\n",
    "# 2. 출력(Output) 작업\n",
    "fw.write(\"안녕하세요.\\n\")\n",
    "fw.write(\"반갑습니다.\\n\")\n",
    "fw.write(\"Hello World\")\n",
    "\n",
    "# 3. 파일과 연결 닫기\n",
    "fw.close()"
   ]
  },
  {
   "cell_type": "code",
   "execution_count": 21,
   "metadata": {},
   "outputs": [
    {
     "name": "stdout",
     "output_type": "stream",
     "text": [
      "<class '_io.TextIOWrapper'>\n"
     ]
    }
   ],
   "source": [
    "# 1. 출력할 파일과 연결\n",
    "fw = open(\"files/test2.txt\", #연결할 파일의 경로\n",
    "          mode=\"at\", # a: 출력-이어쓰기, t: text -> 생략가능.\n",
    "          encoding=\"utf-8\" # 문자열 인코딩 방식. 생략: os의 기본 인코딩방식(win:cp949, mac: utf-8)\n",
    "         )\n",
    "print(type(fw))\n",
    "# 2. 출력(Output) 작업\n",
    "fw.write(\"안녕하세요.\\n\")\n",
    "fw.write(\"반갑습니다.\\n\")\n",
    "fw.write(\"Hello World\")\n",
    "\n",
    "# 3. 파일과 연결 닫기\n",
    "fw.close()"
   ]
  },
  {
   "cell_type": "code",
   "execution_count": 23,
   "metadata": {},
   "outputs": [],
   "source": [
    "# 연결\n",
    "fw = open(\"files/test4.txt\", \"wt\", encoding=\"utf-8\")\n",
    "txt = [\"aaaaaa\", \"1111111\", '가가가가가가가', \"3333333\", \"ggggggg\"]\n",
    "# 출력\n",
    "# for t in txt:\n",
    "#     fw.write(t)\n",
    "fw.writelines(txt)  # 엔터를 자동으로 넣어주지 않음.\n",
    "\n",
    "# 연결닫기\n",
    "fw.close()"
   ]
  },
  {
   "cell_type": "code",
   "execution_count": 24,
   "metadata": {},
   "outputs": [
    {
     "name": "stdout",
     "output_type": "stream",
     "text": [
      "wt utf-8 files/test4.txt\n",
      "연결 여부를 확인:  True\n"
     ]
    },
    {
     "data": {
      "text/plain": [
       "'연결닫힘'"
      ]
     },
     "execution_count": 24,
     "metadata": {},
     "output_type": "execute_result"
    }
   ],
   "source": [
    "#### TextIOWrapper (fw) 의 속성 조회 => 연결 Stream 정보\n",
    "print(fw.mode, fw.encoding, fw.name)\n",
    "print(\"연결 여부를 확인: \", fw.closed)\n",
    "\"연결닫힘\" if fw.closed else \"연결중임\""
   ]
  },
  {
   "cell_type": "code",
   "execution_count": 25,
   "metadata": {},
   "outputs": [
    {
     "name": "stdout",
     "output_type": "stream",
     "text": [
      "False\n"
     ]
    }
   ],
   "source": [
    "fw = open(\"files/test4.txt\", \"wt\")\n",
    "print(fw.closed)"
   ]
  },
  {
   "cell_type": "code",
   "execution_count": 26,
   "metadata": {},
   "outputs": [],
   "source": [
    "fw.close()"
   ]
  },
  {
   "cell_type": "markdown",
   "metadata": {
    "slideshow": {
     "slide_type": "slide"
    }
   },
   "source": [
    "### 입력 메소드\n",
    "- read() : 문자열(text mode), bytes(binary mode) \n",
    "    - 연결된 파일의 내용을 한번에 모두 읽어 들인다.\n",
    "- readline() : 문자열(text mode), bytes(binary mode)\n",
    "    - 한 줄만 읽는다.\n",
    "    - text 입력일 경우만 사용가능\n",
    "    - 읽은 라인이 없으면 `빈문자열`을 리턴한다.\n",
    "- readlines() : 리스트\n",
    "    - 한번에 다 읽은 뒤 각각의 라인을 리스트에 원소로 담아 반환한다.\n",
    "- Input Stream (TextIOWrapper, BufferedReader)는 Iterable 타입\n",
    "    - for문을 이용한 라인단위 순차 조회할 수 있다."
   ]
  },
  {
   "cell_type": "code",
   "execution_count": 28,
   "metadata": {},
   "outputs": [
    {
     "name": "stdout",
     "output_type": "stream",
     "text": [
      "안녕하세요.\n",
      "반갑습니다.\n",
      "Hello World\n"
     ]
    }
   ],
   "source": [
    "# 읽기\n",
    "## 1. 연결\n",
    "fr = open(\"files/test.txt\", mode=\"rt\", # r: 기본, t: 기본 (rt일 경우는 생략가능.)\n",
    "         encoding=\"utf-8\")\n",
    "## 2. 읽기\n",
    "read_txt = fr.read() # 전체를 한번에 읽어온다.\n",
    "print(read_txt)\n",
    "\n",
    "## 3. 연결닫기\n",
    "fr.close()"
   ]
  },
  {
   "cell_type": "code",
   "execution_count": 29,
   "metadata": {},
   "outputs": [
    {
     "name": "stdout",
     "output_type": "stream",
     "text": [
      "안녕하세요.\n",
      "반갑습니다.\n",
      "Hello World"
     ]
    }
   ],
   "source": [
    "## 1. 연결\n",
    "fr = open(\"files/test.txt\", mode=\"rt\", # r: 기본, t: 기본 (rt일 경우는 생략가능.)\n",
    "         encoding=\"utf-8\")\n",
    "## 2. 읽기\n",
    "# read_txt = fr.readline()  #  한줄만 읽는다. ........\\n (엔터 까지만 읽는다.)\n",
    "# print(read_txt)\n",
    "# read_txt = fr.readline()\n",
    "# print(read_txt)\n",
    "read_txt = fr.readline() # 한줄 읽은 것이 없으면 빈문자열 반환.\n",
    "while read_txt:\n",
    "    print(read_txt, end=\"\")\n",
    "    read_txt = fr.readline()\n",
    "\n",
    "\n",
    "## 3. 연결닫기\n",
    "fr.close()"
   ]
  },
  {
   "cell_type": "code",
   "execution_count": null,
   "metadata": {},
   "outputs": [],
   "source": []
  },
  {
   "cell_type": "code",
   "execution_count": 30,
   "metadata": {},
   "outputs": [
    {
     "name": "stdout",
     "output_type": "stream",
     "text": [
      "['안녕하세요.\\n', '반갑습니다.\\n', 'Hello World']\n"
     ]
    }
   ],
   "source": [
    "fr = open(\"files/test.txt\", mode=\"rt\", encoding=\"utf-8\")\n",
    "txt_list = fr.readlines()\n",
    "fr.close()\n",
    "\n",
    "print(txt_list)"
   ]
  },
  {
   "cell_type": "code",
   "execution_count": 31,
   "metadata": {},
   "outputs": [
    {
     "name": "stdout",
     "output_type": "stream",
     "text": [
      "1. 안녕하세요.\n",
      "2. 반갑습니다.\n",
      "3. Hello World\n"
     ]
    }
   ],
   "source": [
    "for line_no, txt in enumerate(txt_list, start=1):\n",
    "    print(f\"{line_no}. {txt.strip()}\")"
   ]
  },
  {
   "cell_type": "code",
   "execution_count": 32,
   "metadata": {},
   "outputs": [
    {
     "name": "stdout",
     "output_type": "stream",
     "text": [
      "1 안녕하세요.\n",
      "2 반갑습니다.\n",
      "3 Hello World\n"
     ]
    }
   ],
   "source": [
    "fr = open(\"files/test.txt\", mode=\"rt\", encoding=\"utf-8\")\n",
    "# Text입력 Stream (TextIOWrapper) ==> Iterable 타입 ===> for in 문으로 사용가능\n",
    "## ===> 한번 반복할 때마다 한줄 읽은 것을 반환.\n",
    "\n",
    "for ln, txt in enumerate(fr, start=1):\n",
    "    print(ln, txt.strip())\n",
    "\n",
    "fr.close()"
   ]
  },
  {
   "cell_type": "code",
   "execution_count": 33,
   "metadata": {},
   "outputs": [
    {
     "name": "stdout",
     "output_type": "stream",
     "text": [
      "안녕하세요.\n",
      "\n",
      "반갑습니다.\n",
      "\n"
     ]
    }
   ],
   "source": [
    "# 앞의 2줄만 읽기\n",
    "fr = open(\"files/test.txt\", mode=\"rt\", encoding=\"utf-8\")\n",
    "for _ in range(2):\n",
    "    print(fr.readline())\n",
    "fr.close()"
   ]
  },
  {
   "cell_type": "markdown",
   "metadata": {
    "slideshow": {
     "slide_type": "slide"
    }
   },
   "source": [
    "## with block\n",
    "\n",
    "파일과 입출력 작업이 다 끝나면 반드시 연결을 닫아야 한다. 매번 연결을 닫는 작업을 하는 것이 번거롭고 실수로 안 닫을 경우 문제가 생길 수 있다. **with block은 block을 벗어나면 자동으로 연결을 닫아 준다.** 그래서 연결을 닫는 코드를 생략할 수 있다.\n",
    "\n",
    "- 구문\n",
    "```python\n",
    "with open() as 변수: # `변수`는 open()이 반환하는 Stream객체를 참조한다.\n",
    "    입출력 작업      # 변수를 이용해 입출력 작업을 처리한다.\n",
    "# with block을 빠져 나오면 close()가 자동으로 실행된다.\n",
    "```"
   ]
  },
  {
   "cell_type": "code",
   "execution_count": 34,
   "metadata": {},
   "outputs": [],
   "source": [
    "fr = open(\"files/test.txt\", \"rt\", encoding=\"utf-8\") "
   ]
  },
  {
   "cell_type": "code",
   "execution_count": 35,
   "metadata": {
    "scrolled": true,
    "slideshow": {
     "slide_type": "fragment"
    }
   },
   "outputs": [
    {
     "name": "stdout",
     "output_type": "stream",
     "text": [
      "안녕하세요.\n",
      "반갑습니다.\n",
      "Hello World\n",
      "fr 연결여부: True\n"
     ]
    }
   ],
   "source": [
    "with open(\"files/test.txt\", \"rt\", encoding=\"utf-8\") as fr:\n",
    "    txt = fr.read()\n",
    "#     print(10/0)\n",
    "\n",
    "# with block을 빠져 나옴. => 자동을 stream이 close 된다.\n",
    "print(txt)\n",
    "print(f\"fr 연결여부: {fr.closed}\")\n"
   ]
  },
  {
   "cell_type": "code",
   "execution_count": 17,
   "metadata": {},
   "outputs": [
    {
     "name": "stdout",
     "output_type": "stream",
     "text": [
      "파일 이름을 입력하세요.scatman john\n",
      "scatman john\n"
     ]
    },
    {
     "ename": "FileNotFoundError",
     "evalue": "[Errno 2] No such file or directory: 'files/scatman john.txt'",
     "output_type": "error",
     "traceback": [
      "\u001b[1;31m---------------------------------------------------------------------------\u001b[0m",
      "\u001b[1;31mFileNotFoundError\u001b[0m                         Traceback (most recent call last)",
      "\u001b[1;32m<ipython-input-17-c8dfe49f7d76>\u001b[0m in \u001b[0;36m<module>\u001b[1;34m\u001b[0m\n\u001b[0;32m     13\u001b[0m \u001b[0mname\u001b[0m \u001b[1;33m=\u001b[0m \u001b[0minput\u001b[0m\u001b[1;33m(\u001b[0m\u001b[1;34m\"파일 이름을 입력하세요.\"\u001b[0m\u001b[1;33m)\u001b[0m \u001b[1;31m#파일명 입력\u001b[0m\u001b[1;33m\u001b[0m\u001b[1;33m\u001b[0m\u001b[0m\n\u001b[0;32m     14\u001b[0m \u001b[0mprint\u001b[0m\u001b[1;33m(\u001b[0m\u001b[0mname\u001b[0m\u001b[1;33m)\u001b[0m\u001b[1;33m\u001b[0m\u001b[1;33m\u001b[0m\u001b[0m\n\u001b[1;32m---> 15\u001b[1;33m \u001b[0mfile\u001b[0m \u001b[1;33m=\u001b[0m \u001b[0mopen\u001b[0m\u001b[1;33m(\u001b[0m\u001b[1;34mf\"files/{name}.txt\"\u001b[0m\u001b[1;33m,\u001b[0m\u001b[1;34m\"wt\"\u001b[0m\u001b[1;33m,\u001b[0m\u001b[0mencoding\u001b[0m\u001b[1;33m=\u001b[0m\u001b[1;34m\"utf-8\"\u001b[0m\u001b[1;33m)\u001b[0m  \u001b[1;31m#연결\u001b[0m\u001b[1;33m\u001b[0m\u001b[1;33m\u001b[0m\u001b[0m\n\u001b[0m\u001b[0;32m     16\u001b[0m \u001b[1;33m\u001b[0m\u001b[0m\n\u001b[0;32m     17\u001b[0m \u001b[1;33m\u001b[0m\u001b[0m\n",
      "\u001b[1;31mFileNotFoundError\u001b[0m: [Errno 2] No such file or directory: 'files/scatman john.txt'"
     ]
    }
   ],
   "source": [
    "#todo---->1.파일명 입력, 2.연결 3.!q가 입력될 때까지 출력 4.close\n",
    "\n",
    "#이 코드를 적으면 좋다.\n",
    "\n",
    "\"\"\"\n",
    "os.makedirs(\"files\",exist_ok=True)\n",
    "\"\"\"\n",
    "\n",
    "\n",
    "#시간이 나면 강의 자료를 참고해 보아도 좋다.\n",
    "#강의 자료에는 다른 방법들도 있다.\n",
    "\n",
    "name = input(\"파일 이름을 입력하세요.\") #파일명 입력\n",
    "print(name)\n",
    "file = open(f\"files/{name}.txt\",\"wt\",encoding=\"utf-8\")  #연결\n",
    "\n",
    "\n",
    "statement = str(input(\"파일에 적고 싶은 내용을 입력하세요.\"))   #!q가 입력될 때까지 출력\n",
    "\n",
    "while(statement!=\"!q\"): #언제 끝이 날지 모르니 계속하는 것.\n",
    "    file.write(f\"{statement}\\n\")\n",
    "    statement = str(input(\"파일에 적고 싶은 내용을 입력하세요.\"))\n",
    "    #file.flush()  ---------> buffer의 내용을 연결된 자원에 출력\n",
    "    #flush를 사용하면 close를 사용하지 않더라도 내용 저장 가능.\n",
    "    #close\n",
    "print(\"!q를 입력하셨습니다. 프로세스를 종료합니다.\")\n",
    "file.close() #이거 안하면 안된다.\n",
    "\n",
    "\n",
    "\n",
    "#일시적으로 filenotfounderror가 난 것은 현재 디렉토리를 원하는 대로 \n",
    "#설정하지 않았기 때문이다."
   ]
  },
  {
   "cell_type": "code",
   "execution_count": null,
   "metadata": {},
   "outputs": [],
   "source": [
    "try:\n",
    "    연결\n",
    "    입/출력\n",
    "except:\n",
    "    예외처리\n",
    "finally:\n",
    "    fr.close()"
   ]
  },
  {
   "cell_type": "code",
   "execution_count": null,
   "metadata": {},
   "outputs": [],
   "source": [
    "#이런 식으로도 todo문제를 해결할 수 있다.\n",
    "\n",
    "with open(file_path,'wt',encoding=\"utf-8\")as fw:\n",
    "    print(\" 저장랑 내용을 입력하세요.\")\n",
    "    while True:\n",
    "        #한 줄 읽기\n",
    "        line_txt = input(\">>>\")\n",
    "        #!q 입력됐으면 종료\n",
    "        if line_txt == \"!q\":\n",
    "            break\n",
    "            #파일 출력\n",
    "        fw.write(line_txt+\"\\n\")\n",
    "        \n",
    "#with block 종료시 close는 자동을 처리\n",
    "print(\"종료\")"
   ]
  },
  {
   "cell_type": "markdown",
   "metadata": {},
   "source": [
    "# binary 데이터 입출력\n",
    "binary data ->  텍스트 인코딩을 하지 않고 입출력하는 데이터\n",
    "binary data를 출력을 할 때 bytes라는 타입으로 변환 후 출력을 한다. 타입마다 출력하려는 형식이 약간씩은 다르다보니 그렇게 받는 것이다. \n",
    "\n",
    "그냥 bytes 타입으로 통일을 혔다! 이렇게 보시면 되겠다.\n",
    "\n",
    "\n",
    "(bytes 타입은 어렵게 생각하지 말고, 그냥 2진수라고 보면 된다.)\n",
    "\n",
    "그래서 binary의 타입의 bytes이다. 그래. 데이터 타입이 약간 특이하지.\n",
    "\n",
    "binary data를 입력을 받으면, 'bytes' 타입으로 반환한다.\n",
    "\n",
    "\n",
    "그래서 각 타입을 출력시 bytes 타입으로 변환해야 하고,\n",
    "\n",
    "입력을 받을 때는 bytes를 각 타입으로 변환해야 한다.\n",
    "\n",
    "\n",
    "\n",
    "그래서, 이런 작업을 해 주는 것이 바로 pickle이다.\n",
    "\n"
   ]
  },
  {
   "cell_type": "code",
   "execution_count": null,
   "metadata": {},
   "outputs": [],
   "source": [
    "#예시----그냥 코드만 봐라. 자세히는 몰라도 되긴 하는데......ㅎㅎㅎ\n",
    "#binary data로 출/입력\n",
    "#정수 i를 bytes 타입을 변환\n",
    "#(크기======>(1바이트,2바이트,4바이트,8바이트,16바이트), 구성방식(0을 앞에 둘 것인가 뒤에 둘 것인가), 부호 있는지의 여부)\n",
    "#byteorder - little: 유효숫자이외의 0을 앞에 채움 big: 유효 숫자 이외의 0을 뒤에 채움.(10000000)\n",
    "#저장할 때와 읽어들일 때의 byteorder를 맞추기만 하면 된다.\n",
    "#signed = True는 부호를 따로 거시기하지 않는다.\n",
    "\n",
    "\n",
    "i=10\n",
    "i_bytes = i.to_bytes(1,byteorder=\"little\",signed=True) #'이런 식으로 변환을 하는구나'라고 생각을 하면 되겠다.\n",
    "with open(\"files/data.txt\",'wt') as fr:\n",
    "    #text mode로 출력. str 타입만 가능.\n",
    "    fw.write(i_bytes) #이렇게 하면 우리가 원하는 이진 데이터의 형식으로 저장을 한다.\n",
    "    \n",
    "    "
   ]
  },
  {
   "cell_type": "code",
   "execution_count": null,
   "metadata": {},
   "outputs": [],
   "source": [
    "with open(\"files/data2.data\",\"rb\") as fi:\n",
    "    value =fi.read() #이렇게 데이터를 불러오면 type으 bytes가 나온다."
   ]
  },
  {
   "cell_type": "code",
   "execution_count": null,
   "metadata": {},
   "outputs": [],
   "source": [
    "#bytes--->int 변환\n",
    "\n",
    "i_value =int.from_bytes(value,byteorder=\"little\",singed=True)\n",
    "print(i_value + 50)"
   ]
  },
  {
   "cell_type": "code",
   "execution_count": 23,
   "metadata": {},
   "outputs": [],
   "source": [
    "#출력:int(원래 타입)--------------출력하기 위해서 bytes로 변환---------------------그런 다음 출력---------->저장--------->입력 받음\n",
    "#위와 같은 과정을 거친 다음에 비로소 원래 타입인 ,int로 바꾼다.\n",
    "\n",
    "\n",
    "#근데 이렇게 변환하는 방식이 type마다 다르다.\n",
    "#그거를 해주는게 pickle이다. 이거를 쓰면 복잡하게 할 필요가 없다.\n",
    "\n"
   ]
  },
  {
   "cell_type": "code",
   "execution_count": null,
   "metadata": {},
   "outputs": [],
   "source": [
    "with open(\"files/data.txt\",'rt') as fr:\n",
    "    a = fr.read()\n",
    "\n",
    "print(int(a)+20)"
   ]
  },
  {
   "cell_type": "code",
   "execution_count": null,
   "metadata": {},
   "outputs": [],
   "source": [
    "i = 10\n",
    "#binary data로 출/입력\n",
    "\n",
    "with open(\"file/data2.dat\",\"wb\") as fo:\n",
    "    #print(type(fo)) #wb는 binary이고, 그렇기 때문에 type 형이 다르다.\n",
    "    fo.write(i) "
   ]
  },
  {
   "cell_type": "markdown",
   "metadata": {
    "slideshow": {
     "slide_type": "slide"
    }
   },
   "source": [
    "# pickle 모듈을 이용한 객체 직렬화\n",
    "\n",
    "## 객체 직렬화(Object Serialization)\n",
    "- 객체의 속성값들을 bytes로 변환해 출력하는 것을 객체 직렬화(Object Serialization) 이라고 한다.\n",
    "- bytes로 출력된 데이터를 읽어 객체화 하는 것을 객체 역직렬화(Object Deserialization) 이라고 한다."
   ]
  },
  {
   "cell_type": "markdown",
   "metadata": {
    "slideshow": {
     "slide_type": "fragment"
    }
   },
   "source": [
    "### pickle\n",
    "- 객체 파일 입출력을 위한 파이썬 모듈\n",
    "- open() 시 **binary mode**로 설정한다.\n",
    "- 저장시 파일 확장자는 보통 `pkl` 이나 `pickle` 로 한다.\n",
    "- ex)\n",
    "```python\n",
    "fw = open(\"data.pkl\", \"wb\") # 객체를 pickle에 저장하기 위한 output stream 생성\n",
    "fr = open(\"data.pkl\", \"rb\") # 파일에 저장된 객체를 읽어오기 위한 input stream 생성\n",
    "```\n",
    "- **메소드**\n",
    "    - dump(저장할 객체, fw) : 출력\n",
    "    - load(fr): 입력 - 읽은 객체를 반환한다."
   ]
  },
  {
   "cell_type": "code",
   "execution_count": 38,
   "metadata": {
    "slideshow": {
     "slide_type": "fragment"
    }
   },
   "outputs": [],
   "source": [
    "#예시\n",
    "#이것도 그렇게까지 막 중요하진 않다.\n",
    "\n",
    "i = 10\n",
    "\n",
    "import pickle\n",
    "#출력---->직렬화\n",
    "\n",
    "with open(\"int_data.pickle\",\"wb\") as fo: #객체를 pickle에 저장하기 위해!!\n",
    "    pickle.dump(i,fo)\n",
    "\n"
   ]
  },
  {
   "cell_type": "code",
   "execution_count": 39,
   "metadata": {},
   "outputs": [],
   "source": [
    "#입력----->역직렬화\n",
    "\n",
    "with open(\"int_data.pickle\",\"rb\") as fi:\n",
    "    r_value = pickle.load(fi)"
   ]
  },
  {
   "cell_type": "code",
   "execution_count": 40,
   "metadata": {},
   "outputs": [
    {
     "data": {
      "text/plain": [
       "(int, 10)"
      ]
     },
     "execution_count": 40,
     "metadata": {},
     "output_type": "execute_result"
    }
   ],
   "source": [
    "#출력\n",
    "\n",
    "type(r_value),r_value"
   ]
  },
  {
   "cell_type": "code",
   "execution_count": null,
   "metadata": {},
   "outputs": [],
   "source": [
    "from my_package import test_module as tm\n",
    "p  = tm.Person(\"홍길동\",20)\n",
    "print(p)"
   ]
  },
  {
   "cell_type": "code",
   "execution_count": null,
   "metadata": {},
   "outputs": [],
   "source": [
    "f_name = \"files/person.pickle\"\n",
    "with open(f_name,\"wb\") as fo:\n",
    "    pickle.dump(p,fo) #저장하기 위한 메소드"
   ]
  },
  {
   "cell_type": "code",
   "execution_count": null,
   "metadata": {},
   "outputs": [],
   "source": [
    "with open(f_name,\"rb\") as fi:\n",
    "    r_person = pickle.load(fi)#load하기 위한 메소드"
   ]
  },
  {
   "cell_type": "code",
   "execution_count": null,
   "metadata": {},
   "outputs": [],
   "source": [
    "type(r_person)\n",
    "print(r_person)"
   ]
  },
  {
   "cell_type": "markdown",
   "metadata": {
    "slideshow": {
     "slide_type": "skip"
    }
   },
   "source": [
    "# TODO"
   ]
  },
  {
   "cell_type": "markdown",
   "metadata": {
    "slideshow": {
     "slide_type": "skip"
    }
   },
   "source": [
    "- 간단한 터미널 기반 메모장\n",
    "    1. 사용자로부터 파일명을 입력받는다.\n",
    "    2. 사용자로부터 파일에 저장할 문장을 입력받아서 파일에 저장한다.\n",
    "        - 한줄씩 입력받는다.\n",
    "        - 사용자가 !q 를 입력하면 저장후 종료한다.\n",
    "    3. 사용자가 저장한 파일을 읽어서 출력한다.\n"
   ]
  },
  {
   "cell_type": "code",
   "execution_count": null,
   "metadata": {},
   "outputs": [],
   "source": [
    "# 1. 파일명 입력\n",
    "\n",
    "# 2. 연결\n",
    "\n",
    "# 3. !q가 입력될때까지 출력\n",
    "\n",
    "# 4. close (종료)"
   ]
  },
  {
   "cell_type": "code",
   "execution_count": null,
   "metadata": {},
   "outputs": [],
   "source": []
  },
  {
   "cell_type": "code",
   "execution_count": null,
   "metadata": {},
   "outputs": [],
   "source": []
  },
  {
   "cell_type": "code",
   "execution_count": null,
   "metadata": {},
   "outputs": [],
   "source": []
  },
  {
   "cell_type": "markdown",
   "metadata": {
    "slideshow": {
     "slide_type": "skip"
    }
   },
   "source": [
    "- member.csv 파일을 읽어서 각 열의 값을 배열에 담는다.    \n",
    "이름,나이,주소  형태의 csv를 읽어    \n",
    "```python\n",
    "names = []\n",
    "ages =[]\n",
    "addresses =[]    \n",
    "```\n",
    "리스트에 넣는다. \n",
    "- 단 첫줄은 head이므로 읽지 않는다.\n",
    "- 참고 함수: 문자열 split(), for문 관련 enumerate()\n",
    "\n"
   ]
  },
  {
   "cell_type": "code",
   "execution_count": 20,
   "metadata": {},
   "outputs": [],
   "source": [
    "#data파일에 풀이와 여러가지 코드, 설명들이 있다."
   ]
  },
  {
   "cell_type": "markdown",
   "metadata": {
    "slideshow": {
     "slide_type": "skip"
    }
   },
   "source": [
    "> **CSV (Comma Separated Value)** 파일\n",
    "> - 데이터들을 정형화(표)된 형태로 텍스트파일에 저장하는 방식\n",
    "> - 행은 하나의 데이터를 나타내고, 열은 하나의 속성을 나타낸다.\n",
    "> - 첫번째줄은 데이터 속성을 나타낸다.(예:이름,나이,주소)\n",
    "> - 하나의 데이터는 한줄에 표시. (데이터 구분자는 엔터)\n",
    "> - 하나의 데이터를 구성하는 값들(속성)들은 , 로 구분\n",
    ">     - tab으로 구분하는 경우 TSV \n",
    ">     - 각 속성값들은 \" \" 로 감싸기도 한다.\n",
    "> - 텍스트기반(그러므로 데이터를 저장하는 데에 가장 좋다.)\n",
    "> - 파일 확장자는 `.csv`, `.tsv` 로 준다.\n",
    "> - 여담으로 캐글 같은 곳에 가면 데이터를 csv로 준다."
   ]
  },
  {
   "cell_type": "code",
   "execution_count": 19,
   "metadata": {},
   "outputs": [
    {
     "name": "stdout",
     "output_type": "stream",
     "text": [
      "C:\\Users\\User\\부트캠프 강의-파이썬\\data\n",
      "C:\\Users\\User\\부트캠프 강의-파이썬\\data\n",
      "<class '_io.TextIOWrapper'>\n",
      "\n",
      "<class '_io.TextIOWrapper'>\n",
      "['유재석', '30', '서울\\n']\n",
      "['박명수', '35', '인천\\n']\n",
      "['정준하', '40', '부산\\n']\n",
      "['노홍철', '55', '광주\\n']\n",
      "['정형돈', '60', '대구']\n",
      "['유재석', '박명수', '정준하', '노홍철', '정형돈'] ['30', '35', '40', '55', '60'] ['서울', '인천', '부산', '광주', '대구']\n",
      "1 유재석\n",
      "2 박명수\n",
      "3 정준하\n",
      "4 노홍철\n",
      "5 정형돈\n",
      "1 30\n",
      "2 35\n",
      "3 40\n",
      "4 55\n",
      "5 60\n",
      "1 서울\n",
      "2 인천\n",
      "3 부산\n",
      "4 광주\n",
      "5 대구\n"
     ]
    }
   ],
   "source": [
    "#8월 25일 수업에서 했던 내용 코드. 잘 복습을 해보자. 코드를 보면 쉽다.\n",
    "\n",
    "import os\n",
    "cwd = os.getcwd()\n",
    "print(cwd)\n",
    "\n",
    "os.chdir(r\"C:\\Users\\User\\부트캠프 강의-파이썬\\data\")\n",
    "print(os.getcwd()) #현재 위치를 바꾼다.\n",
    "\n",
    "#member.csv파일을 연다.\n",
    "fw = open(\"members.csv\",mode=\"rt\",encoding=\"utf-8\")\n",
    "print(type(fw))\n",
    "\n",
    "read_txt = fw.read()\n",
    "print(read_txt)\n",
    "\n",
    "fw.close()\n",
    "\n",
    "\n",
    "names=[]\n",
    "ages=[]\n",
    "addresses=[]\n",
    "read_number=0\n",
    "#member.csv파일을 연다.\n",
    "fw = open(\"member.csv\",mode=\"rt\",encoding=\"utf-8\")\n",
    "print(type(fw))\n",
    "\n",
    "read_txt = fw.readline() #첫번째 줄은 생략!!\n",
    "while read_txt:\n",
    "    if read_number==0:\n",
    "        read_number+=1\n",
    "        \n",
    "    else:\n",
    "        print(read_txt.split(\",\"))\n",
    "        names.append(read_txt.split(\",\")[0])\n",
    "        ages.append(read_txt.split(\",\")[1])\n",
    "        addresses.append(read_txt.split(\",\")[2].strip())\n",
    "   \n",
    "    read_txt=fw.readline()\n",
    "    read_number+=1\n",
    "    \n",
    "fw.close()\n",
    "\n",
    "print(names,ages,addresses)\n",
    "\n",
    "\n",
    "for ln,txt in enumerate(names,start=1):\n",
    "    print(ln,txt.strip())\n",
    "for ln,txt in enumerate(ages,start=1):\n",
    "    print(ln,txt.strip())    \n",
    "for ln,txt in enumerate(addresses,start=1):\n",
    "    print(ln,txt.strip())    "
   ]
  },
  {
   "cell_type": "code",
   "execution_count": null,
   "metadata": {},
   "outputs": [],
   "source": []
  }
 ],
 "metadata": {
  "kernelspec": {
   "display_name": "Python 3",
   "language": "python",
   "name": "python3"
  },
  "language_info": {
   "codemirror_mode": {
    "name": "ipython",
    "version": 3
   },
   "file_extension": ".py",
   "mimetype": "text/x-python",
   "name": "python",
   "nbconvert_exporter": "python",
   "pygments_lexer": "ipython3",
   "version": "3.8.8"
  },
  "toc": {
   "base_numbering": 1,
   "nav_menu": {},
   "number_sections": true,
   "sideBar": true,
   "skip_h1_title": false,
   "title_cell": "Table of Contents",
   "title_sidebar": "Contents",
   "toc_cell": false,
   "toc_position": {},
   "toc_section_display": true,
   "toc_window_display": false
  },
  "varInspector": {
   "cols": {
    "lenName": 16,
    "lenType": 16,
    "lenVar": 40
   },
   "kernels_config": {
    "python": {
     "delete_cmd_postfix": "",
     "delete_cmd_prefix": "del ",
     "library": "var_list.py",
     "varRefreshCmd": "print(var_dic_list())"
    },
    "r": {
     "delete_cmd_postfix": ") ",
     "delete_cmd_prefix": "rm(",
     "library": "var_list.r",
     "varRefreshCmd": "cat(var_dic_list()) "
    }
   },
   "types_to_exclude": [
    "module",
    "function",
    "builtin_function_or_method",
    "instance",
    "_Feature"
   ],
   "window_display": false
  }
 },
 "nbformat": 4,
 "nbformat_minor": 4
}
