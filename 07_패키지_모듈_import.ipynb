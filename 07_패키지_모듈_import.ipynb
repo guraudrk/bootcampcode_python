{
 "cells": [
  {
   "cell_type": "markdown",
   "id": "9d39c99a",
   "metadata": {
    "slideshow": {
     "slide_type": "slide"
    }
   },
   "source": [
    "# 모듈(Module)\n",
    "\n",
    "- 독립적인 기능을 가지고 재사용가능한 프로그램 단위를 모듈이라고 한다.\n",
    "- **파이썬에서 모듈**은 재사용 가능한 함수, 클래스등을 작성한 소스 파일을 말한다.\n",
    "    - 함수나 클래스를 작성한 `.py` 스크립트 파일 파일이 모듈이 된다.\n",
    "- 모듈의 함수나 클래스들을 다른 python 프로그램에서 호출 하여 사용할 수 있다.\n",
    "    - 단 사용하기 위해서는 `import` 를 먼저 해야 한다.\n",
    "- 이런 모듈들을 모아 놓으면 라이브러리가 된다.\n",
    "- **모듈의 종류**\n",
    "    - 표준 모듈\n",
    "        - 파이썬에 내장된 모듈\n",
    "    - 사용자 정의 모듈\n",
    "        - 개발자가 재사용을 위해 직접 만든 모듈 \n",
    "    - 3rd Party 모듈\n",
    "        - 특정 개발업체나 개발자들이 만들어 배포하는 모듈\n",
    "        - 사용자 정의 모듈도 배포되어 다른 곳에서 사용되면 3rd party 모듈이 된다.\n",
    "\n",
    "\n"
   ]
  },
  {
   "cell_type": "code",
   "execution_count": 4,
   "id": "36eefffc",
   "metadata": {},
   "outputs": [],
   "source": [
    "#모듈-calculator.py(계산함수 제공)\n",
    "#모듈에 대한 주피터 노트북의 명령어(매직커멘드)---> %%writefile 저장할 파일 경로\n",
    "#위의 내용은 cell의 작성한 내용을 파일에 저장하는 코드이다.\n",
    "#주의사항:위의 코드는 무조건 한 셀의 첫번째줄에 나와야 한다.\n",
    "#셀을 실행시키면, 주피터 노트북에 파일이 추가되었다!"
   ]
  },
  {
   "cell_type": "code",
   "execution_count": 3,
   "id": "02290ed8",
   "metadata": {},
   "outputs": [
    {
     "name": "stdout",
     "output_type": "stream",
     "text": [
      "Writing calculater.py\n"
     ]
    }
   ],
   "source": [
    "%%writefile calculater.py\n",
    "def plus(n1,n2):\n",
    "    return n1+n2\n",
    "def minus(n1,n2):\n",
    "    return n1-n2\n",
    "def multiply(n1,n2):\n",
    "    return n1*n2\n",
    "def divide(n1,n2):\n",
    "    return n1/n2"
   ]
  },
  {
   "cell_type": "code",
   "execution_count": 5,
   "id": "de41d15f",
   "metadata": {},
   "outputs": [],
   "source": [
    "#모듈을 load하는 코드\n",
    "#%load 파일 이름\n",
    "#예: %load calculator.py\n",
    "#위의 커멘드를 치면, 파일 안의 코드가 자동으로 로드된다."
   ]
  },
  {
   "cell_type": "code",
   "execution_count": null,
   "id": "e933ef96",
   "metadata": {},
   "outputs": [],
   "source": [
    "# %load calculater.py\n",
    "def plus(n1,n2):\n",
    "    return n1+n2\n",
    "def minus(n1,n2):\n",
    "    return n1-n2\n",
    "def multiply(n1,n2):\n",
    "    return n1*n2\n",
    "def divide(n1,n2):\n",
    "    return n1/n2\n"
   ]
  },
  {
   "cell_type": "code",
   "execution_count": 9,
   "id": "4d0a1229",
   "metadata": {},
   "outputs": [
    {
     "name": "stdout",
     "output_type": "stream",
     "text": [
      "Overwriting my_package/test_module.py\n"
     ]
    }
   ],
   "source": [
    "%%writefile my_package/test_module.py\n",
    "\n",
    "#위와 같이 파일 경로를 지정해 주면 my_module폴더 안에 test_module.py 파일이 생긴다.\n",
    "\n",
    "\n",
    "#모듈의 버전을 표기한다. 버전은 문자열로 표기한다.\n",
    "__version__ = \"1.0\"\n",
    "def greet(name):\n",
    "    return f\"{name}님 안녕하세요\"\n",
    "def gugudan(dan):\n",
    "    for i in range(1,10):\n",
    "        print(f\"{dan}X{i}={dan*i}\")\n",
    "class Person:\n",
    "    def __init__(self,name,age):\n",
    "        self.age = age\n",
    "        self.name = name\n",
    "    def __str__(self):\n",
    "        return f\"이름: {self.name}, 나이: {self.age}\""
   ]
  },
  {
   "cell_type": "markdown",
   "id": "0ba07092",
   "metadata": {
    "slideshow": {
     "slide_type": "slide"
    }
   },
   "source": [
    "# 패키지 (Package)\n",
    "- 모듈들을 모아 놓은 것을 패키지라고 한다.\n",
    "    - 그래서 파이썬에서는 **라이브러리를 패키지라고 한다.** (재사용가능한 모듈들을 모아 놓은 것이 패키지이므로)\n",
    "- 물리적으로는 모듈 파일들을 모아놓은 디렉토리(폴더)가 패키지이다.  \n",
    "- python 3.3 이전 버전은 package 디렉토리에 **\\_\\_init\\_\\_.py** 파일을 그 디렉토리에 반드시 위치시켜야 한다.\n",
    "    - 3.3 이후에는 위치시킬 필요는 없지만 package안의 모듈들의 import 관련 설정을 해야 하는 경우에는 `__init__.py`에 작성하고 위치시킨다.\n",
    "- **Root Package**\n",
    "    - 전체 모듈들을 담고 있는 최상위 패키지(디렉토리)\n",
    "    - 패키지 내의 속한 패키지를 통칭 **sub package** 라고 한다.\n",
    "    - Root package를 제외한 모든 package들은 다 sub package가 된다."
   ]
  },
  {
   "cell_type": "code",
   "execution_count": null,
   "id": "00a662f2",
   "metadata": {},
   "outputs": [],
   "source": []
  },
  {
   "cell_type": "markdown",
   "id": "4a874a76",
   "metadata": {
    "slideshow": {
     "slide_type": "slide"
    }
   },
   "source": [
    "# import\n",
    "\n",
    "## 함수, 클래스 정의란\n",
    "1. 함수, 클래스를 구현한다.\n",
    "2. 구현된 함수, 클래스를 파이썬 실행환경에 등록한다.\n",
    "    - 등록하는 것은 메모리에 올리는(loading) 작업이다.\n",
    "    - 메모리에 올리기 위해서는 구현된 것을 실행시켜서 파이썬 실행환경이 읽도록 해야 한다.\n",
    "- 파이썬 실행환경에 등록된 함수와 클래스만 호출해서 사용할 수 있다."
   ]
  },
  {
   "cell_type": "markdown",
   "id": "654df5d6",
   "metadata": {
    "slideshow": {
     "slide_type": "subslide"
    }
   },
   "source": [
    "## import 란\n",
    "- 파이썬 모듈 파일에 정의된 변수, 함수, 클래스들을 사용하기 위해 **파이썬 실행환경에 등록하는 작업**을 말한다.\n",
    "- 현재 프로그램 모듈의 것들이 아니라 **다른 모듈에 있는 것들은 사용하기 위해 import 작업을 먼저 해야 한다.**\n",
    "- 모듈을 import 하면 모듈의 내용이 실행되면서 그 안에 구현된 변수, 함수, 클래스들이 파이썬 실행환경에 그 모듈 이름을 namespace로 하여 등록된다.\n",
    "\n",
    "\n",
    "> - **namespace**\n",
    ">    - 여러개의 객체(존재하는 무언가)를 하나로 묶어 주면서 구분자 역할을 하는 이름을 주는 것을 namespace라고 한다.\n",
    ">    - namespace를 이용해 각 그룹들의 객체들을 구분할 수 있다. 그래서 같은 이름의 객체들을 사용할 수 있다.\n",
    ">    - 파이썬에서는 모듈에 정의된 변수, 함수, 클래스 들을 실행환경에 등록할 때 모듈명을 namespace로 묶어서 등록한다.\n",
    ">    - [위키백과 참고](https://ko.wikipedia.org/wiki/%EC%9D%B4%EB%A6%84%EA%B3%B5%EA%B0%84)"
   ]
  },
  {
   "cell_type": "markdown",
   "id": "34083bd0",
   "metadata": {
    "slideshow": {
     "slide_type": "subslide"
    }
   },
   "source": [
    "## import 구문\n",
    "- 기본구문\n",
    "    - `[from 사용할 것의 경로] import 사용할 것 [as 별칭] [, 사용할 것..]`\n",
    "    - \\[ \\] : 생략 가능한 구문\n",
    "    - 사용할 것\n",
    "        - 모듈\n",
    "        - 모듈안에 정의된 변수, 함수, 클래스"
   ]
  },
  {
   "cell_type": "markdown",
   "id": "37a67c0e",
   "metadata": {
    "slideshow": {
     "slide_type": "subslide"
    }
   },
   "source": [
    "<b style='font-size:1.2em'> 1. 모듈 import</b>\n",
    "```python\n",
    "import 모듈   # 하나의 모듈 import.\n",
    "import 모듈 as 별칭 # namespace의 이름을 모듈명이 아니라 별칭으로 지정한다.\n",
    "import 모듈_1, 모듈_2 # 여러개 모듈 import.','를 구분자로 나열한다.\n",
    "```\n",
    "- 모듈을 import 하고 그 안에 함수, 클래스들을 사용할 때는 모듈명이 namespace 역할을 하기 때문에 `모듈명.함수()`, `모듈명.Class` 구문으로 호출한다.\n",
    "- 별칭(Alias)를 주면 namespace로 별칭을 사용한다.\n",
    "- **예**\n",
    "```python\n",
    "import test_module\n",
    "import my_module as mm\n",
    "# test_module의 hello() 함수 호출시\n",
    "test_module.hello()\n",
    "# my_module은 mm 별칭을 지정했으므로 mm을 namespace로 사용한다.\n",
    "p = mm.Person('홍길동', 30) # my_module의 Person 클래스 객체 생성\n",
    "3```"
   ]
  },
  {
   "cell_type": "code",
   "execution_count": 11,
   "id": "5709c926",
   "metadata": {
    "scrolled": true,
    "slideshow": {
     "slide_type": "fragment"
    }
   },
   "outputs": [
    {
     "name": "stdout",
     "output_type": "stream",
     "text": [
      "2\n",
      "-100\n"
     ]
    }
   ],
   "source": [
    "#calculater.py 모듈을 import\n",
    "import calculater\n",
    "#calculate 모듈의 함수를 호출하기 위해서는 모듈명.함수명() 이다.\n",
    "#별명을 설정할 때는 as를 쓴다.\n",
    "r = calculater.plus(1,1)\n",
    "r2 = calculater.minus(100,200)\n",
    "print(r)\n",
    "print(r2)"
   ]
  },
  {
   "cell_type": "code",
   "execution_count": 13,
   "id": "5a5df2a8",
   "metadata": {},
   "outputs": [
    {
     "name": "stdout",
     "output_type": "stream",
     "text": [
      "3\n"
     ]
    }
   ],
   "source": [
    "#별명을 써보자!\n",
    "\n",
    "import calculater as calc\n",
    "\n",
    "print(calc.plus(1,2))"
   ]
  },
  {
   "cell_type": "markdown",
   "id": "63abaa38",
   "metadata": {
    "slideshow": {
     "slide_type": "subslide"
    }
   },
   "source": [
    "<b style='font-size:1.2em'>2. 모듈내의 특정 항목만 import</b>\n",
    "```python \n",
    "from 모듈 import 함수  # 함수/클래스가 있는 모듈과 함수를 분리해서 import한다.\n",
    "from 모듈 import 클래스\n",
    "from 모듈 import 함수_1, 함수_2, 클래스\n",
    "from 모듈 import *   \n",
    "```\n",
    "- 모듈에 정의된 **일부 함수나 클래스만 사용할 경우** 개별적으로 import 할 수있다.\n",
    "- `from 모듈 import 함수` 구문으로 import 하면 import한 **함수나 클래스들이 현재 실행중인 모듈의 namespace로 들어간다. 그래서 모듈명없이 바로 호출 할 수 있다.**\n",
    "- `*`를 이용하면 그 모듈의 모든 함수/클래스들을 현재 실행중인 namespace에 추가해 사용할 수 있게 해준다. 이 방식은 **이름 충돌의 가능성이 있기때문에 추천되지 않는다.**"
   ]
  },
  {
   "cell_type": "code",
   "execution_count": 16,
   "id": "fc1ac887",
   "metadata": {
    "slideshow": {
     "slide_type": "fragment"
    }
   },
   "outputs": [
    {
     "data": {
      "text/plain": [
       "'홍길동님 안녕하세요'"
      ]
     },
     "execution_count": 16,
     "metadata": {},
     "output_type": "execute_result"
    }
   ],
   "source": [
    "#my_package/test.module.py 를 import\n",
    "#import test_module #현재 설정중인 모듈이 있는 디렉토리에서 찾는다.\n",
    "\n",
    "import my_package.test_module\n",
    "\n",
    "my_package.test_module.greet(\"홍길동\") #근데 이렇게 하면 너무 길다!"
   ]
  },
  {
   "cell_type": "code",
   "execution_count": 17,
   "id": "c6edbb86",
   "metadata": {},
   "outputs": [
    {
     "name": "stdout",
     "output_type": "stream",
     "text": [
      "이순신님 안녕하세요\n"
     ]
    }
   ],
   "source": [
    "import my_package.test_module as tm\n",
    "\n",
    "print(tm.greet(\"이순신\"))"
   ]
  },
  {
   "cell_type": "code",
   "execution_count": 18,
   "id": "15b4ecd9",
   "metadata": {},
   "outputs": [
    {
     "data": {
      "text/plain": [
       "'이장한님 안녕하세요'"
      ]
     },
     "execution_count": 18,
     "metadata": {},
     "output_type": "execute_result"
    }
   ],
   "source": [
    "#위의 것을 이렇게 바꾼다.\n",
    "\n",
    "from my_package import test_module\n",
    "\n",
    "test_module.greet(\"이장한\")"
   ]
  },
  {
   "cell_type": "code",
   "execution_count": 19,
   "id": "abba43f9",
   "metadata": {},
   "outputs": [
    {
     "data": {
      "text/plain": [
       "'richlee님 안녕하세요'"
      ]
     },
     "execution_count": 19,
     "metadata": {},
     "output_type": "execute_result"
    }
   ],
   "source": [
    "#더 간단히 하고 싶다면 이렇게 한다.\n",
    "\n",
    "from my_package import test_module as t\n",
    "\n",
    "t.greet(\"richlee\")"
   ]
  },
  {
   "cell_type": "markdown",
   "id": "b8bc6da8",
   "metadata": {
    "slideshow": {
     "slide_type": "subslide"
    }
   },
   "source": [
    "<b style='font-size:1.2em'>3. 패키지에 속한 모듈 import</b>\n",
    "\n",
    "```python\n",
    "import 패키지명.모듈\n",
    "from 패키지명 import 모듈\n",
    "from 패키지명 import 모듈_1, 모듈_2\n",
    "from 패키지명.모듈 import 함수\n",
    "from 패키지명.모듈 import 클래스\n",
    "from 패키지명.모듈 import 함수_1, 함수_2, 클래스\n",
    "from Root패키지.Sub패키지1.Sub패키지2 import 모듈        # 패키지가 계층구조로 되있을 경우 `.` 으로 이용해 나열한다.\n",
    "from Root패키지.Sub패키지1.Sub패키지2.모듈 import 함수\n",
    "from Root패키지.Sub패키지1.Sub패키지2.모듈 import 클래스\n",
    "```\n",
    "\n",
    "- 패키지에 속한 모듈을 import 할 때는 **from 절에 패키지를 import 절에 모듈을** 설정한다.\n",
    "- **import 가능한 것은 변수, 모듈, 함수, 클래스 들이다.**  <b style='color:red'>패키지는 import 할수 없다.</b>"
   ]
  },
  {
   "cell_type": "code",
   "execution_count": 20,
   "id": "6ebd3cdd",
   "metadata": {
    "slideshow": {
     "slide_type": "fragment"
    }
   },
   "outputs": [
    {
     "data": {
      "text/plain": [
       "300"
      ]
     },
     "execution_count": 20,
     "metadata": {},
     "output_type": "execute_result"
    }
   ],
   "source": [
    "#모듈 안의 특정 함수를 import\n",
    "#이렇게 한다면 함수를 그냥 쓰면 된다.\n",
    "from calculater import plus\n",
    "\n",
    "plus(100,200)"
   ]
  },
  {
   "cell_type": "code",
   "execution_count": 21,
   "id": "7cff7460",
   "metadata": {},
   "outputs": [
    {
     "name": "stdout",
     "output_type": "stream",
     "text": [
      "2\n",
      "0\n"
     ]
    }
   ],
   "source": [
    "#여러 함수를 import\n",
    "\n",
    "from calculater import plus,minus\n",
    "\n",
    "print(plus(1,1))\n",
    "print(minus(2,2))"
   ]
  },
  {
   "cell_type": "markdown",
   "id": "fdb1534b",
   "metadata": {},
   "source": [
    "## 같은 함수이름이 있을 때 \n",
    "\n",
    "plus라는 이름의 함수가 있다고 치자.\n",
    "\n",
    "그러면 import를 잘 해야 한다.\n",
    "\n",
    "예를 들어 이미 plus라는 함수를 정의했다면 \n",
    "\n",
    "\n",
    "\n",
    "from cal import plus라는 식으로 코드를 적으면 \n",
    "\n",
    "plus 함수가 덮어씌워진다.\n",
    "\n",
    "이를 막기 위해서는 \n",
    "\n",
    "import cal as c\n",
    "\n",
    "\n",
    "이런 식으로 plus를 직접적으로 정의를 해서 \n",
    "\n",
    "내가 미리 만들어놓은 놈과 충돌하는 경우를 만들어서는 안된다. "
   ]
  },
  {
   "cell_type": "markdown",
   "id": "b996808a",
   "metadata": {},
   "source": [
    "## 주피터노트북과 변경사항 저장\n",
    "\n",
    "주피터 노트북에서 모듈을 변경하면 변경한 즉시\n",
    "\n",
    "변경내용이 적용되는 것이 아니라 \n",
    "\n",
    "커널을 껐다가 켜야(내부적으로 껐다가 켜야) 변경사항이 적용된다.\n",
    "\n",
    "이를 위해서 주피터노트북의 restart 기능을 써야 한다.\n"
   ]
  },
  {
   "cell_type": "markdown",
   "id": "6a263cf2",
   "metadata": {
    "slideshow": {
     "slide_type": "slide"
    }
   },
   "source": [
    "## import 된 모듈 찾는 경로 및 PYTHONPATH\n",
    "\n",
    "- `import 모듈` 구문을 사용하면 파이썬 실행 환경은 모듈을 다음 경로에서 찾는다.\n",
    "    1. 현재 실행중인 모듈(import 구문을 사용한 모듈)이 있는 경로\n",
    "    2. 파이썬 실행환경에 등록된 경로\n",
    "- 모듈을 찾는 순서는 다음에서 확인할 수 있다.\n",
    "```python\n",
    "import sys      # 표준모듈 sys\n",
    "print(sys.path) # 모듈을 찾는 경로를 저장한 list\n",
    "```\n",
    "- 위의 경로 이외에 파이썬 모듈이 있을 경우 PYTHONPATH 환경변수에 그 디렉토리 경로를 등록한다.\n",
    "    1. sys.path 에 추가한다. (사용할 때 마다 추가해야 한다.)\n",
    "    2. 운영체제 환경변수에 등록한다. (한번만 하면된다.)"
   ]
  },
  {
   "cell_type": "code",
   "execution_count": null,
   "id": "7c356d60",
   "metadata": {
    "slideshow": {
     "slide_type": "fragment"
    }
   },
   "outputs": [],
   "source": []
  },
  {
   "cell_type": "markdown",
   "id": "4222ef77",
   "metadata": {
    "slideshow": {
     "slide_type": "slide"
    }
   },
   "source": [
    "# 메인 모듈(Main Module)과 하위 모듈(Sub Module)\n",
    "\n",
    "- **메인 모듈**\n",
    "    - 현재 실행하고 있는 모듈\n",
    "        - `python 모듈.py` 로 실행된 모듈을 말한다.\n",
    "    - application 의 main logic을 처리한다.\n",
    "- **하위 모듈 (Sub module)**\n",
    "    - 메인 모듈에서 import 되어 실행되는 모듈\n",
    "    - 모듈을 import하면 그 모듈을 실행 시킨다. 이때 모듈에 있는 실행코드들도 같이 실행된다. 이것을 방지 하기 위해 모듈이 메인 모듈로 실행되는지 하위 모듈로 실행되는지 확인이 필요하다.\n",
    "- <b>`__name__`</b> 내장 전역변수\n",
    "    - 실행 중인 모듈명을 저장하는 내장 전역변수\n",
    "    - **메인 모듈은 '\\_\\_main\\_\\_'** 을 **하위 모듈은 모듈명(파일명)** 이 저장된다.\n",
    "    - 모듈이 메인 모듈로 시작하는지 여부 확인 할 때 사용한다.\n",
    "    \n",
    "```python\n",
    "if __name__ == '__main__':\n",
    "    # 메인모듈일 때만 실행할 코드 블록\n",
    "```"
   ]
  },
  {
   "cell_type": "code",
   "execution_count": null,
   "id": "f958ebb9",
   "metadata": {
    "slideshow": {
     "slide_type": "fragment"
    }
   },
   "outputs": [],
   "source": []
  }
 ],
 "metadata": {
  "kernelspec": {
   "display_name": "Python 3",
   "language": "python",
   "name": "python3"
  },
  "language_info": {
   "codemirror_mode": {
    "name": "ipython",
    "version": 3
   },
   "file_extension": ".py",
   "mimetype": "text/x-python",
   "name": "python",
   "nbconvert_exporter": "python",
   "pygments_lexer": "ipython3",
   "version": "3.8.8"
  },
  "toc": {
   "base_numbering": 1,
   "nav_menu": {},
   "number_sections": true,
   "sideBar": true,
   "skip_h1_title": false,
   "title_cell": "Table of Contents",
   "title_sidebar": "Contents",
   "toc_cell": false,
   "toc_position": {},
   "toc_section_display": true,
   "toc_window_display": false
  },
  "varInspector": {
   "cols": {
    "lenName": 16,
    "lenType": 16,
    "lenVar": 40
   },
   "kernels_config": {
    "python": {
     "delete_cmd_postfix": "",
     "delete_cmd_prefix": "del ",
     "library": "var_list.py",
     "varRefreshCmd": "print(var_dic_list())"
    },
    "r": {
     "delete_cmd_postfix": ") ",
     "delete_cmd_prefix": "rm(",
     "library": "var_list.r",
     "varRefreshCmd": "cat(var_dic_list()) "
    }
   },
   "types_to_exclude": [
    "module",
    "function",
    "builtin_function_or_method",
    "instance",
    "_Feature"
   ],
   "window_display": false
  }
 },
 "nbformat": 4,
 "nbformat_minor": 5
}
