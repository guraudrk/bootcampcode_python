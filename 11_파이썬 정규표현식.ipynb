{
 "cells": [
  {
   "cell_type": "markdown",
   "metadata": {
    "slideshow": {
     "slide_type": "slide"
    }
   },
   "source": [
    "# <font size=50>정규 표현식 (Regular Expression)</font>"
   ]
  },
  {
   "cell_type": "markdown",
   "metadata": {
    "slideshow": {
     "slide_type": "fragment"
    }
   },
   "source": [
    "# 정규 표현식(Regular Expression) 개요\n",
    "\n",
    "## 정규 표현식이란\n",
    "- 텍스트에서 특정한 형태나 규칙을 가지는 문자열을 찾기 위해 그 형태나 규칙을 정의하는 것.\n",
    "- 파이썬 뿐만 아니라 문자열을 다루는 모든 곳에서 사용된다.\n",
    "- **정규식, Regexp**이라고도 한다."
   ]
  },
  {
   "cell_type": "code",
   "execution_count": 1,
   "metadata": {},
   "outputs": [],
   "source": [
    "#정규 표현식은 아주 가끔가다 한번씩 쓰는 것이기 때문에 '아 이거 뭐냐'라는 생각이 많이 들 수 있다.\n",
    "#텍스트의 패턴 또한 구분을 해야 하는데, 그것도 잘 알아야 한다.\n",
    "#그래서, 내가 필요한 것만 골라서 쓰는 것이 좋다.\n",
    "\n",
    "\n",
    "#근데 이거 쓰다가 문제가 되려 늘어나는 경우가 있기도 한데...... 크흠\n"
   ]
  },
  {
   "cell_type": "code",
   "execution_count": 2,
   "metadata": {},
   "outputs": [
    {
     "data": {
      "text/plain": [
       "True"
      ]
     },
     "execution_count": 2,
     "metadata": {},
     "output_type": "execute_result"
    }
   ],
   "source": [
    "#예시이다.\n",
    "s=\"aaabbbbbcccc 010-7774-7638 asdkdpwqdkdwq\"\n",
    "\n",
    "#근데, 이 중에서 010-7774-7638이 있는지의 여부를 봐야 한다.\n",
    "\n",
    "\"010-7774-7638\" in s"
   ]
  },
  {
   "cell_type": "code",
   "execution_count": 5,
   "metadata": {},
   "outputs": [
    {
     "data": {
      "text/plain": [
       "'aaabbbbbcccc 전화번호 asdkdpwqdkdwq'"
      ]
     },
     "execution_count": 5,
     "metadata": {},
     "output_type": "execute_result"
    }
   ],
   "source": [
    "#010-7774-7638을 다른 문자열로 변환\n",
    "\n",
    "s.replace(\"010-7774-7638\",\"전화번호\")\n",
    "#이렇게 함수를 쓰면 '전화번호'로 텍스트를 바꿀 수 있다.\n",
    "#근데 문제는 뭔가를 바꾸고자 한다면 과도하게 높은 정확성을 요구한다.\n",
    "#그래서 정규 표현식은 정확히 같은 것을 찾는 것이 아니라, '같은 형식'을 다룬다.\n",
    "\n"
   ]
  },
  {
   "cell_type": "code",
   "execution_count": 6,
   "metadata": {},
   "outputs": [],
   "source": [
    "#'뭔진 모르지만, 앞은 010이고, -와 -사이에 각각 4개의 숫자들이 들어올거야!'라는 식으로 정해주는 것이다.\n",
    "\n",
    "\n"
   ]
  },
  {
   "cell_type": "markdown",
   "metadata": {
    "slideshow": {
     "slide_type": "fragment"
    }
   },
   "source": [
    "## 기본개념\n",
    "- **패턴** \n",
    "    - 정규 표현식이라고 한다.\n",
    "    - 문장내에서 찾기위한 문구의 형태에 대한 표현식.\n",
    "- **메타문자**\n",
    "    - 패턴을 기술하기 위해 사용되는 특별한 의미를 가지는 문자\n",
    "    - 예) `a*` : a가 0회 이상 반복을 뜻한다. a, aa, aaaa\n",
    "- **리터럴**\n",
    "    - 표현식이 값 자체를 의미하는 것\n",
    "    - 예) `a`는 `a` 자체를 의미한다.    "
   ]
  },
  {
   "cell_type": "code",
   "execution_count": 7,
   "metadata": {},
   "outputs": [],
   "source": [
    "#그냥 어렵게 생각하지 마라.\n",
    "#거의 모든 정규 표현식은 메타문자와 리터럴을 조합해서 사용하는 것이라고 볼 수 있다.\n",
    "#메타문자와 리터럴의 차이를 잘 보자. 리터널은 영단어(literal)을 잘 생각해 본다면 의미를 잘 알 수 있다.\n",
    "\n"
   ]
  },
  {
   "cell_type": "markdown",
   "metadata": {
    "slideshow": {
     "slide_type": "slide"
    }
   },
   "source": [
    "# 정규 표현식 메타 문자\n",
    "- 패턴을 기술하기 위한 문자"
   ]
  },
  {
   "cell_type": "markdown",
   "metadata": {
    "slideshow": {
     "slide_type": "fragment"
    }
   },
   "source": [
    "## 문자 클래스 :  [  ]\n",
    "- `[ ]` 사이의 문자들과 매칭\n",
    "    - `[abc]` : a, b, c 중 **하나의 문자**와 매치 (전부 다 와야 한다는 것이 아니다!)\n",
    "- `-`를 이용해 범위로 설정할 수 있다.\n",
    "    - `[a-z]` : 알파벳소문자중 하나의 문자와 매치\n",
    "    - `[a-zA-Z0-9]` : 알파벳대소문자와 숫자 중 하나의 문자와 매치\n",
    "    - `[가-힣ㄱ-ㅎㅏ-ㅣ]` : 힣글로 구성되어 있는 모든 문자!\n",
    "- `[^ 패턴]` : ^ 으로 시작하는 경우 반대의 의미\n",
    "    - `[^abc]` : a, b, c를 제외한 나머지 문자들 중 하나와 매치. (not의 개념이다.)\n",
    "    - `[^a-z]` : 알파벳 소문자를 제외한 나머지 문자들 중 하나와 매치"
   ]
  },
  {
   "cell_type": "code",
   "execution_count": null,
   "metadata": {},
   "outputs": [],
   "source": [
    "#문자 클래스는 []로 시작한다.\n",
    "\n",
    "#클래스 문법은 '어떤 자리에 어떤 문자가 와야만 하는가? 어떤게 오면 안되는가?' 라는 것에 대해 이야기한다.\n",
    "#자세한 것은 위의 것을 잘 살펴보자. 특히 문자의 범위를 이야기하는 것에 대해 잘 살펴보자.\n",
    "\n",
    "\n"
   ]
  },
  {
   "cell_type": "markdown",
   "metadata": {
    "slideshow": {
     "slide_type": "subslide"
    }
   },
   "source": [
    "## 미리 정의된 문자 클래스\n",
    "- 자주 사용되는 문자클래스를 미리 정의된 별도 표기법으로 제공한다.\n",
    "- `\\d` : 숫자와 매치. [0-9]와 동일\n",
    "- `\\D` : `\\d`의 반대. 숫자가 아닌 문자와 매치.  [^0-9]와 동일\n",
    "- `\\w` : 문자와 숫자, _(underscore)와 매치. `[a-zA-Z가-힣0-9_]`와 동일  (문자는 특수문자 제외한 일반문자-언어상관없는-들을 말한다.\n",
    "- `\\W` : `\\w`의 반대. 문자와 숫자와 _ 가 아닌 문자와 매치.  `[^a-zA-Z가-힣0-9_]`와 동일\n",
    "- `\\s` : 공백문자와 매치. tab,줄바꿈,공백문자와 일치\n",
    "- `\\S` : `\\s`와 반대. 공백을 제외한 문자열과 매치.\n",
    "- `\\b` : 단어 경계(word boundary) 표시. 보통 단어 경계로 빈문자열\n",
    "    - 단어경계: 단어(글자- `\\w`)와 단어가 아닌 문자사이를 가리킨다.\n",
    "    - `\\b가족\\b` => 우리 가족 만세(O), 우리가족만세 (X)\n",
    "- `\\B` : `\\b`의 반대. 단어 경계로 구분된 단어가 아닌 경우\n",
    "    - `\\B가족\\B` => 우리 가족 만세(X), 우리가족만세 (O)"
   ]
  },
  {
   "cell_type": "code",
   "execution_count": 9,
   "metadata": {},
   "outputs": [],
   "source": [
    "#위의 것은 많이 쓰이는 것들을 미리 정해둔 것이다. c언어에서 많이 봤지?\n",
    "#유의해야 할 것은 여기서의 대문자는 not과 개념이 비슷하다는 것이다. (^도 같은 의미이다.)\n",
    "\n",
    "#예를 들어 \\d\\d\\d 이면 숫자3개가 올 수 있다는 것이다.\n",
    "#b는 단어 경계를 표시한다. 단어와 단어 사이로 구분해 주는 것이다.\n",
    "\n",
    "#단어 경계의 예시는 (공백,.,-,',') 등이 있다."
   ]
  },
  {
   "cell_type": "code",
   "execution_count": null,
   "metadata": {},
   "outputs": [],
   "source": []
  },
  {
   "cell_type": "markdown",
   "metadata": {
    "slideshow": {
     "slide_type": "subslide"
    }
   },
   "source": [
    "## 글자수와 관련된 메타문자\n",
    "- `*` : 앞의 문자(패턴)과 일치하는 문자가 0개 이상인 경우. (`a*b`)\n",
    "- `+` : 앞의 문자(패턴)과 일치하는 문자가 1개이상인 경우.  (`a+b`) (안오면 안된다는 의미이다.)\n",
    "- `?` :  앞의 문자(패턴)과 일치하는 문자가 한개 있거나 없는 경우. (`a?b`)\n",
    "- `{m}` : 앞의 문자(패턴)가 m개. (`a{3}b`)\n",
    "- `{m,}` : 앞의 문자(패턴)이 m개 이상. (`a{3,}b`)\n",
    "    - , 뒤에 공백이 들어오지 않도록 한다.\n",
    "- `{m,n}` : 앞의 문자(패턴)이 m개이상 n개 이하. (`a{2,5}b`)    \n",
    "- `.`, `*`, `+`, `?` 를 리터럴로 표현할 경우 `\\`를 붙인다."
   ]
  },
  {
   "cell_type": "code",
   "execution_count": 10,
   "metadata": {},
   "outputs": [],
   "source": [
    "#이거 프언에서 배우지 않았나??\n",
    "#근데 그닥 많이 쓰는거 같지는 않은데......\n",
    "#그냥 '이런게 있구나'라고 생각하는 정도로만 기억하자.\n",
    "\n"
   ]
  },
  {
   "cell_type": "markdown",
   "metadata": {
    "ExecuteTime": {
     "end_time": "2019-05-15T10:08:16.413433Z",
     "start_time": "2019-05-15T10:08:16.407394Z"
    },
    "slideshow": {
     "slide_type": "subslide"
    }
   },
   "source": [
    "## 문장의 시작과 끝 표현\n",
    "- `^` 문자열의 시작 (`^abc`)\n",
    "    - 문자 클래스([ ])의 ^와는 의미가 다르다.\n",
    "- `$` : 문자열의 끝 (`abc$`)"
   ]
  },
  {
   "cell_type": "code",
   "execution_count": 12,
   "metadata": {},
   "outputs": [],
   "source": [
    "#전자는 문자열의 시작을 이야기하는 것이고 후자는 abc로 문자열이 끝이 난다는 것을 의미한다.\n",
    "\n"
   ]
  },
  {
   "cell_type": "markdown",
   "metadata": {
    "ExecuteTime": {
     "end_time": "2019-05-15T10:08:16.413433Z",
     "start_time": "2019-05-15T10:08:16.407394Z"
    },
    "slideshow": {
     "slide_type": "fragment"
    }
   },
   "source": [
    "## 기타\n",
    "- `.` : 한개의 모든 문자(\\n-줄바꿈 제외) (`a.b`)\n",
    "- `|` : 둘중 하나(OR) (?:010|011|016|019)\n",
    "    - 010|016-111 : 010 또는 016-111 이 된다. \n",
    "- `(  )` : 패턴내 하위그룹을 만들때 사용"
   ]
  },
  {
   "cell_type": "markdown",
   "metadata": {},
   "source": [
    "우리는 만들어진 패턴을 구글링해서 가져와야 하기 때문에\n",
    "\n",
    "이런 룰들이 있다는 정도만 알고, 활용은 정보를 보면서 하는 정도로만 하면 무난하다.\n",
    "\n"
   ]
  },
  {
   "cell_type": "markdown",
   "metadata": {
    "slideshow": {
     "slide_type": "slide"
    }
   },
   "source": [
    "# re 모듈(regular expression)\n",
    "- 파이썬에서 정규 표현식을 지원하기 위한 모듈\n",
    "- 파이썬 기본 라이브러리\n",
    "- import는 해야 한다."
   ]
  },
  {
   "cell_type": "markdown",
   "metadata": {
    "slideshow": {
     "slide_type": "subslide"
    }
   },
   "source": [
    "## 코딩패턴\n",
    "- 모듈 import\n",
    "    - import re\n",
    "1. 객체지향형\n",
    "    - 패턴 객체를 생성후 메소드를 호출해 원하는 처리를 한다.\n",
    "     ```python\n",
    "        p = re.compile(r'\\d+') 숫자가 하나 이상 오면 되는 패턴이다.\n",
    "        p.search('abc123def') 여기에서는 여러가지를 추가해서 여러가지 작업을 또 하면 된다.\n",
    "    ```\n",
    "2. 함수형\n",
    "    - `re` 모듈의 원하는 작업을 하는 함수를 호출한다. Argument로 패턴과 처리할 값을 전달한다.\n",
    "    ```python\n",
    "        re.search(r'\\d+', 'abc123def')\n",
    "    ```\n",
    "    \n",
    "> ### raw string\n",
    "> - 패턴문자중 `\\`로 시작하는 것들을 사용할 경우 `escape` 문자와의 구분을 위해 `\\\\` 두개씩 작성해야한다.  그래서 패턴을 지정할 때는 raw string을 사용하는 것이 편리하다.\n",
    ">    - `re.compile('\\b가족\\b')` : `\\b`를 escape 문자 b(백스페이스)로 인식\n",
    ">    - `re.compile(r'\\b가족\\b')` : `\\b`가 일반문자가 되어 컴파일시 정규식 메타문자로 처리된다.\n"
   ]
  },
  {
   "cell_type": "code",
   "execution_count": 14,
   "metadata": {},
   "outputs": [],
   "source": [
    "#raw string의 결론: r자를 붙여라!!"
   ]
  },
  {
   "cell_type": "markdown",
   "metadata": {
    "slideshow": {
     "slide_type": "slide"
    }
   },
   "source": [
    "## 검색함수\n",
    "- match(), search() : 패턴과 일치하는 문장이 **있는지 여부**를 확인할 때 사용\n",
    "- findall() : 패턴과 일치하는 문장을 **찾을 때** 사용"
   ]
  },
  {
   "cell_type": "markdown",
   "metadata": {
    "slideshow": {
     "slide_type": "subslide"
    }
   },
   "source": [
    "### Match 객체\n",
    "- **검색 결과를** 담아 반환되는 객체\n",
    "    - match(), search() 의 반환타입\n",
    "- 패턴과 일치한 문자열과 대상문자열 내에서의 위치를 가지고 있는 객체\n",
    "- 주요 메소드\n",
    "    - **group()** : 매치된 문자열들을 튜플로 반환\n",
    "    - **group(subgroup 번호)** : 패턴에 하위그룹이 지정된 경우 특정 그룹의 문자열 반환\n",
    "    - **start(), end()** : 대상 문자열내에서 시작, 끝 index 반환\n",
    "    - **span()** : 대상 문자열 내에서 시작, 끝 index를 tuple로 반환"
   ]
  },
  {
   "cell_type": "markdown",
   "metadata": {
    "slideshow": {
     "slide_type": "subslide"
    }
   },
   "source": [
    "### match(대상문자열 [, pos=0])\n",
    "- 대상 문자열의 시작 부터 정규식과 일치하는 것이 있는지 조회\n",
    "- pos : 시작 index 지정\n",
    "- 반환값\n",
    "    - Match 객체: 일치하는 문자열이 있는 경우\n",
    "    - None: 일치하는 문자열이 없는 경우"
   ]
  },
  {
   "cell_type": "code",
   "execution_count": 35,
   "metadata": {
    "scrolled": true,
    "slideshow": {
     "slide_type": "fragment"
    }
   },
   "outputs": [
    {
     "name": "stdout",
     "output_type": "stream",
     "text": [
      "<class 're.Pattern'>\n",
      "<class 're.Match'>\n",
      "<re.Match object; span=(0, 5), match='안녕하세요'>\n",
      "위치: (0, 5)\n",
      "시작위치: 0, 종료위치(index): 5\n",
      "찾은 문자열: 안녕하세요\n"
     ]
    }
   ],
   "source": [
    "#re 실습\n",
    "\n",
    "import re\n",
    "\n",
    "txt = \"안녕하세요! 반갑습니다! 제 나이는 25살입니다.\"\n",
    "\n",
    "#객체지향 방식으로 만든다.---------------패턴 객체를 생성한 뒤 그 메소드를 이용해서 패턴의 대상을 처리.\n",
    "\n",
    "\n",
    "##1.패턴 객체를 생성.\n",
    "p = re.compile(r\"\\w{2}하세요\") #내가 원하고자 하는 것을 생각하면서 만들자.\n",
    "#\\w{2} -일반문자,숫자,두글자\n",
    "\n",
    "print(type(p)) #이런 식으로 패턴 객체를 만들었다.\n",
    "result = p.match(txt) #txt가 p의 패턴으로 시작하는지의 여부를 확인하는 것이다!\n",
    "if result is not None:\n",
    "    print(type(result))\n",
    "    print(result)\n",
    "    print(\"위치:\",result.span())\n",
    "    print(f\"시작위치: {result.start()}, 종료위치(index): {result.end()}\")\n",
    "    print(f\"찾은 문자열: {result.group()}\")\n",
    "else:\n",
    "    print(result)\n",
    "    print(\"지정한 패턴으로 시작하지 않는 문자열입니다.\")\n",
    "\n",
    "#근데 이건 왜 할까? 간단하다. 문자열에 무슨 내용이 들어갈지 모르기 때문이다.\n"
   ]
  },
  {
   "cell_type": "code",
   "execution_count": 13,
   "metadata": {},
   "outputs": [
    {
     "name": "stdout",
     "output_type": "stream",
     "text": [
      "<re.Match object; span=(0, 6), match='안녕하세요.'>\n",
      "안녕하세요.\n"
     ]
    }
   ],
   "source": [
    "txt=\"안녕하세요. 반갑습니다. 안녕하세요. 제 나이는 20살입니다.\"\n",
    "#txt=\"반갑습니다. 안녕하세요. 제 나이는 20세입니다.\"\n",
    "\n",
    "##함수를 이용한 방식\n",
    "result = re.match(r\"\\w{2}하세요.\",txt) #(패턴,대상문자열) \n",
    "#re모듈의 match 함수를 호출 =>pattern 객체의 match() 메소드와 동일한 기능.\n",
    "\n",
    "print(result)\n",
    "\n",
    "if result: #result가 true라면 result.group() 을 통해 값을 출력한다.\n",
    "    print(result.group())\n",
    "else:\n",
    "    print(\"찾는 패턴으로 시작하지 않습니다.\")\n",
    "    \n",
    "\n",
    "\n",
    "\n"
   ]
  },
  {
   "cell_type": "markdown",
   "metadata": {
    "slideshow": {
     "slide_type": "subslide"
    }
   },
   "source": [
    "### search(대상문자열 [, pos=0])\n",
    "- 대상문자열 전체 안에서 정규식과 일치하는 것이 있는지 조회\n",
    "- pos: 찾기 시작하는 index 지정\n",
    "- 반환값\n",
    "    - Match 객체: 일치하는 문자열이 있는 경우\n",
    "    - None: 일치하는 문자열이 없는 경우|"
   ]
  },
  {
   "cell_type": "code",
   "execution_count": 21,
   "metadata": {
    "slideshow": {
     "slide_type": "fragment"
    }
   },
   "outputs": [
    {
     "name": "stdout",
     "output_type": "stream",
     "text": [
      "None\n",
      "<re.Match object; span=(20, 22), match='20'>\n",
      "2\n"
     ]
    }
   ],
   "source": [
    "txt = \"반갑습니다. 안녕하세요. 제 나이는 20살입니다.\"\n",
    "pattern = r\"\\d{2}\" #숫자 두개\n",
    "\n",
    "result = re.match(pattern,txt)\n",
    "print(result) #match 메소드는 처음에 원하는 pattern이 있는지 확인한다.\n",
    "\n",
    "result2 = re.search(pattern,txt) #전체문장 안에 패턴이 있는지 확인.(다 찾지 않고 첫번째 것을 찾으면 더이상 찾지 않는다.)\n",
    "print(result2) #search메소드는 문장 전체에 pattern이 있는지 확인한다.\n",
    "print(txt[result2.start()]) #시작하는문자를 반환한다.\n",
    "\n",
    "\n"
   ]
  },
  {
   "cell_type": "code",
   "execution_count": 29,
   "metadata": {},
   "outputs": [
    {
     "name": "stdout",
     "output_type": "stream",
     "text": [
      "<re.Match object; span=(4, 8), match='4000'>\n",
      "4000\n",
      "(4, 8)\n",
      "<re.Match object; span=(14, 19), match='15000'>\n",
      "15000\n",
      "(14, 19)\n",
      "<re.Match object; span=(4, 8), match='4000'>\n",
      "4000\n",
      "(4, 8)\n"
     ]
    }
   ],
   "source": [
    "#또 다른 예시\n",
    "\n",
    "txt = \"가격은 4000,5000,15000원입니다.\"\n",
    "p = re.compile(r\"\\d+\")#숫자1개이상이 시퀀스로 연결되어 있는 것.\n",
    "p1 = re.compile(r\"\\d{5}\") #숫자 5개가 연결 ->만단위 정수가  출력되겠지?\n",
    "p2 = re.compile(r\"\\d{4,7}\") #숫자가 4개이상 7개 이하의 연결 --->천, 백만단위\n",
    "\n",
    "result=p.search(txt)\n",
    "result1=p1.search(txt)\n",
    "result2=p2.search(txt)\n",
    "\n",
    "if result:\n",
    "    print(result)\n",
    "    print(result.group())\n",
    "    print(result.span())\n",
    "    print(result1)\n",
    "    print(result1.group())\n",
    "    print(result1.span())\n",
    "    print(result2)\n",
    "    print(result2.group())\n",
    "    print(result2.span())\n",
    "else:\n",
    "    print(\"찾던 패턴이 없습니다.\")\n"
   ]
  },
  {
   "cell_type": "markdown",
   "metadata": {
    "slideshow": {
     "slide_type": "subslide"
    }
   },
   "source": [
    "### findall(대상문자열)\n",
    "- 대상문자열에서 정규식과 매칭되는 문자열들을 리스트로 반환\n",
    "- 반환값\n",
    "    - 리스트(List) : 일치하는 문자열들을 가진 리스트를 반환\n",
    "    - 일치하는 문자열이 없는 경우 빈 리스트 반환"
   ]
  },
  {
   "cell_type": "code",
   "execution_count": 3,
   "metadata": {
    "slideshow": {
     "slide_type": "fragment"
    }
   },
   "outputs": [
    {
     "name": "stdout",
     "output_type": "stream",
     "text": [
      "<class 'list'>\n",
      "['400', '5000', '15000', '10', '20', '100']\n"
     ]
    }
   ],
   "source": [
    "#간단히 이야기해서, 그냥 원하는 것을 다 찾는 것이다.\n",
    "#앞의 search와는 구성이 거의 비슷하다.\n",
    "\n",
    "import re\n",
    "txt = \"가격은 400, 5000, 15000원 입니다. 물건은 각각 10,20, 100개입니다.\"\n",
    "\n",
    "p=re.compile(r\"\\d+\")\n",
    "result = p.findall(txt)\n",
    "\n",
    "print(type(result))\n",
    "print(result)\n",
    "\n",
    "\n",
    "\n"
   ]
  },
  {
   "cell_type": "code",
   "execution_count": 4,
   "metadata": {},
   "outputs": [
    {
     "name": "stdout",
     "output_type": "stream",
     "text": [
      "<class 'callable_iterator'>\n",
      "<re.Match object; span=(4, 7), match='400'>\n",
      "<re.Match object; span=(9, 13), match='5000'>\n",
      "<re.Match object; span=(15, 20), match='15000'>\n",
      "<re.Match object; span=(34, 36), match='10'>\n",
      "<re.Match object; span=(37, 39), match='20'>\n",
      "<re.Match object; span=(41, 44), match='100'>\n"
     ]
    }
   ],
   "source": [
    "#finditer(대상문자열) ----> 찾은 결과를 조회할 수 있는 iterator를 반환한다.\n",
    "##iterator는 각 결과를 match 객체로 변환한다.\n",
    "result = p.finditer(txt)\n",
    "print(type(result))\n",
    "for match in result: \n",
    "    print(match) #이런 식으로, 만족하는 숫자들을 iter형식으로 하나하나 반환한다.\n",
    "    #이런 식에서는 for문을 적극적으로 사용하는 것을 잘 알아두자."
   ]
  },
  {
   "cell_type": "code",
   "execution_count": null,
   "metadata": {},
   "outputs": [],
   "source": []
  },
  {
   "cell_type": "markdown",
   "metadata": {
    "slideshow": {
     "slide_type": "subslide"
    }
   },
   "source": [
    "# TODO\n",
    "- info 변수는 한줄에 한사람의 data가 있고 구성은 **`이름 이메일주소 주민번호`** 순서로 되어있다."
   ]
  },
  {
   "cell_type": "code",
   "execution_count": 51,
   "metadata": {
    "ExecuteTime": {
     "end_time": "2020-05-17T13:22:23.684099Z",
     "start_time": "2020-05-17T13:22:23.679112Z"
    },
    "slideshow": {
     "slide_type": "skip"
    }
   },
   "outputs": [],
   "source": [
    "#이 문제도 약간 까리하니, 잘 복습을 하도록 하자!\n",
    "\n",
    "info ='''김정수 kjs@gmail.com 801023-1010221\n",
    "박영수 pys.abc@gmail.com 700121-1120212\n",
    "이민영 lmy-abc@naver.com 820301-2020122\n",
    "김순희 ksh@daum.net 781223-2012212\n",
    "오주연 ojy@daum.net 900522-1023218\n",
    "'''"
   ]
  },
  {
   "cell_type": "code",
   "execution_count": 56,
   "metadata": {
    "slideshow": {
     "slide_type": "skip"
    }
   },
   "outputs": [
    {
     "name": "stdout",
     "output_type": "stream",
     "text": [
      "['kjs@gmail', 'abc@gmail', 'abc@naver', 'ksh@daum', 'ojy@daum']\n",
      "['801023-1010221', '700121-1120212', '820301-2020122', '781223-2012212', '900522-1023218']\n"
     ]
    }
   ],
   "source": [
    "# Email 주소만 추출 해서 출력\n",
    "\n",
    "\n",
    "#근데 뭐 실제로 이메일의 패턴을 표현하는 정규 표현식은 더더욱 거지같다고 한다.(...)\n",
    "#이런 것을 잘 파악하기 위한 사이트:regexr.com\n",
    "#위의 사이트는 그냥 참고용으로만 알아두자.\n",
    "\n",
    "\n",
    "p = re.compile(r\"\\w{1,}@\\w{1,}\") # @의 앞뒤로 문자가 1개씩!!\n",
    "email = p.findall(info)\n",
    "\n",
    "print(email)\n",
    "\n",
    "#이런 코드도 있다.\n",
    "#pattern = r\"\\d{6}-\\d{7}\"     이런 패턴을 가진 것은 주민등록번호밖에 없다.\n",
    "#pattern = r\"\\d{6}-[1234567890]\\d{6}\" ----------각각 의미하는 바가 있다고 하네요~~\n",
    "p1 = re.compile(r\"\\d+-\\d+\") #-의 앞뒤로 숫자들!\n",
    "address_number = p1.findall(info)\n",
    "\n",
    "print(address_number)\n"
   ]
  },
  {
   "cell_type": "code",
   "execution_count": 59,
   "metadata": {
    "slideshow": {
     "slide_type": "skip"
    }
   },
   "outputs": [
    {
     "name": "stdout",
     "output_type": "stream",
     "text": [
      "['gmail.com', 'pys.abc', 'gmail.com', 'naver.com', 'daum.net', 'daum.net']\n"
     ]
    }
   ],
   "source": [
    "# email구문의 advenced version\n",
    "#아래의 email_pattern이 뭐가 뭔지 하나하나 알아볼 필요는 없다.\n",
    "\n",
    "email_pattern = r\"\\b[\\w\\.-]+[\\w\\.-]+\\.\\w{2,4}\\b\"\n",
    "p = re.compile(email_pattern)\n",
    "result = p.findall(info)\n",
    "print(result)"
   ]
  },
  {
   "cell_type": "code",
   "execution_count": 61,
   "metadata": {},
   "outputs": [
    {
     "name": "stdout",
     "output_type": "stream",
     "text": [
      "<re.Match object; span=(0, 3), match='김정수'>\n",
      "<re.Match object; span=(33, 36), match='박영수'>\n",
      "<re.Match object; span=(70, 73), match='이민영'>\n",
      "<re.Match object; span=(107, 110), match='김순희'>\n",
      "<re.Match object; span=(139, 142), match='오주연'>\n"
     ]
    }
   ],
   "source": [
    "#이름에 대한 코드\n",
    "\n",
    "pattern = r\"[가-힣]{2,4}\" #가 부터  힣까지, 글자수는 2글자부터 4글자까지\n",
    "p = re.compile(pattern)\n",
    "result = p.finditer(info)\n",
    "for name in result:\n",
    "    print(name)"
   ]
  },
  {
   "cell_type": "markdown",
   "metadata": {
    "slideshow": {
     "slide_type": "slide"
    }
   },
   "source": [
    "### finditer(대상문자열)\n",
    "- 패턴에 일치하는 모든 문자열을 찾아주는 Iterator => for문, list()\n",
    "- 찾은 문자열을 Match 객체로 반환."
   ]
  },
  {
   "cell_type": "code",
   "execution_count": null,
   "metadata": {
    "slideshow": {
     "slide_type": "fragment"
    }
   },
   "outputs": [],
   "source": []
  },
  {
   "cell_type": "markdown",
   "metadata": {
    "slideshow": {
     "slide_type": "slide"
    }
   },
   "source": [
    "## 문자열 변경\n",
    "- sub(): 변경된 문자열 반환\n",
    "- subn(): 변경된 문자열, 변경개수 반환"
   ]
  },
  {
   "cell_type": "markdown",
   "metadata": {
    "slideshow": {
     "slide_type": "subslide"
    }
   },
   "source": [
    "### sub(바꿀문자열, 대상문자열 [, count=양수])\n",
    "- 대상문자열에서 패턴과 일치하는 것을 바꿀문자열로 변경한다.\n",
    "- count: 변경할 개수를 지정. 기본: 매칭되는 문자열은 다 변경\n",
    "- 반환값: 변경된 문자열\n",
    "\n",
    "### subn(바꿀문자열, 대상문자열 [, count=양수])\n",
    "- sub()와 동일한 역할.\n",
    "- 반환값 : (변경된 문자열, 변경된문자열개수) 를 tuple로 반환"
   ]
  },
  {
   "cell_type": "code",
   "execution_count": 64,
   "metadata": {
    "slideshow": {
     "slide_type": "fragment"
    }
   },
   "outputs": [
    {
     "name": "stdout",
     "output_type": "stream",
     "text": [
      "오늘은   화요일   입니다.\n",
      "오늘은 화요일 입니다.\n"
     ]
    }
   ],
   "source": [
    "txt = \"오늘은   화요일   입니다.\".strip()\n",
    "print(txt)\n",
    "\n",
    "#여러개의 공백을 한개의 공백으로 전환\n",
    "\n",
    "pattern = r\" {2,}\" #공백도 글자다! 그래서 '2개 이상의 공백'을 적은 것이다. 참신하지?\n",
    "\n",
    "\n",
    "result = re.sub(pattern,\" \",txt) #함수(패턴표현식,바꿀문자열,대상문자열)\n",
    "print(result)#결과:여러개의 공백이 1개로 바뀌는 것이다.\n",
    "\n"
   ]
  },
  {
   "cell_type": "code",
   "execution_count": 67,
   "metadata": {},
   "outputs": [
    {
     "name": "stdout",
     "output_type": "stream",
     "text": [
      "오늘은 화요일 입니다. 내일은 수요일 입니다. 모레는 목요일 입니다. 글피는 금요일 입니다. 사흘후는 토요일 입니다. \n",
      "변경된 개수: 15\n"
     ]
    }
   ],
   "source": [
    "txt = \"\"\"오늘은   화요일   입니다.\n",
    "내일은   수요일   입니다.\n",
    "모레는   목요일   입니다.\n",
    "글피는   금요일   입니다.\n",
    "사흘후는   토요일   입니다.\n",
    "\"\"\"\n",
    "\n",
    "pattern =r\"\\s+\" #공백, 엔터, tab을 모두 공백 한 개로 전환\n",
    "#pattern = r\" {2,}\" ===============> 공백 2개 이상을....!!\n",
    "p = re.compile(pattern)\n",
    "result = p.sub(\" \",txt) #이런식으로도 sub 함수를 쓸 수 있다.\n",
    "#subn의 기능을 알아보자.\n",
    "result1,cnt = p.subn(\" \",txt)\n",
    "print(result)\n",
    "print(\"변경된 개수:\",cnt)"
   ]
  },
  {
   "cell_type": "code",
   "execution_count": 71,
   "metadata": {},
   "outputs": [
    {
     "name": "stdout",
     "output_type": "stream",
     "text": [
      "1234\n"
     ]
    }
   ],
   "source": [
    "txt = \"test1, test2, test3, test4\"\n",
    "#숫자 빼고 다 제고 \n",
    "p=re.compile(r\"[^0-9]\") #숫자들만 다 빼고 모두 제거\n",
    "result = p.sub(\"\",txt) #숫자들만 뺀 나머지들을 모두 \"\"로 만들어서, 숫자만 남게 한다.\n",
    "print(result)"
   ]
  },
  {
   "cell_type": "markdown",
   "metadata": {
    "slideshow": {
     "slide_type": "subslide"
    }
   },
   "source": [
    "## 나누기(토큰화)\n",
    "### split(대상문자열)\n",
    "- pattern을 구분자로 문장을 나눈다.\n",
    "- 반환: 나눈 문자열을 원소로 하는 리스트"
   ]
  },
  {
   "cell_type": "code",
   "execution_count": 73,
   "metadata": {
    "slideshow": {
     "slide_type": "fragment"
    }
   },
   "outputs": [
    {
     "data": {
      "text/plain": [
       "['사과', '배', '복숭아', '수박', '파인애플']"
      ]
     },
     "execution_count": 73,
     "metadata": {},
     "output_type": "execute_result"
    }
   ],
   "source": [
    "fruits = \"사과,배+복숭아,수박|파인애플\"\n",
    "\n",
    "result = re.split(r\"[,+|]\",fruits) #이런 식으로 패턴을 만든다. 괄호 안에 있는 것을 기준으로 split을 이용해 쪼갠다는 의미.\n",
    "\n",
    "result\n"
   ]
  },
  {
   "cell_type": "markdown",
   "metadata": {
    "slideshow": {
     "slide_type": "slide"
    }
   },
   "source": [
    "# 패턴내 하위패턴 만들기 (Grouping)\n",
    "- 전체 패턴에서 일부 패턴들을 묶어 하위패턴으로 만든다.\n",
    "- 구문: (패턴)\n",
    "- 괄호로 묶거나 어쩌거나 하는 것이다."
   ]
  },
  {
   "cell_type": "markdown",
   "metadata": {
    "ExecuteTime": {
     "end_time": "2019-05-16T00:56:13.966065Z",
     "start_time": "2019-05-16T00:56:13.960644Z"
    },
    "slideshow": {
     "slide_type": "subslide"
    }
   },
   "source": [
    "## 그룹핑 예\n",
    "\n",
    "### 전체 패턴 내에서 일부 패턴을 조회"
   ]
  },
  {
   "cell_type": "code",
   "execution_count": 78,
   "metadata": {
    "slideshow": {
     "slide_type": "fragment"
    }
   },
   "outputs": [
    {
     "name": "stdout",
     "output_type": "stream",
     "text": [
      "<re.Match object; span=(4, 17), match='010-1234-5678'>\n",
      "<re.Match object; span=(4, 17), match='010-1234-5678'>\n",
      "찾은문자열: 010-1234-5678\n",
      "국번: 1234\n"
     ]
    }
   ],
   "source": [
    "tel = \"Tel:010-1234-5678\"\n",
    "pattern = r\"0\\d{1,2}-\\d{3,4}-\\d{4}\"#일단 0으로 시작하고, 뒤에는 숫자 하나나 둘이 들어온다.\n",
    "\n",
    "p = re.compile(pattern)\n",
    "result = p.search(tel)\n",
    "print(result) #이렇게 하면 관련 정보가 많이 나온다.\n",
    "\n",
    "if result: #조회 결과가 있다면\n",
    "    print(result)\n",
    "    print(\"찾은문자열:\",result.group())\n",
    "    #국번\n",
    "    l = result.group().split(\"-\")\n",
    "    print('국번:',l[1])\n",
    "    \n",
    "else: #조회결과가 없다면\n",
    "    print(\"조회결과 없음\")\n",
    "\n",
    "\n",
    "#근데 이런 식으로 코드를 짜면 뭔가가 불편하다잉."
   ]
  },
  {
   "cell_type": "code",
   "execution_count": 82,
   "metadata": {},
   "outputs": [
    {
     "name": "stdout",
     "output_type": "stream",
     "text": [
      "<re.Match object; span=(4, 17), match='010-1234-5678'>\n",
      "<re.Match object; span=(4, 17), match='010-1234-5678'>\n",
      "찾은문자열: 010-1234-5678 010-1234-5678\n",
      "지역번호: 010\n",
      "국번: 1234\n",
      "번호: 5678\n"
     ]
    }
   ],
   "source": [
    "#subgroup을 이용!\n",
    "\n",
    "tel = \"Tel:010-1234-5678\"\n",
    "pattern = r\"(0\\d{1,2})-(\\d{3,4})-(\\d{4})\"#일단 0으로 시작하고, 뒤에는 숫자 하나나 둘이 들어온다.\n",
    "#()을 통해 grouping을 한다!\n",
    "#(1번하위그룹)-(2번하위그룹)-(3번하위그룹)\n",
    "p = re.compile(pattern)\n",
    "result = p.search(tel)\n",
    "print(result) #이렇게 하면 관련 정보가 많이 나온다.\n",
    "\n",
    "if result: #조회 결과가 있다면\n",
    "    print(result)\n",
    "    print(\"찾은문자열:\",result.group(),result.group(0)) #group(양의정수:그룹번호)\n",
    "    #국번\n",
    "    print(\"지역번호:\",result.group(1))\n",
    "    print(\"국번:\",result.group(2))\n",
    "    print(\"번호:\",result.group(3))\n",
    "else: #조회결과가 없다면\n",
    "    print(\"조회결과 없음\")\n",
    "\n",
    "\n",
    "\n",
    "#이런 식으로 하면, 조금 더 간단하게 처리가 된다. "
   ]
  },
  {
   "cell_type": "code",
   "execution_count": 126,
   "metadata": {},
   "outputs": [
    {
     "name": "stdout",
     "output_type": "stream",
     "text": [
      "abc@daum.net, test@naver.com, mymail@gmail.com\n",
      "None\n",
      "None\n",
      "None\n"
     ]
    }
   ],
   "source": [
    "#연습문제------내가 짠 코드\n",
    "\n",
    "emails1 = \"abc@daum.net, test@naver.com, mymail@gmail.com\"\n",
    "#email주소:계정@도메인 ====>계정과 도메인을 각각 출력\n",
    "pattern1 = r\"(\\D{1,}) (\\D{1,}) (\\D{1,})\" #앞뒤로 숫자가 아닌것(그러므로 온점도 포함이 된다.) 1개 이상씩! 그리고 grouping을 하자!\n",
    "\n",
    "\n",
    "p1 = re.compile(pattern1)\n",
    "result1 = p1.search(emails1)\n",
    "\n",
    "\n",
    "print(result1.group())\n",
    "\n",
    "for i in range(3):\n",
    "    pattern2 = r\"(\\D{1,})@(D{1,})\" #,는 제외를 하는 것이다.\n",
    "    p2 =re.compile(pattern2)\n",
    "    result2 = p2.search(result1.group(i))\n",
    "    print(result2)\n",
    "    #잘 안되네......finditer를 잘 보자!"
   ]
  },
  {
   "cell_type": "code",
   "execution_count": 127,
   "metadata": {
    "scrolled": true
   },
   "outputs": [
    {
     "name": "stdout",
     "output_type": "stream",
     "text": [
      "('abc', 'daum.net')\n",
      "('abc', 'daum.net') abc daum.net\n",
      "('test', 'naver.com')\n",
      "('test', 'naver.com') test naver.com\n",
      "('mymail', 'gmail.com')\n",
      "('mymail', 'gmail.com') mymail gmail.com\n"
     ]
    }
   ],
   "source": [
    "#해답\n",
    "\n",
    "emails = \"abc@daum.net, test@naver.com, mymail@gmail.com\"\n",
    "email_pattern =r\"\\b([\\w\\.-]+)@([\\w\\.-]+\\.\\w{2,4})\\b\" #이러한 pattern이 있다.\n",
    "\n",
    "p = re.compile(email_pattern)\n",
    "result = p.findall(emails) #리스트===========>subgroup으로 찾은 문자열들만 반환한다.\n",
    "\n",
    "for v in result:\n",
    "    print(v)\n",
    "    print(v,v[0],v[1])"
   ]
  },
  {
   "cell_type": "code",
   "execution_count": 128,
   "metadata": {},
   "outputs": [
    {
     "name": "stdout",
     "output_type": "stream",
     "text": [
      "abc@daum.net,id:abc,domain: daum.net\n",
      "test@naver.com,id:test,domain: naver.com\n",
      "mymail@gmail.com,id:mymail,domain: gmail.com\n"
     ]
    }
   ],
   "source": [
    "result_iter = p.finditer(emails)\n",
    "for match in result_iter:\n",
    "    print(f\"{match.group()},id:{match.group(1)},domain: {match.group(2)}\")"
   ]
  },
  {
   "cell_type": "markdown",
   "metadata": {
    "slideshow": {
     "slide_type": "subslide"
    }
   },
   "source": [
    "### 패턴 내에서 하위그룹 참조\n",
    "- `\\번호`\n",
    "- 지정한 '번호' 번째 패턴으로 매칭된 문자열과 같은 문자열을 의미"
   ]
  },
  {
   "cell_type": "code",
   "execution_count": 137,
   "metadata": {
    "slideshow": {
     "slide_type": "fragment"
    }
   },
   "outputs": [
    {
     "name": "stdout",
     "output_type": "stream",
     "text": [
      "010-2222-2222 2222 2222\n",
      "010-3456-3456 3456 3456\n"
     ]
    }
   ],
   "source": [
    "txt = \"\"\"010-1111-2222\n",
    "010-2222-2222\n",
    "010-3333-1234\n",
    "010-3456-3456\"\"\"\n",
    "\n",
    "#국번과 뒷자리 번호가 같은 전화번호를 조회하고 싶다.\n",
    "tel_pattern = r\"\\d{3}-(\\d{3,4})-(\\1)\" #괄호가 2개이다. group(1)과 group(2)로 다룰 수 있다.\n",
    "#번호-(번호:subgroup 1)-\\1 =======>1번 subgroup으로 찾은 값과 같은 값을 찾아달라는 의미이다. 아니면 걸러내는것.\n",
    "\n",
    "p = re.compile(tel_pattern)\n",
    "for m in p.finditer(txt):\n",
    "    print(m.group(),m.group(1),m.group(2))\n"
   ]
  },
  {
   "cell_type": "code",
   "execution_count": 142,
   "metadata": {},
   "outputs": [
    {
     "name": "stdout",
     "output_type": "stream",
     "text": [
      "김정수 kjs@gmail.com 801023-1010221\n",
      "박영수 pys.abc@gmail.com 700121-1120212\n",
      "이민영 lmy-abc@naver.com 820301-2020122\n",
      "김순희 ksh@daum.net 781223-2012212\n",
      "오주연 ojy@daum.net 900522-1023218\n",
      "\n"
     ]
    },
    {
     "data": {
      "text/plain": [
       "'김정수 kjs@gmail.com 801023-1######\\n박영수 pys.abc@gmail.com 700121-1######\\n이민영 lmy-abc@naver.com 820301-2######\\n김순희 ksh@daum.net 781223-2######\\n오주연 ojy@daum.net 900522-1######\\n'"
      ]
     },
     "execution_count": 142,
     "metadata": {},
     "output_type": "execute_result"
    }
   ],
   "source": [
    "#전체 패턴을 조회 후 그 중 일부만 변경\n",
    "\n",
    "print(info)\n",
    "#주민번호 뒷 일곱 자리 중에 6자리를 감추려고 한다. #로 감춘다.\n",
    "#주민번호를 조회한 뒤에 뒤의 6자리만 변경하는 작업을 한다.\n",
    "\n",
    "jumin_pattern =r\"(\\d{6}-[012349])\\d{6}\" #변경안될부분을 subgroup으로 묶어준다. 이게 좀 다르다.\n",
    "                                        #가장 뒤의 것이 왜 7자리가 아니라 6자리냐면, 1******와 같은 형태이기 때문이다.\n",
    "\n",
    "p = re.compile(jumin_pattern)\n",
    "result = p.sub(\"\\g<1>######\",info) #1번 subgroup으로 찾은 값은 그대로 사용을 하겠다. 나머지는 바꾸겠다!\n",
    "result\n",
    "\n"
   ]
  },
  {
   "cell_type": "code",
   "execution_count": 148,
   "metadata": {},
   "outputs": [
    {
     "name": "stdout",
     "output_type": "stream",
     "text": [
      "010-1111-2222\n",
      "group1: 010-1111-2222\n",
      "group2: 010\n",
      "group3: 1111-2222\n",
      "group3: 1111\n",
      "group3: 2222\n"
     ]
    }
   ],
   "source": [
    "#subgroup의 번호\n",
    "#하위 그룹이 중첩된 경우의 번호는?\n",
    "#outer가 우선. 그런 다음 왼쪽이 우선이다. 그런 다음 안에 뭔가가 있다고 한다면 안에 있는 것을 무조건 먼저 해결을 한다.\n",
    "tel = \"010-1111-2222\"\n",
    "pattern = r\"((\\d{2,3})-((\\d{3,4})-(\\d{4})))\" #두번째, 세번째 subgroup을 다시 한번 묶는다. 그런 다음 또 한번 더 묶는다.\n",
    "#거참 괄호가 많구먼!\n",
    "\n",
    "\n",
    "\n",
    "\n",
    "#(1(2)-(3(4)-(5)))<================이런 순서대로 진행이 된다.\n",
    "p=re.compile(pattern)\n",
    "result=p.search(tel)\n",
    "print(result.group())\n",
    "print(\"group1:\",result.group(1))\n",
    "print(\"group2:\",result.group(2))\n",
    "print(\"group3:\",result.group(3)) #위에서 괄호를 친 대로 출력이 된다.\n",
    "print(\"group3:\",result.group(4))\n",
    "print(\"group3:\",result.group(5))"
   ]
  },
  {
   "cell_type": "markdown",
   "metadata": {
    "slideshow": {
     "slide_type": "slide"
    }
   },
   "source": [
    "### 패턴내의 특정 부분만 변경"
   ]
  },
  {
   "cell_type": "code",
   "execution_count": null,
   "metadata": {
    "slideshow": {
     "slide_type": "fragment"
    }
   },
   "outputs": [],
   "source": []
  },
  {
   "cell_type": "markdown",
   "metadata": {
    "slideshow": {
     "slide_type": "fragment"
    }
   },
   "source": [
    "### group으로 묶인 것 참조(조회)\n",
    "- **패턴 안에서 참조**\n",
    "    - `\\번호` , `r'(\\d{3}) \\1'` => 중복되는 것을 패턴으로 표현할 때.\n",
    "- **match 조회**\n",
    "    - match객체.group(번호)\n",
    "- **sub() 함수에서 대체 문자로 참조**\n",
    "    - `\\g<번호>`"
   ]
  },
  {
   "cell_type": "code",
   "execution_count": null,
   "metadata": {
    "slideshow": {
     "slide_type": "fragment"
    }
   },
   "outputs": [],
   "source": []
  },
  {
   "cell_type": "markdown",
   "metadata": {
    "slideshow": {
     "slide_type": "slide"
    }
   },
   "source": [
    "# Greedy 와 Non-Greedy\n",
    "- **Greedy(탐욕스러운-최대일치)** 의미\n",
    "    - 주어진 패턴에 만족하는 문자열을 최대한 넓게(길게) 잡아 찾는다.\n",
    "    - 매칭시 기본 방식\n",
    "- **Non-Greedy(최소일치)**\n",
    "    - 주어진 패턴에 만족하는 문자열을 최초의 일치하는 위치까지 찾는다\n",
    "    - 개수를 나타내는 메타문자(수량자)에 **`?`**를 붙인다.\n",
    "    - `*?`, `+?`, `{m,n}?`"
   ]
  },
  {
   "cell_type": "code",
   "execution_count": 5,
   "metadata": {
    "slideshow": {
     "slide_type": "fragment"
    }
   },
   "outputs": [
    {
     "name": "stdout",
     "output_type": "stream",
     "text": [
      "4 ['<div>', '<b>', '</b>', '</div>']\n"
     ]
    }
   ],
   "source": [
    "txt = \"<div>파이썬 <b>정규표현식</b></div>\"\n",
    "#태그들만 조회를 하고 싶다!:<div> <b> </b> </div> 뭐 이런 것들만 조회를 하는 것이다.\n",
    "\n",
    "\n",
    "pattern = r\"<.+?>\" #이 식이 태그들을 조회하는 것이다. .과 +의 의미를 잘 생각하자.\n",
    "#non-greedy를 하고 싶으면 끝에 >를 붙인다.\n",
    "\n",
    "p = re.compile(pattern)\n",
    "result = p.findall(txt)\n",
    "print(len(result),result) #결과를 보면 알겠지만, 하나의 문자열로 결과가 나왔다.\n",
    "#중간의 >는 취급을 안하고 마지막의 >만 취급을 하기 때문이다.\n",
    "#뒤에도 >가 있으니, 자연스럽게 중간의 >는 그냥 문자로 취급을 하는 것이다.\n",
    "#이런 문제들을 자연스레 해결해 주는 것이 바로 non-greedy이다.\n",
    "\n",
    "#non-greedy라는 의미는, 주어진 패턴에 만족하는 문자열을 최초의 일치하는 위치까지 찾는 것이다.\n",
    "\n",
    "\n",
    "\n",
    "\n",
    "\n"
   ]
  },
  {
   "cell_type": "markdown",
   "metadata": {
    "slideshow": {
     "slide_type": "slide"
    }
   },
   "source": [
    "# 전방/후방 탐색\n",
    "- 패턴과 일치하는 문자열을 찾을 때는 사용하되 반환(소비) 되지 않도록 하는 패턴이 있을 때 사용.\n",
    "- **전방탐색** 예:'5000원' 같은 경우. \n",
    "    - 반환(소비)될 문자열들이 앞에 있는 경우.\n",
    "    - 긍정 전방탐색\n",
    "        - %%%(?=패턴) : %%%-반환될 패턴\n",
    "    - 부정 전방탐색\n",
    "        - %%%(?!패턴)  : 부정은 =를 !로 바꾼다.\n",
    "- **후방탐색** 예:'$5000' 같은 경우\n",
    "    - 반환(소비)될 문자열이 뒤에 있는 경우.\n",
    "    - 긍정 후방탐색\n",
    "        - (?<=패턴)%%%\n",
    "    - 부정 후방탐색\n",
    "        - (?<!패턴)%%%\n",
    "        \n"
   ]
  },
  {
   "cell_type": "code",
   "execution_count": 6,
   "metadata": {
    "slideshow": {
     "slide_type": "fragment"
    }
   },
   "outputs": [
    {
     "name": "stdout",
     "output_type": "stream",
     "text": [
      "['30000', '32000', '15000']\n",
      "24000.0\n",
      "25600.0\n",
      "12000.0\n"
     ]
    }
   ],
   "source": [
    "info=\"\"\"tv 30000원 30개\n",
    "컴퓨터 32000원 50개\n",
    "모니터 15000원 70개\"\"\"\n",
    "\n",
    "\n",
    "#info에서 가격만 조회 =>조회 결과에서는 '원'을 빼고 사용. 조회할 때는 사용.\n",
    "#'탐색'이라는 용어에서 겁먹지 말고, 그냥 위와 같이 생각해라.\n",
    "\n",
    "\n",
    "#단위를 달러로 바꾸는 경우: \n",
    "\"\"\"\n",
    "pattern = r\"(?<=\\$)\\d+\" #우리는 $라는 문자의 뒤에 있는 것만 쓸거야! \n",
    "#(?<=패턴1)패턴2 =>패턴1은 조회할 때는 포함, 값을 사용할 때는 제거하고 뒤의 패턴 2의 값만 사용한다.\n",
    "\"\"\"\n",
    "\n",
    "\n",
    "pattern = r\"\\d+(?=원)\" \n",
    "p = re.compile(pattern)\n",
    "print(p.findall(info))\n",
    "for price in p.findall(info):\n",
    "    print(int(price) * 0.8)\n"
   ]
  },
  {
   "cell_type": "code",
   "execution_count": null,
   "metadata": {},
   "outputs": [],
   "source": [
    "#사실, 정규표현식은 여러가지 표현을 자연스레 접해보는 것이 가장 중요하다!!\n",
    "\n"
   ]
  }
 ],
 "metadata": {
  "kernelspec": {
   "display_name": "Python 3",
   "language": "python",
   "name": "python3"
  },
  "language_info": {
   "codemirror_mode": {
    "name": "ipython",
    "version": 3
   },
   "file_extension": ".py",
   "mimetype": "text/x-python",
   "name": "python",
   "nbconvert_exporter": "python",
   "pygments_lexer": "ipython3",
   "version": "3.8.8"
  },
  "toc": {
   "base_numbering": 1,
   "nav_menu": {},
   "number_sections": false,
   "sideBar": false,
   "skip_h1_title": false,
   "title_cell": "Table of Contents",
   "title_sidebar": "Contents",
   "toc_cell": false,
   "toc_position": {
    "height": "606.319px",
    "left": "10px",
    "top": "150px",
    "width": "336.889px"
   },
   "toc_section_display": false,
   "toc_window_display": false
  },
  "varInspector": {
   "cols": {
    "lenName": 16,
    "lenType": 16,
    "lenVar": 40
   },
   "kernels_config": {
    "python": {
     "delete_cmd_postfix": "",
     "delete_cmd_prefix": "del ",
     "library": "var_list.py",
     "varRefreshCmd": "print(var_dic_list())"
    },
    "r": {
     "delete_cmd_postfix": ") ",
     "delete_cmd_prefix": "rm(",
     "library": "var_list.r",
     "varRefreshCmd": "cat(var_dic_list()) "
    }
   },
   "types_to_exclude": [
    "module",
    "function",
    "builtin_function_or_method",
    "instance",
    "_Feature"
   ],
   "window_display": false
  }
 },
 "nbformat": 4,
 "nbformat_minor": 2
}
