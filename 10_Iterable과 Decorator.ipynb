{
 "cells": [
  {
   "cell_type": "markdown",
   "id": "562c702d",
   "metadata": {
    "slideshow": {
     "slide_type": "slide"
    }
   },
   "source": [
    "# Iterable과 Iterator\n",
    "\n",
    "- **Iterable**\n",
    "    - 여러개의 데이터를 하나씩 또는 한 단위씩 제공하는 객체.\n",
    "        - 다음 작업을 요청하면 값을 제공하며 for in 문에서 사용할 수 있다.(for in 문에서 많이 엮인다.)\n",
    "    - Iterator객체를 반환하는 `__iter__()` 특수 메소드를 정의해야 한다.\n",
    "        - `__iter__()`는 `iter(Iterable)` 내장함수에 의해 호출된다. \n",
    "- **Iterator**\n",
    "    - 자신을 생성한 Iterable의 값들을 하나씩 또는 한 단위씩 제공하는 객체\n",
    "    - Iterable의 값을 제공하는 `__next__()` 특수 메소드를 정의한다.\n",
    "        - `__next__()` 는 `next(Iterator)` 내정함수에 의해 호출된다.\n",
    "        - 더 이상 제공할 값이 없을 경우 **StopIteration** Exception을 발생시켜야 한다."
   ]
  },
  {
   "cell_type": "markdown",
   "id": "208789b1",
   "metadata": {},
   "source": [
    "# 구현법\n",
    "\n",
    "1.클래스로 구현한다.\n",
    "\n",
    "내장함수 중에 __iter__()를 재정의한다.\n",
    "\n",
    "이는 iterator를 반환하도록 한다.\n",
    "\n",
    "\n",
    "2.iterable이 가지고 있는 원소들을 하나씩 하나씩 제공해 주는 놈이 바로 iterator이다.\n",
    "\n",
    "\n",
    "\n",
    "\n",
    "3.iterable은 물건이 쌓여 있는 공장이나 창고와 같다.\n",
    "\n",
    "iterator는 공장이나 창고의 물건들을 하나씩 하나씩 판매하는 녀석이라고 생각하면 된다.\n",
    "\n",
    "\n",
    "\n",
    "4.그래서 iterable을 정의할 때는 '물건 판매 메소드'를 클래스에 구현해야 하고\n",
    "\n",
    "iterator를 정의할 때는 '다음 값을 제공해주는 __next__()'특수 메소드를 정의해야 한다."
   ]
  },
  {
   "cell_type": "code",
   "execution_count": 1,
   "id": "c7d5c4b6",
   "metadata": {
    "slideshow": {
     "slide_type": "fragment"
    }
   },
   "outputs": [
    {
     "name": "stdout",
     "output_type": "stream",
     "text": [
      "<class 'list'> <class 'list_iterator'>\n"
     ]
    }
   ],
   "source": [
    "l=[1,2,3] #리스트, iterable한 타입이다.---------------__iter__()를 구현해야 한다.\n",
    "#구현 부분\n",
    "iter(l) #iter(iterable)객체---------->iterable객체__iter__()\n",
    "\n",
    "l_iter = iter(l)\n",
    "\n",
    "print(type(l),type(l_iter)) #리스트 리터레이터인 것을 알 수 있다."
   ]
  },
  {
   "cell_type": "code",
   "execution_count": 2,
   "id": "1e973344",
   "metadata": {},
   "outputs": [
    {
     "name": "stdout",
     "output_type": "stream",
     "text": [
      "<class 'tuple_iterator'>\n"
     ]
    }
   ],
   "source": [
    "#예시\n",
    "\n",
    "t=(1,2,3,4)\n",
    "t_iterator=iter(t)\n",
    "print(type(t_iterator))"
   ]
  },
  {
   "cell_type": "code",
   "execution_count": 3,
   "id": "c6302cce",
   "metadata": {},
   "outputs": [
    {
     "name": "stdout",
     "output_type": "stream",
     "text": [
      "1\n"
     ]
    }
   ],
   "source": [
    "#iterator의 __next__() 메소드를 호출----------->next(iterator)\n",
    "##자기를 생성한 iterable 객체의 원소를 하나 반환.\n",
    "print(next(t_iterator)) #이런식으로 코드를 짜면 1부터 4까지 무난히 출력됨."
   ]
  },
  {
   "cell_type": "code",
   "execution_count": 6,
   "id": "0117087f",
   "metadata": {
    "slideshow": {
     "slide_type": "fragment"
    }
   },
   "outputs": [
    {
     "name": "stdout",
     "output_type": "stream",
     "text": [
      "1\n",
      "2\n",
      "3\n",
      "4\n",
      "5\n",
      "다음 작업\n"
     ]
    }
   ],
   "source": [
    "#iterable과 iterator를 처리하는 예시 코드.\n",
    "\n",
    "iterable=[1,2,3,4,5]\n",
    "#1.iterable에서 iterator를 생성해야 한다.\n",
    "\n",
    "iterator = iter(iterable)\n",
    "\n",
    "while True:\n",
    "    try:\n",
    "        value = next(iterator)\n",
    "        print(value) #값을 뽑아오는 코드.\n",
    "        #while을 끝내기 위해서는 try-except를 해야 한다.\n",
    "    except StopIteration: #iteration이 멈추었다면 except를 통해 빠져나온다.\n",
    "        break\n",
    "\n",
    "print(\"다음 작업\")"
   ]
  },
  {
   "cell_type": "code",
   "execution_count": 2,
   "id": "4d0e2365",
   "metadata": {},
   "outputs": [],
   "source": [
    "#처리하는 예시. 잘 보도록 하자.\n",
    "\n",
    "def forIn(iterable,func):\n",
    "    #iterable:원소를제공할 iterable 객체\n",
    "    #func:각 원소를 처리한 함수.\n",
    "    iterator = iter(iterable)\n",
    "    while True:\n",
    "        try:\n",
    "            value = next(iterator)\n",
    "            func(value)\n",
    "        #while을 끝내기 위해서는 try-except를 해야 한다.\n",
    "        except StopIteration:\n",
    "            break"
   ]
  },
  {
   "cell_type": "code",
   "execution_count": 3,
   "id": "44ba1c3c",
   "metadata": {},
   "outputs": [
    {
     "name": "stdout",
     "output_type": "stream",
     "text": [
      "1\n",
      "2\n",
      "3\n",
      "10\n",
      "20\n",
      "30\n"
     ]
    }
   ],
   "source": [
    "#출력하는 예시. 매우 중요한 구문이다.\n",
    "\n",
    "forIn([1,2,3],lambda x : print(x))\n",
    "forIn((10,20,30),lambda x : print(x))"
   ]
  },
  {
   "cell_type": "code",
   "execution_count": null,
   "id": "3abc87e6",
   "metadata": {},
   "outputs": [],
   "source": []
  },
  {
   "cell_type": "markdown",
   "id": "ad311a49",
   "metadata": {
    "slideshow": {
     "slide_type": "subslide"
    }
   },
   "source": [
    "## for in 문 Iterable의 값을 순환반복하는 과정\n",
    "\n",
    "1. 반복 조회할 iterable객체의 __iter__() 를 호출 하여 Iterator를 구한다.\n",
    "1. 매 반복마다 Iterator의 __next__() 를 호출하여 다음 원소를 조회한다.\n",
    "1. 모든 원소들이 다 제공해 StopIteration Exception이 발생하면 반복문을 멈추고 빠져나온다."
   ]
  },
  {
   "cell_type": "code",
   "execution_count": 11,
   "id": "8e77d57f",
   "metadata": {},
   "outputs": [],
   "source": [
    "#iterable과 iterator를 구현하자.\n",
    "#각각 다른 클래스로 구현\n",
    "#복습 철저!\n",
    "class MyIterable:\n",
    "    \n",
    "    \n",
    "    def __init__(self,*args):\n",
    "        #가변인자로 제공할 원소값들을 받는다.\n",
    "        self.values = args\n",
    "    \n",
    "    def __iter__(self):\n",
    "        #iterable은 반드시 __iter__() 특수함수를 구현해야 한다.\n",
    "        #__iter__()는 iterator 객체를 반환하도록 구현한다.\n",
    "        \n",
    "        return MyIterator(self.values)\n",
    "    #subscriptable - indexing 가능 //인덱스를 이용하고,호출할 수 있다는 의미.\n",
    "    def __getitem__(self,index):\n",
    "        return self.values[index]\n",
    "    \n",
    "    #len(객체) 호출되는 특수메소드 --->원소의 개수를 반환.\n",
    "    #getitem 객체와 쌍으로 같이 호출이 되는 놈이다.\n",
    "    def __len__(self):\n",
    "        return len(self.values)"
   ]
  },
  {
   "cell_type": "code",
   "execution_count": 12,
   "id": "1a9e38dc",
   "metadata": {},
   "outputs": [
    {
     "data": {
      "text/plain": [
       "3"
      ]
     },
     "execution_count": 12,
     "metadata": {},
     "output_type": "execute_result"
    }
   ],
   "source": [
    "i = MyIterable(1,2,3)\n",
    "i[2]"
   ]
  },
  {
   "cell_type": "markdown",
   "id": "9d2c6b53",
   "metadata": {},
   "source": [
    "클래스를 정의하는 예시.\n",
    "class Person12:\n",
    "\n",
    "    __init__()\n",
    "    __str__()\n",
    "    __repr__()\n",
    "    __add__(),__sub__(),__gt__(),__ge__()\n",
    "    #iterable\n",
    "    __iter__()\n",
    "    #iterator\n",
    "    __next__()\n",
    "    #subscriptable,indexing\n",
    "    __getitem__() + __len__()\n",
    "    "
   ]
  },
  {
   "cell_type": "markdown",
   "id": "e9e5509c",
   "metadata": {},
   "source": [
    "p = Person12() --------person이 호출이 될 때 init이 생성이 된다.\n",
    "\n",
    "str(p),print(p) --------------__str__()이 호출이 된다.\n",
    "\n",
    "p+30, p+p2,p-p2,p*50 ---------이렇게 코드를 치면 산술 연산자 처리 메소드들이 호출이 된다.\n",
    "\n",
    "\n",
    "iter(p)------iterator 반환\n",
    "\n",
    "next(p)--------next메소드-----------원소 1개를 제공\n",
    "\n",
    "p[3]----------------getitem 메소드\n",
    "\n",
    "len------------len 메소드\n"
   ]
  },
  {
   "cell_type": "code",
   "execution_count": null,
   "id": "dc9d37fe",
   "metadata": {},
   "outputs": [],
   "source": []
  },
  {
   "cell_type": "code",
   "execution_count": null,
   "id": "c9ab5b75",
   "metadata": {},
   "outputs": [],
   "source": []
  },
  {
   "cell_type": "code",
   "execution_count": 22,
   "id": "0c9df071",
   "metadata": {},
   "outputs": [],
   "source": [
    "class MyIterator:\n",
    "    \n",
    "    def __init__(self,values):\n",
    "        #iterator가 제공할 값을 myiterable로 부터 받는다.\n",
    "        self.values = values\n",
    "        self.index = 0 #제공할 값의 index.\n",
    "        \n",
    "    def __next__(self):\n",
    "        #iterator는 반드시 __next__() 특수 메소드를 구현해야 한다.\n",
    "        ##iterable에서 받은 원소들에서 하나의 값을 순서대로 제공하도록 한다.\n",
    "        ##더 제공할 값이 없으면, 그 때는 StopIteration 예외를 발생시킨다.\n",
    "        \n",
    "        if len(self.values) <= self.index: #데이터를 다 주었다면\n",
    "              raise StopIteration()\n",
    "        r_value = self.values[self.index]#제공할 값을 조회\n",
    "        self.index +=1 #index를 하나 증가.\n",
    "        return r_value\n",
    "    \n",
    "        "
   ]
  },
  {
   "cell_type": "code",
   "execution_count": 23,
   "id": "36bf52bb",
   "metadata": {},
   "outputs": [
    {
     "name": "stdout",
     "output_type": "stream",
     "text": [
      "1\n",
      "2\n",
      "3\n",
      "4\n",
      "5\n"
     ]
    }
   ],
   "source": [
    "i = MyIterable(1,2,3,4,5) #iterable 생성\n",
    "it = iter(i) #iterable로부터 iterator를 생성.\n",
    "\n",
    "for v in i:\n",
    "    print(v)"
   ]
  },
  {
   "cell_type": "code",
   "execution_count": 24,
   "id": "f391da5c",
   "metadata": {
    "scrolled": true
   },
   "outputs": [
    {
     "data": {
      "text/plain": [
       "1"
      ]
     },
     "execution_count": 24,
     "metadata": {},
     "output_type": "execute_result"
    }
   ],
   "source": [
    "#iterator로부터 한개의 값을 조회.\n",
    "#StopIteration 조건에 맞으면 stopiteration을 띄운다.\n",
    "next(it)"
   ]
  },
  {
   "cell_type": "code",
   "execution_count": 25,
   "id": "427af39e",
   "metadata": {},
   "outputs": [
    {
     "data": {
      "text/plain": [
       "1"
      ]
     },
     "execution_count": 25,
     "metadata": {},
     "output_type": "execute_result"
    }
   ],
   "source": [
    "#주의해야 할 것---iterator가 indexing을 제공해 주는 것이 아니다.\n",
    "#하고 싶으면 __getitem__ 같은걸 정의하든가.\n",
    "i = MyIterable(1,2,3,4,5)\n",
    "i[0]"
   ]
  },
  {
   "cell_type": "code",
   "execution_count": 26,
   "id": "65961f26",
   "metadata": {},
   "outputs": [],
   "source": [
    "#위의 코드들은 iterable과 iterator의 클래스들인데, 솔찬히 이거를 많이 쓰지는 않는다.\n",
    "#그래서 그냥 '이런게 있구나'라고만 생각하자.\n",
    "\n",
    "#그리고 이와 같은 내용을 더 쉽게 만드는 것이 바로 generator이다.\n",
    "\n"
   ]
  },
  {
   "cell_type": "markdown",
   "id": "5323e175",
   "metadata": {
    "slideshow": {
     "slide_type": "subslide"
    }
   },
   "source": [
    "## Generator\n",
    "- Iterable과 Iterator를 합친 기능을 함수 형태로 구현(정의)한 것을 generator라고 한다.\n",
    "    - 제공할 값들을 미리 메모리에 올리지 않고 로직을 통해 값들을 호출자가 필요할 때 마다 제공할 때 유용하다.\n",
    "- 제너레이터 함수에서 값을 반환\n",
    "    - **yield 반환값**\n",
    "        - 반환값을 가지고 호출한 곳으로 돌아간다. 현재 상태(돌아가기 직전 상태)를 기억하면서 돌아간다. \n",
    "            - 값을 반환하고 일시정지 상태라고 생각하면 된다.\n",
    "        - 다음 실행시점에 yield 구문 다음 부터 실행된다.\n",
    "    - **return \\[valuye\\]**\n",
    "        - generator 함수 종료\n",
    "        - StopIteration 발생시킨다.\n",
    "- Generator 의 원소 조회\n",
    "    - next(Generator객체)"
   ]
  },
  {
   "cell_type": "code",
   "execution_count": 27,
   "id": "4df6590b",
   "metadata": {
    "slideshow": {
     "slide_type": "fragment"
    }
   },
   "outputs": [],
   "source": [
    "def my_gen():\n",
    "    return 10\n",
    "\n",
    "    return 2\n",
    "    \n",
    "    return 3"
   ]
  },
  {
   "cell_type": "code",
   "execution_count": 28,
   "id": "1682ce5b",
   "metadata": {},
   "outputs": [
    {
     "data": {
      "text/plain": [
       "10"
      ]
     },
     "execution_count": 28,
     "metadata": {},
     "output_type": "execute_result"
    }
   ],
   "source": [
    "#위와 같은 함수가 있을 때 몇번을 실행해도 값은 10이 나온다.\n",
    "\n",
    "\n",
    "my_gen()"
   ]
  },
  {
   "cell_type": "code",
   "execution_count": 4,
   "id": "1b598032",
   "metadata": {},
   "outputs": [],
   "source": [
    "#반면 generator는 return 비스무래한 yield를 쓴다. \n",
    "#yield 가 있다면 그건 generator이다.\n",
    "\n",
    "\n",
    "\"\"\"\n",
    "\n",
    "generator는 왔다갔다 일하기 때문에 \n",
    "\n",
    "이를 routine이라고 한다.\n",
    "\n",
    "\"\"\"\n",
    "#이 함수를 실행시키면, 처음부터 yield가 있는 곳 까지만 진행이 된다.\n",
    "\n",
    "def my_gen():\n",
    "    \n",
    "    yield 10\n",
    "    \n",
    "    yield 2\n",
    "    \n",
    "    yield 5\n",
    "    \n",
    "    "
   ]
  },
  {
   "cell_type": "code",
   "execution_count": 5,
   "id": "3565464d",
   "metadata": {},
   "outputs": [
    {
     "data": {
      "text/plain": [
       "<generator object my_gen at 0x000002008BB422E0>"
      ]
     },
     "execution_count": 5,
     "metadata": {},
     "output_type": "execute_result"
    }
   ],
   "source": [
    "#출력결과 generator라는 객체가 나온다.\n",
    "#기존과 차이는 yield가 들어갔느냐이다.\n",
    "my_gen()"
   ]
  },
  {
   "cell_type": "code",
   "execution_count": 8,
   "id": "4cc6709e",
   "metadata": {},
   "outputs": [
    {
     "data": {
      "text/plain": [
       "10"
      ]
     },
     "execution_count": 8,
     "metadata": {},
     "output_type": "execute_result"
    }
   ],
   "source": [
    "g = my_gen() #generator 객체를 생성\n",
    "#generator 호출\n",
    "next(g) #yield 다음구문부터 yield까지!!\n",
    "\n"
   ]
  },
  {
   "cell_type": "code",
   "execution_count": 10,
   "id": "14261130",
   "metadata": {},
   "outputs": [
    {
     "data": {
      "text/plain": [
       "5"
      ]
     },
     "execution_count": 10,
     "metadata": {},
     "output_type": "execute_result"
    }
   ],
   "source": [
    "next(g)#다시한번!"
   ]
  },
  {
   "cell_type": "code",
   "execution_count": 11,
   "id": "215157a8",
   "metadata": {},
   "outputs": [],
   "source": [
    "#파라미터로 받은 값에서 5씩 증가하는 값을 3번 제공\n",
    "\n",
    "\n",
    "\n",
    "#이 함수는 값을 제공하는 알고리즘을 가지고 있다고 볼 수 있따.\n",
    "def my_gen2(start):\n",
    "    start += 5\n",
    "    yield start\n",
    "    \n",
    "    start += 5\n",
    "    yield start\n",
    "    \n",
    "    start += 5\n",
    "    yield start"
   ]
  },
  {
   "cell_type": "code",
   "execution_count": 12,
   "id": "577e9c25",
   "metadata": {},
   "outputs": [
    {
     "name": "stdout",
     "output_type": "stream",
     "text": [
      "15\n"
     ]
    }
   ],
   "source": [
    "g2 = my_gen2(10)\n",
    "print(next(g2))"
   ]
  },
  {
   "cell_type": "code",
   "execution_count": 14,
   "id": "73a24322",
   "metadata": {},
   "outputs": [
    {
     "data": {
      "text/plain": [
       "25"
      ]
     },
     "execution_count": 14,
     "metadata": {},
     "output_type": "execute_result"
    }
   ],
   "source": [
    "#요지는 클래스 2개로 뼈빠지게 만들었던 iterable,iterator가 \n",
    "#generator를 통해 간단하게 표현이 되었다는 것이다.\n",
    "\n",
    "next(g2)\n"
   ]
  },
  {
   "cell_type": "code",
   "execution_count": 17,
   "id": "9485ebde",
   "metadata": {},
   "outputs": [],
   "source": [
    "def my_gen3(start,n):\n",
    "    #start부터 5씩 증가하는 값을 n개 제공\n",
    "    for _ in range(n):\n",
    "        start +=5\n",
    "        yield start"
   ]
  },
  {
   "cell_type": "code",
   "execution_count": 18,
   "id": "71883035",
   "metadata": {},
   "outputs": [],
   "source": [
    "g3 = my_gen3(1,10)"
   ]
  },
  {
   "cell_type": "code",
   "execution_count": 29,
   "id": "aed3b91f",
   "metadata": {},
   "outputs": [
    {
     "ename": "StopIteration",
     "evalue": "",
     "output_type": "error",
     "traceback": [
      "\u001b[1;31m---------------------------------------------------------------------------\u001b[0m",
      "\u001b[1;31mStopIteration\u001b[0m                             Traceback (most recent call last)",
      "\u001b[1;32m<ipython-input-29-c451a62f66a2>\u001b[0m in \u001b[0;36m<module>\u001b[1;34m\u001b[0m\n\u001b[1;32m----> 1\u001b[1;33m \u001b[0mnext\u001b[0m\u001b[1;33m(\u001b[0m\u001b[0mg3\u001b[0m\u001b[1;33m)\u001b[0m \u001b[1;31m#stopiteration이 나오기 전까지 계속 yield를 한다.\u001b[0m\u001b[1;33m\u001b[0m\u001b[1;33m\u001b[0m\u001b[0m\n\u001b[0m\u001b[0;32m      2\u001b[0m \u001b[1;33m\u001b[0m\u001b[0m\n\u001b[0;32m      3\u001b[0m \u001b[1;33m\u001b[0m\u001b[0m\n\u001b[0;32m      4\u001b[0m \u001b[1;31m#이름이 yield인 이유는 '나를 호출한 사람에게 실행을 양보하기 때문'이다.\u001b[0m\u001b[1;33m\u001b[0m\u001b[1;33m\u001b[0m\u001b[1;33m\u001b[0m\u001b[0m\n",
      "\u001b[1;31mStopIteration\u001b[0m: "
     ]
    }
   ],
   "source": [
    "next(g3) #stopiteration이 나오기 전까지 계속 yield를 한다.\n",
    "\n",
    "\n",
    "#이름이 yield인 이유는 '나를 호출한 사람에게 실행을 양보하기 때문'이다."
   ]
  },
  {
   "cell_type": "code",
   "execution_count": 50,
   "id": "f084e136",
   "metadata": {},
   "outputs": [],
   "source": [
    "#소괄호로 Comprehension을 하면 generator conprehension이 일어난다.\n",
    "g4 = (value+5 for value in range(10))\n",
    "\n",
    "#[value+5 for value in range(10)] 이렇게 하면 list conprehension이다.\n",
    "#이런 문법을 이용하면 코딩을 훨씬 더 쉽게 할 수 있다.    \n",
    "\n",
    "#차이점은 , 다른 Comprehension은 결과를 자료 구조 안에 넣어주는 건데, 이거는 yield를 하는 것에 포커싱을 맞추는 것이다.\n",
    "#그래서 데이터가 어디에 저장되고 하지 않는다. 그래서 메모리를 적게 쓸 수 있다. 그래서 중요하다.\n",
    "\n",
    "#이게 딥러닝과 연관이 깊은게, generator를 써서 딥러닝 문제를 해결하는 경우가 많다.\n",
    "\n",
    "#그래서 여러번 복습하는 것이 필요한 것이다.\n",
    "\n"
   ]
  },
  {
   "cell_type": "code",
   "execution_count": 51,
   "id": "c3f80461",
   "metadata": {},
   "outputs": [
    {
     "name": "stdout",
     "output_type": "stream",
     "text": [
      "5\n",
      "<generator object <genexpr> at 0x0000019D94F98580>\n"
     ]
    }
   ],
   "source": [
    "#generator의 결과가 나온 것을 볼 수 있다!!\n",
    "print(next(g4))\n",
    "print(g4)\n"
   ]
  },
  {
   "cell_type": "markdown",
   "id": "ae6dec96",
   "metadata": {
    "slideshow": {
     "slide_type": "subslide"
    }
   },
   "source": [
    "### Generator 표현식 (Generator Comprehension)\n",
    "- 컴프리헨션구문을 **( )** 로 묶어 표현한다.\n",
    "- 컴프리헨션 구문안의 Iterable의 원소들을 처리해서 제공하는 generator 표현식\n",
    "- Generator Comprehension 은 반복 가능한 객체만 만들고 실제 원소에 대한 요청이 왔을 때 값을 생성한다.\n",
    "    - 메모리 효율이 다른 Comprehension들 보다 좋다."
   ]
  },
  {
   "cell_type": "code",
   "execution_count": null,
   "id": "9d5f5acc",
   "metadata": {
    "slideshow": {
     "slide_type": "fragment"
    }
   },
   "outputs": [],
   "source": []
  },
  {
   "cell_type": "markdown",
   "id": "929f0230",
   "metadata": {
    "slideshow": {
     "slide_type": "slide"
    }
   },
   "source": [
    "# Decorator (장식자)\n",
    "\n",
    "## 파이썬에서 함수는 일급 시민(first class citizen) 이다.\n",
    "- 일급 시민 (first class citizen) 이란\n",
    "    1. 변수에 대입 할 수 있다.\n",
    "    2. Argument로 사용할 수 있다.\n",
    "    3. 함수나 메소드의 반환값으로 사용 할 수 있다.\n",
    "    "
   ]
  },
  {
   "cell_type": "code",
   "execution_count": null,
   "id": "f7998773",
   "metadata": {},
   "outputs": [],
   "source": []
  },
  {
   "cell_type": "markdown",
   "id": "b46580f2",
   "metadata": {
    "slideshow": {
     "slide_type": "subslide"
    }
   },
   "source": [
    "## 지역함수(Local Function) 란\n",
    "- 함수 안에 정의 한 함수를 말한다.\n",
    "    - 중첩 함수(Nested function) 이라고도 한다.\n",
    "- 지역함수가 선언된 함수를 **outer function** 지역함수는 **inner function** 이라고 한다. \n",
    "- inner function은 outer function의 지역변수를 자유롭게 사용할 수 있다.\n",
    "- 기본적으로 inner function은 outer function 안에서만 호출 할 수있다.\n",
    "- 단 outer function이 정의된 inner function을 return value로 반환하면 밖에서도 호출 할 수 있다."
   ]
  },
  {
   "cell_type": "markdown",
   "id": "70c705a8",
   "metadata": {},
   "source": [
    "지역 함수는 그냥 간단히 말해서, \n",
    "\n",
    "함수 안에 함수를 정의하는 것이다.\n",
    "\n",
    "\n",
    "그리고 뭐 지역변수라는 놈도 있다.\n",
    "\n",
    "지역변수를 밖에서도 쓰고 싶다면 return으로 변수를 밖으로 내보낸다.\n",
    "\n"
   ]
  },
  {
   "cell_type": "code",
   "execution_count": 61,
   "id": "a3955f45",
   "metadata": {},
   "outputs": [],
   "source": [
    "#example\n",
    "\n",
    "def 라(a): #outer function\n",
    "    \n",
    "    \n",
    "    #라 라는 함수가 정의되면 그때 메모리에 올라와서 정의되는 함수!\n",
    "    #'라'가 실행이 되지 않으면 '마'도 실행이 되지 않는다.\n",
    "    def 마(): #inner function\n",
    "        #a+=10 이런 식으로 값을 바꾸면 오류가 난다.\n",
    "        print(a+10)\n",
    "        \n",
    "    마()\n",
    "    마()\n",
    "    마()\n",
    "    b=10\n",
    "    \n",
    "    return 마 #함수 자체를 리턴시키면 밖에서도 쓸 수있다."
   ]
  },
  {
   "cell_type": "code",
   "execution_count": 64,
   "id": "ad0635c1",
   "metadata": {},
   "outputs": [
    {
     "name": "stdout",
     "output_type": "stream",
     "text": [
      "110\n",
      "110\n",
      "110\n"
     ]
    }
   ],
   "source": [
    "b=라(100)"
   ]
  },
  {
   "cell_type": "code",
   "execution_count": 66,
   "id": "c8a70b91",
   "metadata": {},
   "outputs": [
    {
     "name": "stdout",
     "output_type": "stream",
     "text": [
      "110\n"
     ]
    }
   ],
   "source": [
    "b() #마를 return했더니 밖에서도 쓸 수 있게 되었다.\n",
    "\n"
   ]
  },
  {
   "cell_type": "code",
   "execution_count": 86,
   "id": "6a872d02",
   "metadata": {},
   "outputs": [
    {
     "name": "stdout",
     "output_type": "stream",
     "text": [
      "1 Global 전역변수\n",
      "2 Global 전역변수\n",
      "3 Outer 함수의 Local 지역변수\n",
      "changed version: outer에서 변경한 global_var의 값\n",
      "4 outer에서 변경한 global_var의 값\n",
      "5 Outer 함수의 Local 지역변수\n",
      "changed version:  Inner에서 변경한 local_var의 값\n",
      "6 Inner 함수의 Local (지역) 변수\n",
      "Inner 함수의 Local (지역) 변수\n",
      "outer에서 변경한 global_var의 값\n"
     ]
    },
    {
     "ename": "NameError",
     "evalue": "name 'local_var' is not defined",
     "output_type": "error",
     "traceback": [
      "\u001b[1;31m---------------------------------------------------------------------------\u001b[0m",
      "\u001b[1;31mNameError\u001b[0m                                 Traceback (most recent call last)",
      "\u001b[1;32m<ipython-input-86-8405f5d0bbce>\u001b[0m in \u001b[0;36m<module>\u001b[1;34m\u001b[0m\n\u001b[0;32m     39\u001b[0m \u001b[0mouter\u001b[0m\u001b[1;33m(\u001b[0m\u001b[1;33m)\u001b[0m \u001b[1;31m#이걸 호출 시 inner도 호출 가능 그 안의 구문도 출력 가능.\u001b[0m\u001b[1;33m\u001b[0m\u001b[1;33m\u001b[0m\u001b[0m\n\u001b[0;32m     40\u001b[0m \u001b[0mprint\u001b[0m\u001b[1;33m(\u001b[0m\u001b[0mglobal_var\u001b[0m\u001b[1;33m)\u001b[0m \u001b[1;31m#이 함수는 쓸 수 있다. global 변수이기 때문이다.\u001b[0m\u001b[1;33m\u001b[0m\u001b[1;33m\u001b[0m\u001b[0m\n\u001b[1;32m---> 41\u001b[1;33m \u001b[0mprint\u001b[0m\u001b[1;33m(\u001b[0m\u001b[0mlocal_var\u001b[0m\u001b[1;33m)\u001b[0m \u001b[1;31m#이 함수는 못쓴다. 영역을 벗어났기 때문이다.\u001b[0m\u001b[1;33m\u001b[0m\u001b[1;33m\u001b[0m\u001b[0m\n\u001b[0m\u001b[0;32m     42\u001b[0m \u001b[1;33m\u001b[0m\u001b[0m\n\u001b[0;32m     43\u001b[0m \u001b[1;33m\u001b[0m\u001b[0m\n",
      "\u001b[1;31mNameError\u001b[0m: name 'local_var' is not defined"
     ]
    }
   ],
   "source": [
    "#변수에는 지역변수가 있고 전역변수가 있다.\n",
    "##변수의 사용범위는 그 변수가 선언된 영역(block)내에서 호출 가능하다.\n",
    "##하위 블록에도 호출에 가능하다는 것이다.\n",
    "\n",
    "\n",
    "#함수에서 global 변수의 값을 변경할 경우: global 변수명\n",
    "#inner 함수에서 outer함수의 local 변수를 변경: nonlocal 변수명\n",
    "\n",
    "global_var = \"Global 전역변수\"\n",
    "print(1,global_var)\n",
    "\n",
    "\n",
    "def outer():\n",
    "     #global 변수값을 변경\n",
    "    global global_var\n",
    "    local_var = \"Outer 함수의 Local 지역변수\"\n",
    "    print(2,global_var) #여기서도 사용할 수 있다!\n",
    "    print(3,local_var)\n",
    "    \n",
    "   \n",
    "    global_var = \"outer에서 변경한 global_var의 값\"\n",
    "    print(\"changed version:\",global_var)\n",
    "    def inner():\n",
    "        #outer 함수의 지역변수를 변경할 경우(외부의 놈을 변경할 경우) - nonlocal 변수명으로 먼저 선언을 해야 한다.\n",
    "        nonlocal local_var\n",
    "        \n",
    "            \n",
    "        \n",
    "        inner_local_var = \"Inner 함수의 Local (지역) 변수\"\n",
    "        print(4,global_var)\n",
    "        print(5,local_var)\n",
    "        local_var = \"Inner에서 변경한 local_var의 값\"\n",
    "        print(\"changed version: \",local_var)\n",
    "        print(6,inner_local_var)\n",
    "        print(inner_local_var) #이렇게 정의해 보았자 소용 없다! 메롱\n",
    "    #NameError가 난다고 볼 수 있다.\n",
    "    inner() #바깥에서 이 함수를 호출한다.     \n",
    "\n",
    "outer() #이걸 호출 시 inner도 호출 가능 그 안의 구문도 출력 가능.\n",
    "print(global_var) #이 함수는 쓸 수 있다. global 변수이기 때문이다.\n",
    "print(local_var) #이 함수는 못쓴다. 영역을 벗어났기 때문이다.\n",
    "\n",
    "\n",
    "#변수가 되었던 함수가 되었던 자기가 생성한 영역에서 혹은 그 하위 영역에서만 쓸 수 있다.\n",
    "\n"
   ]
  },
  {
   "cell_type": "code",
   "execution_count": null,
   "id": "837922f9",
   "metadata": {},
   "outputs": [],
   "source": []
  },
  {
   "cell_type": "markdown",
   "id": "766a1432",
   "metadata": {
    "slideshow": {
     "slide_type": "fragment"
    }
   },
   "source": [
    "## Closure (클로저)\n",
    "- 지역함수(Inner function)를 정의한 Outer function이 종료되어도 지역함수가 종료될 때까지 outer function의 지역변수들은 메모리에 계속 유지 되어 inner function에서 사용할 수 있다. \n",
    "- 파이썬 실행환경은 inner function이 종료될때 까지 outer function의 지역변수들(parameter포함)을 사용할 수 있도록 저장하는 공간이 **closure**이다.\n",
    "\n",
    "- 설명을 한번만 잘 읽으면 쉽다!"
   ]
  },
  {
   "cell_type": "code",
   "execution_count": 30,
   "id": "0001effe",
   "metadata": {
    "slideshow": {
     "slide_type": "fragment"
    }
   },
   "outputs": [],
   "source": [
    "def outer():\n",
    "    outer_var = 10 #outer 함수의 지역변수\n",
    "    \n",
    "    \n",
    "    def inner():\n",
    "        print(outer_var) #inner함수에서 outer함수의 변수를 호출\n",
    "    return inner #inner함수를 반환\n",
    "\n"
   ]
  },
  {
   "cell_type": "code",
   "execution_count": 31,
   "id": "60c4ff50",
   "metadata": {},
   "outputs": [
    {
     "name": "stdout",
     "output_type": "stream",
     "text": [
      "10\n"
     ]
    }
   ],
   "source": [
    "f = outer() #f = inner함수\n",
    "f() #결국 inner함수의 return이 실행이 되었다.\n",
    "\n",
    "\n",
    "#근데..... '어떻게 10이 찍히지? 알긴하겠는데 어떻게 해야 가능하지?'\n",
    "#라는 생각이 들 것이다.\n",
    "\n"
   ]
  },
  {
   "cell_type": "code",
   "execution_count": 32,
   "id": "a4fcf71e",
   "metadata": {},
   "outputs": [],
   "source": [
    "def fun():\n",
    "    a=10\n",
    "    b=10\n",
    "    c=19\n",
    "    d=10"
   ]
  },
  {
   "cell_type": "markdown",
   "id": "b58a1e1d",
   "metadata": {
    "slideshow": {
     "slide_type": "slide"
    }
   },
   "source": [
    "## Decorator (장식자)\n",
    "- 기존의 함수를 수정하지 않고 그 함수 전/후에 실행되는 구문을 추가할 수 있도록 하는 함수를 말한다.\n",
    "- 기존 함수코드를 수정하지 않고 새로운 기능의 추가를 쉽게 해준다.\n",
    "- 추가기능을 다수의 함수에 적용할 수 있다.\n",
    "- 함수의 전/후처리 하는 구문을 **필요하면 붙이고 필요 없으면 쉽게 제거할 수 있다**\n",
    "\n",
    "![개요](images/ch10_01.png)"
   ]
  },
  {
   "cell_type": "code",
   "execution_count": 96,
   "id": "5c7f5353",
   "metadata": {
    "slideshow": {
     "slide_type": "fragment"
    }
   },
   "outputs": [],
   "source": [
    "def a():\n",
    "    print(\"=\"*50)\n",
    "    print(\"안녕하세요!\")\n",
    "    print(\"=\"*50)\n",
    "def b():\n",
    "    print(\"=\"*50)\n",
    "    print(\"Hello!\")\n",
    "    print(\"=\"*50)\n",
    "    "
   ]
  },
  {
   "cell_type": "code",
   "execution_count": 97,
   "id": "2ebd2c99",
   "metadata": {},
   "outputs": [
    {
     "name": "stdout",
     "output_type": "stream",
     "text": [
      "==================================================\n",
      "안녕하세요!\n",
      "==================================================\n"
     ]
    }
   ],
   "source": [
    "a()"
   ]
  },
  {
   "cell_type": "code",
   "execution_count": 98,
   "id": "16f8c0d9",
   "metadata": {},
   "outputs": [
    {
     "name": "stdout",
     "output_type": "stream",
     "text": [
      "==================================================\n",
      "Hello!\n",
      "==================================================\n"
     ]
    }
   ],
   "source": [
    "b()"
   ]
  },
  {
   "cell_type": "code",
   "execution_count": 99,
   "id": "d7cbfee5",
   "metadata": {},
   "outputs": [
    {
     "name": "stdout",
     "output_type": "stream",
     "text": [
      "==================================================\n",
      "안녕하세요!\n",
      "==================================================\n",
      "==================================================\n",
      "Hello!\n",
      "==================================================\n",
      "==================================================\n",
      "안녕하세요!\n",
      "==================================================\n",
      "==================================================\n",
      "Hello!\n",
      "==================================================\n"
     ]
    }
   ],
   "source": [
    "#이런 식으로 간단히 할 수 있다.\n",
    "\n",
    "a()\n",
    "b()\n",
    "a()\n",
    "b()"
   ]
  },
  {
   "cell_type": "code",
   "execution_count": 100,
   "id": "3e03334c",
   "metadata": {},
   "outputs": [],
   "source": [
    "#근데 이런 함수의 문제점은 내용을 변경하고 싶을 때 마다, 코드를 그때그때 바꿔야 한다는 것이다.\n",
    "#그래서, 함수 자체를 수정 안하고, 내용을 변경하고 싶다는 것이다.\n",
    "#함수 자체를 수정안하고, 추가적인 다양한 적용을 하고 싶다는 것이다.\n"
   ]
  },
  {
   "cell_type": "code",
   "execution_count": 106,
   "id": "521aaaf4",
   "metadata": {},
   "outputs": [],
   "source": [
    "#예시\n",
    "\n",
    "\n",
    "def equal_deco(func):\n",
    "    #파라미터 -> 함수를 받는다 ->original function을 실행할 함수. outer함수에 선언되어 있는 지역함수.\n",
    "    \n",
    "    #inner 함수: original 함수 호출을 처리하는 함수. 함수 호출을 전후로 해야할 것이 있으면 그 처리를 한다.\n",
    "    \n",
    "    def wrapper():\n",
    "        \n",
    "        print(\"=\"*30) #전처리\n",
    "        func() #원래 함수의 작업\n",
    "        print(\"=\"*50) #후처리\n",
    "        \n",
    "    return wrapper #함수를 리턴하는 것이 좋다."
   ]
  },
  {
   "cell_type": "code",
   "execution_count": 107,
   "id": "f6465909",
   "metadata": {},
   "outputs": [
    {
     "name": "stdout",
     "output_type": "stream",
     "text": [
      "==============================\n",
      "==================================================\n",
      "안녕하세요!\n",
      "==================================================\n",
      "==================================================\n"
     ]
    }
   ],
   "source": [
    "a_f = equal_deco(a)\n",
    "a_f() #wrapper가 실행이 될 것이다."
   ]
  },
  {
   "cell_type": "code",
   "execution_count": 108,
   "id": "f9195747",
   "metadata": {
    "scrolled": true
   },
   "outputs": [
    {
     "name": "stdout",
     "output_type": "stream",
     "text": [
      "==================================================\n",
      "안녕하세요!\n",
      "==================================================\n"
     ]
    }
   ],
   "source": [
    "a()"
   ]
  },
  {
   "cell_type": "code",
   "execution_count": 111,
   "id": "b01b3402",
   "metadata": {
    "scrolled": true
   },
   "outputs": [
    {
     "name": "stdout",
     "output_type": "stream",
     "text": [
      "==============================\n",
      "==================================================\n",
      "Hello!\n",
      "==================================================\n",
      "==================================================\n"
     ]
    }
   ],
   "source": [
    "b_f = equal_deco(b)\n",
    "b_f() #이것도 wrapper가 출력이 될 것이다."
   ]
  },
  {
   "cell_type": "code",
   "execution_count": 33,
   "id": "5df241b5",
   "metadata": {},
   "outputs": [],
   "source": [
    "#근데 나는 =가 아니라 #을 출력하고 싶다!\n",
    "\n",
    "def sharp_deco(func):\n",
    "    def wrapper():\n",
    "        print(\"#\"*30)\n",
    "        func()\n",
    "        print(\"#\"*30)\n",
    "    return wrapper\n",
    "\n"
   ]
  },
  {
   "cell_type": "code",
   "execution_count": 116,
   "id": "7523b8bd",
   "metadata": {
    "scrolled": true
   },
   "outputs": [
    {
     "name": "stdout",
     "output_type": "stream",
     "text": [
      "##############################\n",
      "==================================================\n",
      "안녕하세요!\n",
      "==================================================\n",
      "##############################\n"
     ]
    }
   ],
   "source": [
    "#데코레이터 함수에 오리지날 함수를 전달해서 호출 ->wrapper 함수를 반환값을 받는다. ->wrapper 함수를 호출\n",
    "a_f2 = sharp_deco(a)\n",
    "a_f2() #equal로 꾸미는 decorator가 있고 sharp로 꾸미는 decorator가 있다. \n",
    "\n",
    "#그런데 decorator를 써야 더 복잡한 함수 등을 잘 활용할 수 있을 것이다.\n"
   ]
  },
  {
   "cell_type": "code",
   "execution_count": 126,
   "id": "9312038b",
   "metadata": {},
   "outputs": [],
   "source": [
    "#decorator를 오리지날 함수 정의시 추가하라고 선언.\n",
    "\n",
    "@equal_deco #이렇게 deco를 붙인다면, a2함수를 equal_deco의 파라미터로 넘기는 것이다. 밑의 결과를 보면 잘 알 수 있다.\n",
    "def a1():\n",
    "    print(\"안녕하세요!\")\n",
    "    "
   ]
  },
  {
   "cell_type": "code",
   "execution_count": 127,
   "id": "2bd6cb26",
   "metadata": {
    "scrolled": true
   },
   "outputs": [
    {
     "name": "stdout",
     "output_type": "stream",
     "text": [
      "==============================\n",
      "안녕하세요!\n",
      "==================================================\n"
     ]
    }
   ],
   "source": [
    "a1()"
   ]
  },
  {
   "cell_type": "code",
   "execution_count": 128,
   "id": "ef50155a",
   "metadata": {},
   "outputs": [],
   "source": [
    "@sharp_deco\n",
    "def a2():\n",
    "    print(\"안녕하세요! 이번에는 #을 쓸거에요!\")"
   ]
  },
  {
   "cell_type": "code",
   "execution_count": 129,
   "id": "2419abaf",
   "metadata": {},
   "outputs": [
    {
     "name": "stdout",
     "output_type": "stream",
     "text": [
      "##############################\n",
      "안녕하세요! 이번에는 #을 쓸거에요!\n",
      "##############################\n"
     ]
    }
   ],
   "source": [
    "a2()"
   ]
  },
  {
   "cell_type": "code",
   "execution_count": 132,
   "id": "4960456a",
   "metadata": {},
   "outputs": [
    {
     "data": {
      "text/plain": [
       "<function __main__.sharp_deco.<locals>.wrapper()>"
      ]
     },
     "execution_count": 132,
     "metadata": {},
     "output_type": "execute_result"
    }
   ],
   "source": [
    "a2 #함수의 정보를 호출을 해본다면 더 자세한 정보를 알 수 있다."
   ]
  },
  {
   "cell_type": "code",
   "execution_count": null,
   "id": "1358d41f",
   "metadata": {},
   "outputs": [],
   "source": []
  },
  {
   "cell_type": "markdown",
   "id": "aaf6447c",
   "metadata": {
    "slideshow": {
     "slide_type": "subslide"
    }
   },
   "source": [
    "### Decorator 구현 및 사용\n",
    "\n",
    "- 구현\n",
    "    1. 전/후처리 기능을 추가할 함수를 parameter로 받는다.\n",
    "    2. 그 함수 호출 전후로 추가할 기능을 작성한 **지역함수**를 정의한다.\n",
    "    3. `2`번의 함수를 반환한다.\n",
    "```python\n",
    "def decorator(func):\n",
    "    def wrapper([parameter]): # decorator 적용할 함수에 파라미터를 전달할 경우 parameter 변수들을 선언\n",
    "        # 전처리\n",
    "        func()\n",
    "        # 후처리\n",
    "    return wrapper \n",
    "```\n",
    "\n",
    "- 호출\n",
    "    - `@decorator이름`를 적용하고자하는 함수 선언전에 기술한다.\n",
    "```python\n",
    "@decorator\n",
    "def caller([parameter]):\n",
    "    ...\n",
    "```"
   ]
  },
  {
   "cell_type": "code",
   "execution_count": 137,
   "id": "82f0e859",
   "metadata": {
    "slideshow": {
     "slide_type": "fragment"
    }
   },
   "outputs": [],
   "source": [
    "#본격적인 예시\n",
    "\n",
    "@sharp_deco\n",
    "def greet(name):\n",
    "    print(f\"{name}님 환영합니다.\")\n",
    "    "
   ]
  },
  {
   "cell_type": "code",
   "execution_count": 138,
   "id": "d09d20f4",
   "metadata": {
    "scrolled": true
   },
   "outputs": [
    {
     "ename": "TypeError",
     "evalue": "wrapper() takes 0 positional arguments but 1 was given",
     "output_type": "error",
     "traceback": [
      "\u001b[1;31m---------------------------------------------------------------------------\u001b[0m",
      "\u001b[1;31mTypeError\u001b[0m                                 Traceback (most recent call last)",
      "\u001b[1;32m<ipython-input-138-47f8089b5770>\u001b[0m in \u001b[0;36m<module>\u001b[1;34m\u001b[0m\n\u001b[0;32m      1\u001b[0m \u001b[1;31m#근데 이렇게 하면 안된다. sharp_deco.wrapper로 받는 것인데 argument를 이중으로 받는 것이기 때문이다.\u001b[0m\u001b[1;33m\u001b[0m\u001b[1;33m\u001b[0m\u001b[1;33m\u001b[0m\u001b[0m\n\u001b[1;32m----> 2\u001b[1;33m \u001b[0mgreet\u001b[0m\u001b[1;33m(\u001b[0m\u001b[1;34m\"홍길동\"\u001b[0m\u001b[1;33m)\u001b[0m\u001b[1;33m\u001b[0m\u001b[1;33m\u001b[0m\u001b[0m\n\u001b[0m",
      "\u001b[1;31mTypeError\u001b[0m: wrapper() takes 0 positional arguments but 1 was given"
     ]
    }
   ],
   "source": [
    "#근데 이렇게 하면 안된다. sharp_deco.wrapper로 받는 것인데 argument를 이중으로 받는 것이기 때문이다.\n",
    "greet(\"홍길동\")"
   ]
  },
  {
   "cell_type": "code",
   "execution_count": 34,
   "id": "2e4bf6da",
   "metadata": {},
   "outputs": [],
   "source": [
    "def sharp_deco2(func):\n",
    "    #original 함수가 파라미터를 받을 경우 그것을 wrapper() 함수에 설정한다.\n",
    "    \n",
    "    def wrapper(param):\n",
    "        print(\"#\"*50)\n",
    "        result = func(param) #original 함수 호출\n",
    "        print(\"#\"*50)\n",
    "        if len(result)<7:\n",
    "            raise Exception(\"결과값이 모자랍니다.\") #글자수가 모자라다면, exception을 출력한다.\n",
    "            \n",
    "        return result\n",
    "    return wrapper #이런 식으로 wrapper를 써 줘야 한다!"
   ]
  },
  {
   "cell_type": "code",
   "execution_count": 35,
   "id": "78c2498a",
   "metadata": {},
   "outputs": [],
   "source": [
    "#이 부분 부터는 잘 보도록 하자! 매우 중요한 내용이다.\n",
    "\n",
    "@sharp_deco2\n",
    "def greet(name):\n",
    "    print(f\"{name}님 환영합니다.\")\n",
    "    return f\"인사말-{name}\""
   ]
  },
  {
   "cell_type": "code",
   "execution_count": 36,
   "id": "71a27156",
   "metadata": {
    "scrolled": true
   },
   "outputs": [
    {
     "name": "stdout",
     "output_type": "stream",
     "text": [
      "##################################################\n",
      "홍님 환영합니다.\n",
      "##################################################\n"
     ]
    },
    {
     "ename": "Exception",
     "evalue": "결과값이 모자랍니다.",
     "output_type": "error",
     "traceback": [
      "\u001b[1;31m---------------------------------------------------------------------------\u001b[0m",
      "\u001b[1;31mException\u001b[0m                                 Traceback (most recent call last)",
      "\u001b[1;32m<ipython-input-36-1d16c415bb17>\u001b[0m in \u001b[0;36m<module>\u001b[1;34m\u001b[0m\n\u001b[0;32m      1\u001b[0m \u001b[1;31m#sharp_deco.wrapper를 호출한다. 근데 def wrapper 안에서는 return 값이 없기 때문에, 좀 그렇다.\u001b[0m\u001b[1;33m\u001b[0m\u001b[1;33m\u001b[0m\u001b[1;33m\u001b[0m\u001b[0m\n\u001b[1;32m----> 2\u001b[1;33m \u001b[0mv\u001b[0m\u001b[1;33m=\u001b[0m\u001b[0mgreet\u001b[0m\u001b[1;33m(\u001b[0m\u001b[1;34m\"홍\"\u001b[0m\u001b[1;33m)\u001b[0m\u001b[1;33m\u001b[0m\u001b[1;33m\u001b[0m\u001b[0m\n\u001b[0m\u001b[0;32m      3\u001b[0m \u001b[0mprint\u001b[0m\u001b[1;33m(\u001b[0m\u001b[0mv\u001b[0m\u001b[1;33m)\u001b[0m\u001b[1;33m\u001b[0m\u001b[1;33m\u001b[0m\u001b[0m\n",
      "\u001b[1;32m<ipython-input-34-c0e807ab3a4e>\u001b[0m in \u001b[0;36mwrapper\u001b[1;34m(param)\u001b[0m\n\u001b[0;32m      7\u001b[0m         \u001b[0mprint\u001b[0m\u001b[1;33m(\u001b[0m\u001b[1;34m\"#\"\u001b[0m\u001b[1;33m*\u001b[0m\u001b[1;36m50\u001b[0m\u001b[1;33m)\u001b[0m\u001b[1;33m\u001b[0m\u001b[1;33m\u001b[0m\u001b[0m\n\u001b[0;32m      8\u001b[0m         \u001b[1;32mif\u001b[0m \u001b[0mlen\u001b[0m\u001b[1;33m(\u001b[0m\u001b[0mresult\u001b[0m\u001b[1;33m)\u001b[0m\u001b[1;33m<\u001b[0m\u001b[1;36m7\u001b[0m\u001b[1;33m:\u001b[0m\u001b[1;33m\u001b[0m\u001b[1;33m\u001b[0m\u001b[0m\n\u001b[1;32m----> 9\u001b[1;33m             \u001b[1;32mraise\u001b[0m \u001b[0mException\u001b[0m\u001b[1;33m(\u001b[0m\u001b[1;34m\"결과값이 모자랍니다.\"\u001b[0m\u001b[1;33m)\u001b[0m \u001b[1;31m#글자수가 모자라다면, exception을 출력한다.\u001b[0m\u001b[1;33m\u001b[0m\u001b[1;33m\u001b[0m\u001b[0m\n\u001b[0m\u001b[0;32m     10\u001b[0m \u001b[1;33m\u001b[0m\u001b[0m\n\u001b[0;32m     11\u001b[0m         \u001b[1;32mreturn\u001b[0m \u001b[0mresult\u001b[0m\u001b[1;33m\u001b[0m\u001b[1;33m\u001b[0m\u001b[0m\n",
      "\u001b[1;31mException\u001b[0m: 결과값이 모자랍니다."
     ]
    }
   ],
   "source": [
    "#sharp_deco.wrapper를 호출한다. 근데 def wrapper 안에서는 return 값이 없기 때문에, 좀 그렇다.\n",
    "v=greet(\"홍\")\n",
    "print(v)"
   ]
  },
  {
   "cell_type": "code",
   "execution_count": null,
   "id": "07fc161c",
   "metadata": {},
   "outputs": [],
   "source": []
  },
  {
   "cell_type": "markdown",
   "id": "6121017a",
   "metadata": {
    "slideshow": {
     "slide_type": "skip"
    }
   },
   "source": [
    "# TODO\n",
    "함수가 실행된 실행시간(초)을 재는 decorator"
   ]
  },
  {
   "cell_type": "code",
   "execution_count": 180,
   "id": "22f52d36",
   "metadata": {
    "slideshow": {
     "slide_type": "skip"
    }
   },
   "outputs": [
    {
     "name": "stdout",
     "output_type": "stream",
     "text": [
      "1693200643.8328805\n"
     ]
    }
   ],
   "source": [
    "import time #시간과 관련된 메소드.\n",
    "\n",
    "v = time.time() #1970년 1월 1일 0시 0분 0초부터의 시간을 초단위로 나타내주는 함수.\n",
    "#1970년 1월 1일 0시 0분 0초부터 얼마가 지났는지로 현재시간을 관리 =>timestamp\n",
    "#이 메소드는 밀리초까지 시간을 계산한다.\n",
    "\n",
    "#이 메소드는 시간이 얼마 지났는지 확인할 때 쓴다.\n",
    "\n",
    "\n",
    "\n",
    "print(v)"
   ]
  },
  {
   "cell_type": "code",
   "execution_count": 183,
   "id": "f65f55ba",
   "metadata": {},
   "outputs": [
    {
     "name": "stdout",
     "output_type": "stream",
     "text": [
      "a\n",
      "b\n"
     ]
    }
   ],
   "source": [
    "#time.sleep(a) ===========> a초만큼 프로그램의 실행을 멈춘다.\n",
    "print(\"a\")\n",
    "time.sleep(5) #5초 동안의 sleep이 있다.\n",
    "print(\"b\")"
   ]
  },
  {
   "cell_type": "code",
   "execution_count": 188,
   "id": "c362f9ec",
   "metadata": {},
   "outputs": [
    {
     "name": "stdout",
     "output_type": "stream",
     "text": [
      "a\n",
      "a\n",
      "a\n",
      "3.03352689743042 초\n"
     ]
    }
   ],
   "source": [
    "#이런 식으로 하면 타이머 기능이 있다.\n",
    "s = time.time()\n",
    "for _ in range(3):\n",
    "    print(\"a\")\n",
    "    time.sleep(1) #이렇게 된다면 1초 간격으로 a가 출력이 된다.\n",
    "    \n",
    "    \n",
    "e = time.time()\n",
    "print(e-s,\"초\") #이렇게 하면 몇초 간격으로 출력이 되었는지 알 수 있다."
   ]
  },
  {
   "cell_type": "code",
   "execution_count": 189,
   "id": "0b2dc9ce",
   "metadata": {},
   "outputs": [],
   "source": [
    "#타이머 기능의 여러가지 예시를 들자.\n",
    "\n",
    "def func1():\n",
    "    print(1)\n",
    "    time.sleep(2)\n",
    "    print(2)\n",
    "    \n",
    "def func2():\n",
    "    print(1)\n",
    "    time.sleep(4)\n",
    "    print(2)\n",
    "    \n",
    "def func3():\n",
    "    print(1)\n",
    "    time.sleep(1)\n",
    "    print(2)"
   ]
  },
  {
   "cell_type": "code",
   "execution_count": 192,
   "id": "b086412b",
   "metadata": {},
   "outputs": [
    {
     "name": "stdout",
     "output_type": "stream",
     "text": [
      "1\n",
      "2\n",
      "2초 걸림\n",
      "1\n",
      "2\n",
      "4초 걸림\n",
      "1\n",
      "2\n",
      "1초 걸림\n"
     ]
    }
   ],
   "source": [
    "func1()\n",
    "print(\"2초 걸림\")\n",
    "func2()\n",
    "print(\"4초 걸림\")\n",
    "func3() #이렇게 정의를 하면, 실질적인 실행 과정을 잘 볼 수 있다.\n",
    "print(\"1초 걸림\")"
   ]
  },
  {
   "cell_type": "code",
   "execution_count": 217,
   "id": "f435eba2",
   "metadata": {},
   "outputs": [
    {
     "ename": "TypeError",
     "evalue": "taketime() takes 0 positional arguments but 1 was given",
     "output_type": "error",
     "traceback": [
      "\u001b[1;31m---------------------------------------------------------------------------\u001b[0m",
      "\u001b[1;31mTypeError\u001b[0m                                 Traceback (most recent call last)",
      "\u001b[1;32m<ipython-input-217-ae0fb81c5363>\u001b[0m in \u001b[0;36m<module>\u001b[1;34m\u001b[0m\n\u001b[0;32m      2\u001b[0m \u001b[1;33m\u001b[0m\u001b[0m\n\u001b[0;32m      3\u001b[0m \u001b[1;33m@\u001b[0m\u001b[0mtaketime\u001b[0m\u001b[1;33m\u001b[0m\u001b[1;33m\u001b[0m\u001b[0m\n\u001b[1;32m----> 4\u001b[1;33m \u001b[1;32mdef\u001b[0m \u001b[0mtimestamp\u001b[0m\u001b[1;33m(\u001b[0m\u001b[0mfunc\u001b[0m\u001b[1;33m)\u001b[0m\u001b[1;33m:\u001b[0m\u001b[1;33m\u001b[0m\u001b[1;33m\u001b[0m\u001b[0m\n\u001b[0m\u001b[0;32m      5\u001b[0m     \u001b[0mprint\u001b[0m\u001b[1;33m(\u001b[0m\u001b[1;34m\"뚥훍뚥훍뚥훍뚥훍뚥훍뚥훍뚥훍뚥훍뚥훍뚥훍\"\u001b[0m\u001b[1;33m)\u001b[0m\u001b[1;33m\u001b[0m\u001b[1;33m\u001b[0m\u001b[0m\n\u001b[0;32m      6\u001b[0m     \u001b[0mfunc\u001b[0m\u001b[1;33m(\u001b[0m\u001b[1;33m)\u001b[0m\u001b[1;33m\u001b[0m\u001b[1;33m\u001b[0m\u001b[0m\n",
      "\u001b[1;31mTypeError\u001b[0m: taketime() takes 0 positional arguments but 1 was given"
     ]
    }
   ],
   "source": []
  },
  {
   "cell_type": "code",
   "execution_count": 272,
   "id": "5007cd68",
   "metadata": {},
   "outputs": [],
   "source": [
    "#이 부분 코드는 반드시 여러번 보도록 하자!!"
   ]
  },
  {
   "cell_type": "code",
   "execution_count": 273,
   "id": "c0df4c97",
   "metadata": {},
   "outputs": [],
   "source": [
    "def calc(func):\n",
    "    def wrapper():\n",
    "        print(\"시간을 출력합니다.\")\n",
    "        func()\n",
    "        print(\"데코레이터 와 이리 어렵냐\")\n",
    "    return wrapper\n",
    "    "
   ]
  },
  {
   "cell_type": "code",
   "execution_count": 274,
   "id": "2aa87362",
   "metadata": {
    "scrolled": true
   },
   "outputs": [],
   "source": [
    "@calc\n",
    "def timer(): \n",
    "        s2=time.time()\n",
    "        print(\"!!!!!!!!!!!!\")\n",
    "        print(\"!!!!!!!!!!!!\")\n",
    "        print(\"!!!!!!!!!!!!\")\n",
    "        print(\"!!!!!!!!!!!!\")\n",
    "        print(\"!!!!!!!!!!!!\")\n",
    "        print(\"!!!!!!!!!!!!\")\n",
    "        s1 = time.time()\n",
    "        s3=s1-s2\n",
    "        print(f\"함수 실행 시 {s3}초가 걸립니다.\")\n",
    "        "
   ]
  },
  {
   "cell_type": "code",
   "execution_count": 275,
   "id": "a1bc824a",
   "metadata": {},
   "outputs": [
    {
     "name": "stdout",
     "output_type": "stream",
     "text": [
      "시간을 출력합니다.\n",
      "!!!!!!!!!!!!\n",
      "!!!!!!!!!!!!\n",
      "!!!!!!!!!!!!\n",
      "!!!!!!!!!!!!\n",
      "!!!!!!!!!!!!\n",
      "!!!!!!!!!!!!\n",
      "함수 실행 시 0.0009982585906982422초가 걸립니다.\n",
      "데코레이터 와 이리 어렵냐\n"
     ]
    }
   ],
   "source": [
    "timer()"
   ]
  },
  {
   "cell_type": "code",
   "execution_count": 276,
   "id": "9e383003",
   "metadata": {},
   "outputs": [
    {
     "data": {
      "text/plain": [
       "2"
      ]
     },
     "execution_count": 276,
     "metadata": {},
     "output_type": "execute_result"
    }
   ],
   "source": [
    "#번외\n",
    "\n",
    "#round: 반올림하는 내장함수이다.\n",
    "round(2.00032134324)"
   ]
  },
  {
   "cell_type": "code",
   "execution_count": 277,
   "id": "5c30af75",
   "metadata": {},
   "outputs": [
    {
     "data": {
      "text/plain": [
       "' 2.12 초'"
      ]
     },
     "execution_count": 277,
     "metadata": {},
     "output_type": "execute_result"
    }
   ],
   "source": [
    "a = 2.1245621358\n",
    "f\"{a: .2f} 초\""
   ]
  },
  {
   "cell_type": "code",
   "execution_count": 278,
   "id": "c7c393a8",
   "metadata": {},
   "outputs": [],
   "source": [
    "#timechecker에 관한 정보는 강의록을 잘 참조하기로 하자.\n",
    "\n"
   ]
  },
  {
   "cell_type": "code",
   "execution_count": null,
   "id": "019435aa",
   "metadata": {},
   "outputs": [],
   "source": []
  }
 ],
 "metadata": {
  "kernelspec": {
   "display_name": "Python 3",
   "language": "python",
   "name": "python3"
  },
  "language_info": {
   "codemirror_mode": {
    "name": "ipython",
    "version": 3
   },
   "file_extension": ".py",
   "mimetype": "text/x-python",
   "name": "python",
   "nbconvert_exporter": "python",
   "pygments_lexer": "ipython3",
   "version": "3.8.8"
  },
  "toc": {
   "base_numbering": 1,
   "nav_menu": {},
   "number_sections": true,
   "sideBar": true,
   "skip_h1_title": false,
   "title_cell": "Table of Contents",
   "title_sidebar": "Contents",
   "toc_cell": false,
   "toc_position": {},
   "toc_section_display": true,
   "toc_window_display": false
  },
  "varInspector": {
   "cols": {
    "lenName": 16,
    "lenType": 16,
    "lenVar": 40
   },
   "kernels_config": {
    "python": {
     "delete_cmd_postfix": "",
     "delete_cmd_prefix": "del ",
     "library": "var_list.py",
     "varRefreshCmd": "print(var_dic_list())"
    },
    "r": {
     "delete_cmd_postfix": ") ",
     "delete_cmd_prefix": "rm(",
     "library": "var_list.r",
     "varRefreshCmd": "cat(var_dic_list()) "
    }
   },
   "types_to_exclude": [
    "module",
    "function",
    "builtin_function_or_method",
    "instance",
    "_Feature"
   ],
   "window_display": false
  },
  "vscode": {
   "interpreter": {
    "hash": "890e7ac6523e8dc3d01314e5dc0d3a4630fa6bb57ae728d75fb62fd058d8404d"
   }
  }
 },
 "nbformat": 4,
 "nbformat_minor": 5
}
